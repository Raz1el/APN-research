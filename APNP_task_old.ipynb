{
 "cells": [
  {
   "cell_type": "code",
   "execution_count": 5,
   "id": "d84821a0-7aba-4a7b-81a5-67d11c84d49f",
   "metadata": {},
   "outputs": [],
   "source": [
    "def conjugate(S, G, f):\n",
    "    conjugated_generators = list(map(lambda x: f^-1*x*f,G.minimal_generating_set()))\n",
    "    return S.subgroup(gens= conjugated_generators)\n",
    "\n",
    "def build_translations_group(sorted_shifts,sorted_field_elements,S):\n",
    "    translations = []\n",
    "    translations_dict = {}\n",
    "    for t in sorted_shifts:\n",
    "        translation_by_t = S([t + item for item in sorted_field_elements])\n",
    "        translations.append(translation_by_t)\n",
    "        translations_dict[t] = translation_by_t\n",
    "    return (S.subgroup(translations), translations_dict)\n",
    "\n",
    "\n",
    "def build_inversion(sorted_field_elements,S, F):\n",
    "    return S([x^-1 if x != F(0) else F(0) for x in sorted_field_elements])\n",
    "def build_dilon(sorted_field_elements,S, F):\n",
    "    dilon_map = [0, 54, 48, 13,15,18,53,35,25,63,45,52,3,20,41,33,59,36,2,34,10,8,57,37,60,19,42,14,50,26,58,24,39,27,21,17,16,29,1,62,47,40,51,56,7,43,44,38,31,11,4,28,61,46,5,49,9,6,23,32,30,12,55,22]\n",
    "    return S([F.fetch_int(x) for x in dilon_map])\n",
    "def build_good_sbox():\n",
    "    GOOD_SBOX = (0x6e, 0xe8, 0x5f, 0xa8, 0x32, 0x24, 0xa7, 0x0e, 0x1d, 0x64, 0x87, 0x14, 0xc3, 0x6f, 0x95, 0x92,\n",
    "        0xfb, 0x4c, 0x82, 0x99, 0x3d, 0x19, 0xac, 0x45, 0x9f, 0xfe, 0xde, 0x15, 0xb9, 0xf9, 0xe2, 0x8a,\n",
    "        0xec, 0xf5, 0x0d, 0xea, 0x3a, 0x77, 0x47, 0x12, 0x11, 0x01, 0x97, 0xc5, 0x13, 0x10, 0x81, 0x9d,\n",
    "        0xed, 0x75, 0x88, 0x68, 0xfa, 0xa4, 0xc0, 0xca, 0xba, 0xb2, 0x3b, 0x61, 0xae, 0x0a, 0x6c, 0x65,\n",
    "        0xd5, 0x42, 0x5d, 0xdc, 0xf2, 0x85, 0x9b, 0xa6, 0x67, 0x50, 0x63, 0x91, 0xc7, 0x34, 0x80, 0xd7,\n",
    "        0x96, 0x1b, 0x8e, 0x5e, 0x94, 0x2f, 0xb1, 0xad, 0xa0, 0x93, 0x2c, 0x52, 0xd0, 0x29, 0x07, 0xc8,\n",
    "        0x8d, 0x7f, 0x49, 0x6b, 0x36, 0x2e, 0xd9, 0xe0, 0x37, 0xcd, 0x83, 0xaf, 0x6d, 0x57, 0xce, 0xb3,\n",
    "        0x5c, 0xc6, 0x60, 0xd8, 0x3f, 0xe4, 0x4f, 0xab, 0x56, 0xa1, 0x72, 0xe7, 0x69, 0xf1, 0xdd, 0x9c,\n",
    "        0x84, 0x90, 0x25, 0x4b, 0x76, 0x5a, 0x6a, 0xda, 0xf0, 0xe5, 0x53, 0x5b, 0x7e, 0x2a, 0x2b, 0xd3,\n",
    "        0x35, 0xa3, 0x1c, 0xa2, 0x28, 0x9e, 0x30, 0xa9, 0xb4, 0x06, 0x0b, 0xef, 0xaa, 0x43, 0xe9, 0x7d,\n",
    "        0xe1, 0x3e, 0x31, 0x44, 0x54, 0xdb, 0x79, 0xc9, 0x41, 0xfc, 0xf7, 0x66, 0x7a, 0xb7, 0x51, 0x38,\n",
    "        0xdf, 0x62, 0x40, 0xbb, 0x26, 0x09, 0xf3, 0xcf, 0xd2, 0x1a, 0x20, 0x0c, 0x04, 0x16, 0x33, 0x22,\n",
    "        0x4e, 0xa5, 0x58, 0x9a, 0xd6, 0x02, 0xe6, 0xcb, 0xbe, 0xeb, 0x86, 0x7b, 0xbd, 0xd1, 0x03, 0xf6,\n",
    "        0xee, 0x8f, 0x0f, 0x55, 0x8b, 0x4a, 0x7c, 0x23, 0x2d, 0xb6, 0x1f, 0xc2, 0x17, 0xbf, 0x73, 0x08,\n",
    "        0xcc, 0x70, 0x1e, 0x59, 0x46, 0xe3, 0x27, 0xff, 0x78, 0xb8, 0x18, 0x21, 0xd4, 0xbc, 0x98, 0xf4,\n",
    "        0xc1, 0xc4, 0x74, 0x39, 0x89, 0xf8, 0xfd, 0x48, 0x71, 0x4d, 0xb0, 0x3c, 0x00, 0x8c, 0xb5, 0x05,)\n",
    "    return S([F.from_integer(x) for x in GOOD_SBOX])\n",
    "\n",
    "def build_kuznechik():\n",
    "    SBOX = (252, 238, 221, 17, 207, 110, 49, 22, 251, 196, 250, 218, 35, 197, 4, 77, 233,\n",
    "        119, 240, 219, 147, 46, 153, 186, 23, 54, 241, 187, 20, 205, 95, 193, 249, 24, 101,\n",
    "        90, 226, 92, 239, 33, 129, 28, 60, 66, 139, 1, 142, 79, 5, 132, 2, 174, 227, 106, 143,\n",
    "        160, 6, 11, 237, 152, 127, 212, 211, 31, 235, 52, 44, 81, 234, 200, 72, 171, 242, 42,\n",
    "        104, 162, 253, 58, 206, 204, 181, 112, 14, 86, 8, 12, 118, 18, 191, 114, 19, 71, 156,\n",
    "        183, 93, 135, 21, 161, 150, 41, 16, 123, 154, 199, 243, 145, 120, 111, 157, 158, 178,\n",
    "        177, 50, 117, 25, 61, 255, 53, 138, 126, 109, 84, 198, 128, 195, 189, 13, 87, 223,\n",
    "        245, 36, 169, 62, 168, 67, 201, 215, 121, 214, 246, 124, 34, 185, 3, 224, 15, 236,\n",
    "        222, 122, 148, 176, 188, 220, 232, 40, 80, 78, 51, 10, 74, 167, 151, 96, 115, 30, 0,\n",
    "        98, 68, 26, 184, 56, 130, 100, 159, 38, 65, 173, 69, 70, 146, 39, 94, 85, 47, 140, 163,\n",
    "        165, 125, 105, 213, 149, 59, 7, 88, 179, 64, 134, 172, 29, 247, 48, 55, 107, 228, 136,\n",
    "        217, 231, 137, 225, 27, 131, 73, 76, 63, 248, 254, 141, 83, 170, 144, 202, 216, 133,\n",
    "        97, 32, 113, 103, 164, 45, 43, 9, 91, 203, 155, 37, 208, 190, 229, 108, 82, 89, 166,\n",
    "        116, 210, 230, 244, 180, 192, 209, 102, 175, 194, 57, 75, 99, 182)\n",
    "    return S([F.from_integer(x) for x in SBOX])\n",
    "\n",
    "\n",
    "def is_APN(permutation, sorted_field_elements, field):\n",
    "    return differential_uniformity(permutation, sorted_field_elements, field) == 2\n",
    "\n",
    "def differential_uniformity(permutation, field):\n",
    "    max_d = 0\n",
    "    for a in field:\n",
    "        if a == field.zero():\n",
    "            continue\n",
    "        output_differences = defaultdict(lambda: 0)\n",
    "        current_max = 0\n",
    "        for x in field:\n",
    "            xa = x+a\n",
    "            output_differences[permutation(xa)+permutation(x)]+=1\n",
    "            if current_max < output_differences[permutation(xa)+permutation(x)]:\n",
    "                current_max = output_differences[permutation(xa)+permutation(x)]\n",
    "        if current_max > max_d:\n",
    "            max_d = current_max\n",
    "    return max_d\n",
    "\n",
    "def build_DDT(permutation, sorted_field_elements, field):\n",
    "    ddt = {}\n",
    "    for a in sorted_field_elements:\n",
    "        ddt[a] = {}\n",
    "        for b in sorted_field_elements:\n",
    "            if a == field(0):\n",
    "                ddt[a][b] = 0\n",
    "            else:\n",
    "                ddt[a][b] = 0\n",
    "                for x in sorted_field_elements:\n",
    "                    if permutation(x+a)+permutation(x)+b == F(0):\n",
    "                        ddt[a][b] = ddt[a][b] + 1\n",
    "    return ddt\n",
    "\n",
    "def print_DDT(ddt, sorted_field_elements):\n",
    "    values = ddt.values()\n",
    "    rows = []\n",
    "    for v in values:\n",
    "        rows.append(list(v.values()))\n",
    "    print(table(rows = rows, header_row=[str(x) for x in sorted_field_elements], header_column = ['a/b']+[str(x) for x in sorted_field_elements], frame = True))\n",
    "\n",
    "def permutation_distance(p1, p2):\n",
    "    p1_dict = p1.dict()\n",
    "    p2_dict = p2.dict()\n",
    "    distance = 0\n",
    "    for key in p1_dict:\n",
    "        if p1_dict[key] != p2_dict[key]:\n",
    "            distance = distance + 1\n",
    "    return distance\n",
    "def group_distance(G1, G2):\n",
    "    min_distance = max(len(G1), len(G2))\n",
    "    for x in G2:\n",
    "        if len(x.cycle_tuples()) != 0:\n",
    "            for y in G1:\n",
    "                d = permutation_distance(x, y)\n",
    "                if d < min_distance:\n",
    "                    min_distance = d\n",
    "    return min_distance\n",
    "\n",
    "def differencial_uniformity_by_distance(G1, G2):\n",
    "    return G1.cardinality() - group_distance(G1, G2) \n",
    "\n",
    "def find_conjugated(S,G1,G2, TranslationDict):\n",
    "    isomorphism = dict()\n",
    "    isomorphism_by_gens = dict(zip(G1.minimal_generating_set(), G2.minimal_generating_set()))\n",
    "    for gen_combination in powerset(G1.minimal_generating_set()):\n",
    "        preimage = S.identity()\n",
    "        image = S.identity()\n",
    "        for gen in gen_combination:\n",
    "            preimage = preimage*gen\n",
    "            image = image * isomorphism_by_gens[gen]\n",
    "        isomorphism[preimage] = image\n",
    "    conj = []\n",
    "    for x in S.domain():\n",
    "        conj.append((isomorphism[TranslationsDict[x]](S.domain()[0])))\n",
    "    return S(conj)\n",
    "\n",
    "def build_graph(shifts):\n",
    "    result = Graph()\n",
    "    fields_elements_to_pairs = defaultdict(lambda: [])\n",
    "    for item in shifts:\n",
    "        for transposition in item.cycle_tuples():\n",
    "            result.add_vertex(transposition)\n",
    "            fields_elements_to_pairs[transposition[0]].append(transposition)\n",
    "            fields_elements_to_pairs[transposition[1]].append(transposition)\n",
    "        for pair in itertools.combinations(item.cycle_tuples(), 2):\n",
    "            result.add_edge(pair[0], pair[1])\n",
    "    vertices = result.vertices()\n",
    "    for v in vertices:\n",
    "        for u in fields_elements_to_pairs[v[0]]:\n",
    "            if u == v:\n",
    "                continue\n",
    "            result.add_edge(v,u) \n",
    "        for u in fields_elements_to_pairs[v[1]]:\n",
    "            if u == v:\n",
    "                continue\n",
    "            result.add_edge(v,u) \n",
    "    return result\n",
    "\n",
    "def print_group(G):\n",
    "    for item in G:\n",
    "        if item != G.identity():\n",
    "            print(item)"
   ]
  },
  {
   "cell_type": "code",
   "execution_count": null,
   "id": "a0cce759-c2e9-4cd6-af4e-1db078cc1441",
   "metadata": {},
   "outputs": [],
   "source": []
  },
  {
   "cell_type": "code",
   "execution_count": 6,
   "id": "8c234777-d904-4c53-9e3e-241e04f81dbe",
   "metadata": {},
   "outputs": [],
   "source": [
    "n = 8\n",
    "F = GF(2^n, repr='int')\n",
    "sorted_field = F.list()\n",
    "sorted_field.sort()\n",
    "S = SymmetricGroup(domain=sorted_field)\n",
    "T, TranslationsDict = build_translations_group(sorted_field,sorted_field,S)\n",
    "\n",
    "inv = build_inversion(sorted_field, S, F)\n",
    "G = conjugate(S,T,inv)\n",
    "\n",
    "\n",
    "#all_shifts = T.list()[1:2^n]\n",
    "#complete_graph = build_graph(all_shifts)"
   ]
  },
  {
   "cell_type": "code",
   "execution_count": null,
   "id": "1386a927-33c3-4463-b89c-bbda3744d3e8",
   "metadata": {},
   "outputs": [],
   "source": []
  },
  {
   "cell_type": "code",
   "execution_count": null,
   "id": "da41ae47-6408-4e13-a337-950d6cb9c552",
   "metadata": {},
   "outputs": [],
   "source": []
  },
  {
   "cell_type": "code",
   "execution_count": null,
   "id": "f223b4e1-d768-4dd0-9f5d-315f20b4dd89",
   "metadata": {},
   "outputs": [],
   "source": []
  },
  {
   "cell_type": "code",
   "execution_count": null,
   "id": "0254fc26-fe29-4c97-93be-4b8b8bb0546c",
   "metadata": {},
   "outputs": [],
   "source": []
  },
  {
   "cell_type": "code",
   "execution_count": 3,
   "id": "35a98307-d59e-4629-85ae-289be1c39bf9",
   "metadata": {},
   "outputs": [],
   "source": [
    "def get_right_order(transposition):\n",
    "    if transposition[0] > transposition[1]:\n",
    "        return transposition[::-1]\n",
    "    return transposition\n",
    "\n",
    "class MaxFinder:\n",
    "    def __init__(self, collection, size):\n",
    "        self.distance_map = {i:set() for i in range(0,size+1,2)}\n",
    "        max_value = 0\n",
    "        for item in collection:\n",
    "            value = item.distance()\n",
    "            self.distance_map[value].add(item)\n",
    "            if value > max_value:\n",
    "                max_value = value\n",
    "        self.max_pointer = max_value\n",
    "\n",
    "    def max(self):\n",
    "        return self.max_pointer\n",
    "    def recalculate_max(self,old_d, new_d, item):\n",
    "        if old_d != new_d:\n",
    "            self.distance_map[old_d].remove(item)\n",
    "            self.distance_map[new_d].add(item)\n",
    "\n",
    "            if new_d > self.max_pointer:\n",
    "                #Расстояние увеличилось. Нужно передвинуть указатель.\n",
    "                self.max_pointer = new_d\n",
    "            elif len(self.distance_map[self.max_pointer]) == 0:\n",
    "                #Расстояние не увеличилось. Максимум уменьшился. Нужно передвинуть указатель.\n",
    "                if self.max_pointer - 2 < 0:\n",
    "                    raise Exception(\"Unintended behavior in MaxFinder\")\n",
    "                if len(self.distance_map[self.max_pointer - 2]):\n",
    "                    self.max_pointer -= 2 \n",
    "                    return\n",
    "\n",
    "                if self.max_pointer - 4 < 0:\n",
    "                    raise Exception(\"Unintended behavior in MaxFinder\")\n",
    "                if len(self.distance_map[self.max_pointer - 4]):\n",
    "                    self.max_pointer -= 4 "
   ]
  },
  {
   "cell_type": "code",
   "execution_count": null,
   "id": "e5af9046-44f7-46bb-825c-bf2f7e0ae213",
   "metadata": {},
   "outputs": [],
   "source": []
  },
  {
   "cell_type": "code",
   "execution_count": 4,
   "id": "e7249c91-2b2e-4a49-803f-234f503f3cbd",
   "metadata": {},
   "outputs": [],
   "source": [
    "class Delta:\n",
    "    def __init__(self, T, G, size):\n",
    "        transposition_map = {}\n",
    "        t_collection = []\n",
    "\n",
    "        for item in T:\n",
    "            if item == T.identity():\n",
    "                continue\n",
    "            t = Element(item)\n",
    "            t_collection.append(t)\n",
    "            for tr in item.cycle_tuples():\n",
    "                transposition_map[tr] = t\n",
    "        \n",
    "        self.Dg_collection = []\n",
    "        for g in G:\n",
    "            if g == G.identity():\n",
    "                continue\n",
    "            self.Dg_collection.append(Dg(Element(g), t_collection, transposition_map, size))\n",
    "\n",
    "        self.max_finder = MaxFinder(self.Dg_collection, size)\n",
    "        \n",
    "    def distance(self):\n",
    "        return self.max_finder.max()\n",
    "    \n",
    "    def __repr__(self):\n",
    "        res = \"\"\n",
    "        for item in self.Dg_collection:\n",
    "            res += f\"{item}\\n\"\n",
    "        return f\"DELTA:\\ntotal_distance={self.distance()}\\n{res}\\n\"   \n",
    "\n",
    "\n",
    "class Dg:\n",
    "    def __init__(self, g, T, transposition_map, size):  \n",
    "        self.Ig_map = {}\n",
    "        for t in T:\n",
    "            self.Ig_map[t] = I_t_g(t, g)\n",
    "        self.g = g\n",
    "        self.transposition_map = transposition_map\n",
    "        \n",
    "                \n",
    "        self.max_finder = MaxFinder(self.Ig_map.values(), size)\n",
    "\n",
    "    def distance(self):\n",
    "        return self.max_finder.max()\n",
    "\n",
    "    def __repr__(self):\n",
    "        res = \"\"\n",
    "        new_line = '\\n'\n",
    "        for i,key in enumerate(self.Ig_map):\n",
    "            if i == len(self.Ig_map)-1:\n",
    "                new_line = ''\n",
    "            res += f\"\\t{self.Ig_map[key]}\" + new_line\n",
    "        return f\"  Dg(distance={self.distance()}):\\n {res}\"\n",
    "\n",
    "class I_t_g:\n",
    "    def __init__(self, t, g):\n",
    "        self.t_g_intersection = g.intersection(t)\n",
    "        self.g = g\n",
    "        self.t = t\n",
    "\n",
    "    def distance(self):\n",
    "        return 2*len(self.t_g_intersection)\n",
    "\n",
    "    def __repr__(self):\n",
    "        return f\"I(t, g):[intersection={self.t_g_intersection}; g={self.g}; t={self.t}]\"\n",
    "\n",
    "class Element:\n",
    "    def __init__(self, g):\n",
    "        self.g_set = set(g.cycle_tuples())\n",
    "        self.element_of_field_to_transposition_map = dict()\n",
    "\n",
    "        for transpose in g.cycle_tuples():\n",
    "            self.element_of_field_to_transposition_map[transpose[0]] = transpose\n",
    "            self.element_of_field_to_transposition_map[transpose[1]] = transpose\n",
    "\n",
    "    def get_all_transpositions(self):\n",
    "        return self.g_set\n",
    "        \n",
    "    def conjugate(self, sigma):\n",
    "        sigma_s = self.get_transposition(sigma[0])\n",
    "        sigma_r = self.get_transposition(sigma[1])\n",
    "        \n",
    "        if sigma_s[0] == sigma[0]:\n",
    "            new_sigma_s = get_right_order((sigma[1], sigma_s[1]))\n",
    "            self.element_of_field_to_transposition_map[sigma_s[1]] = new_sigma_s\n",
    "        else:\n",
    "            new_sigma_s = get_right_order((sigma[1], sigma_s[0]))\n",
    "            self.element_of_field_to_transposition_map[sigma_s[0]] = new_sigma_s\n",
    "\n",
    "        if sigma_r[0] == sigma[1]:\n",
    "            new_sigma_r = get_right_order((sigma[0], sigma_r[1]))\n",
    "            self.element_of_field_to_transposition_map[sigma_r[1]] = new_sigma_r\n",
    "        else:\n",
    "            new_sigma_r = get_right_order((sigma[0], sigma_r[0]))\n",
    "            self.element_of_field_to_transposition_map[sigma_r[0]] = new_sigma_r\n",
    "\n",
    "        self.g_set.remove(sigma_s)\n",
    "        self.g_set.remove(sigma_r)\n",
    "        self.g_set.add(new_sigma_s)\n",
    "        self.g_set.add(new_sigma_r)\n",
    "\n",
    "        self.element_of_field_to_transposition_map[sigma[0]] = new_sigma_r\n",
    "        self.element_of_field_to_transposition_map[sigma[1]] = new_sigma_s\n",
    "    \n",
    "\n",
    "    def contains(self, sigma):\n",
    "        return sigma in self.g_set\n",
    "        \n",
    "    def intersection(self, other):\n",
    "        return self.g_set.intersection(other.g_set)\n",
    "        \n",
    "    def get_transposition(self, alpha):\n",
    "        return self.element_of_field_to_transposition_map[alpha]\n",
    "\n",
    "    def __repr__(self):\n",
    "        return f\"{self.g_set}\"\n",
    "\n"
   ]
  },
  {
   "cell_type": "code",
   "execution_count": null,
   "id": "b5c243c8-3e67-48ad-b1e3-a2dd9f1f7d9d",
   "metadata": {},
   "outputs": [],
   "source": []
  },
  {
   "cell_type": "code",
   "execution_count": null,
   "id": "39d58a67-8161-4090-a95f-65cc59f89dd0",
   "metadata": {},
   "outputs": [],
   "source": []
  },
  {
   "cell_type": "code",
   "execution_count": 5,
   "id": "b26fe3bd-0656-48a9-9952-b37577cf8ed8",
   "metadata": {},
   "outputs": [],
   "source": [
    "def recalculate_I_t_g(I: I_t_g, sigma_s: tuple, sigma_r: tuple, new_sigma_s: tuple, new_sigma_r: tuple, dist_counter = None):\n",
    "    if dist_counter == None:\n",
    "        if I.g.contains(sigma):\n",
    "            #нужно ли проверять??? вроде уже проверяли\n",
    "            return\n",
    "        else:\n",
    "            if sigma_s in I.t_g_intersection:\n",
    "                I.t_g_intersection.remove(sigma_s)\n",
    "            if sigma_r in I.t_g_intersection:\n",
    "                I.t_g_intersection.remove(sigma_r)\n",
    "    \n",
    "            if I.t.contains(new_sigma_s):\n",
    "                I.t_g_intersection.add(new_sigma_s)\n",
    "            if I.t.contains(new_sigma_r):\n",
    "                I.t_g_intersection.add(new_sigma_r)\n",
    "    else:\n",
    "        if I.g.contains(sigma):\n",
    "            #нужно ли проверять??? вроде уже проверяли\n",
    "            return\n",
    "        else:\n",
    "            dist_counter[I.distance()] -= 1\n",
    "            if sigma_s in I.t_g_intersection:\n",
    "                I.t_g_intersection.remove(sigma_s)\n",
    "            if sigma_r in I.t_g_intersection:\n",
    "                I.t_g_intersection.remove(sigma_r)\n",
    "    \n",
    "            if I.t.contains(new_sigma_s):\n",
    "                I.t_g_intersection.add(new_sigma_s)\n",
    "            if I.t.contains(new_sigma_r):\n",
    "                I.t_g_intersection.add(new_sigma_r)\n",
    "            dist_counter[I.distance()] += 1\n",
    "            \n",
    "def recalculate_Dg(Dg, sigma, dist_counter = None):\n",
    "    if dist_counter == None:\n",
    "        if Dg.g.contains(sigma):\n",
    "            return\n",
    "        else:\n",
    "            sigma_s = Dg.g.get_transposition(sigma[0])\n",
    "            sigma_r = Dg.g.get_transposition(sigma[1])\n",
    "            \n",
    "            if sigma_s[0] == sigma[0]:\n",
    "                new_sigma_s = get_right_order((sigma[1], sigma_s[1]))\n",
    "            else:\n",
    "                new_sigma_s = get_right_order((sigma[1], sigma_s[0]))\n",
    "    \n",
    "            if sigma_r[0] == sigma[1]:\n",
    "                new_sigma_r = get_right_order((sigma[0], sigma_r[1]))\n",
    "            else:\n",
    "                new_sigma_r = get_right_order((sigma[0], sigma_r[0]))\n",
    "    \n",
    "            ts = Dg.transposition_map[sigma_s]\n",
    "            tr = Dg.transposition_map[sigma_r]\n",
    "            new_ts = Dg.transposition_map[new_sigma_s]\n",
    "            new_tr = Dg.transposition_map[new_sigma_r]\n",
    "    \n",
    "            Ig = Dg.Ig_map\n",
    "    \n",
    "            for item in [ts, tr, new_ts, new_tr]:\n",
    "                old_d = Ig[item].distance()\n",
    "                recalculate_I_t_g(Ig[item], sigma_s, sigma_r, new_sigma_s, new_sigma_r)\n",
    "                new_d = Ig[item].distance()\n",
    "                Dg.max_finder.recalculate_max(old_d, new_d, Ig[item])\n",
    "    \n",
    "            #После обработки элемента g, нужно применить сопряжение, чтобы поменять g\n",
    "            Dg.g.conjugate(sigma)\n",
    "    else:\n",
    "        if Dg.g.contains(sigma):\n",
    "            return\n",
    "        else:\n",
    "            sigma_s = Dg.g.get_transposition(sigma[0])\n",
    "            sigma_r = Dg.g.get_transposition(sigma[1])\n",
    "            \n",
    "            if sigma_s[0] == sigma[0]:\n",
    "                new_sigma_s = get_right_order((sigma[1], sigma_s[1]))\n",
    "            else:\n",
    "                new_sigma_s = get_right_order((sigma[1], sigma_s[0]))\n",
    "    \n",
    "            if sigma_r[0] == sigma[1]:\n",
    "                new_sigma_r = get_right_order((sigma[0], sigma_r[1]))\n",
    "            else:\n",
    "                new_sigma_r = get_right_order((sigma[0], sigma_r[0]))\n",
    "    \n",
    "            ts = Dg.transposition_map[sigma_s]\n",
    "            tr = Dg.transposition_map[sigma_r]\n",
    "            new_ts = Dg.transposition_map[new_sigma_s]\n",
    "            new_tr = Dg.transposition_map[new_sigma_r]\n",
    "    \n",
    "            Ig = Dg.Ig_map\n",
    "    \n",
    "            for item in [ts, tr, new_ts, new_tr]:\n",
    "                old_d = Ig[item].distance()\n",
    "                recalculate_I_t_g(Ig[item], sigma_s, sigma_r, new_sigma_s, new_sigma_r, dist_counter)\n",
    "                new_d = Ig[item].distance()\n",
    "                Dg.max_finder.recalculate_max(old_d, new_d, Ig[item])\n",
    "    \n",
    "            #После обработки элемента g, нужно применить сопряжение, чтобы поменять g\n",
    "            Dg.g.conjugate(sigma)\n",
    "\n",
    "def recalc_group_distance(Delta, sigma, dist_counter = None):\n",
    "    if dist_counter == None:\n",
    "        for Dg in Delta.Dg_collection:\n",
    "            old_distance = Dg.max_finder.max()\n",
    "            recalculate_Dg(Dg, sigma)\n",
    "            new_distance = Dg.max_finder.max()\n",
    "            Delta.max_finder.recalculate_max(old_distance, new_distance, Dg)\n",
    "    else:\n",
    "        for Dg in Delta.Dg_collection:\n",
    "            old_distance = Dg.max_finder.max()\n",
    "            recalculate_Dg(Dg, sigma, dist_counter)\n",
    "            new_distance = Dg.max_finder.max()\n",
    "            Delta.max_finder.recalculate_max(old_distance, new_distance, Dg)\n"
   ]
  },
  {
   "cell_type": "code",
   "execution_count": 6,
   "id": "f211b349-77f4-4372-bd99-b9a3f00b6e65",
   "metadata": {},
   "outputs": [],
   "source": [
    "def transposition(i,j):\n",
    "    return (F.from_integer(i), F.from_integer(j))"
   ]
  },
  {
   "cell_type": "code",
   "execution_count": null,
   "id": "cef787f8-e9c9-474a-8998-898a08ed67e0",
   "metadata": {},
   "outputs": [],
   "source": []
  },
  {
   "cell_type": "code",
   "execution_count": 6,
   "id": "2038cf6b-ed9c-45bc-abea-45853e626b18",
   "metadata": {},
   "outputs": [
    {
     "ename": "NameError",
     "evalue": "name 'S' is not defined",
     "output_type": "error",
     "traceback": [
      "\u001b[0;31m---------------------------------------------------------------------------\u001b[0m",
      "\u001b[0;31mNameError\u001b[0m                                 Traceback (most recent call last)",
      "Cell \u001b[0;32mIn[6], line 1\u001b[0m\n\u001b[0;32m----> 1\u001b[0m f \u001b[38;5;241m=\u001b[39m \u001b[43mS\u001b[49m\u001b[38;5;241m.\u001b[39mrandom_element()\n\u001b[1;32m      2\u001b[0m G \u001b[38;5;241m=\u001b[39m conjugate(S,T,f)\n\u001b[1;32m      3\u001b[0m \u001b[38;5;66;03m# print(\"distance: \", group_distance(T,G))\u001b[39;00m\n",
      "\u001b[0;31mNameError\u001b[0m: name 'S' is not defined"
     ]
    }
   ],
   "source": [
    "f = S.random_element()\n",
    "G = conjugate(S,T,f)\n",
    "# print(\"distance: \", group_distance(T,G))\n",
    "print(\"diff. uniformity: \", differencial_uniformity_by_distance(T,G))\n",
    "print(\"after transposition:\")\n",
    "G_ = conjugate(S,G,S(transposition(0,1)))\n",
    "# print(\"distance: \", group_distance(T,G_))\n",
    "print(\"diff. uniformity: \", differencial_uniformity_by_distance(T,G_))\n",
    "print(\"after another transposition:\")\n",
    "G__ = conjugate(S,G_,S(transposition(1,3)))\n",
    "# print(\"distance: \", group_distance(T,G__))\n",
    "print(\"diff. uniformity: \", differencial_uniformity_by_distance(T,G__))"
   ]
  },
  {
   "cell_type": "code",
   "execution_count": null,
   "id": "69a76908-745d-4933-b175-d6c47c6f9345",
   "metadata": {},
   "outputs": [],
   "source": []
  },
  {
   "cell_type": "code",
   "execution_count": 317,
   "id": "bdc17c2d-6f15-447e-9598-1de82d07edd0",
   "metadata": {},
   "outputs": [
    {
     "name": "stdout",
     "output_type": "stream",
     "text": [
      "diff. uniformity:  4\n",
      "diff. uniformity:  2\n",
      "diff. uniformity:  4\n"
     ]
    }
   ],
   "source": [
    "DELTA = Delta(T,G, 2^n)\n",
    "print(\"diff. uniformity: \", DELTA.distance())\n",
    "recalc_group_distance(DELTA, transposition(0,1))\n",
    "print(\"diff. uniformity: \", DELTA.distance())\n",
    "recalc_group_distance(DELTA, transposition(1,3))\n",
    "print(\"diff. uniformity: \", DELTA.distance())"
   ]
  },
  {
   "cell_type": "code",
   "execution_count": null,
   "id": "05f0ee9b-8a08-4d51-9266-27c67dfb2c1f",
   "metadata": {},
   "outputs": [],
   "source": [
    "DELTA"
   ]
  },
  {
   "cell_type": "code",
   "execution_count": 11,
   "id": "6658359c-5b1f-47f7-8336-ac981e23df63",
   "metadata": {},
   "outputs": [],
   "source": [
    "G_kuz = conjugate(S, T, build_kuznechik())"
   ]
  },
  {
   "cell_type": "code",
   "execution_count": 18,
   "id": "efa23f8d-6833-4c0f-b4a0-c1aa5ca89fff",
   "metadata": {},
   "outputs": [
    {
     "data": {
      "text/plain": [
       "100"
      ]
     },
     "execution_count": 18,
     "metadata": {},
     "output_type": "execute_result"
    }
   ],
   "source": [
    "SBox(build_kuznechik().domain()).nonlinearity()"
   ]
  },
  {
   "cell_type": "code",
   "execution_count": null,
   "id": "f9d9715d-a8a8-49c9-9cf8-0eb5b5807277",
   "metadata": {},
   "outputs": [],
   "source": []
  },
  {
   "cell_type": "code",
   "execution_count": null,
   "id": "befd7e08-1a89-4982-a2aa-d6bc179aa166",
   "metadata": {},
   "outputs": [],
   "source": []
  },
  {
   "cell_type": "code",
   "execution_count": null,
   "id": "c3291e16-8f70-4d06-be1a-3208ccecc8b1",
   "metadata": {},
   "outputs": [],
   "source": []
  },
  {
   "cell_type": "code",
   "execution_count": 15,
   "id": "033e7849-8a03-4e48-a456-100e41ef888f",
   "metadata": {},
   "outputs": [],
   "source": [
    "from sage.crypto.sboxes import SBox"
   ]
  },
  {
   "cell_type": "code",
   "execution_count": null,
   "id": "0fa10eaf-c584-47e5-9634-29e83e606f21",
   "metadata": {},
   "outputs": [],
   "source": []
  },
  {
   "cell_type": "code",
   "execution_count": null,
   "id": "cd6eabb9-0fef-4c3b-8a48-b33f11754787",
   "metadata": {},
   "outputs": [],
   "source": []
  },
  {
   "cell_type": "code",
   "execution_count": 10,
   "id": "5e61fa9d-03c7-47e7-99fe-efd1a0dcb365",
   "metadata": {},
   "outputs": [
    {
     "name": "stdout",
     "output_type": "stream",
     "text": [
      "diff. uniformity:  8\n"
     ]
    }
   ],
   "source": [
    "DELTA = Delta(T, G_kuz, 2^n)\n",
    "print(\"diff. uniformity: \", DELTA.distance())"
   ]
  },
  {
   "cell_type": "code",
   "execution_count": 135,
   "id": "abd7ec96-15e1-46a8-90a5-a7c3044dbfd6",
   "metadata": {},
   "outputs": [
    {
     "data": {
      "text/plain": [
       "([(1, 12),\n",
       "  (2, 12),\n",
       "  (8, 9),\n",
       "  (10, 9),\n",
       "  (11, 9),\n",
       "  (18, 9),\n",
       "  (20, 9),\n",
       "  (23, 9),\n",
       "  (0, 6),\n",
       "  (3, 6)],\n",
       " {((14, 30), 15): 1,\n",
       "  ((13, 29), 15): 1,\n",
       "  ((2, 17), 18): 1,\n",
       "  ((9, 26), 18): 1,\n",
       "  ((2, 9), 10): 1,\n",
       "  ((17, 26), 10): 1,\n",
       "  ((1, 8), 8): 1,\n",
       "  ((5, 12), 8): 1,\n",
       "  ((20, 27), 14): 1,\n",
       "  ((18, 29), 14): 1,\n",
       "  ((2, 26), 23): 1,\n",
       "  ((9, 17), 23): 1,\n",
       "  ((7, 11), 11): 1,\n",
       "  ((16, 28), 11): 1,\n",
       "  ((2, 23), 20): 1,\n",
       "  ((7, 18), 20): 1,\n",
       "  ((15, 25), 21): 1,\n",
       "  ((0, 22), 21): 1,\n",
       "  ((3, 25), 25): 1,\n",
       "  ((8, 18), 25): 1,\n",
       "  ((9, 23), 29): 1,\n",
       "  ((11, 21), 29): 1,\n",
       "  ((0, 2), 1): 1,\n",
       "  ((8, 10), 1): 1,\n",
       "  ((14, 29), 18): 1,\n",
       "  ((13, 30), 18): 1,\n",
       "  ((13, 14), 2): 1,\n",
       "  ((29, 30), 2): 1,\n",
       "  ((3, 8), 10): 1,\n",
       "  ((18, 25), 10): 1,\n",
       "  ((1, 19), 17): 1,\n",
       "  ((6, 20), 17): 1,\n",
       "  ((23, 28), 10): 1,\n",
       "  ((1, 10), 10): 1,\n",
       "  ((3, 13), 13): 1,\n",
       "  ((20, 26), 13): 1,\n",
       "  ((2, 27), 24): 1,\n",
       "  ((1, 24), 24): 1,\n",
       "  ((4, 5), 0): 1,\n",
       "  ((10, 11), 0): 1,\n",
       "  ((3, 18), 16): 1,\n",
       "  ((8, 25), 16): 1,\n",
       "  ((13, 20), 24): 1,\n",
       "  ((3, 26), 24): 1,\n",
       "  ((18, 27), 8): 1,\n",
       "  ((20, 29), 8): 1,\n",
       "  ((27, 29), 5): 1,\n",
       "  ((18, 20), 5): 1,\n",
       "  ((2, 10), 7): 1,\n",
       "  ((0, 8), 7): 1,\n",
       "  ((11, 28), 22): 1,\n",
       "  ((7, 16), 22): 1,\n",
       "  ((5, 10), 14): 1,\n",
       "  ((4, 11), 14): 1,\n",
       "  ((2, 24), 25): 1,\n",
       "  ((1, 27), 25): 1,\n",
       "  ((6, 19), 20): 1,\n",
       "  ((1, 20), 20): 1,\n",
       "  ((7, 28), 26): 1,\n",
       "  ((11, 16), 26): 1,\n",
       "  ((1, 28), 28): 1,\n",
       "  ((10, 23), 28): 1,\n",
       "  ((18, 23), 4): 1,\n",
       "  ((2, 7), 4): 1,\n",
       "  ((1, 2), 2): 1,\n",
       "  ((24, 27), 2): 1,\n",
       "  ((0, 15), 14): 1,\n",
       "  ((22, 25), 14): 1,\n",
       "  ((9, 21), 27): 1,\n",
       "  ((11, 23), 27): 1,\n",
       "  ((0, 10), 9): 1,\n",
       "  ((2, 8), 9): 1,\n",
       "  ((4, 10), 13): 1,\n",
       "  ((5, 11), 13): 1,\n",
       "  ((1, 23), 21): 1,\n",
       "  ((10, 28), 21): 1,\n",
       "  ((13, 26), 22): 1,\n",
       "  ((3, 20), 22): 1,\n",
       "  ((0, 25), 24): 1,\n",
       "  ((15, 22), 24): 1,\n",
       "  ((1, 12), 12): 1,\n",
       "  ((5, 8), 12): 1,\n",
       "  ((7, 23), 15): 1,\n",
       "  ((2, 18), 15): 1,\n",
       "  ((9, 11), 1): 1,\n",
       "  ((21, 23), 1): 1,\n",
       "  ((8, 12), 3): 1,\n",
       "  ((1, 5), 3): 1,\n",
       "  ((1, 6), 6): 1,\n",
       "  ((19, 20), 6): 1})"
      ]
     },
     "execution_count": 135,
     "metadata": {},
     "output_type": "execute_result"
    }
   ],
   "source": [
    "# item = DELTA.Dg_collection[0]\n",
    "# dist_counter = {_:0 for _ in range(0, 2^n + 1, 2)}\n",
    "tr_counter = dict()\n",
    "for item in DELTA.Dg_collection:\n",
    "    for i, I_t_g_item in enumerate(item.Ig_map.values()):\n",
    "        # dist_counter[I_t_g_item.distance()] += 1\n",
    "        if I_t_g_item.distance() >= DELTA.distance():\n",
    "            for tr in I_t_g_item.t_g_intersection:\n",
    "                if tr not in tr_counter:\n",
    "                    tr_counter[(tr, i)] = 1\n",
    "                else:\n",
    "                    tr_counter[(tr, i)] += 1\n",
    "elem_counter = {_:0 for _ in range(40)}\n",
    "for item in tr_counter:\n",
    "    elem_counter[item[0][0].to_integer()] += 1\n",
    "    elem_counter[item[0][1].to_integer()] += 1\n",
    "\n",
    "elem_counter = sorted(elem_counter.items(), key=lambda item: -item[1])\n",
    "elem_counter[:10], tr_counter"
   ]
  },
  {
   "cell_type": "code",
   "execution_count": 308,
   "id": "fc6f769c-52c8-461b-81af-bff0cdcee63a",
   "metadata": {},
   "outputs": [
    {
     "name": "stdout",
     "output_type": "stream",
     "text": [
      "diff. uniformity:  4\n"
     ]
    }
   ],
   "source": [
    "recalc_group_distance(DELTA, transposition(6, 7))\n",
    "print(\"diff. uniformity: \", DELTA.distance())"
   ]
  },
  {
   "cell_type": "code",
   "execution_count": 7,
   "id": "f67ef225-9411-4ba0-b7b4-0cc4853d66e3",
   "metadata": {},
   "outputs": [
    {
     "name": "stdout",
     "output_type": "stream",
     "text": [
      "diff. uniformity:  12\n"
     ]
    }
   ],
   "source": [
    "n = 8\n",
    "F = GF(2^n, repr='int')\n",
    "sorted_field = F.list()\n",
    "sorted_field.sort()\n",
    "S = SymmetricGroup(domain=sorted_field)\n",
    "T, TranslationsDict = build_translations_group(sorted_field,sorted_field,S)\n",
    "\n",
    "inv = build_inversion(sorted_field, S, F)\n",
    "G = conjugate(S,T,inv)\n",
    "\n",
    "f = S.random_element()\n",
    "G = conjugate(S, T, f)\n",
    "DELTA = Delta(T, G, 2^n)\n",
    "print(\"diff. uniformity: \", DELTA.distance())"
   ]
  },
  {
   "cell_type": "code",
   "execution_count": null,
   "id": "1a598c52-44b0-4d60-98b7-e064504d946e",
   "metadata": {},
   "outputs": [],
   "source": [
    "# блуждание с последовательным перебором 1\n",
    "import random\n",
    "\n",
    "print(DELTA.distance())\n",
    "for count in range(10):\n",
    "    if DELTA.distance() == 2:\n",
    "        print('already 2')\n",
    "        break\n",
    "    mn = 100\n",
    "    tr = (-1, -1)\n",
    "    for i in range(2^n):\n",
    "        for j in range(i + 1, 2^n):\n",
    "            recalc_group_distance(DELTA, transposition(i, j))\n",
    "            dist = DELTA.distance()\n",
    "            if mn > dist:\n",
    "                mn = dist\n",
    "                tr = (i, j)\n",
    "            elif mn == dist and random.uniform(0, 1) >= 0.5:\n",
    "                tr = (i, j)\n",
    "            recalc_group_distance(DELTA, transposition(i, j))\n",
    "    # print(mn, tr)\n",
    "    recalc_group_distance(DELTA, transposition(tr[0], tr[1]))\n",
    "    if mn == 2:\n",
    "        break\n",
    "\n",
    "print(\"min = \", mn)\n",
    "# print(DELTA)"
   ]
  },
  {
   "cell_type": "code",
   "execution_count": 8,
   "id": "2acea9a1-e70f-475e-8f28-33998942b539",
   "metadata": {},
   "outputs": [
    {
     "name": "stdout",
     "output_type": "stream",
     "text": [
      "6\n",
      "min =  6\n"
     ]
    }
   ],
   "source": [
    "# случайное блуждание\n",
    "import copy\n",
    "\n",
    "print(DELTA.distance())\n",
    "mn = DELTA.distance()\n",
    "ans = copy.deepcopy(DELTA)\n",
    "for count in range(10000):\n",
    "    if DELTA.distance() == 2:\n",
    "        break\n",
    "    i = randint(0, 2^n - 1)\n",
    "    j = randint(0, 2^n - 1)\n",
    "    while i == j:\n",
    "        j = randint(0, 2^n - 1)\n",
    "    if i > j:\n",
    "        i -= j\n",
    "        j += i\n",
    "        i = j - i\n",
    "    recalc_group_distance(DELTA, transposition(i, j))\n",
    "    # print(DELTA.distance(), (i, j))\n",
    "    if DELTA.distance() < mn:\n",
    "        mn = DELTA.distance()\n",
    "        ans = copy.deepcopy(DELTA)\n",
    "print(\"min = \", mn)\n",
    "# print(ans)"
   ]
  },
  {
   "cell_type": "code",
   "execution_count": 63,
   "id": "93e9334a-a076-4e9e-be1a-6d8854cd5967",
   "metadata": {},
   "outputs": [
    {
     "name": "stdout",
     "output_type": "stream",
     "text": [
      "4\n"
     ]
    },
    {
     "ename": "KeyError",
     "evalue": "I(t, g):[intersection={(4, 6), (5, 7)}; g={(0, 2), (4, 6), (1, 3), (5, 7)}; t={(0, 2), (4, 6), (1, 3), (5, 7)}]",
     "output_type": "error",
     "traceback": [
      "\u001b[0;31m---------------------------------------------------------------------------\u001b[0m",
      "\u001b[0;31mKeyError\u001b[0m                                  Traceback (most recent call last)",
      "Cell \u001b[0;32mIn[63], line 29\u001b[0m\n\u001b[1;32m     27\u001b[0m             cnt \u001b[38;5;241m=\u001b[39m dist_counter[dist]\n\u001b[1;32m     28\u001b[0m             tr \u001b[38;5;241m=\u001b[39m (i, j)\n\u001b[0;32m---> 29\u001b[0m         \u001b[43mrecalc_group_distance\u001b[49m\u001b[43m(\u001b[49m\u001b[43mDELTA\u001b[49m\u001b[43m,\u001b[49m\u001b[43m \u001b[49m\u001b[43mtransposition\u001b[49m\u001b[43m(\u001b[49m\u001b[43mi\u001b[49m\u001b[43m,\u001b[49m\u001b[43m \u001b[49m\u001b[43mj\u001b[49m\u001b[43m)\u001b[49m\u001b[43m,\u001b[49m\u001b[43m \u001b[49m\u001b[43mdist_counter\u001b[49m\u001b[43m)\u001b[49m\n\u001b[1;32m     30\u001b[0m \u001b[38;5;28mprint\u001b[39m(mn, tr)\n\u001b[1;32m     31\u001b[0m recalc_group_distance(DELTA, transposition(tr[Integer(\u001b[38;5;241m0\u001b[39m)], tr[Integer(\u001b[38;5;241m1\u001b[39m)]), dist_counter)\n",
      "Cell \u001b[0;32mIn[43], line 109\u001b[0m, in \u001b[0;36mrecalc_group_distance\u001b[0;34m(Delta, sigma, dist_counter)\u001b[0m\n\u001b[1;32m    107\u001b[0m \u001b[38;5;28;01mfor\u001b[39;00m Dg \u001b[38;5;129;01min\u001b[39;00m Delta\u001b[38;5;241m.\u001b[39mDg_collection:\n\u001b[1;32m    108\u001b[0m     old_distance \u001b[38;5;241m=\u001b[39m Dg\u001b[38;5;241m.\u001b[39mmax_finder\u001b[38;5;241m.\u001b[39mmax()\n\u001b[0;32m--> 109\u001b[0m     \u001b[43mrecalculate_Dg\u001b[49m\u001b[43m(\u001b[49m\u001b[43mDg\u001b[49m\u001b[43m,\u001b[49m\u001b[43m \u001b[49m\u001b[43msigma\u001b[49m\u001b[43m,\u001b[49m\u001b[43m \u001b[49m\u001b[43mdist_counter\u001b[49m\u001b[43m)\u001b[49m\n\u001b[1;32m    110\u001b[0m     new_distance \u001b[38;5;241m=\u001b[39m Dg\u001b[38;5;241m.\u001b[39mmax_finder\u001b[38;5;241m.\u001b[39mmax()\n\u001b[1;32m    111\u001b[0m     Delta\u001b[38;5;241m.\u001b[39mmax_finder\u001b[38;5;241m.\u001b[39mrecalculate_max(old_distance, new_distance, Dg)\n",
      "Cell \u001b[0;32mIn[43], line 94\u001b[0m, in \u001b[0;36mrecalculate_Dg\u001b[0;34m(Dg, sigma, dist_counter)\u001b[0m\n\u001b[1;32m     92\u001b[0m     recalculate_I_t_g(Ig[item], sigma_s, sigma_r, new_sigma_s, new_sigma_r, dist_counter)\n\u001b[1;32m     93\u001b[0m     new_d \u001b[38;5;241m=\u001b[39m Ig[item]\u001b[38;5;241m.\u001b[39mdistance()\n\u001b[0;32m---> 94\u001b[0m     \u001b[43mDg\u001b[49m\u001b[38;5;241;43m.\u001b[39;49m\u001b[43mmax_finder\u001b[49m\u001b[38;5;241;43m.\u001b[39;49m\u001b[43mrecalculate_max\u001b[49m\u001b[43m(\u001b[49m\u001b[43mold_d\u001b[49m\u001b[43m,\u001b[49m\u001b[43m \u001b[49m\u001b[43mnew_d\u001b[49m\u001b[43m,\u001b[49m\u001b[43m \u001b[49m\u001b[43mIg\u001b[49m\u001b[43m[\u001b[49m\u001b[43mitem\u001b[49m\u001b[43m]\u001b[49m\u001b[43m)\u001b[49m\n\u001b[1;32m     96\u001b[0m \u001b[38;5;66;03m#После обработки элемента g, нужно применить сопряжение, чтобы поменять g\u001b[39;00m\n\u001b[1;32m     97\u001b[0m Dg\u001b[38;5;241m.\u001b[39mg\u001b[38;5;241m.\u001b[39mconjugate(sigma)\n",
      "Cell \u001b[0;32mIn[41], line 21\u001b[0m, in \u001b[0;36mMaxFinder.recalculate_max\u001b[0;34m(self, old_d, new_d, item)\u001b[0m\n\u001b[1;32m     19\u001b[0m \u001b[38;5;28;01mdef\u001b[39;00m \u001b[38;5;21mrecalculate_max\u001b[39m(\u001b[38;5;28mself\u001b[39m,old_d, new_d, item):\n\u001b[1;32m     20\u001b[0m     \u001b[38;5;28;01mif\u001b[39;00m old_d \u001b[38;5;241m!=\u001b[39m new_d:\n\u001b[0;32m---> 21\u001b[0m         \u001b[38;5;28;43mself\u001b[39;49m\u001b[38;5;241;43m.\u001b[39;49m\u001b[43mdistance_map\u001b[49m\u001b[43m[\u001b[49m\u001b[43mold_d\u001b[49m\u001b[43m]\u001b[49m\u001b[38;5;241;43m.\u001b[39;49m\u001b[43mremove\u001b[49m\u001b[43m(\u001b[49m\u001b[43mitem\u001b[49m\u001b[43m)\u001b[49m\n\u001b[1;32m     22\u001b[0m         \u001b[38;5;28mself\u001b[39m\u001b[38;5;241m.\u001b[39mdistance_map[new_d]\u001b[38;5;241m.\u001b[39madd(item)\n\u001b[1;32m     24\u001b[0m         \u001b[38;5;28;01mif\u001b[39;00m new_d \u001b[38;5;241m>\u001b[39m \u001b[38;5;28mself\u001b[39m\u001b[38;5;241m.\u001b[39mmax_pointer:\n\u001b[1;32m     25\u001b[0m             \u001b[38;5;66;03m#Расстояние увеличилось. Нужно передвинуть указатель.\u001b[39;00m\n",
      "\u001b[0;31mKeyError\u001b[0m: I(t, g):[intersection={(4, 6), (5, 7)}; g={(0, 2), (4, 6), (1, 3), (5, 7)}; t={(0, 2), (4, 6), (1, 3), (5, 7)}]"
     ]
    }
   ],
   "source": [
    "# блуждание с последовательным перебором, но слегка оптимизированное (dist_counter без весов)\n",
    "import random\n",
    "\n",
    "print(DELTA.distance())\n",
    "\n",
    "dist_counter = {_:0 for _ in range(0, 2^n + 1, 2)}\n",
    "for item in DELTA.Dg_collection:\n",
    "    for i, I_t_g_item in enumerate(item.Ig_map.values()):\n",
    "        dist_counter[I_t_g_item.distance()] += 1\n",
    "\n",
    "for count in range(12):\n",
    "    if DELTA.distance() == 2:\n",
    "        print('already 2')\n",
    "        break\n",
    "    mn = 100\n",
    "    tr = (-1, -1)\n",
    "    cnt = dist_counter[DELTA.distance()]\n",
    "    for i in range(2^n):\n",
    "        for j in range(i + 1, 2^n):\n",
    "            recalc_group_distance(DELTA, transposition(i, j), dist_counter)\n",
    "            dist = DELTA.distance()\n",
    "            if mn > dist:\n",
    "                mn = dist\n",
    "                cnt = dist_counter[dist]\n",
    "                tr = (i, j)\n",
    "            elif mn == dist and dist_counter[dist] < cnt:\n",
    "                cnt = dist_counter[dist]\n",
    "                tr = (i, j)\n",
    "            recalc_group_distance(DELTA, transposition(i, j), dist_counter)\n",
    "    print(mn, tr)\n",
    "    recalc_group_distance(DELTA, transposition(tr[0], tr[1]), dist_counter)\n",
    "    if mn == 2:\n",
    "        break\n",
    "\n",
    "print(\"min = \", mn)\n",
    "# print(DELTA)"
   ]
  },
  {
   "cell_type": "code",
   "execution_count": 127,
   "id": "4df396d1-736b-49b8-8170-453e1df91951",
   "metadata": {},
   "outputs": [
    {
     "name": "stdout",
     "output_type": "stream",
     "text": [
      "10\n",
      "6 (4, 21)\n",
      "6 (5, 19)\n",
      "6 (11, 14)\n",
      "4 (18, 19)\n",
      "4 (24, 28)\n",
      "4 (1, 22)\n",
      "4 (15, 23)\n",
      "4 (13, 23)\n",
      "min =  4\n"
     ]
    }
   ],
   "source": [
    "# блуждание с последовательным перебором, но слегка оптимизированное (dist_counter без весов)\n",
    "import random\n",
    "\n",
    "print(DELTA.distance())\n",
    "\n",
    "dist_counter = {_:0 for _ in range(0, 2^n + 1, 2)}\n",
    "for item in DELTA.Dg_collection:\n",
    "    for i, I_t_g_item in enumerate(item.Ig_map.values()):\n",
    "        dist_counter[I_t_g_item.distance()] += 1\n",
    "\n",
    "pred = (-1, -1)\n",
    "\n",
    "for count in range(12):\n",
    "    if DELTA.distance() == 2:\n",
    "        print('already 2')\n",
    "        break\n",
    "    mn = 100\n",
    "    tr = (-1, -1)\n",
    "    cnt = dist_counter[DELTA.distance()]\n",
    "    for i in range(2^n):\n",
    "        for j in range(i + 1, 2^n):\n",
    "            recalc_group_distance(DELTA, transposition(i, j), dist_counter)\n",
    "            dist = DELTA.distance()\n",
    "            if mn > dist:\n",
    "                mn = dist\n",
    "                cnt = dist_counter[dist]\n",
    "                tr = (i, j)\n",
    "            elif mn == dist and dist_counter[dist] < cnt:\n",
    "                cnt = dist_counter[dist]\n",
    "                tr = (i, j)\n",
    "            recalc_group_distance(DELTA, transposition(i, j), dist_counter)\n",
    "    if mn == 2 or tr == pred:\n",
    "        break\n",
    "    recalc_group_distance(DELTA, transposition(tr[0], tr[1]), dist_counter)\n",
    "    print(mn, tr)\n",
    "    pred = tr\n",
    "\n",
    "print(\"min = \", mn)\n",
    "# print(DELTA)"
   ]
  },
  {
   "cell_type": "code",
   "execution_count": null,
   "id": "aed6dd0c-287b-474d-a79f-9e925ee245af",
   "metadata": {},
   "outputs": [],
   "source": []
  },
  {
   "cell_type": "code",
   "execution_count": 128,
   "id": "edf04e6a-3f1a-4a71-84b4-70f0e851db2d",
   "metadata": {},
   "outputs": [
    {
     "data": {
      "text/plain": [
       "{0: 510,\n",
       " 2: 406,\n",
       " 4: 45,\n",
       " 6: 0,\n",
       " 8: 0,\n",
       " 10: 0,\n",
       " 12: 0,\n",
       " 14: 0,\n",
       " 16: 0,\n",
       " 18: 0,\n",
       " 20: 0,\n",
       " 22: 0,\n",
       " 24: 0,\n",
       " 26: 0,\n",
       " 28: 0,\n",
       " 30: 0,\n",
       " 32: 0}"
      ]
     },
     "execution_count": 128,
     "metadata": {},
     "output_type": "execute_result"
    }
   ],
   "source": [
    "dist_counter"
   ]
  },
  {
   "cell_type": "code",
   "execution_count": null,
   "id": "d4aacd42-0551-45ae-b37d-1a9e66718bb2",
   "metadata": {},
   "outputs": [],
   "source": []
  },
  {
   "cell_type": "code",
   "execution_count": 148,
   "id": "e524b945-8627-488e-908d-07510170d744",
   "metadata": {},
   "outputs": [],
   "source": [
    "def calculate_neutral_trs(DELTA, dist_counter):\n",
    "    curr_dist = DELTA.distance()\n",
    "    bad_transpositions = set()\n",
    "    neutral_transpositions = set()\n",
    "    cnt = dist_counter[DELTA.distance()]\n",
    "    for i in range(2^n):\n",
    "        for j in range(i + 1, 2^n):\n",
    "            tr = transposition(i, j)\n",
    "            recalc_group_distance(DELTA, tr, dist_counter)\n",
    "            new_dist = DELTA.distance()\n",
    "            if new_dist > curr_dist or dist_counter[new_dist] < cnt:\n",
    "                bad_transpositions.add(tr)\n",
    "            else:\n",
    "                neutral_transpositions.add(tr)\n",
    "            recalc_group_distance(DELTA, tr, dist_counter)\n",
    "    return neutral_transpositions"
   ]
  },
  {
   "cell_type": "code",
   "execution_count": null,
   "id": "d335a430-0a38-4b47-b319-310f2b82aaae",
   "metadata": {},
   "outputs": [],
   "source": []
  },
  {
   "cell_type": "code",
   "execution_count": null,
   "id": "4421922d-d6bf-424f-a746-8a08411d69aa",
   "metadata": {},
   "outputs": [],
   "source": []
  },
  {
   "cell_type": "code",
   "execution_count": null,
   "id": "ac88d9cc-33ca-45c4-b183-ce25f3fbdc3d",
   "metadata": {},
   "outputs": [],
   "source": [
    "# item = DELTA.Dg_collection[0]\n",
    "# dist_counter = {_:0 for _ in range(0, 2^n + 1, 2)}\n",
    "tr_counter = dict()\n",
    "for item in DELTA.Dg_collection:\n",
    "    for i, I_t_g_item in enumerate(item.Ig_map.values()):\n",
    "        # dist_counter[I_t_g_item.distance()] += 1\n",
    "        if I_t_g_item.distance() >= DELTA.distance():\n",
    "            for tr in I_t_g_item.t_g_intersection:\n",
    "                if tr not in tr_counter:\n",
    "                    tr_counter[(tr, i)] = 1\n",
    "                else:\n",
    "                    tr_counter[(tr, i)] += 1\n",
    "elem_counter = {_:0 for _ in range(40)}\n",
    "for item in tr_counter:\n",
    "    elem_counter[item[0][0].to_integer()] += 1\n",
    "    elem_counter[item[0][1].to_integer()] += 1\n",
    "\n",
    "elem_counter = sorted(elem_counter.items(), key=lambda item: -item[1])\n",
    "elem_counter[:10], tr_counter"
   ]
  },
  {
   "cell_type": "code",
   "execution_count": 173,
   "id": "dc74324c-cc2c-4be6-a4fd-9713ebc83e3b",
   "metadata": {},
   "outputs": [
    {
     "name": "stdout",
     "output_type": "stream",
     "text": [
      "8\n",
      "6 (19, 27)\n",
      "4 (17, 29)\n",
      "4 (6, 13)\n",
      "4 (5, 10)\n",
      "4 (2, 20)\n",
      "4 (0, 3)\n",
      "4 (8, 13)\n",
      "4 (7, 29)\n",
      "4 (2, 15)\n",
      "Magic step begins! 25\n",
      "4 (2, 15)\n",
      "4 (3, 31)\n",
      "4 (3, 10)\n",
      "4 (0, 9)\n",
      "Magic step begins! 30\n",
      "4 (0, 9)\n",
      "4 (5, 20)\n",
      "4 (0, 9)\n",
      "Magic step begins! 39\n",
      "4 (0, 9)\n",
      "4 (1, 22)\n",
      "4 (0, 9)\n",
      "Magic step begins! 30\n",
      "4 (0, 9)\n",
      "4 (14, 19)\n",
      "4 (0, 9)\n",
      "Magic step begins! 39\n",
      "4 (0, 9)\n",
      "4 (26, 28)\n",
      "4 (0, 9)\n",
      "Magic step begins! 30\n",
      "4 (0, 9)\n",
      "Magic step begins! 23\n",
      "4 (0, 9)\n",
      "4 (13, 28)\n",
      "4 (0, 9)\n",
      "4 (5, 17)\n",
      "4 (0, 9)\n",
      "Magic step begins! 30\n",
      "4 (0, 9)\n",
      "4 (12, 14)\n",
      "4 (0, 9)\n",
      "Magic step begins! 39\n",
      "4 (0, 9)\n",
      "4 (13, 31)\n",
      "4 (0, 9)\n",
      "Magic step begins! 30\n",
      "4 (0, 9)\n",
      "4 (0, 29)\n",
      "4 (0, 9)\n"
     ]
    },
    {
     "ename": "KeyboardInterrupt",
     "evalue": "",
     "output_type": "error",
     "traceback": [
      "\u001b[0;31m---------------------------------------------------------------------------\u001b[0m",
      "\u001b[0;31mKeyboardInterrupt\u001b[0m                         Traceback (most recent call last)",
      "Cell \u001b[0;32mIn[173], line 38\u001b[0m\n\u001b[1;32m     36\u001b[0m     \u001b[38;5;28;01mbreak\u001b[39;00m\n\u001b[1;32m     37\u001b[0m \u001b[38;5;28;01mif\u001b[39;00m tr \u001b[38;5;241m==\u001b[39m pred:\n\u001b[0;32m---> 38\u001b[0m     neutral_transpositions \u001b[38;5;241m=\u001b[39m \u001b[43mcalculate_neutral_trs\u001b[49m\u001b[43m(\u001b[49m\u001b[43mDELTA\u001b[49m\u001b[43m,\u001b[49m\u001b[43m \u001b[49m\u001b[43mdist_counter\u001b[49m\u001b[43m)\u001b[49m\n\u001b[1;32m     39\u001b[0m     \u001b[38;5;28mprint\u001b[39m(\u001b[38;5;124mf\u001b[39m\u001b[38;5;124m\"\u001b[39m\u001b[38;5;124mMagic step begins! \u001b[39m\u001b[38;5;132;01m{\u001b[39;00m\u001b[38;5;28mlen\u001b[39m(neutral_transpositions)\u001b[38;5;132;01m}\u001b[39;00m\u001b[38;5;124m\"\u001b[39m)\n\u001b[1;32m     40\u001b[0m     recalc_group_distance(DELTA, \u001b[38;5;28mlist\u001b[39m(neutral_transpositions)[randint(Integer(\u001b[38;5;241m0\u001b[39m), \u001b[38;5;28mlen\u001b[39m(neutral_transpositions) \u001b[38;5;241m-\u001b[39m Integer(\u001b[38;5;241m1\u001b[39m))], dist_counter)\n",
      "Cell \u001b[0;32mIn[148], line 9\u001b[0m, in \u001b[0;36mcalculate_neutral_trs\u001b[0;34m(DELTA, dist_counter)\u001b[0m\n\u001b[1;32m      7\u001b[0m \u001b[38;5;28;01mfor\u001b[39;00m j \u001b[38;5;129;01min\u001b[39;00m \u001b[38;5;28mrange\u001b[39m(i \u001b[38;5;241m+\u001b[39m Integer(\u001b[38;5;241m1\u001b[39m), Integer(\u001b[38;5;241m2\u001b[39m)\u001b[38;5;241m*\u001b[39m\u001b[38;5;241m*\u001b[39mn):\n\u001b[1;32m      8\u001b[0m     tr \u001b[38;5;241m=\u001b[39m transposition(i, j)\n\u001b[0;32m----> 9\u001b[0m     \u001b[43mrecalc_group_distance\u001b[49m\u001b[43m(\u001b[49m\u001b[43mDELTA\u001b[49m\u001b[43m,\u001b[49m\u001b[43m \u001b[49m\u001b[43mtr\u001b[49m\u001b[43m,\u001b[49m\u001b[43m \u001b[49m\u001b[43mdist_counter\u001b[49m\u001b[43m)\u001b[49m\n\u001b[1;32m     10\u001b[0m     new_dist \u001b[38;5;241m=\u001b[39m DELTA\u001b[38;5;241m.\u001b[39mdistance()\n\u001b[1;32m     11\u001b[0m     \u001b[38;5;28;01mif\u001b[39;00m new_dist \u001b[38;5;241m>\u001b[39m curr_dist \u001b[38;5;129;01mor\u001b[39;00m dist_counter[new_dist] \u001b[38;5;241m<\u001b[39m cnt:\n",
      "Cell \u001b[0;32mIn[43], line 109\u001b[0m, in \u001b[0;36mrecalc_group_distance\u001b[0;34m(Delta, sigma, dist_counter)\u001b[0m\n\u001b[1;32m    107\u001b[0m \u001b[38;5;28;01mfor\u001b[39;00m Dg \u001b[38;5;129;01min\u001b[39;00m Delta\u001b[38;5;241m.\u001b[39mDg_collection:\n\u001b[1;32m    108\u001b[0m     old_distance \u001b[38;5;241m=\u001b[39m Dg\u001b[38;5;241m.\u001b[39mmax_finder\u001b[38;5;241m.\u001b[39mmax()\n\u001b[0;32m--> 109\u001b[0m     \u001b[43mrecalculate_Dg\u001b[49m\u001b[43m(\u001b[49m\u001b[43mDg\u001b[49m\u001b[43m,\u001b[49m\u001b[43m \u001b[49m\u001b[43msigma\u001b[49m\u001b[43m,\u001b[49m\u001b[43m \u001b[49m\u001b[43mdist_counter\u001b[49m\u001b[43m)\u001b[49m\n\u001b[1;32m    110\u001b[0m     new_distance \u001b[38;5;241m=\u001b[39m Dg\u001b[38;5;241m.\u001b[39mmax_finder\u001b[38;5;241m.\u001b[39mmax()\n\u001b[1;32m    111\u001b[0m     Delta\u001b[38;5;241m.\u001b[39mmax_finder\u001b[38;5;241m.\u001b[39mrecalculate_max(old_distance, new_distance, Dg)\n",
      "Cell \u001b[0;32mIn[43], line 84\u001b[0m, in \u001b[0;36mrecalculate_Dg\u001b[0;34m(Dg, sigma, dist_counter)\u001b[0m\n\u001b[1;32m     81\u001b[0m     new_sigma_r \u001b[38;5;241m=\u001b[39m get_right_order((sigma[Integer(\u001b[38;5;241m0\u001b[39m)], sigma_r[Integer(\u001b[38;5;241m0\u001b[39m)]))\n\u001b[1;32m     83\u001b[0m ts \u001b[38;5;241m=\u001b[39m Dg\u001b[38;5;241m.\u001b[39mtransposition_map[sigma_s]\n\u001b[0;32m---> 84\u001b[0m tr \u001b[38;5;241m=\u001b[39m \u001b[43mDg\u001b[49m\u001b[38;5;241;43m.\u001b[39;49m\u001b[43mtransposition_map\u001b[49m\u001b[43m[\u001b[49m\u001b[43msigma_r\u001b[49m\u001b[43m]\u001b[49m\n\u001b[1;32m     85\u001b[0m new_ts \u001b[38;5;241m=\u001b[39m Dg\u001b[38;5;241m.\u001b[39mtransposition_map[new_sigma_s]\n\u001b[1;32m     86\u001b[0m new_tr \u001b[38;5;241m=\u001b[39m Dg\u001b[38;5;241m.\u001b[39mtransposition_map[new_sigma_r]\n",
      "File \u001b[0;32m~/sage/src/sage/rings/finite_rings/element_givaro.pyx:1675\u001b[0m, in \u001b[0;36msage.rings.finite_rings.element_givaro.FiniteField_givaroElement.__hash__\u001b[0;34m()\u001b[0m\n\u001b[1;32m   1673\u001b[0m         5\n\u001b[1;32m   1674\u001b[0m     \"\"\"\n\u001b[0;32m-> 1675\u001b[0m     return hash(self._integer_representation())\n\u001b[1;32m   1676\u001b[0m \n\u001b[1;32m   1677\u001b[0m def _vector_(FiniteField_givaroElement self, reverse=False):\n",
      "File \u001b[0;32m~/sage/src/sage/rings/finite_rings/element_givaro.pyx:1358\u001b[0m, in \u001b[0;36msage.rings.finite_rings.element_givaro.FiniteField_givaroElement._integer_representation\u001b[0;34m()\u001b[0m\n\u001b[1;32m   1356\u001b[0m         <... 'int'>\n\u001b[1;32m   1357\u001b[0m     \"\"\"\n\u001b[0;32m-> 1358\u001b[0m     return self._cache.log_to_int(self.element)\n\u001b[1;32m   1359\u001b[0m \n\u001b[1;32m   1360\u001b[0m def _integer_(FiniteField_givaroElement self, ZZ=None):\n",
      "File \u001b[0;32m~/sage/src/sage/rings/finite_rings/element_givaro.pyx:514\u001b[0m, in \u001b[0;36msage.rings.finite_rings.element_givaro.Cache_givaro.log_to_int\u001b[0;34m()\u001b[0m\n\u001b[1;32m    512\u001b[0m \n\u001b[1;32m    513\u001b[0m         cdef int r = 0\n\u001b[0;32m--> 514\u001b[0m         sig_on()\n\u001b[1;32m    515\u001b[0m         self.objectptr.convert(r, n)\n\u001b[1;32m    516\u001b[0m         sig_off()\n",
      "\u001b[0;31mKeyboardInterrupt\u001b[0m: "
     ]
    }
   ],
   "source": [
    "# блуждание с последовательным перебором, но слегка оптимизированное (dist_counter без весов)\n",
    "import random\n",
    "\n",
    "print(DELTA.distance())\n",
    "\n",
    "dist_counter = {_:0 for _ in range(0, 2^n + 1, 2)}\n",
    "for item in DELTA.Dg_collection:\n",
    "    for i, I_t_g_item in enumerate(item.Ig_map.values()):\n",
    "        dist_counter[I_t_g_item.distance()] += 1\n",
    "\n",
    "pred = (-1, -1)\n",
    "\n",
    "\n",
    "\n",
    "for count in range(100):\n",
    "    if DELTA.distance() == 2:\n",
    "        print('already 2')\n",
    "        break\n",
    "    mn = 100\n",
    "    tr = (-1, -1)\n",
    "    cnt = dist_counter[DELTA.distance()]\n",
    "    for i in range(2^n):\n",
    "        for j in range(i + 1, 2^n):\n",
    "            recalc_group_distance(DELTA, transposition(i, j), dist_counter)\n",
    "            dist = DELTA.distance()\n",
    "            if mn > dist:\n",
    "                mn = dist\n",
    "                cnt = dist_counter[dist]\n",
    "                tr = (i, j)\n",
    "            elif mn == dist and dist_counter[dist] < cnt:\n",
    "                cnt = dist_counter[dist]\n",
    "                tr = (i, j)\n",
    "            recalc_group_distance(DELTA, transposition(i, j), dist_counter)\n",
    "    if mn == 2:\n",
    "        print(\"Big victory of USSR sports\")\n",
    "        break\n",
    "    if tr == pred:\n",
    "        neutral_transpositions = calculate_neutral_trs(DELTA, dist_counter)\n",
    "        print(f\"Magic step begins! {len(neutral_transpositions)}\")\n",
    "        recalc_group_distance(DELTA, list(neutral_transpositions)[randint(0, len(neutral_transpositions) - 1)], dist_counter)\n",
    "        \n",
    "        # MN = 1000000\n",
    "        # TR = (-1, -1)\n",
    "        # CNT = dist_counter[DELTA.distance()]\n",
    "        # for item in tuple(neutral_transpositions)[:30]:\n",
    "        #     recalc_group_distance(DELTA, item, dist_counter)\n",
    "        #     cnt = dist_counter[DELTA.distance()]\n",
    "        #     for i in range(2^n):\n",
    "        #         for j in range(i + 1, 2^n):\n",
    "        #             recalc_group_distance(DELTA, transposition(i, j), dist_counter)\n",
    "        #             dist = DELTA.distance()\n",
    "        #             if mn > dist:\n",
    "        #                 mn = dist\n",
    "        #                 cnt = dist_counter[dist]\n",
    "        #                 tr = (i, j)\n",
    "        #             elif mn == dist and dist_counter[dist] < cnt:\n",
    "        #                 cnt = dist_counter[dist]\n",
    "        #                 tr = (i, j)\n",
    "        #             recalc_group_distance(DELTA, transposition(i, j), dist_counter)\n",
    "        \n",
    "           \n",
    "        #     if (MN > mn) or (MN == mn and CNT < cnt):\n",
    "        #         MN = mn\n",
    "        #         CNT = cnt\n",
    "        #         TR = tr\n",
    "\n",
    "        #     recalc_group_distance(DELTA, item, dist_counter)\n",
    "        # tr = TR\n",
    "        # mn = MN\n",
    "        # cnt = CNT\n",
    "\n",
    "    else:\n",
    "        recalc_group_distance(DELTA, transposition(tr[0], tr[1]), dist_counter)\n",
    "    print(mn, tr)\n",
    "    pred = tr\n",
    "\n",
    "print(\"min = \", mn)\n",
    "# print(DELTA)"
   ]
  },
  {
   "cell_type": "code",
   "execution_count": null,
   "id": "e11a220c-c4bd-4a72-8015-74a1fb35d73f",
   "metadata": {},
   "outputs": [],
   "source": []
  },
  {
   "cell_type": "code",
   "execution_count": 87,
   "id": "10a9da56-7b32-429d-bc68-5b2474ab31de",
   "metadata": {},
   "outputs": [
    {
     "name": "stdout",
     "output_type": "stream",
     "text": [
      "6\n",
      "6 (0, 21)\n",
      "6 (0, 39)\n",
      "произошёл брейк\n",
      "min = 6\n"
     ]
    }
   ],
   "source": [
    "# блуждание образующими\n",
    "import random\n",
    "\n",
    "print(DELTA.distance())\n",
    "\n",
    "dist_counter = {_:0 for _ in range(0, 2^n + 1, 2)}\n",
    "for item in DELTA.Dg_collection:\n",
    "    for i, I_t_g_item in enumerate(item.Ig_map.values()):\n",
    "        dist_counter[I_t_g_item.distance()] += 1\n",
    "\n",
    "pred = (-1, -1)\n",
    "\n",
    "for count in range(100):\n",
    "    if DELTA.distance() == 2:\n",
    "        print('already 2')\n",
    "        break\n",
    "    mn = 100\n",
    "    tr = (-1, -1)\n",
    "    cnt = dist_counter[DELTA.distance()]\n",
    "    i = 0\n",
    "    for j in range(1, 2^n):\n",
    "        recalc_group_distance(DELTA, transposition(i, j), dist_counter)\n",
    "        dist = DELTA.distance()\n",
    "        if mn > dist:\n",
    "            mn = dist\n",
    "            cnt = dist_counter[dist]\n",
    "            tr = (i, j)\n",
    "        elif mn == dist and dist_counter[dist] < cnt:\n",
    "            cnt = dist_counter[dist]\n",
    "            tr = (i, j)\n",
    "        recalc_group_distance(DELTA, transposition(i, j), dist_counter)\n",
    "    if mn == 2 or tr == pred or mn > DELTA.distance():\n",
    "        print(\"произошёл брейк\")\n",
    "        break\n",
    "    if tr == pred:\n",
    "        neutral_transpositions = calculate_neutral_trs(DELTA, dist_counter)\n",
    "        print(f\"Magic step begins! {len(neutral_transpositions)}\")\n",
    "        recalc_group_distance(DELTA, list(neutral_transpositions)[randint(0, len(neutral_transpositions) - 1)], dist_counter)\n",
    "        \n",
    "        # MN = 1000000\n",
    "        # TR = (-1, -1)\n",
    "        # CNT = dist_counter[DELTA.distance()]\n",
    "        # for item in tuple(neutral_transpositions)[:30]:\n",
    "        #     recalc_group_distance(DELTA, item, dist_counter)\n",
    "        #     cnt = dist_counter[DELTA.distance()]\n",
    "        #     for i in range(2^n):\n",
    "        #         for j in range(i + 1, 2^n):\n",
    "        #             recalc_group_distance(DELTA, transposition(i, j), dist_counter)\n",
    "        #             dist = DELTA.distance()\n",
    "        #             if mn > dist:\n",
    "        #                 mn = dist\n",
    "        #                 cnt = dist_counter[dist]\n",
    "        #                 tr = (i, j)\n",
    "        #             elif mn == dist and dist_counter[dist] < cnt:\n",
    "        #                 cnt = dist_counter[dist]\n",
    "        #                 tr = (i, j)\n",
    "        #             recalc_group_distance(DELTA, transposition(i, j), dist_counter)\n",
    "        \n",
    "           \n",
    "        #     if (MN > mn) or (MN == mn and CNT < cnt):\n",
    "        #         MN = mn\n",
    "        #         CNT = cnt\n",
    "        #         TR = tr\n",
    "\n",
    "        #     recalc_group_distance(DELTA, item, dist_counter)\n",
    "        # tr = TR\n",
    "        # mn = MN\n",
    "        # cnt = CNT\n",
    "\n",
    "    else:\n",
    "        recalc_group_distance(DELTA, transposition(tr[0], tr[1]), dist_counter)\n",
    "    print(DELTA.distance(), tr)\n",
    "    pred = tr\n",
    "\n",
    "print(\"min =\", DELTA.distance())\n",
    "# print(DELTA)"
   ]
  },
  {
   "cell_type": "code",
   "execution_count": 85,
   "id": "e778d301-86e7-4e29-8b99-25234bb367f6",
   "metadata": {},
   "outputs": [
    {
     "name": "stdout",
     "output_type": "stream",
     "text": [
      "6\n",
      "6 (58, 59)\n",
      "6 (8, 9)\n",
      "6 (20, 21)\n",
      "6 (54, 55)\n",
      "6 (58, 59)\n",
      "произошёл брейк\n",
      "min = 6\n"
     ]
    }
   ],
   "source": [
    "# блуждание образующими\n",
    "import random\n",
    "\n",
    "print(DELTA.distance())\n",
    "\n",
    "dist_counter = {_:0 for _ in range(0, 2^n + 1, 2)}\n",
    "for item in DELTA.Dg_collection:\n",
    "    for i, I_t_g_item in enumerate(item.Ig_map.values()):\n",
    "        dist_counter[I_t_g_item.distance()] += 1\n",
    "\n",
    "pred = (-1, -1)\n",
    "\n",
    "for count in range(100):\n",
    "    if DELTA.distance() == 2:\n",
    "        print('already 2')\n",
    "        break\n",
    "    mn = 100\n",
    "    tr = (-1, -1)\n",
    "    cnt = dist_counter[DELTA.distance()]\n",
    "    for i in range(0, 2^n - 1, 2):\n",
    "        recalc_group_distance(DELTA, transposition(i, i + 1), dist_counter)\n",
    "        dist = DELTA.distance()\n",
    "        if mn > dist:\n",
    "            mn = dist\n",
    "            cnt = dist_counter[dist]\n",
    "            tr = (i, i + 1)\n",
    "        elif mn == dist and dist_counter[dist] < cnt:\n",
    "            cnt = dist_counter[dist]\n",
    "            tr = (i, i + 1)\n",
    "        recalc_group_distance(DELTA, transposition(i, i + 1), dist_counter)\n",
    "    if mn == 2 or tr == pred or mn > DELTA.distance():\n",
    "        print(\"произошёл брейк\")\n",
    "        break\n",
    "    if tr == pred:\n",
    "        neutral_transpositions = calculate_neutral_trs(DELTA, dist_counter)\n",
    "        print(f\"Magic step begins! {len(neutral_transpositions)}\")\n",
    "        recalc_group_distance(DELTA, list(neutral_transpositions)[randint(0, len(neutral_transpositions) - 1)], dist_counter)\n",
    "\n",
    "    else:\n",
    "        recalc_group_distance(DELTA, transposition(tr[0], tr[1]), dist_counter)\n",
    "    print(DELTA.distance(), tr)\n",
    "    pred = tr\n",
    "\n",
    "print(\"min =\", DELTA.distance())\n",
    "# print(DELTA)"
   ]
  },
  {
   "cell_type": "code",
   "execution_count": 86,
   "id": "8fee86c9-bae0-4781-887e-d84a13e981e7",
   "metadata": {},
   "outputs": [
    {
     "name": "stdout",
     "output_type": "stream",
     "text": [
      "6\n",
      "6 (0, 21)\n",
      "произошёл брейк\n",
      "min = 6\n"
     ]
    }
   ],
   "source": [
    "# блуждание возмущающими образующими\n",
    "import random\n",
    "\n",
    "print(DELTA.distance())\n",
    "\n",
    "dist_counter = {_:0 for _ in range(0, 2^n + 1, 2)}\n",
    "for item in DELTA.Dg_collection:\n",
    "    for i, I_t_g_item in enumerate(item.Ig_map.values()):\n",
    "        dist_counter[I_t_g_item.distance()] += 1\n",
    "\n",
    "pred = (-1, -1)\n",
    "\n",
    "\n",
    "\n",
    "for count in range(100):\n",
    "    if DELTA.distance() == 2:\n",
    "        print('already 2')\n",
    "        break\n",
    "    mn = 100\n",
    "    tr = (-1, -1)\n",
    "    cnt = dist_counter[DELTA.distance()]\n",
    "    i = 0\n",
    "    for j in range(1, 2^(n - 1)):\n",
    "        recalc_group_distance(DELTA, transposition(i, 2 * j - 1), dist_counter)\n",
    "        recalc_group_distance(DELTA, transposition(i, 2 * j), dist_counter)\n",
    "        dist = DELTA.distance()\n",
    "        if mn > dist:\n",
    "            mn = dist\n",
    "            cnt = dist_counter[dist]\n",
    "            tr = (i, j)\n",
    "        elif mn == dist and dist_counter[dist] < cnt:\n",
    "            cnt = dist_counter[dist]\n",
    "            tr = (i, j)\n",
    "        recalc_group_distance(DELTA, transposition(i, 2 * j), dist_counter)\n",
    "        recalc_group_distance(DELTA, transposition(i, 2 * j - 1), dist_counter)\n",
    "    if mn == 2 or tr == pred or mn > DELTA.distance():\n",
    "        print(\"произошёл брейк\")\n",
    "        break\n",
    "    if tr == pred:\n",
    "        neutral_transpositions = calculate_neutral_trs(DELTA, dist_counter)\n",
    "        print(f\"Magic step begins! {len(neutral_transpositions)}\")\n",
    "        recalc_group_distance(DELTA, list(neutral_transpositions)[randint(0, len(neutral_transpositions) - 1)], dist_counter)\n",
    "\n",
    "    else:\n",
    "        recalc_group_distance(DELTA, transposition(tr[0], tr[1]), dist_counter)\n",
    "    print(DELTA.distance(), tr)\n",
    "    pred = tr\n",
    "\n",
    "print(\"min =\", DELTA.distance())\n",
    "# print(DELTA)"
   ]
  },
  {
   "cell_type": "code",
   "execution_count": 198,
   "id": "f92d59ea-fdf1-4dc4-b7bb-226b9624ec18",
   "metadata": {},
   "outputs": [],
   "source": [
    "from sage.crypto.sboxes import SBox"
   ]
  },
  {
   "cell_type": "code",
   "execution_count": null,
   "id": "5e9e90a1-5144-484b-afac-818ca1861db9",
   "metadata": {},
   "outputs": [],
   "source": []
  },
  {
   "cell_type": "code",
   "execution_count": null,
   "id": "268699b5-47be-495b-9f18-7fcf6f48cbac",
   "metadata": {},
   "outputs": [],
   "source": []
  },
  {
   "cell_type": "code",
   "execution_count": 17,
   "id": "7f514df6-92dc-49bf-b2fd-f40d59220f33",
   "metadata": {},
   "outputs": [
    {
     "data": {
      "text/plain": [
       "6"
      ]
     },
     "execution_count": 17,
     "metadata": {},
     "output_type": "execute_result"
    }
   ],
   "source": [
    "differencial_uniformity_by_distance(T,G)"
   ]
  },
  {
   "cell_type": "code",
   "execution_count": 22,
   "id": "76307651-8c0c-4a75-be42-28bc024b4961",
   "metadata": {},
   "outputs": [],
   "source": [
    "nG = S.normalizer(G)"
   ]
  },
  {
   "cell_type": "code",
   "execution_count": 44,
   "id": "67ba062d-87a4-4429-9213-2b762c82e55a",
   "metadata": {},
   "outputs": [
    {
     "name": "stdout",
     "output_type": "stream",
     "text": [
      "2\n",
      "10\n",
      "12\n"
     ]
    }
   ],
   "source": [
    "new_f = inv*nG.random_element()\n",
    "new_f_sbox = SBox(new_f.domain())\n",
    "print(new_f_sbox.differential_uniformity())\n",
    "print(new_f_sbox.nonlinearity())\n",
    "print(new_f_sbox.linearity())"
   ]
  },
  {
   "cell_type": "code",
   "execution_count": 8,
   "id": "51ff98f0-3abe-41e5-8055-b04297443f5e",
   "metadata": {},
   "outputs": [],
   "source": [
    "test_sbox = build_good_sbox()"
   ]
  },
  {
   "cell_type": "code",
   "execution_count": 10,
   "id": "42f54e92-324f-4b0b-89db-d4413f30be0a",
   "metadata": {},
   "outputs": [
    {
     "data": {
      "text/plain": [
       "8"
      ]
     },
     "execution_count": 10,
     "metadata": {},
     "output_type": "execute_result"
    }
   ],
   "source": [
    "n"
   ]
  },
  {
   "cell_type": "code",
   "execution_count": 17,
   "id": "1c203b6b-51df-4878-baf3-b7d714883591",
   "metadata": {},
   "outputs": [],
   "source": [
    "test_sbox = S([F.from_integer(x) for x in [0, 10, 14, 232, 56, 214, 254, 250, 65, 57, 19, 206, 155, 6, 43, 218, 72, 40, 162, 153, 236, 248, 194, 132, 156, 117, 25, 212, 54, 224, 78, 28, 129, 20, 244, 31, 122, 71, 169, 15, 150, 33, 208, 146, 9, 53, 93, 61, 186, 217, 137, 107, 152, 133, 245, 190, 151, 81, 142, 192, 202, 106, 7, 228, 210, 207, 140, 134, 80, 47, 165, 199, 96, 51, 110, 60, 141, 115, 42, 70, 182, 222, 112, 12, 180, 46, 49, 127, 243, 216, 242, 24, 247, 23, 131, 191, 181, 77, 230, 87, 108, 120, 226, 215, 246, 196, 239, 35, 4, 220, 52, 234, 197, 179, 160, 145, 91, 83, 73, 27, 183, 89, 175, 98, 168, 136, 22, 255, 252, 50, 3, 251, 109, 128, 172, 102, 82, 59, 149, 44, 213, 157, 164, 16, 75, 204, 223, 184, 187, 143, 148, 17, 138, 85, 154, 11, 104, 79, 86, 111, 177, 105, 13, 171, 114, 130, 37, 58, 116, 238, 200, 66, 18, 88, 144, 237, 90, 36, 147, 100, 205, 178, 69, 68, 231, 235, 188, 119, 225, 173, 48, 125, 185, 94, 135, 30, 166, 249, 203, 221, 21, 2, 167, 241, 92, 170, 45, 233, 55, 34, 113, 1, 97, 253, 227, 126, 139, 29, 123, 76, 189, 8, 74, 5, 64, 38, 174, 62, 159, 67, 121, 240, 201, 176, 41, 195, 229, 158, 32, 161, 198, 63, 95, 219, 209, 26, 211, 101, 84, 163, 124, 193, 99, 39, 118, 103]])"
   ]
  },
  {
   "cell_type": "code",
   "execution_count": 18,
   "id": "810ee512-4669-4994-9fa2-763bea3c1024",
   "metadata": {},
   "outputs": [],
   "source": [
    "G = conjugate(S, T, test_sbox)\n",
    "test_delta = Delta(T, G, 2^n)"
   ]
  },
  {
   "cell_type": "code",
   "execution_count": 19,
   "id": "60ec1deb-b77e-4684-8380-a609f23e829e",
   "metadata": {},
   "outputs": [
    {
     "data": {
      "text/plain": [
       "90"
      ]
     },
     "execution_count": 19,
     "metadata": {},
     "output_type": "execute_result"
    }
   ],
   "source": [
    "from sage.crypto.sboxes import SBox\n",
    "SBox(test_sbox.domain()).nonlinearity()"
   ]
  },
  {
   "cell_type": "code",
   "execution_count": 20,
   "id": "e439a230-1a56-4564-b25e-95cc53f8f9cc",
   "metadata": {},
   "outputs": [
    {
     "name": "stdout",
     "output_type": "stream",
     "text": [
      "6\n"
     ]
    }
   ],
   "source": [
    "print(test_delta.distance())\n",
    "\n",
    "dist_counter = {_:0 for _ in range(0, 16, 2)}\n",
    "for item in test_delta.Dg_collection:\n",
    "    for i, I_t_g_item in enumerate(item.Ig_map.values()):\n",
    "        dist_counter[I_t_g_item.distance()] += 1"
   ]
  },
  {
   "cell_type": "code",
   "execution_count": 21,
   "id": "b7c13183-6fd0-4afd-9b39-6898f1ff9823",
   "metadata": {},
   "outputs": [
    {
     "data": {
      "text/plain": [
       "{0: 38794, 2: 20529, 4: 4995, 6: 707, 8: 0, 10: 0, 12: 0, 14: 0}"
      ]
     },
     "execution_count": 21,
     "metadata": {},
     "output_type": "execute_result"
    }
   ],
   "source": [
    "dist_counter"
   ]
  },
  {
   "cell_type": "code",
   "execution_count": null,
   "id": "f8f5052d-c3a8-431f-ac24-2035232561f9",
   "metadata": {},
   "outputs": [],
   "source": []
  },
  {
   "cell_type": "code",
   "execution_count": 16,
   "id": "e3ffd5ec-fb45-4fd0-8087-3fb98b3cd914",
   "metadata": {},
   "outputs": [
    {
     "name": "stdout",
     "output_type": "stream",
     "text": [
      "0 0\r"
     ]
    },
    {
     "ename": "KeyboardInterrupt",
     "evalue": "",
     "output_type": "error",
     "traceback": [
      "\u001b[0;31m---------------------------------------------------------------------------\u001b[0m",
      "\u001b[0;31mKeyboardInterrupt\u001b[0m                         Traceback (most recent call last)",
      "Cell \u001b[0;32mIn[16], line 5\u001b[0m\n\u001b[1;32m      3\u001b[0m \u001b[38;5;28mprint\u001b[39m(i, \u001b[38;5;28mlen\u001b[39m(result), end\u001b[38;5;241m=\u001b[39m\u001b[38;5;124m\"\u001b[39m\u001b[38;5;130;01m\\r\u001b[39;00m\u001b[38;5;124m\"\u001b[39m)\n\u001b[1;32m      4\u001b[0m \u001b[38;5;28;01mfor\u001b[39;00m j \u001b[38;5;129;01min\u001b[39;00m \u001b[38;5;28mrange\u001b[39m(i\u001b[38;5;241m+\u001b[39mInteger(\u001b[38;5;241m1\u001b[39m), Integer(\u001b[38;5;241m2\u001b[39m)\u001b[38;5;241m*\u001b[39m\u001b[38;5;241m*\u001b[39mn):\n\u001b[0;32m----> 5\u001b[0m     \u001b[43mrecalc_group_distance\u001b[49m\u001b[43m(\u001b[49m\u001b[43mtest_delta\u001b[49m\u001b[43m,\u001b[49m\u001b[43m \u001b[49m\u001b[43mtransposition\u001b[49m\u001b[43m(\u001b[49m\u001b[43mi\u001b[49m\u001b[43m,\u001b[49m\u001b[43mj\u001b[49m\u001b[43m)\u001b[49m\u001b[43m)\u001b[49m\n\u001b[1;32m      6\u001b[0m     dist \u001b[38;5;241m=\u001b[39m test_delta\u001b[38;5;241m.\u001b[39mdistance()\n\u001b[1;32m      7\u001b[0m     \u001b[38;5;28;01mif\u001b[39;00m dist \u001b[38;5;241m<\u001b[39m Integer(\u001b[38;5;241m6\u001b[39m):\n",
      "Cell \u001b[0;32mIn[4], line 103\u001b[0m, in \u001b[0;36mrecalc_group_distance\u001b[0;34m(Delta, sigma, dist_counter)\u001b[0m\n\u001b[1;32m    101\u001b[0m \u001b[38;5;28;01mfor\u001b[39;00m Dg \u001b[38;5;129;01min\u001b[39;00m Delta\u001b[38;5;241m.\u001b[39mDg_collection:\n\u001b[1;32m    102\u001b[0m     old_distance \u001b[38;5;241m=\u001b[39m Dg\u001b[38;5;241m.\u001b[39mmax_finder\u001b[38;5;241m.\u001b[39mmax()\n\u001b[0;32m--> 103\u001b[0m     \u001b[43mrecalculate_Dg\u001b[49m\u001b[43m(\u001b[49m\u001b[43mDg\u001b[49m\u001b[43m,\u001b[49m\u001b[43m \u001b[49m\u001b[43msigma\u001b[49m\u001b[43m)\u001b[49m\n\u001b[1;32m    104\u001b[0m     new_distance \u001b[38;5;241m=\u001b[39m Dg\u001b[38;5;241m.\u001b[39mmax_finder\u001b[38;5;241m.\u001b[39mmax()\n\u001b[1;32m    105\u001b[0m     Delta\u001b[38;5;241m.\u001b[39mmax_finder\u001b[38;5;241m.\u001b[39mrecalculate_max(old_distance, new_distance, Dg)\n",
      "Cell \u001b[0;32mIn[4], line 60\u001b[0m, in \u001b[0;36mrecalculate_Dg\u001b[0;34m(Dg, sigma, dist_counter)\u001b[0m\n\u001b[1;32m     58\u001b[0m \u001b[38;5;28;01mfor\u001b[39;00m item \u001b[38;5;129;01min\u001b[39;00m [ts, tr, new_ts, new_tr]:\n\u001b[1;32m     59\u001b[0m     old_d \u001b[38;5;241m=\u001b[39m Ig[item]\u001b[38;5;241m.\u001b[39mdistance()\n\u001b[0;32m---> 60\u001b[0m     \u001b[43mrecalculate_I_t_g\u001b[49m\u001b[43m(\u001b[49m\u001b[43mIg\u001b[49m\u001b[43m[\u001b[49m\u001b[43mitem\u001b[49m\u001b[43m]\u001b[49m\u001b[43m,\u001b[49m\u001b[43m \u001b[49m\u001b[43msigma_s\u001b[49m\u001b[43m,\u001b[49m\u001b[43m \u001b[49m\u001b[43msigma_r\u001b[49m\u001b[43m,\u001b[49m\u001b[43m \u001b[49m\u001b[43mnew_sigma_s\u001b[49m\u001b[43m,\u001b[49m\u001b[43m \u001b[49m\u001b[43mnew_sigma_r\u001b[49m\u001b[43m)\u001b[49m\n\u001b[1;32m     61\u001b[0m     new_d \u001b[38;5;241m=\u001b[39m Ig[item]\u001b[38;5;241m.\u001b[39mdistance()\n\u001b[1;32m     62\u001b[0m     Dg\u001b[38;5;241m.\u001b[39mmax_finder\u001b[38;5;241m.\u001b[39mrecalculate_max(old_d, new_d, Ig[item])\n",
      "Cell \u001b[0;32mIn[4], line 12\u001b[0m, in \u001b[0;36mrecalculate_I_t_g\u001b[0;34m(I, sigma_s, sigma_r, new_sigma_s, new_sigma_r, dist_counter)\u001b[0m\n\u001b[1;32m      9\u001b[0m \u001b[38;5;28;01mif\u001b[39;00m sigma_r \u001b[38;5;129;01min\u001b[39;00m I\u001b[38;5;241m.\u001b[39mt_g_intersection:\n\u001b[1;32m     10\u001b[0m     I\u001b[38;5;241m.\u001b[39mt_g_intersection\u001b[38;5;241m.\u001b[39mremove(sigma_r)\n\u001b[0;32m---> 12\u001b[0m \u001b[38;5;28;01mif\u001b[39;00m \u001b[43mI\u001b[49m\u001b[38;5;241;43m.\u001b[39;49m\u001b[43mt\u001b[49m\u001b[38;5;241;43m.\u001b[39;49m\u001b[43mcontains\u001b[49m\u001b[43m(\u001b[49m\u001b[43mnew_sigma_s\u001b[49m\u001b[43m)\u001b[49m:\n\u001b[1;32m     13\u001b[0m     I\u001b[38;5;241m.\u001b[39mt_g_intersection\u001b[38;5;241m.\u001b[39madd(new_sigma_s)\n\u001b[1;32m     14\u001b[0m \u001b[38;5;28;01mif\u001b[39;00m I\u001b[38;5;241m.\u001b[39mt\u001b[38;5;241m.\u001b[39mcontains(new_sigma_r):\n",
      "Cell \u001b[0;32mIn[3], line 107\u001b[0m, in \u001b[0;36mElement.contains\u001b[0;34m(self, sigma)\u001b[0m\n\u001b[1;32m    106\u001b[0m \u001b[38;5;28;01mdef\u001b[39;00m \u001b[38;5;21mcontains\u001b[39m(\u001b[38;5;28mself\u001b[39m, sigma):\n\u001b[0;32m--> 107\u001b[0m     \u001b[38;5;28;01mreturn\u001b[39;00m \u001b[43msigma\u001b[49m\u001b[43m \u001b[49m\u001b[38;5;129;43;01min\u001b[39;49;00m\u001b[43m \u001b[49m\u001b[38;5;28;43mself\u001b[39;49m\u001b[38;5;241;43m.\u001b[39;49m\u001b[43mg_set\u001b[49m\n",
      "File \u001b[0;32m~/miniforge3/envs/sage/lib/python3.10/site-packages/sage/rings/finite_rings/element_givaro.pyx:1667\u001b[0m, in \u001b[0;36msage.rings.finite_rings.element_givaro.FiniteField_givaroElement.__hash__ (build/cythonized/sage/rings/finite_rings/element_givaro.cpp:23025)\u001b[0;34m()\u001b[0m\n\u001b[1;32m   1665\u001b[0m         5\n\u001b[1;32m   1666\u001b[0m     \"\"\"\n\u001b[0;32m-> 1667\u001b[0m     return hash(self._integer_representation())\n\u001b[1;32m   1668\u001b[0m \n\u001b[1;32m   1669\u001b[0m def _vector_(FiniteField_givaroElement self, reverse=False):\n",
      "File \u001b[0;32m~/miniforge3/envs/sage/lib/python3.10/site-packages/sage/rings/finite_rings/element_givaro.pyx:1370\u001b[0m, in \u001b[0;36msage.rings.finite_rings.element_givaro.FiniteField_givaroElement._integer_representation (build/cythonized/sage/rings/finite_rings/element_givaro.cpp:19681)\u001b[0;34m()\u001b[0m\n\u001b[1;32m   1368\u001b[0m         <... 'int'>\n\u001b[1;32m   1369\u001b[0m     \"\"\"\n\u001b[0;32m-> 1370\u001b[0m     return self._cache.log_to_int(self.element)\n\u001b[1;32m   1371\u001b[0m \n\u001b[1;32m   1372\u001b[0m def _integer_(FiniteField_givaroElement self, ZZ=None):\n",
      "File \u001b[0;32m~/miniforge3/envs/sage/lib/python3.10/site-packages/sage/rings/finite_rings/element_givaro.pyx:518\u001b[0m, in \u001b[0;36msage.rings.finite_rings.element_givaro.Cache_givaro.log_to_int (build/cythonized/sage/rings/finite_rings/element_givaro.cpp:12240)\u001b[0;34m()\u001b[0m\n\u001b[1;32m    516\u001b[0m \n\u001b[1;32m    517\u001b[0m         cdef int r = 0\n\u001b[0;32m--> 518\u001b[0m         sig_on()\n\u001b[1;32m    519\u001b[0m         self.objectptr.convert(r, n)\n\u001b[1;32m    520\u001b[0m         sig_off()\n",
      "\u001b[0;31mKeyboardInterrupt\u001b[0m: "
     ]
    }
   ],
   "source": [
    "result = []\n",
    "for i in range(2^n-1):\n",
    "    print(i, len(result), end=\"\\r\")\n",
    "    for j in range(i+1, 2^n):\n",
    "        recalc_group_distance(test_delta, transposition(i,j))\n",
    "        dist = test_delta.distance()\n",
    "        if dist < 6:\n",
    "            print('!!',i,j)\n",
    "        elif dist == 6:\n",
    "            #print('!',i,j)\n",
    "            result.append((dist, (i,j)))\n",
    "        recalc_group_distance(test_delta, transposition(i,j))"
   ]
  },
  {
   "cell_type": "code",
   "execution_count": null,
   "id": "65f90ca2-7303-401b-81df-956c22c5ef26",
   "metadata": {},
   "outputs": [],
   "source": []
  },
  {
   "cell_type": "code",
   "execution_count": null,
   "id": "4e5122d1-a356-4a10-a1dd-b7876b542221",
   "metadata": {},
   "outputs": [],
   "source": []
  },
  {
   "cell_type": "code",
   "execution_count": 270,
   "id": "7f663e8c-4678-4933-af91-61477ea89b09",
   "metadata": {},
   "outputs": [
    {
     "data": {
      "text/plain": [
       "6"
      ]
     },
     "execution_count": 270,
     "metadata": {},
     "output_type": "execute_result"
    }
   ],
   "source": [
    "test_delta.distance()"
   ]
  },
  {
   "cell_type": "code",
   "execution_count": 288,
   "id": "ecf13d3a-6c45-4a60-8736-0833bf147b20",
   "metadata": {},
   "outputs": [
    {
     "data": {
      "text/plain": [
       "228"
      ]
     },
     "execution_count": 288,
     "metadata": {},
     "output_type": "execute_result"
    }
   ],
   "source": [
    "len(result)"
   ]
  },
  {
   "cell_type": "code",
   "execution_count": 289,
   "id": "dceffe95-1915-4272-8926-28be0642dce7",
   "metadata": {},
   "outputs": [
    {
     "data": {
      "text/plain": [
       "96"
      ]
     },
     "execution_count": 289,
     "metadata": {},
     "output_type": "execute_result"
    }
   ],
   "source": [
    "SBox(test_sbox.domain()).nonlinearity()"
   ]
  },
  {
   "cell_type": "code",
   "execution_count": null,
   "id": "a7392ac6-cc3b-4764-aeb0-81390cf5f129",
   "metadata": {},
   "outputs": [],
   "source": []
  },
  {
   "cell_type": "code",
   "execution_count": 291,
   "id": "05e1cb3e-80c5-493f-9edb-bc063abe0e49",
   "metadata": {},
   "outputs": [],
   "source": [
    "good_for_nonlinearity = []\n",
    "for item in result:\n",
    "    f_new = test_sbox*S(transposition(*item[1]))\n",
    "    new_sbox = SBox(f_new.domain())\n",
    "    if new_sbox.nonlinearity() > 96:\n",
    "        good_for_nonlinearity.append(item)\n",
    "        print(new_sbox.differential_uniformity(), new_sbox.nonlinearity())"
   ]
  },
  {
   "cell_type": "code",
   "execution_count": null,
   "id": "4ba24300-1424-431b-9d67-42616e1a4e68",
   "metadata": {},
   "outputs": [],
   "source": []
  },
  {
   "cell_type": "code",
   "execution_count": null,
   "id": "f9cfdf06-6594-42bb-90f0-71c75729efc6",
   "metadata": {},
   "outputs": [],
   "source": []
  },
  {
   "cell_type": "code",
   "execution_count": null,
   "id": "c6bd4d7b-19fd-47a4-ba82-2655d42fd627",
   "metadata": {},
   "outputs": [],
   "source": []
  },
  {
   "cell_type": "code",
   "execution_count": 278,
   "id": "7505a683-0d07-47b5-83eb-8c53844eb4e3",
   "metadata": {},
   "outputs": [
    {
     "data": {
      "text/plain": [
       "(6, (4, 43))"
      ]
     },
     "execution_count": 278,
     "metadata": {},
     "output_type": "execute_result"
    }
   ],
   "source": [
    "good_for_nonlinearity[5]"
   ]
  },
  {
   "cell_type": "code",
   "execution_count": 279,
   "id": "5b597686-b548-4a4b-b540-8aff151489da",
   "metadata": {},
   "outputs": [],
   "source": [
    "tr_new = transposition(4, 43)"
   ]
  },
  {
   "cell_type": "code",
   "execution_count": 280,
   "id": "3d80bd4d-1f0a-403c-b1f3-caf090ba42cb",
   "metadata": {},
   "outputs": [],
   "source": [
    "\n",
    "recalc_group_distance(test_delta, tr_new)"
   ]
  },
  {
   "cell_type": "code",
   "execution_count": 281,
   "id": "4e7bc603-4624-4a2d-b00b-3dc51118c690",
   "metadata": {},
   "outputs": [],
   "source": [
    "new_sbox = test_sbox.domain()"
   ]
  },
  {
   "cell_type": "code",
   "execution_count": 282,
   "id": "6a2cd2fd-bbb1-46b3-8cc0-ee9ef2494c72",
   "metadata": {},
   "outputs": [],
   "source": [
    "ind_first = new_sbox.index(tr_new[0])\n",
    "ind_second = new_sbox.index(tr_new[1])\n",
    "new_sbox[ind_first] = tr_new[1]\n",
    "new_sbox[ind_second] = tr_new[0]"
   ]
  },
  {
   "cell_type": "code",
   "execution_count": 283,
   "id": "4f2e14f9-2aa2-472f-9702-7e27383b10c0",
   "metadata": {},
   "outputs": [
    {
     "data": {
      "text/plain": [
       "96"
      ]
     },
     "execution_count": 283,
     "metadata": {},
     "output_type": "execute_result"
    }
   ],
   "source": [
    "SBox(new_sbox).nonlinearity()"
   ]
  },
  {
   "cell_type": "code",
   "execution_count": 284,
   "id": "0d80537f-3f1a-4cc6-9a35-cc669a507b14",
   "metadata": {},
   "outputs": [],
   "source": [
    "test_sbox = S(new_sbox)"
   ]
  },
  {
   "cell_type": "code",
   "execution_count": 285,
   "id": "15033273-7551-41f0-a8f0-865f4c40a931",
   "metadata": {},
   "outputs": [
    {
     "data": {
      "text/plain": [
       "6"
      ]
     },
     "execution_count": 285,
     "metadata": {},
     "output_type": "execute_result"
    }
   ],
   "source": [
    "test_delta.distance()"
   ]
  },
  {
   "cell_type": "code",
   "execution_count": 286,
   "id": "7f4ddd8a-f579-48a6-b066-91cee6fc403c",
   "metadata": {},
   "outputs": [
    {
     "data": {
      "text/plain": [
       "'[0, 10, 14, 232, 56, 214, 254, 250, 65, 57, 19, 206, 155, 6, 4, 218, 72, 40, 162, 153, 236, 248, 194, 132, 15, 117, 25, 212, 54, 224, 78, 28, 129, 20, 244, 31, 122, 71, 169, 156, 150, 33, 208, 146, 9, 53, 93, 61, 186, 217, 137, 107, 152, 133, 245, 190, 151, 81, 142, 192, 202, 106, 7, 228, 210, 207, 140, 134, 80, 47, 165, 199, 96, 51, 110, 60, 141, 115, 42, 70, 182, 222, 112, 172, 180, 46, 49, 127, 243, 216, 242, 24, 247, 23, 131, 191, 181, 77, 230, 87, 108, 120, 226, 215, 246, 196, 239, 35, 44, 220, 52, 234, 197, 179, 160, 145, 91, 83, 73, 27, 183, 89, 175, 98, 168, 136, 22, 255, 252, 50, 3, 251, 109, 128, 12, 102, 82, 59, 149, 43, 213, 157, 164, 16, 75, 204, 223, 184, 187, 143, 148, 8, 138, 85, 154, 11, 104, 79, 86, 111, 177, 105, 13, 171, 114, 130, 37, 58, 116, 238, 200, 66, 18, 88, 144, 237, 90, 36, 147, 100, 205, 178, 69, 68, 231, 235, 188, 119, 225, 173, 48, 125, 185, 94, 135, 30, 166, 249, 203, 221, 21, 2, 167, 241, 92, 170, 45, 233, 55, 34, 113, 1, 97, 253, 227, 126, 139, 29, 123, 76, 189, 17, 74, 5, 64, 38, 174, 62, 159, 67, 121, 240, 201, 176, 41, 195, 229, 158, 32, 161, 198, 63, 95, 219, 209, 26, 211, 101, 84, 163, 124, 193, 99, 39, 118, 103]'"
      ]
     },
     "execution_count": 286,
     "metadata": {},
     "output_type": "execute_result"
    }
   ],
   "source": [
    "str(test_sbox.domain())"
   ]
  },
  {
   "cell_type": "code",
   "execution_count": null,
   "id": "83fdbcc4-4217-45b1-8dd2-d8b2cdcf7cc2",
   "metadata": {},
   "outputs": [],
   "source": []
  },
  {
   "cell_type": "code",
   "execution_count": null,
   "id": "8a9b4868-d38d-4a85-bbb3-3170cd71525c",
   "metadata": {},
   "outputs": [],
   "source": []
  },
  {
   "cell_type": "code",
   "execution_count": null,
   "id": "a20c5571-cb62-4364-9dc7-b8441f0a75d9",
   "metadata": {},
   "outputs": [],
   "source": [
    "History: (8,17) -> (15, 156) -> (12,172) -> (4, 44) -> (4,43)"
   ]
  },
  {
   "cell_type": "code",
   "execution_count": null,
   "id": "b2e55938-a225-49ac-9c18-476b02d10118",
   "metadata": {},
   "outputs": [],
   "source": []
  },
  {
   "cell_type": "code",
   "execution_count": 194,
   "id": "72bc4e41-4e94-414f-88ef-32cde40dd7a4",
   "metadata": {},
   "outputs": [
    {
     "data": {
      "text/plain": [
       "6"
      ]
     },
     "execution_count": 194,
     "metadata": {},
     "output_type": "execute_result"
    }
   ],
   "source": [
    "test_delta.distance()"
   ]
  },
  {
   "cell_type": "code",
   "execution_count": 102,
   "id": "1e420cae-4d67-49d1-bc2d-8116b5cadd29",
   "metadata": {},
   "outputs": [],
   "source": [
    "g_set = []\n",
    "for item in test_delta.Dg_collection:\n",
    "    for ig_item in item.Ig_map.values():\n",
    "        res = S.identity()\n",
    "        for tr in ig_item.g.g_set:\n",
    "            res *= S(tr)\n",
    "        g_set.append(res)\n",
    "G = S.subgroup(g_set)"
   ]
  },
  {
   "cell_type": "code",
   "execution_count": 105,
   "id": "106e5f1c-6314-4061-951b-6cebc77070b2",
   "metadata": {},
   "outputs": [],
   "source": [
    "f = find_conjugated(S,T,G, TranslationsDict)"
   ]
  },
  {
   "cell_type": "code",
   "execution_count": 127,
   "id": "64cfa541-75bb-4137-b794-284263d687f9",
   "metadata": {},
   "outputs": [
    {
     "data": {
      "text/plain": [
       "18"
      ]
     },
     "execution_count": 127,
     "metadata": {},
     "output_type": "execute_result"
    }
   ],
   "source": [
    "SBox(f.domain()).nonlinearity()"
   ]
  },
  {
   "cell_type": "code",
   "execution_count": null,
   "id": "6ed930b5-38f8-465e-9915-0405836f380a",
   "metadata": {},
   "outputs": [],
   "source": []
  },
  {
   "cell_type": "code",
   "execution_count": null,
   "id": "ae09ae1e-debb-4617-9b30-707062c14753",
   "metadata": {},
   "outputs": [],
   "source": []
  },
  {
   "cell_type": "code",
   "execution_count": 121,
   "id": "69ce6696-fa37-4825-99fb-6859224513f5",
   "metadata": {},
   "outputs": [],
   "source": [
    "result = []\n",
    "for i in range(2^n-1):\n",
    "    for j in range(i+1, 2^n):\n",
    "        recalc_group_distance(test_delta, transposition(i,j))\n",
    "        if test_delta.distance() <= 6:\n",
    "            result.append((test_delta.distance(), transposition(i,j)))\n",
    "        recalc_group_distance(test_delta, transposition(i,j))"
   ]
  },
  {
   "cell_type": "code",
   "execution_count": 122,
   "id": "f7c9ed8d-6c77-4dae-bd36-182499a27e26",
   "metadata": {},
   "outputs": [
    {
     "data": {
      "text/plain": [
       "1209"
      ]
     },
     "execution_count": 122,
     "metadata": {},
     "output_type": "execute_result"
    }
   ],
   "source": [
    "len(result)"
   ]
  },
  {
   "cell_type": "code",
   "execution_count": 128,
   "id": "fa8e8649-d808-4e33-a37e-0843685bb0d1",
   "metadata": {},
   "outputs": [
    {
     "ename": "KeyboardInterrupt",
     "evalue": "",
     "output_type": "error",
     "traceback": [
      "\u001b[0;31m---------------------------------------------------------------------------\u001b[0m",
      "\u001b[0;31mKeyboardInterrupt\u001b[0m                         Traceback (most recent call last)",
      "Cell \u001b[0;32mIn[128], line 3\u001b[0m\n\u001b[1;32m      1\u001b[0m \u001b[38;5;28;01mfor\u001b[39;00m item \u001b[38;5;129;01min\u001b[39;00m result:\n\u001b[1;32m      2\u001b[0m     f_new \u001b[38;5;241m=\u001b[39m f\u001b[38;5;241m*\u001b[39mS(item[Integer(\u001b[38;5;241m1\u001b[39m)])\n\u001b[0;32m----> 3\u001b[0m     new_sbox \u001b[38;5;241m=\u001b[39m \u001b[43mSBox\u001b[49m\u001b[43m(\u001b[49m\u001b[43mf_new\u001b[49m\u001b[38;5;241;43m.\u001b[39;49m\u001b[43mdomain\u001b[49m\u001b[43m(\u001b[49m\u001b[43m)\u001b[49m\u001b[43m)\u001b[49m\n\u001b[1;32m      4\u001b[0m     \u001b[38;5;28;01mif\u001b[39;00m new_sbox\u001b[38;5;241m.\u001b[39mnonlinearity() \u001b[38;5;241m>\u001b[39m Integer(\u001b[38;5;241m20\u001b[39m):\n\u001b[1;32m      5\u001b[0m         \u001b[38;5;28mprint\u001b[39m(new_sbox\u001b[38;5;241m.\u001b[39mdifferential_uniformity(), new_sbox\u001b[38;5;241m.\u001b[39mnonlinearity())\n",
      "File \u001b[0;32m~/miniforge3/envs/sage/lib/python3.10/site-packages/sage/crypto/sbox.pyx:213\u001b[0m, in \u001b[0;36msage.crypto.sbox.SBox.__init__ (build/cythonized/sage/crypto/sbox.c:8810)\u001b[0;34m()\u001b[0m\n\u001b[1;32m    211\u001b[0m cdef Py_ssize_t i\n\u001b[1;32m    212\u001b[0m self._ring = PolynomialRing(\n\u001b[0;32m--> 213\u001b[0m     GF(2),\n\u001b[1;32m    214\u001b[0m     self.m + self.n,\n\u001b[1;32m    215\u001b[0m     [\"x%d\" % i for i in range(self.m)] + [\"y%d\" % i for i in range(self.n)])\n",
      "File \u001b[0;32m~/miniforge3/envs/sage/lib/python3.10/site-packages/sage/structure/factory.pyx:371\u001b[0m, in \u001b[0;36msage.structure.factory.UniqueFactory.__call__ (build/cythonized/sage/structure/factory.c:4178)\u001b[0;34m()\u001b[0m\n\u001b[1;32m    369\u001b[0m     False\n\u001b[1;32m    370\u001b[0m \"\"\"\n\u001b[0;32m--> 371\u001b[0m key, kwds = self.create_key_and_extra_args(*args, **kwds)\n\u001b[1;32m    372\u001b[0m version = self.get_version(sage_version)\n\u001b[1;32m    373\u001b[0m return self.get_object(version, key, kwds)\n",
      "File \u001b[0;32m~/miniforge3/envs/sage/lib/python3.10/site-packages/sage/rings/finite_rings/finite_field_constructor.py:598\u001b[0m, in \u001b[0;36mFiniteFieldFactory.create_key_and_extra_args\u001b[0;34m(self, order, name, modulus, names, impl, proof, check_prime, check_irreducible, prefix, repr, elem_cache, **kwds)\u001b[0m\n\u001b[1;32m    596\u001b[0m \u001b[38;5;28;01melse\u001b[39;00m:\n\u001b[1;32m    597\u001b[0m     order \u001b[38;5;241m=\u001b[39m Integer(order)\n\u001b[0;32m--> 598\u001b[0m     \u001b[38;5;28;01mif\u001b[39;00m order \u001b[38;5;241m<\u001b[39m \u001b[38;5;241m2\u001b[39m:\n\u001b[1;32m    599\u001b[0m         \u001b[38;5;28;01mraise\u001b[39;00m \u001b[38;5;167;01mValueError\u001b[39;00m(\u001b[38;5;124m\"\u001b[39m\u001b[38;5;124mthe order of a finite field must be at least 2\u001b[39m\u001b[38;5;124m\"\u001b[39m)\n\u001b[1;32m    600\u001b[0m     p, n \u001b[38;5;241m=\u001b[39m order\u001b[38;5;241m.\u001b[39mperfect_power()\n",
      "File \u001b[0;32msrc/cysignals/signals.pyx:310\u001b[0m, in \u001b[0;36mcysignals.signals.python_check_interrupt\u001b[0;34m()\u001b[0m\n",
      "\u001b[0;31mKeyboardInterrupt\u001b[0m: "
     ]
    }
   ],
   "source": [
    "for item in result:\n",
    "    f_new = f*S(item[1])\n",
    "    new_sbox = SBox(f_new.domain())\n",
    "    if new_sbox.nonlinearity() > 20:\n",
    "        print(new_sbox.differential_uniformity(), new_sbox.nonlinearity())"
   ]
  },
  {
   "cell_type": "code",
   "execution_count": null,
   "id": "8117a4c7-a8f1-438a-ad0e-95c5b08dc1c2",
   "metadata": {},
   "outputs": [],
   "source": []
  },
  {
   "cell_type": "code",
   "execution_count": null,
   "id": "2fe75392-a664-484c-8a23-1a692fd1132f",
   "metadata": {},
   "outputs": [],
   "source": []
  },
  {
   "cell_type": "code",
   "execution_count": null,
   "id": "1cf602aa-2926-4b0a-b5df-58ca3dd4ac59",
   "metadata": {},
   "outputs": [],
   "source": []
  },
  {
   "cell_type": "code",
   "execution_count": null,
   "id": "3f7585e9-2545-4ef1-b159-64b91c930f26",
   "metadata": {},
   "outputs": [],
   "source": []
  },
  {
   "cell_type": "code",
   "execution_count": 119,
   "id": "b55bbb18-0141-4d15-84e7-955193e93b3b",
   "metadata": {},
   "outputs": [
    {
     "data": {
      "text/plain": [
       "18"
      ]
     },
     "execution_count": 119,
     "metadata": {},
     "output_type": "execute_result"
    }
   ],
   "source": [
    "new_sbox.nonlinearity()"
   ]
  },
  {
   "cell_type": "code",
   "execution_count": null,
   "id": "12a3520f-c113-4960-9ff9-159ed7ae8868",
   "metadata": {},
   "outputs": [],
   "source": []
  },
  {
   "cell_type": "code",
   "execution_count": null,
   "id": "cf7e0978-d861-46e2-a81b-6828fead2679",
   "metadata": {},
   "outputs": [],
   "source": []
  },
  {
   "cell_type": "code",
   "execution_count": null,
   "id": "f25ef5d9-d705-4860-966c-682b959532a7",
   "metadata": {},
   "outputs": [],
   "source": []
  },
  {
   "cell_type": "code",
   "execution_count": null,
   "id": "20773701-27a5-4ca1-a514-72207512c706",
   "metadata": {},
   "outputs": [],
   "source": []
  },
  {
   "cell_type": "code",
   "execution_count": null,
   "id": "b1e54583-6ff7-4514-891b-351b34b3fff1",
   "metadata": {},
   "outputs": [],
   "source": []
  },
  {
   "cell_type": "code",
   "execution_count": null,
   "id": "db016f96-869e-4374-a93e-38bcd5d1e8cb",
   "metadata": {},
   "outputs": [],
   "source": []
  },
  {
   "cell_type": "code",
   "execution_count": 108,
   "id": "25d0c626-ee7f-4316-a140-e5c455290b69",
   "metadata": {},
   "outputs": [
    {
     "data": {
      "text/plain": [
       "Symmetric group of order 64! as a permutation group"
      ]
     },
     "execution_count": 108,
     "metadata": {},
     "output_type": "execute_result"
    }
   ],
   "source": [
    "S"
   ]
  },
  {
   "cell_type": "code",
   "execution_count": 109,
   "id": "6379507a-728e-4e13-afb4-8a69a4d9804e",
   "metadata": {},
   "outputs": [
    {
     "data": {
      "text/plain": [
       "(1,20,42,25,47,13,6,63,41,43,34,58,14,46,12,60,29,40,53,15,28,18,45,62,37)(2,21,27,9,36,8,35,48,50,33,11,39,32,56,59,57,3,16,51,7,31,49,4,26,24,54)(5,38)(17,19,44,23,61)(22,30)"
      ]
     },
     "execution_count": 109,
     "metadata": {},
     "output_type": "execute_result"
    }
   ],
   "source": [
    "f"
   ]
  },
  {
   "cell_type": "code",
   "execution_count": null,
   "id": "55d5b18f-600b-44d6-819f-56f5a1f29da5",
   "metadata": {},
   "outputs": [],
   "source": []
  },
  {
   "cell_type": "code",
   "execution_count": null,
   "id": "b04ba9d0-2d83-4645-9430-8d43880e02c9",
   "metadata": {},
   "outputs": [],
   "source": []
  },
  {
   "cell_type": "code",
   "execution_count": null,
   "id": "c52c3f43-02f6-4b90-b049-c2013dc8d509",
   "metadata": {},
   "outputs": [],
   "source": []
  },
  {
   "cell_type": "code",
   "execution_count": null,
   "id": "23623670-abe7-4d22-8ce5-befeec17a2d7",
   "metadata": {},
   "outputs": [],
   "source": []
  },
  {
   "cell_type": "code",
   "execution_count": 292,
   "id": "86053794-c47e-4b1f-af84-879b0da11816",
   "metadata": {},
   "outputs": [
    {
     "data": {
      "text/plain": [
       "6"
      ]
     },
     "execution_count": 292,
     "metadata": {},
     "output_type": "execute_result"
    }
   ],
   "source": [
    "test_delta.distance()"
   ]
  },
  {
   "cell_type": "code",
   "execution_count": 295,
   "id": "aad9d88a-cd6c-48aa-a891-53bb2bc9a157",
   "metadata": {},
   "outputs": [
    {
     "data": {
      "text/plain": [
       "6"
      ]
     },
     "execution_count": 295,
     "metadata": {},
     "output_type": "execute_result"
    }
   ],
   "source": [
    "test_delta.max_finder.max_pointer"
   ]
  },
  {
   "cell_type": "code",
   "execution_count": 12,
   "id": "6199c453-36f0-4c02-bc19-807ee4a1cdd0",
   "metadata": {},
   "outputs": [
    {
     "ename": "NameError",
     "evalue": "name 'Delta' is not defined",
     "output_type": "error",
     "traceback": [
      "\u001b[0;31m---------------------------------------------------------------------------\u001b[0m",
      "\u001b[0;31mNameError\u001b[0m                                 Traceback (most recent call last)",
      "Cell \u001b[0;32mIn[12], line 3\u001b[0m\n\u001b[1;32m      1\u001b[0m test_sbox \u001b[38;5;241m=\u001b[39m S([F\u001b[38;5;241m.\u001b[39mfrom_integer(x) \u001b[38;5;28;01mfor\u001b[39;00m x \u001b[38;5;129;01min\u001b[39;00m [Integer(\u001b[38;5;241m0\u001b[39m), Integer(\u001b[38;5;241m10\u001b[39m), Integer(\u001b[38;5;241m14\u001b[39m), Integer(\u001b[38;5;241m232\u001b[39m), Integer(\u001b[38;5;241m56\u001b[39m), Integer(\u001b[38;5;241m214\u001b[39m), Integer(\u001b[38;5;241m254\u001b[39m), Integer(\u001b[38;5;241m250\u001b[39m), Integer(\u001b[38;5;241m65\u001b[39m), Integer(\u001b[38;5;241m57\u001b[39m), Integer(\u001b[38;5;241m19\u001b[39m), Integer(\u001b[38;5;241m206\u001b[39m), Integer(\u001b[38;5;241m155\u001b[39m), Integer(\u001b[38;5;241m6\u001b[39m), Integer(\u001b[38;5;241m43\u001b[39m), Integer(\u001b[38;5;241m218\u001b[39m), Integer(\u001b[38;5;241m72\u001b[39m), Integer(\u001b[38;5;241m40\u001b[39m), Integer(\u001b[38;5;241m162\u001b[39m), Integer(\u001b[38;5;241m153\u001b[39m), Integer(\u001b[38;5;241m236\u001b[39m), Integer(\u001b[38;5;241m248\u001b[39m), Integer(\u001b[38;5;241m194\u001b[39m), Integer(\u001b[38;5;241m132\u001b[39m), Integer(\u001b[38;5;241m156\u001b[39m), Integer(\u001b[38;5;241m117\u001b[39m), Integer(\u001b[38;5;241m25\u001b[39m), Integer(\u001b[38;5;241m212\u001b[39m), Integer(\u001b[38;5;241m54\u001b[39m), Integer(\u001b[38;5;241m224\u001b[39m), Integer(\u001b[38;5;241m78\u001b[39m), Integer(\u001b[38;5;241m28\u001b[39m), Integer(\u001b[38;5;241m129\u001b[39m), Integer(\u001b[38;5;241m20\u001b[39m), Integer(\u001b[38;5;241m244\u001b[39m), Integer(\u001b[38;5;241m31\u001b[39m), Integer(\u001b[38;5;241m122\u001b[39m), Integer(\u001b[38;5;241m71\u001b[39m), Integer(\u001b[38;5;241m169\u001b[39m), Integer(\u001b[38;5;241m15\u001b[39m), Integer(\u001b[38;5;241m150\u001b[39m), Integer(\u001b[38;5;241m33\u001b[39m), Integer(\u001b[38;5;241m208\u001b[39m), Integer(\u001b[38;5;241m146\u001b[39m), Integer(\u001b[38;5;241m9\u001b[39m), Integer(\u001b[38;5;241m53\u001b[39m), Integer(\u001b[38;5;241m93\u001b[39m), Integer(\u001b[38;5;241m61\u001b[39m), Integer(\u001b[38;5;241m186\u001b[39m), Integer(\u001b[38;5;241m217\u001b[39m), Integer(\u001b[38;5;241m137\u001b[39m), Integer(\u001b[38;5;241m107\u001b[39m), Integer(\u001b[38;5;241m152\u001b[39m), Integer(\u001b[38;5;241m133\u001b[39m), Integer(\u001b[38;5;241m245\u001b[39m), Integer(\u001b[38;5;241m190\u001b[39m), Integer(\u001b[38;5;241m151\u001b[39m), Integer(\u001b[38;5;241m81\u001b[39m), Integer(\u001b[38;5;241m142\u001b[39m), Integer(\u001b[38;5;241m192\u001b[39m), Integer(\u001b[38;5;241m202\u001b[39m), Integer(\u001b[38;5;241m106\u001b[39m), Integer(\u001b[38;5;241m7\u001b[39m), Integer(\u001b[38;5;241m228\u001b[39m), Integer(\u001b[38;5;241m210\u001b[39m), Integer(\u001b[38;5;241m207\u001b[39m), Integer(\u001b[38;5;241m140\u001b[39m), Integer(\u001b[38;5;241m134\u001b[39m), Integer(\u001b[38;5;241m80\u001b[39m), Integer(\u001b[38;5;241m47\u001b[39m), Integer(\u001b[38;5;241m165\u001b[39m), Integer(\u001b[38;5;241m199\u001b[39m), Integer(\u001b[38;5;241m96\u001b[39m), Integer(\u001b[38;5;241m51\u001b[39m), Integer(\u001b[38;5;241m110\u001b[39m), Integer(\u001b[38;5;241m60\u001b[39m), Integer(\u001b[38;5;241m141\u001b[39m), Integer(\u001b[38;5;241m115\u001b[39m), Integer(\u001b[38;5;241m42\u001b[39m), Integer(\u001b[38;5;241m70\u001b[39m), Integer(\u001b[38;5;241m182\u001b[39m), Integer(\u001b[38;5;241m222\u001b[39m), Integer(\u001b[38;5;241m112\u001b[39m), Integer(\u001b[38;5;241m12\u001b[39m), Integer(\u001b[38;5;241m180\u001b[39m), Integer(\u001b[38;5;241m46\u001b[39m), Integer(\u001b[38;5;241m49\u001b[39m), Integer(\u001b[38;5;241m127\u001b[39m), Integer(\u001b[38;5;241m243\u001b[39m), Integer(\u001b[38;5;241m216\u001b[39m), Integer(\u001b[38;5;241m242\u001b[39m), Integer(\u001b[38;5;241m24\u001b[39m), Integer(\u001b[38;5;241m247\u001b[39m), Integer(\u001b[38;5;241m23\u001b[39m), Integer(\u001b[38;5;241m131\u001b[39m), Integer(\u001b[38;5;241m191\u001b[39m), Integer(\u001b[38;5;241m181\u001b[39m), Integer(\u001b[38;5;241m77\u001b[39m), Integer(\u001b[38;5;241m230\u001b[39m), Integer(\u001b[38;5;241m87\u001b[39m), Integer(\u001b[38;5;241m108\u001b[39m), Integer(\u001b[38;5;241m120\u001b[39m), Integer(\u001b[38;5;241m226\u001b[39m), Integer(\u001b[38;5;241m215\u001b[39m), Integer(\u001b[38;5;241m246\u001b[39m), Integer(\u001b[38;5;241m196\u001b[39m), Integer(\u001b[38;5;241m239\u001b[39m), Integer(\u001b[38;5;241m35\u001b[39m), Integer(\u001b[38;5;241m4\u001b[39m), Integer(\u001b[38;5;241m220\u001b[39m), Integer(\u001b[38;5;241m52\u001b[39m), Integer(\u001b[38;5;241m234\u001b[39m), Integer(\u001b[38;5;241m197\u001b[39m), Integer(\u001b[38;5;241m179\u001b[39m), Integer(\u001b[38;5;241m160\u001b[39m), Integer(\u001b[38;5;241m145\u001b[39m), Integer(\u001b[38;5;241m91\u001b[39m), Integer(\u001b[38;5;241m83\u001b[39m), Integer(\u001b[38;5;241m73\u001b[39m), Integer(\u001b[38;5;241m27\u001b[39m), Integer(\u001b[38;5;241m183\u001b[39m), Integer(\u001b[38;5;241m89\u001b[39m), Integer(\u001b[38;5;241m175\u001b[39m), Integer(\u001b[38;5;241m98\u001b[39m), Integer(\u001b[38;5;241m168\u001b[39m), Integer(\u001b[38;5;241m136\u001b[39m), Integer(\u001b[38;5;241m22\u001b[39m), Integer(\u001b[38;5;241m255\u001b[39m), Integer(\u001b[38;5;241m252\u001b[39m), Integer(\u001b[38;5;241m50\u001b[39m), Integer(\u001b[38;5;241m3\u001b[39m), Integer(\u001b[38;5;241m251\u001b[39m), Integer(\u001b[38;5;241m109\u001b[39m), Integer(\u001b[38;5;241m128\u001b[39m), Integer(\u001b[38;5;241m172\u001b[39m), Integer(\u001b[38;5;241m102\u001b[39m), Integer(\u001b[38;5;241m82\u001b[39m), Integer(\u001b[38;5;241m59\u001b[39m), Integer(\u001b[38;5;241m149\u001b[39m), Integer(\u001b[38;5;241m44\u001b[39m), Integer(\u001b[38;5;241m213\u001b[39m), Integer(\u001b[38;5;241m157\u001b[39m), Integer(\u001b[38;5;241m164\u001b[39m), Integer(\u001b[38;5;241m16\u001b[39m), Integer(\u001b[38;5;241m75\u001b[39m), Integer(\u001b[38;5;241m204\u001b[39m), Integer(\u001b[38;5;241m223\u001b[39m), Integer(\u001b[38;5;241m184\u001b[39m), Integer(\u001b[38;5;241m187\u001b[39m), Integer(\u001b[38;5;241m143\u001b[39m), Integer(\u001b[38;5;241m148\u001b[39m), Integer(\u001b[38;5;241m17\u001b[39m), Integer(\u001b[38;5;241m138\u001b[39m), Integer(\u001b[38;5;241m85\u001b[39m), Integer(\u001b[38;5;241m154\u001b[39m), Integer(\u001b[38;5;241m11\u001b[39m), Integer(\u001b[38;5;241m104\u001b[39m), Integer(\u001b[38;5;241m79\u001b[39m), Integer(\u001b[38;5;241m86\u001b[39m), Integer(\u001b[38;5;241m111\u001b[39m), Integer(\u001b[38;5;241m177\u001b[39m), Integer(\u001b[38;5;241m105\u001b[39m), Integer(\u001b[38;5;241m13\u001b[39m), Integer(\u001b[38;5;241m171\u001b[39m), Integer(\u001b[38;5;241m114\u001b[39m), Integer(\u001b[38;5;241m130\u001b[39m), Integer(\u001b[38;5;241m37\u001b[39m), Integer(\u001b[38;5;241m58\u001b[39m), Integer(\u001b[38;5;241m116\u001b[39m), Integer(\u001b[38;5;241m238\u001b[39m), Integer(\u001b[38;5;241m200\u001b[39m), Integer(\u001b[38;5;241m66\u001b[39m), Integer(\u001b[38;5;241m18\u001b[39m), Integer(\u001b[38;5;241m88\u001b[39m), Integer(\u001b[38;5;241m144\u001b[39m), Integer(\u001b[38;5;241m237\u001b[39m), Integer(\u001b[38;5;241m90\u001b[39m), Integer(\u001b[38;5;241m36\u001b[39m), Integer(\u001b[38;5;241m147\u001b[39m), Integer(\u001b[38;5;241m100\u001b[39m), Integer(\u001b[38;5;241m205\u001b[39m), Integer(\u001b[38;5;241m178\u001b[39m), Integer(\u001b[38;5;241m69\u001b[39m), Integer(\u001b[38;5;241m68\u001b[39m), Integer(\u001b[38;5;241m231\u001b[39m), Integer(\u001b[38;5;241m235\u001b[39m), Integer(\u001b[38;5;241m188\u001b[39m), Integer(\u001b[38;5;241m119\u001b[39m), Integer(\u001b[38;5;241m225\u001b[39m), Integer(\u001b[38;5;241m173\u001b[39m), Integer(\u001b[38;5;241m48\u001b[39m), Integer(\u001b[38;5;241m125\u001b[39m), Integer(\u001b[38;5;241m185\u001b[39m), Integer(\u001b[38;5;241m94\u001b[39m), Integer(\u001b[38;5;241m135\u001b[39m), Integer(\u001b[38;5;241m30\u001b[39m), Integer(\u001b[38;5;241m166\u001b[39m), Integer(\u001b[38;5;241m249\u001b[39m), Integer(\u001b[38;5;241m203\u001b[39m), Integer(\u001b[38;5;241m221\u001b[39m), Integer(\u001b[38;5;241m21\u001b[39m), Integer(\u001b[38;5;241m2\u001b[39m), Integer(\u001b[38;5;241m167\u001b[39m), Integer(\u001b[38;5;241m241\u001b[39m), Integer(\u001b[38;5;241m92\u001b[39m), Integer(\u001b[38;5;241m170\u001b[39m), Integer(\u001b[38;5;241m45\u001b[39m), Integer(\u001b[38;5;241m233\u001b[39m), Integer(\u001b[38;5;241m55\u001b[39m), Integer(\u001b[38;5;241m34\u001b[39m), Integer(\u001b[38;5;241m113\u001b[39m), Integer(\u001b[38;5;241m1\u001b[39m), Integer(\u001b[38;5;241m97\u001b[39m), Integer(\u001b[38;5;241m253\u001b[39m), Integer(\u001b[38;5;241m227\u001b[39m), Integer(\u001b[38;5;241m126\u001b[39m), Integer(\u001b[38;5;241m139\u001b[39m), Integer(\u001b[38;5;241m29\u001b[39m), Integer(\u001b[38;5;241m123\u001b[39m), Integer(\u001b[38;5;241m76\u001b[39m), Integer(\u001b[38;5;241m189\u001b[39m), Integer(\u001b[38;5;241m8\u001b[39m), Integer(\u001b[38;5;241m74\u001b[39m), Integer(\u001b[38;5;241m5\u001b[39m), Integer(\u001b[38;5;241m64\u001b[39m), Integer(\u001b[38;5;241m38\u001b[39m), Integer(\u001b[38;5;241m174\u001b[39m), Integer(\u001b[38;5;241m62\u001b[39m), Integer(\u001b[38;5;241m159\u001b[39m), Integer(\u001b[38;5;241m67\u001b[39m), Integer(\u001b[38;5;241m121\u001b[39m), Integer(\u001b[38;5;241m240\u001b[39m), Integer(\u001b[38;5;241m201\u001b[39m), Integer(\u001b[38;5;241m176\u001b[39m), Integer(\u001b[38;5;241m41\u001b[39m), Integer(\u001b[38;5;241m195\u001b[39m), Integer(\u001b[38;5;241m229\u001b[39m), Integer(\u001b[38;5;241m158\u001b[39m), Integer(\u001b[38;5;241m32\u001b[39m), Integer(\u001b[38;5;241m161\u001b[39m), Integer(\u001b[38;5;241m198\u001b[39m), Integer(\u001b[38;5;241m63\u001b[39m), Integer(\u001b[38;5;241m95\u001b[39m), Integer(\u001b[38;5;241m219\u001b[39m), Integer(\u001b[38;5;241m209\u001b[39m), Integer(\u001b[38;5;241m26\u001b[39m), Integer(\u001b[38;5;241m211\u001b[39m), Integer(\u001b[38;5;241m101\u001b[39m), Integer(\u001b[38;5;241m84\u001b[39m), Integer(\u001b[38;5;241m163\u001b[39m), Integer(\u001b[38;5;241m124\u001b[39m), Integer(\u001b[38;5;241m193\u001b[39m), Integer(\u001b[38;5;241m99\u001b[39m), Integer(\u001b[38;5;241m39\u001b[39m), Integer(\u001b[38;5;241m118\u001b[39m), Integer(\u001b[38;5;241m103\u001b[39m)]])\n\u001b[1;32m      2\u001b[0m G \u001b[38;5;241m=\u001b[39m conjugate(S, T, test_sbox)\n\u001b[0;32m----> 3\u001b[0m test_delta \u001b[38;5;241m=\u001b[39m \u001b[43mDelta\u001b[49m(T, G, Integer(\u001b[38;5;241m2\u001b[39m)\u001b[38;5;241m*\u001b[39m\u001b[38;5;241m*\u001b[39mn)\n",
      "\u001b[0;31mNameError\u001b[0m: name 'Delta' is not defined"
     ]
    }
   ],
   "source": [
    "test_sbox = S([F.from_integer(x) for x in [0, 10, 14, 232, 56, 214, 254, 250, 65, 57, 19, 206, 155, 6, 43, 218, 72, 40, 162, 153, 236, 248, 194, 132, 156, 117, 25, 212, 54, 224, 78, 28, 129, 20, 244, 31, 122, 71, 169, 15, 150, 33, 208, 146, 9, 53, 93, 61, 186, 217, 137, 107, 152, 133, 245, 190, 151, 81, 142, 192, 202, 106, 7, 228, 210, 207, 140, 134, 80, 47, 165, 199, 96, 51, 110, 60, 141, 115, 42, 70, 182, 222, 112, 12, 180, 46, 49, 127, 243, 216, 242, 24, 247, 23, 131, 191, 181, 77, 230, 87, 108, 120, 226, 215, 246, 196, 239, 35, 4, 220, 52, 234, 197, 179, 160, 145, 91, 83, 73, 27, 183, 89, 175, 98, 168, 136, 22, 255, 252, 50, 3, 251, 109, 128, 172, 102, 82, 59, 149, 44, 213, 157, 164, 16, 75, 204, 223, 184, 187, 143, 148, 17, 138, 85, 154, 11, 104, 79, 86, 111, 177, 105, 13, 171, 114, 130, 37, 58, 116, 238, 200, 66, 18, 88, 144, 237, 90, 36, 147, 100, 205, 178, 69, 68, 231, 235, 188, 119, 225, 173, 48, 125, 185, 94, 135, 30, 166, 249, 203, 221, 21, 2, 167, 241, 92, 170, 45, 233, 55, 34, 113, 1, 97, 253, 227, 126, 139, 29, 123, 76, 189, 8, 74, 5, 64, 38, 174, 62, 159, 67, 121, 240, 201, 176, 41, 195, 229, 158, 32, 161, 198, 63, 95, 219, 209, 26, 211, 101, 84, 163, 124, 193, 99, 39, 118, 103]])\n",
    "G = conjugate(S, T, test_sbox)\n",
    "test_delta = Delta(T, G, 2^n)"
   ]
  },
  {
   "cell_type": "code",
   "execution_count": 329,
   "id": "04407621-e50a-4a15-8ed5-5eb965a2f9cb",
   "metadata": {},
   "outputs": [],
   "source": [
    "curr_value = len(test_delta.max_finder.distance_map[6])"
   ]
  },
  {
   "cell_type": "code",
   "execution_count": 330,
   "id": "302fe0f7-5a64-45a0-9389-92f48b05d2e7",
   "metadata": {},
   "outputs": [
    {
     "data": {
      "text/plain": [
       "243"
      ]
     },
     "execution_count": 330,
     "metadata": {},
     "output_type": "execute_result"
    }
   ],
   "source": [
    "curr_value"
   ]
  },
  {
   "cell_type": "code",
   "execution_count": null,
   "id": "d2ebdc0b-9155-4ae8-b109-eebef0b33049",
   "metadata": {},
   "outputs": [],
   "source": []
  },
  {
   "cell_type": "code",
   "execution_count": 336,
   "id": "a701d813-7459-4ea0-8420-d3902f8f8c90",
   "metadata": {},
   "outputs": [
    {
     "name": "stdout",
     "output_type": "stream",
     "text": [
      "254 237\r"
     ]
    }
   ],
   "source": [
    "#result = []\n",
    "flag = False\n",
    "for i in range(2^n-1):\n",
    "    print(i,curr_value, end=\"\\r\")\n",
    "    if flag:\n",
    "        break\n",
    "    for j in range(i+1, 2^n):\n",
    "        recalc_group_distance(test_delta, transposition(i,j))\n",
    "        dist = test_delta.distance()\n",
    "        if dist < 6:\n",
    "            print('!!',i,j)\n",
    "        elif dist == 6:\n",
    "            if len(test_delta.max_finder.distance_map[6]) < curr_value:\n",
    "                print(\"!\")\n",
    "                curr_value = len(test_delta.max_finder.distance_map[6])\n",
    "                recalc_group_distance(test_delta, transposition(i,j))\n",
    "                flag = True\n",
    "                break\n",
    "            #print('!',i,j)\n",
    "            #result.append((dist, (i,j)))\n",
    "        recalc_group_distance(test_delta, transposition(i,j))"
   ]
  },
  {
   "cell_type": "code",
   "execution_count": 7,
   "id": "6ca7d046-7ca5-491c-9bf6-cae94e69b58a",
   "metadata": {},
   "outputs": [],
   "source": [
    "Ng = S.normalizer(G)"
   ]
  },
  {
   "cell_type": "code",
   "execution_count": 8,
   "id": "55e780c4-4005-461e-9c72-ef47786170af",
   "metadata": {},
   "outputs": [
    {
     "ename": "NameError",
     "evalue": "name 'SBox' is not defined",
     "output_type": "error",
     "traceback": [
      "\u001b[0;31m---------------------------------------------------------------------------\u001b[0m",
      "\u001b[0;31mNameError\u001b[0m                                 Traceback (most recent call last)",
      "Cell \u001b[0;32mIn[8], line 2\u001b[0m\n\u001b[1;32m      1\u001b[0m \u001b[38;5;28;01mfor\u001b[39;00m item \u001b[38;5;129;01min\u001b[39;00m Ng\u001b[38;5;241m.\u001b[39mgens():\n\u001b[0;32m----> 2\u001b[0m     \u001b[38;5;28mprint\u001b[39m(\u001b[43mSBox\u001b[49m((test_sbox\u001b[38;5;241m*\u001b[39mitem)\u001b[38;5;241m.\u001b[39mdomain())\u001b[38;5;241m.\u001b[39mdifferential_uniformity())\n",
      "\u001b[0;31mNameError\u001b[0m: name 'SBox' is not defined"
     ]
    }
   ],
   "source": [
    "for item in Ng.gens():\n",
    "    print(SBox((test_sbox*item).domain()).differential_uniformity())"
   ]
  },
  {
   "cell_type": "code",
   "execution_count": null,
   "id": "e5cdaaae-4628-4598-8014-f0ba877975cf",
   "metadata": {},
   "outputs": [],
   "source": []
  },
  {
   "cell_type": "code",
   "execution_count": null,
   "id": "154d910d-67dc-4eb1-a7c3-1724b0d2f723",
   "metadata": {},
   "outputs": [],
   "source": []
  },
  {
   "cell_type": "code",
   "execution_count": null,
   "id": "5513e9cb-4947-41f6-a3c6-2c393910fd86",
   "metadata": {},
   "outputs": [],
   "source": []
  },
  {
   "cell_type": "code",
   "execution_count": null,
   "id": "33429b5e-89a5-49ec-a43f-e58445b26f9f",
   "metadata": {},
   "outputs": [],
   "source": []
  },
  {
   "cell_type": "code",
   "execution_count": null,
   "id": "14a976e4-a5aa-4cf1-a5f2-cbf4ad82ba67",
   "metadata": {},
   "outputs": [],
   "source": []
  },
  {
   "cell_type": "code",
   "execution_count": null,
   "id": "a48ef4c3-b278-4f60-aae8-462e9bb6764c",
   "metadata": {},
   "outputs": [],
   "source": []
  },
  {
   "cell_type": "code",
   "execution_count": null,
   "id": "f329f4fd-a8ed-490c-b06c-80b58a30bcd8",
   "metadata": {},
   "outputs": [],
   "source": []
  },
  {
   "cell_type": "code",
   "execution_count": null,
   "id": "672b7cc5-8bc5-4065-a7c5-0d9dff667e22",
   "metadata": {},
   "outputs": [],
   "source": []
  },
  {
   "cell_type": "code",
   "execution_count": null,
   "id": "229fe141-6d30-484d-999d-14f632e981b9",
   "metadata": {},
   "outputs": [],
   "source": []
  },
  {
   "cell_type": "code",
   "execution_count": null,
   "id": "6e0cc5fe-0fbc-4833-a0a3-297f15163f15",
   "metadata": {},
   "outputs": [],
   "source": []
  },
  {
   "cell_type": "code",
   "execution_count": null,
   "id": "c1be21a1-e396-4804-9146-2a67b4cef0ef",
   "metadata": {},
   "outputs": [],
   "source": []
  },
  {
   "cell_type": "code",
   "execution_count": null,
   "id": "4d43655f-35cd-4a3e-89cd-017b2cf47ec4",
   "metadata": {},
   "outputs": [],
   "source": []
  },
  {
   "cell_type": "code",
   "execution_count": null,
   "id": "64c6e496-8bed-4371-8074-944568d32ac8",
   "metadata": {},
   "outputs": [],
   "source": []
  },
  {
   "cell_type": "code",
   "execution_count": null,
   "id": "fe086d8d-78dc-4b45-a48e-a93477bc5a0e",
   "metadata": {},
   "outputs": [],
   "source": []
  },
  {
   "cell_type": "code",
   "execution_count": null,
   "id": "6e62c7d5-7cba-473a-ac14-2875933567d8",
   "metadata": {},
   "outputs": [],
   "source": []
  },
  {
   "cell_type": "code",
   "execution_count": 327,
   "id": "e4c35cfa-6270-4786-9f13-e75eb29bc45a",
   "metadata": {},
   "outputs": [
    {
     "data": {
      "text/plain": [
       "6"
      ]
     },
     "execution_count": 327,
     "metadata": {},
     "output_type": "execute_result"
    }
   ],
   "source": [
    "test_delta.distance()"
   ]
  },
  {
   "cell_type": "code",
   "execution_count": null,
   "id": "bf406f1b-5234-4c91-a015-a06f67f85782",
   "metadata": {},
   "outputs": [],
   "source": []
  },
  {
   "cell_type": "code",
   "execution_count": null,
   "id": "496a028b-9352-469a-8244-9d1b281ab062",
   "metadata": {},
   "outputs": [],
   "source": []
  },
  {
   "cell_type": "code",
   "execution_count": null,
   "id": "060cf012-94b3-4356-b96b-a26f33714fc0",
   "metadata": {},
   "outputs": [],
   "source": []
  },
  {
   "cell_type": "code",
   "execution_count": null,
   "id": "62a4c544-4581-4195-9040-2333a79bbb00",
   "metadata": {},
   "outputs": [],
   "source": []
  },
  {
   "cell_type": "code",
   "execution_count": 9,
   "id": "2590c606-3759-4d32-8d1c-7bb8cc65fb9b",
   "metadata": {},
   "outputs": [
    {
     "data": {
      "text/plain": [
       "(2,142)(3,244)(4,71)(5,167)(6,122)(7,186)(8,173)(9,157)(10,221)(11,152)(12,61)(13,170)(14,93)(15,150)(16,216)(17,114)(18,192)(19,88)(20,224)(21,62)(22,76)(23,102)(24,144)(25,222)(26,85)(27,128)(28,160)(29,131)(30,75)(31,42)(32,108)(33,237)(34,57)(35,81)(36,96)(37,86)(38,44)(39,138)(40,112)(41,208)(43,74)(45,139)(46,51)(47,110)(48,72)(49,137)(50,111)(52,164)(53,195)(54,64)(55,94)(56,80)(58,207)(59,169)(60,171)(63,225)(65,95)(66,248)(67,213)(68,146)(69,78)(70,166)(73,136)(77,103)(79,147)(82,104)(83,140)(84,129)(87,97)(89,193)(90,203)(91,99)(92,151)(98,202)(100,185)(101,196)(105,141)(106,239)(107,179)(109,236)(113,209)(115,217)(116,233)(117,251)(118,218)(119,121)(120,219)(123,187)(124,132)(125,205)(126,254)(127,252)(130,161)(133,204)(134,228)(135,176)(143,245)(145,223)(148,155)(149,188)(153,220)(154,189)(156,172)(158,199)(159,162)(163,198)(165,194)(168,206)(174,190)(175,183)(177,229)(178,238)(180,235)(181,242)(182,191)(184,197)(200,210)(201,247)(211,246)(212,249)(214,215)(226,230)(227,240)(231,241)(232,250)(234,243)(253,255)"
      ]
     },
     "execution_count": 9,
     "metadata": {},
     "output_type": "execute_result"
    }
   ],
   "source": [
    "inv"
   ]
  },
  {
   "cell_type": "code",
   "execution_count": 20,
   "id": "68f93ca7-72a4-4808-8f49-c523d69f9901",
   "metadata": {},
   "outputs": [],
   "source": [
    "Ng = S.normalizer(G)"
   ]
  },
  {
   "cell_type": "code",
   "execution_count": 25,
   "id": "d83acc8c-5d3d-431a-b1fe-0a379559f374",
   "metadata": {},
   "outputs": [],
   "source": [
    "sbox = SBox(build_good_sbox().domain())"
   ]
  },
  {
   "cell_type": "code",
   "execution_count": 23,
   "id": "2d030724-8fd3-4e8e-a3a7-541d9374c0b8",
   "metadata": {},
   "outputs": [],
   "source": [
    "sbox = SBox((inv*Ng.random_element()).domain())"
   ]
  },
  {
   "cell_type": "code",
   "execution_count": 1,
   "id": "240c41da-1929-4b21-8307-4df3c0f788a5",
   "metadata": {},
   "outputs": [],
   "source": [
    "n=8"
   ]
  },
  {
   "cell_type": "code",
   "execution_count": 2,
   "id": "b43a8f4c-12d0-40e8-bbaf-d734e31769d8",
   "metadata": {},
   "outputs": [],
   "source": [
    "from sage.crypto.sboxes import SBox"
   ]
  },
  {
   "cell_type": "code",
   "execution_count": 27,
   "id": "28fa844e-1449-4467-b051-5e71c5fee525",
   "metadata": {},
   "outputs": [],
   "source": [
    "sbox = SBox([0, 16, 28, 208, 84, 90, 55, 35, 94, 156, 254, 146, 129, 24, 22, 74, 112, 73, 86, 157, 205, 103, 131, 226, 120, 45, 18, 150, 136, 122, 242, 236, 164, 60, 26, 182, 143, 89, 71, 190, 162, 171, 98, 21, 102, 147, 167, 138, 110, 183, 30, 58, 155, 117, 151, 161, 197, 6, 204, 49, 20, 240, 152, 113, 179, 188, 92, 199, 252, 200, 2, 224, 4, 173, 154, 243, 174, 177, 185, 109, 123, 29, 191, 76, 195, 43, 133, 128, 149, 53, 78, 130, 153, 247, 104, 187, 108, 218, 249, 135, 8, 34, 216, 210, 65, 148, 248, 223, 165, 227, 31, 40, 75, 228, 116, 255, 220, 198, 144, 14, 80, 219, 246, 213, 50, 46, 118, 145, 201, 158, 61, 180, 172, 64, 5, 9, 237, 105, 209, 42, 70, 232, 137, 51, 114, 206, 141, 62, 106, 7, 87, 215, 202, 217, 222, 100, 229, 48, 66, 238, 115, 139, 82, 52, 12, 125, 181, 97, 235, 67, 230, 211, 17, 27, 124, 83, 101, 207, 19, 95, 25, 168, 107, 68, 203, 127, 10, 140, 13, 251, 132, 192, 32, 250, 93, 99, 175, 184, 253, 91, 159, 196, 189, 119, 126, 81, 56, 214, 134, 44, 57, 163, 11, 194, 37, 63, 176, 244, 212, 59, 111, 193, 3, 41, 166, 169, 142, 39, 23, 186, 38, 241, 69, 221, 33, 121, 77, 54, 96, 160, 234, 47, 36, 15, 79, 88, 72, 239, 170, 233, 231, 178, 85, 225, 245, 1])"
   ]
  },
  {
   "cell_type": "code",
   "execution_count": 29,
   "id": "dfa3c86a-4def-4862-8944-98c92930dcb7",
   "metadata": {},
   "outputs": [
    {
     "name": "stdout",
     "output_type": "stream",
     "text": [
      "6\n"
     ]
    }
   ],
   "source": [
    "min_char= 100000000\n",
    "for i in range(1, 2^n):\n",
    "    char = sbox.component_function(i).algebraic_degree()\n",
    "    if char < min_char:\n",
    "        min_char = char\n",
    "print(min_char)"
   ]
  },
  {
   "cell_type": "code",
   "execution_count": 38,
   "id": "758d5414-1b47-4a93-bc44-4dc9ef59d3b8",
   "metadata": {},
   "outputs": [
    {
     "data": {
      "text/plain": [
       "[',()']"
      ]
     },
     "execution_count": 38,
     "metadata": {},
     "output_type": "execute_result"
    }
   ],
   "source": [
    "',() '.split()"
   ]
  },
  {
   "cell_type": "code",
   "execution_count": 2,
   "id": "78a77656-3412-4033-bd93-223199b509bc",
   "metadata": {},
   "outputs": [],
   "source": [
    "from sage.crypto.sboxes import SBox"
   ]
  },
  {
   "cell_type": "code",
   "execution_count": 3,
   "id": "1a1b42e0-0d4e-493f-88a1-0cd0f9360171",
   "metadata": {},
   "outputs": [],
   "source": [
    "n = 8"
   ]
  },
  {
   "cell_type": "code",
   "execution_count": 4,
   "id": "63bf20bd-a733-41f2-8a37-c912472da782",
   "metadata": {},
   "outputs": [
    {
     "name": "stdout",
     "output_type": "stream",
     "text": [
      "3\n",
      "3\n",
      "4\n",
      "(0, 16, 28, 208, 84, 90, 55, 35, 94, 156, 254, 146, 129, 24, 22, 74, 112, 73, 86, 157, 205, 103, 131, 226, 120, 45, 18, 150, 136, 122, 242, 236, 164, 60, 26, 182, 143, 89, 71, 190, 162, 171, 98, 21, 102, 147, 167, 138, 110, 183, 30, 58, 155, 117, 151, 161, 197, 6, 204, 49, 20, 240, 152, 113, 179, 188, 92, 199, 252, 200, 2, 224, 4, 173, 154, 243, 174, 177, 185, 109, 123, 29, 191, 76, 195, 43, 133, 128, 149, 53, 78, 130, 153, 247, 104, 187, 108, 218, 249, 135, 8, 34, 216, 210, 65, 148, 248, 223, 165, 227, 31, 40, 75, 228, 116, 255, 220, 198, 144, 14, 80, 219, 246, 213, 50, 46, 118, 145, 201, 158, 61, 180, 172, 64, 5, 9, 237, 105, 209, 42, 70, 232, 137, 51, 114, 206, 141, 62, 106, 7, 87, 215, 202, 217, 222, 100, 229, 48, 66, 238, 115, 139, 82, 15, 12, 125, 181, 97, 235, 67, 230, 211, 17, 27, 124, 83, 101, 207, 19, 95, 25, 168, 107, 68, 203, 127, 10, 140, 13, 251, 132, 192, 32, 250, 93, 99, 175, 184, 253, 91, 159, 196, 189, 119, 126, 81, 56, 214, 134, 44, 57, 163, 11, 194, 37, 63, 176, 244, 212, 59, 111, 193, 3, 41, 166, 169, 142, 39, 23, 186, 38, 241, 69, 221, 33, 121, 77, 54, 96, 160, 234, 47, 36, 52, 79, 88, 72, 239, 170, 233, 231, 178, 85, 225, 245, 1)\n",
      "\n",
      "3\n",
      "3\n",
      "3\n",
      "3\n",
      "3\n",
      "3\n",
      "3\n",
      "3\n",
      "3\n",
      "3\n",
      "4\n",
      "(0, 16, 28, 208, 84, 90, 55, 35, 94, 156, 254, 146, 129, 24, 22, 74, 112, 73, 86, 157, 205, 103, 131, 226, 120, 45, 18, 150, 136, 122, 242, 236, 164, 60, 26, 182, 143, 89, 71, 190, 162, 171, 98, 21, 102, 147, 167, 138, 110, 183, 30, 58, 155, 117, 151, 161, 197, 6, 204, 49, 20, 240, 152, 113, 179, 188, 92, 199, 252, 200, 2, 224, 4, 173, 154, 243, 174, 177, 185, 109, 123, 29, 191, 76, 195, 43, 133, 128, 149, 53, 78, 130, 153, 247, 104, 187, 108, 218, 249, 135, 8, 34, 216, 210, 65, 148, 248, 223, 165, 227, 31, 40, 75, 228, 116, 255, 220, 198, 144, 14, 80, 219, 246, 213, 50, 46, 118, 145, 201, 158, 61, 180, 172, 64, 5, 9, 237, 105, 209, 42, 70, 232, 137, 51, 114, 206, 141, 62, 106, 7, 87, 215, 202, 217, 222, 100, 229, 48, 66, 238, 115, 139, 82, 52, 12, 125, 181, 97, 235, 23, 230, 211, 17, 27, 124, 83, 101, 207, 19, 95, 25, 168, 107, 68, 203, 127, 10, 140, 13, 251, 132, 192, 32, 250, 93, 99, 175, 184, 253, 91, 159, 196, 189, 119, 126, 81, 56, 214, 134, 44, 57, 163, 11, 194, 37, 63, 176, 244, 212, 59, 111, 193, 3, 41, 166, 169, 142, 39, 67, 186, 38, 241, 69, 221, 33, 121, 77, 54, 96, 160, 234, 47, 36, 15, 79, 88, 72, 239, 170, 233, 231, 178, 85, 225, 245, 1)\n",
      "\n",
      "3\n",
      "3\n",
      "3\n",
      "3\n",
      "3\n",
      "3\n",
      "3\n",
      "3\n",
      "3\n",
      "3\n",
      "3\n",
      "3\n",
      "3\n",
      "3\n",
      "3\n",
      "3\n",
      "4\n",
      "(0, 16, 28, 208, 84, 90, 55, 35, 94, 156, 254, 146, 129, 24, 22, 74, 112, 73, 86, 157, 205, 103, 131, 226, 120, 45, 18, 150, 136, 122, 242, 236, 164, 60, 26, 182, 143, 89, 71, 190, 162, 171, 98, 21, 102, 147, 167, 138, 110, 183, 30, 58, 155, 117, 151, 161, 197, 6, 204, 49, 20, 240, 152, 113, 179, 188, 92, 199, 252, 200, 2, 224, 4, 173, 154, 243, 174, 32, 185, 109, 123, 29, 191, 76, 195, 43, 133, 128, 149, 53, 78, 130, 153, 247, 104, 187, 108, 218, 249, 135, 8, 34, 216, 210, 65, 148, 248, 223, 165, 227, 31, 40, 75, 228, 116, 255, 220, 198, 144, 14, 80, 219, 246, 213, 50, 46, 118, 145, 201, 158, 61, 180, 172, 64, 5, 9, 237, 105, 209, 42, 70, 232, 137, 51, 114, 206, 141, 62, 106, 7, 87, 215, 202, 217, 222, 100, 229, 48, 66, 238, 115, 139, 82, 52, 12, 125, 181, 97, 235, 67, 230, 211, 17, 27, 124, 83, 101, 207, 19, 95, 25, 168, 107, 68, 203, 127, 10, 140, 13, 251, 132, 192, 177, 250, 93, 99, 175, 184, 253, 91, 159, 196, 189, 119, 126, 81, 56, 214, 134, 44, 57, 163, 11, 194, 37, 63, 176, 244, 212, 59, 111, 193, 3, 41, 166, 169, 142, 39, 23, 186, 38, 241, 69, 221, 33, 121, 77, 54, 96, 160, 234, 47, 36, 15, 79, 88, 72, 239, 170, 233, 231, 178, 85, 225, 245, 1)\n",
      "\n",
      "4\n",
      "(0, 16, 28, 208, 84, 90, 55, 35, 94, 156, 254, 146, 129, 24, 22, 74, 112, 73, 86, 157, 205, 103, 131, 226, 120, 45, 18, 150, 136, 122, 242, 236, 164, 60, 26, 182, 143, 89, 71, 190, 162, 171, 98, 21, 102, 147, 167, 138, 110, 183, 30, 58, 155, 117, 151, 161, 197, 6, 204, 49, 20, 240, 152, 113, 179, 188, 92, 199, 252, 200, 2, 224, 4, 173, 154, 243, 174, 177, 185, 109, 123, 29, 191, 76, 195, 43, 133, 128, 149, 53, 78, 130, 153, 247, 104, 187, 108, 218, 249, 135, 8, 34, 216, 210, 65, 148, 248, 223, 165, 227, 31, 40, 75, 228, 116, 255, 220, 198, 144, 14, 80, 219, 32, 213, 50, 46, 118, 145, 201, 158, 61, 180, 172, 64, 5, 9, 237, 105, 209, 42, 70, 232, 137, 51, 114, 206, 141, 62, 106, 7, 87, 215, 202, 217, 222, 100, 229, 48, 66, 238, 115, 139, 82, 52, 12, 125, 181, 97, 235, 67, 230, 211, 17, 27, 124, 83, 101, 207, 19, 95, 25, 168, 107, 68, 203, 127, 10, 140, 13, 251, 132, 192, 246, 250, 93, 99, 175, 184, 253, 91, 159, 196, 189, 119, 126, 81, 56, 214, 134, 44, 57, 163, 11, 194, 37, 63, 176, 244, 212, 59, 111, 193, 3, 41, 166, 169, 142, 39, 23, 186, 38, 241, 69, 221, 33, 121, 77, 54, 96, 160, 234, 47, 36, 15, 79, 88, 72, 239, 170, 233, 231, 178, 85, 225, 245, 1)\n",
      "\n",
      "3\n",
      "3\n",
      "3\n",
      "3\n",
      "3\n",
      "3\n",
      "3\n",
      "3\n",
      "3\n",
      "3\n",
      "3\n",
      "3\n",
      "3\n",
      "3\n",
      "3\n",
      "3\n",
      "3\n",
      "3\n",
      "3\n",
      "4\n",
      "(0, 16, 28, 208, 84, 90, 55, 35, 94, 156, 254, 146, 129, 24, 22, 74, 112, 73, 86, 157, 205, 103, 131, 226, 120, 45, 18, 150, 136, 122, 242, 236, 164, 60, 26, 182, 143, 89, 71, 190, 162, 171, 98, 21, 102, 147, 167, 138, 110, 183, 30, 58, 155, 117, 151, 161, 197, 6, 204, 49, 20, 240, 152, 113, 179, 188, 92, 199, 252, 200, 2, 224, 4, 173, 154, 243, 174, 177, 185, 109, 123, 29, 191, 76, 195, 43, 133, 128, 66, 53, 78, 130, 153, 247, 104, 187, 108, 218, 249, 135, 8, 34, 216, 210, 65, 148, 248, 223, 165, 227, 31, 40, 75, 228, 116, 255, 220, 198, 144, 14, 80, 219, 246, 213, 50, 46, 118, 145, 201, 158, 61, 180, 172, 64, 5, 9, 237, 105, 209, 42, 70, 232, 137, 51, 114, 206, 141, 62, 106, 7, 87, 215, 202, 217, 222, 100, 229, 48, 149, 238, 115, 139, 82, 52, 12, 125, 181, 97, 235, 67, 230, 211, 17, 27, 124, 83, 101, 207, 19, 95, 25, 168, 107, 68, 203, 127, 10, 140, 13, 251, 132, 192, 32, 250, 93, 99, 175, 184, 253, 91, 159, 196, 189, 119, 126, 81, 56, 214, 134, 44, 57, 163, 11, 194, 37, 63, 176, 244, 212, 59, 111, 193, 3, 41, 166, 169, 142, 39, 23, 186, 38, 241, 69, 221, 33, 121, 77, 54, 96, 160, 234, 47, 36, 15, 79, 88, 72, 239, 170, 233, 231, 178, 85, 225, 245, 1)\n",
      "\n",
      "3\n",
      "4\n",
      "(0, 16, 28, 208, 84, 90, 55, 35, 94, 156, 254, 146, 129, 24, 22, 74, 112, 73, 86, 157, 205, 103, 131, 226, 120, 45, 18, 150, 136, 122, 242, 236, 164, 60, 26, 182, 143, 89, 71, 190, 162, 171, 98, 21, 102, 147, 67, 138, 110, 183, 30, 58, 155, 117, 151, 161, 197, 6, 204, 49, 20, 240, 152, 113, 179, 188, 92, 199, 252, 200, 2, 224, 4, 173, 154, 243, 174, 177, 185, 109, 123, 29, 191, 76, 195, 43, 133, 128, 149, 53, 78, 130, 153, 247, 104, 187, 108, 218, 249, 135, 8, 34, 216, 210, 65, 148, 248, 223, 165, 227, 31, 40, 75, 228, 116, 255, 220, 198, 144, 14, 80, 219, 246, 213, 50, 46, 118, 145, 201, 158, 61, 180, 172, 64, 5, 9, 237, 105, 209, 42, 70, 232, 137, 51, 114, 206, 141, 62, 106, 7, 87, 215, 202, 217, 222, 100, 229, 48, 66, 238, 115, 139, 82, 52, 12, 125, 181, 97, 235, 167, 230, 211, 17, 27, 124, 83, 101, 207, 19, 95, 25, 168, 107, 68, 203, 127, 10, 140, 13, 251, 132, 192, 32, 250, 93, 99, 175, 184, 253, 91, 159, 196, 189, 119, 126, 81, 56, 214, 134, 44, 57, 163, 11, 194, 37, 63, 176, 244, 212, 59, 111, 193, 3, 41, 166, 169, 142, 39, 23, 186, 38, 241, 69, 221, 33, 121, 77, 54, 96, 160, 234, 47, 36, 15, 79, 88, 72, 239, 170, 233, 231, 178, 85, 225, 245, 1)\n",
      "\n",
      "3\n",
      "3\n",
      "4\n",
      "(0, 16, 28, 208, 84, 90, 55, 35, 94, 156, 254, 146, 129, 24, 22, 74, 112, 73, 86, 157, 205, 103, 131, 226, 120, 45, 18, 150, 136, 122, 242, 236, 164, 60, 26, 182, 143, 89, 139, 190, 162, 171, 98, 21, 102, 147, 167, 138, 110, 183, 30, 58, 155, 117, 151, 161, 197, 6, 204, 49, 20, 240, 152, 113, 179, 188, 92, 199, 252, 200, 2, 224, 4, 173, 154, 243, 174, 177, 185, 109, 123, 29, 191, 76, 195, 43, 133, 128, 149, 53, 78, 130, 153, 247, 104, 187, 108, 218, 249, 135, 8, 34, 216, 210, 65, 148, 248, 223, 165, 227, 31, 40, 75, 228, 116, 255, 220, 198, 144, 14, 80, 219, 246, 213, 50, 46, 118, 145, 201, 158, 61, 180, 172, 64, 5, 9, 237, 105, 209, 42, 70, 232, 137, 51, 114, 206, 141, 62, 106, 7, 87, 215, 202, 217, 222, 100, 229, 48, 66, 238, 115, 71, 82, 52, 12, 125, 181, 97, 235, 67, 230, 211, 17, 27, 124, 83, 101, 207, 19, 95, 25, 168, 107, 68, 203, 127, 10, 140, 13, 251, 132, 192, 32, 250, 93, 99, 175, 184, 253, 91, 159, 196, 189, 119, 126, 81, 56, 214, 134, 44, 57, 163, 11, 194, 37, 63, 176, 244, 212, 59, 111, 193, 3, 41, 166, 169, 142, 39, 23, 186, 38, 241, 69, 221, 33, 121, 77, 54, 96, 160, 234, 47, 36, 15, 79, 88, 72, 239, 170, 233, 231, 178, 85, 225, 245, 1)\n",
      "\n",
      "3\n",
      "4\n",
      "(0, 16, 28, 208, 84, 90, 55, 35, 94, 156, 254, 146, 129, 24, 22, 74, 112, 73, 86, 157, 205, 103, 131, 226, 120, 45, 18, 150, 136, 122, 242, 236, 164, 60, 26, 182, 143, 89, 255, 190, 162, 171, 98, 21, 102, 147, 167, 138, 110, 183, 30, 58, 155, 117, 151, 161, 197, 6, 204, 49, 20, 240, 152, 113, 179, 188, 92, 199, 252, 200, 2, 224, 4, 173, 154, 243, 174, 177, 185, 109, 123, 29, 191, 76, 195, 43, 133, 128, 149, 53, 78, 130, 153, 247, 104, 187, 108, 218, 249, 135, 8, 34, 216, 210, 65, 148, 248, 223, 165, 227, 31, 40, 75, 228, 116, 71, 220, 198, 144, 14, 80, 219, 246, 213, 50, 46, 118, 145, 201, 158, 61, 180, 172, 64, 5, 9, 237, 105, 209, 42, 70, 232, 137, 51, 114, 206, 141, 62, 106, 7, 87, 215, 202, 217, 222, 100, 229, 48, 66, 238, 115, 139, 82, 52, 12, 125, 181, 97, 235, 67, 230, 211, 17, 27, 124, 83, 101, 207, 19, 95, 25, 168, 107, 68, 203, 127, 10, 140, 13, 251, 132, 192, 32, 250, 93, 99, 175, 184, 253, 91, 159, 196, 189, 119, 126, 81, 56, 214, 134, 44, 57, 163, 11, 194, 37, 63, 176, 244, 212, 59, 111, 193, 3, 41, 166, 169, 142, 39, 23, 186, 38, 241, 69, 221, 33, 121, 77, 54, 96, 160, 234, 47, 36, 15, 79, 88, 72, 239, 170, 233, 231, 178, 85, 225, 245, 1)\n",
      "\n",
      "3\n",
      "3\n",
      "3\n",
      "3\n",
      "3\n",
      "3\n",
      "3\n",
      "3\n",
      "3\n",
      "3\n",
      "3\n",
      "3\n",
      "4\n",
      "(0, 16, 28, 208, 84, 90, 55, 35, 94, 156, 254, 146, 129, 24, 22, 74, 112, 73, 86, 157, 205, 103, 131, 226, 120, 45, 18, 150, 136, 122, 242, 236, 164, 60, 26, 182, 143, 89, 71, 190, 162, 171, 98, 21, 102, 147, 88, 138, 110, 183, 30, 58, 155, 117, 151, 161, 197, 6, 204, 49, 20, 240, 152, 113, 179, 188, 92, 199, 252, 200, 2, 224, 4, 173, 154, 243, 174, 177, 185, 109, 123, 29, 191, 76, 195, 43, 133, 128, 149, 53, 78, 130, 153, 247, 104, 187, 108, 218, 249, 135, 8, 34, 216, 210, 65, 148, 248, 223, 165, 227, 31, 40, 75, 228, 116, 255, 220, 198, 144, 14, 80, 219, 246, 213, 50, 46, 118, 145, 201, 158, 61, 180, 172, 64, 5, 9, 237, 105, 209, 42, 70, 232, 137, 51, 114, 206, 141, 62, 106, 7, 87, 215, 202, 217, 222, 100, 229, 48, 66, 238, 115, 139, 82, 52, 12, 125, 181, 97, 235, 67, 230, 211, 17, 27, 124, 83, 101, 207, 19, 95, 25, 168, 107, 68, 203, 127, 10, 140, 13, 251, 132, 192, 32, 250, 93, 99, 175, 184, 253, 91, 159, 196, 189, 119, 126, 81, 56, 214, 134, 44, 57, 163, 11, 194, 37, 63, 176, 244, 212, 59, 111, 193, 3, 41, 166, 169, 142, 39, 23, 186, 38, 241, 69, 221, 33, 121, 77, 54, 96, 160, 234, 47, 36, 15, 79, 167, 72, 239, 170, 233, 231, 178, 85, 225, 245, 1)\n",
      "\n",
      "3\n",
      "4\n",
      "(0, 16, 28, 208, 84, 90, 55, 35, 94, 156, 254, 146, 129, 24, 22, 74, 112, 73, 86, 157, 205, 103, 131, 226, 120, 45, 18, 150, 136, 122, 242, 236, 164, 60, 26, 182, 143, 89, 71, 190, 162, 171, 98, 21, 102, 147, 167, 138, 110, 183, 30, 58, 155, 117, 151, 161, 197, 6, 204, 49, 20, 240, 152, 113, 179, 188, 92, 199, 252, 200, 2, 224, 4, 173, 154, 243, 174, 177, 185, 109, 123, 29, 191, 76, 195, 43, 133, 128, 149, 53, 78, 130, 153, 247, 104, 187, 108, 218, 249, 135, 8, 34, 216, 210, 65, 148, 91, 223, 165, 227, 31, 40, 75, 228, 116, 255, 220, 198, 144, 14, 80, 219, 246, 213, 50, 46, 118, 145, 201, 158, 61, 180, 172, 64, 5, 9, 237, 105, 209, 42, 70, 232, 137, 51, 114, 206, 141, 62, 106, 7, 87, 215, 202, 217, 222, 100, 229, 48, 66, 238, 115, 139, 82, 52, 12, 125, 181, 97, 235, 67, 230, 211, 17, 27, 124, 83, 101, 207, 19, 95, 25, 168, 107, 68, 203, 127, 10, 140, 13, 251, 132, 192, 32, 250, 93, 99, 175, 184, 253, 248, 159, 196, 189, 119, 126, 81, 56, 214, 134, 44, 57, 163, 11, 194, 37, 63, 176, 244, 212, 59, 111, 193, 3, 41, 166, 169, 142, 39, 23, 186, 38, 241, 69, 221, 33, 121, 77, 54, 96, 160, 234, 47, 36, 15, 79, 88, 72, 239, 170, 233, 231, 178, 85, 225, 245, 1)\n",
      "\n",
      "3\n",
      "3\n",
      "3\n",
      "4\n",
      "(0, 16, 28, 208, 84, 90, 55, 35, 94, 156, 254, 146, 129, 24, 22, 74, 112, 73, 86, 157, 205, 103, 131, 226, 120, 45, 18, 150, 136, 122, 242, 236, 164, 60, 26, 182, 143, 89, 71, 190, 162, 171, 98, 21, 102, 147, 167, 138, 110, 183, 30, 58, 155, 117, 104, 161, 197, 6, 204, 49, 20, 240, 152, 113, 179, 188, 92, 199, 252, 200, 2, 224, 4, 173, 154, 243, 174, 177, 185, 109, 123, 29, 191, 76, 195, 43, 133, 128, 149, 53, 78, 130, 153, 247, 151, 187, 108, 218, 249, 135, 8, 34, 216, 210, 65, 148, 248, 223, 165, 227, 31, 40, 75, 228, 116, 255, 220, 198, 144, 14, 80, 219, 246, 213, 50, 46, 118, 145, 201, 158, 61, 180, 172, 64, 5, 9, 237, 105, 209, 42, 70, 232, 137, 51, 114, 206, 141, 62, 106, 7, 87, 215, 202, 217, 222, 100, 229, 48, 66, 238, 115, 139, 82, 52, 12, 125, 181, 97, 235, 67, 230, 211, 17, 27, 124, 83, 101, 207, 19, 95, 25, 168, 107, 68, 203, 127, 10, 140, 13, 251, 132, 192, 32, 250, 93, 99, 175, 184, 253, 91, 159, 196, 189, 119, 126, 81, 56, 214, 134, 44, 57, 163, 11, 194, 37, 63, 176, 244, 212, 59, 111, 193, 3, 41, 166, 169, 142, 39, 23, 186, 38, 241, 69, 221, 33, 121, 77, 54, 96, 160, 234, 47, 36, 15, 79, 88, 72, 239, 170, 233, 231, 178, 85, 225, 245, 1)\n",
      "\n",
      "3\n",
      "3\n",
      "3\n",
      "3\n",
      "3\n",
      "3\n",
      "3\n",
      "4\n",
      "(0, 16, 28, 208, 84, 90, 55, 35, 94, 156, 254, 146, 129, 24, 22, 74, 112, 73, 86, 157, 205, 103, 131, 226, 120, 45, 18, 150, 136, 122, 242, 236, 164, 60, 26, 182, 143, 89, 71, 190, 162, 171, 98, 21, 102, 147, 167, 138, 110, 183, 30, 58, 155, 117, 151, 161, 197, 6, 204, 49, 20, 240, 152, 113, 179, 188, 92, 199, 252, 200, 2, 224, 4, 173, 154, 243, 174, 177, 185, 109, 123, 29, 191, 76, 195, 43, 133, 128, 149, 53, 78, 130, 153, 247, 104, 187, 108, 218, 249, 135, 8, 34, 216, 210, 65, 148, 248, 223, 165, 227, 31, 40, 75, 228, 116, 255, 220, 198, 144, 14, 80, 219, 246, 213, 50, 46, 118, 145, 201, 158, 61, 180, 172, 64, 5, 9, 237, 105, 209, 42, 70, 232, 137, 51, 114, 206, 141, 62, 106, 7, 87, 215, 132, 217, 222, 100, 229, 48, 66, 238, 115, 139, 82, 52, 12, 125, 181, 97, 235, 67, 230, 211, 17, 27, 124, 83, 101, 207, 19, 95, 25, 168, 107, 68, 203, 127, 10, 140, 13, 251, 202, 192, 32, 250, 93, 99, 175, 184, 253, 91, 159, 196, 189, 119, 126, 81, 56, 214, 134, 44, 57, 163, 11, 194, 37, 63, 176, 244, 212, 59, 111, 193, 3, 41, 166, 169, 142, 39, 23, 186, 38, 241, 69, 221, 33, 121, 77, 54, 96, 160, 234, 47, 36, 15, 79, 88, 72, 239, 170, 233, 231, 178, 85, 225, 245, 1)\n",
      "\n",
      "3\n",
      "3\n",
      "3\n",
      "4\n",
      "(0, 16, 28, 208, 84, 90, 55, 35, 94, 156, 254, 146, 129, 24, 22, 74, 112, 73, 86, 157, 205, 103, 131, 226, 120, 45, 18, 150, 136, 122, 242, 236, 164, 60, 26, 182, 143, 89, 71, 190, 162, 171, 98, 21, 102, 147, 167, 138, 110, 183, 30, 58, 155, 117, 151, 161, 197, 6, 204, 49, 20, 240, 152, 113, 179, 188, 92, 199, 252, 200, 2, 224, 4, 173, 154, 243, 174, 177, 185, 109, 123, 29, 191, 76, 195, 43, 133, 128, 149, 53, 78, 130, 153, 247, 104, 187, 108, 218, 249, 135, 8, 34, 216, 210, 65, 148, 248, 223, 165, 227, 31, 40, 75, 228, 116, 255, 220, 198, 144, 14, 80, 219, 246, 213, 50, 46, 118, 145, 201, 158, 61, 180, 172, 64, 5, 9, 237, 105, 209, 42, 70, 232, 245, 51, 114, 206, 141, 62, 106, 7, 87, 215, 202, 217, 222, 100, 229, 48, 66, 238, 115, 139, 82, 52, 12, 125, 181, 97, 235, 67, 230, 211, 17, 27, 124, 83, 101, 207, 19, 95, 25, 168, 107, 68, 203, 127, 10, 140, 13, 251, 132, 192, 32, 250, 93, 99, 175, 184, 253, 91, 159, 196, 189, 119, 126, 81, 56, 214, 134, 44, 57, 163, 11, 194, 37, 63, 176, 244, 212, 59, 111, 193, 3, 41, 166, 169, 142, 39, 23, 186, 38, 241, 69, 221, 33, 121, 77, 54, 96, 160, 234, 47, 36, 15, 79, 88, 72, 239, 170, 233, 231, 178, 85, 225, 137, 1)\n",
      "\n",
      "3\n",
      "3\n",
      "3\n",
      "3\n",
      "3\n",
      "3\n",
      "3\n",
      "3\n",
      "3\n",
      "3\n",
      "3\n",
      "3\n",
      "3\n",
      "3\n",
      "3\n",
      "3\n",
      "3\n",
      "3\n",
      "3\n",
      "3\n",
      "4\n",
      "(0, 16, 28, 208, 84, 90, 55, 35, 94, 156, 254, 146, 129, 24, 22, 74, 112, 73, 86, 157, 205, 103, 131, 226, 120, 45, 18, 150, 136, 122, 242, 236, 164, 60, 26, 182, 143, 89, 71, 190, 162, 171, 98, 21, 102, 147, 167, 138, 110, 183, 30, 58, 155, 117, 151, 161, 197, 6, 204, 49, 20, 240, 152, 113, 179, 188, 92, 199, 252, 200, 2, 224, 4, 173, 154, 243, 174, 177, 185, 109, 123, 29, 191, 76, 195, 43, 133, 128, 149, 53, 78, 130, 153, 247, 104, 187, 108, 218, 249, 135, 8, 34, 216, 210, 65, 148, 248, 223, 165, 227, 31, 40, 75, 228, 116, 255, 220, 186, 144, 14, 80, 219, 246, 213, 50, 46, 118, 145, 201, 158, 61, 180, 172, 64, 5, 9, 237, 105, 209, 42, 70, 232, 137, 51, 114, 206, 141, 62, 106, 7, 87, 215, 202, 217, 222, 100, 229, 48, 66, 238, 115, 139, 82, 52, 12, 125, 181, 97, 235, 67, 230, 211, 17, 27, 124, 83, 101, 207, 19, 95, 25, 168, 107, 68, 203, 127, 10, 140, 13, 251, 132, 192, 32, 250, 93, 99, 175, 184, 253, 91, 159, 196, 189, 119, 126, 81, 56, 214, 134, 44, 57, 163, 11, 194, 37, 63, 176, 244, 212, 59, 111, 193, 3, 41, 166, 169, 142, 39, 23, 198, 38, 241, 69, 221, 33, 121, 77, 54, 96, 160, 234, 47, 36, 15, 79, 88, 72, 239, 170, 233, 231, 178, 85, 225, 245, 1)\n",
      "\n",
      "4\n",
      "(0, 16, 28, 208, 84, 90, 55, 35, 94, 156, 254, 146, 129, 24, 22, 74, 112, 73, 86, 157, 205, 103, 131, 226, 120, 45, 18, 150, 136, 122, 242, 236, 164, 60, 26, 182, 143, 89, 71, 190, 162, 171, 98, 21, 102, 147, 167, 138, 110, 183, 30, 58, 155, 117, 151, 161, 197, 6, 204, 49, 20, 240, 152, 113, 179, 188, 92, 199, 252, 200, 2, 224, 4, 173, 154, 243, 174, 177, 185, 109, 123, 29, 191, 76, 195, 43, 133, 128, 149, 53, 78, 130, 153, 247, 104, 187, 108, 218, 249, 135, 8, 34, 216, 210, 65, 148, 194, 223, 165, 227, 31, 40, 75, 228, 116, 255, 220, 198, 144, 14, 80, 219, 246, 213, 50, 46, 118, 145, 201, 158, 61, 180, 172, 64, 5, 9, 237, 105, 209, 42, 70, 232, 137, 51, 114, 206, 141, 62, 106, 7, 87, 215, 202, 217, 222, 100, 229, 48, 66, 238, 115, 139, 82, 52, 12, 125, 181, 97, 235, 67, 230, 211, 17, 27, 124, 83, 101, 207, 19, 95, 25, 168, 107, 68, 203, 127, 10, 140, 13, 251, 132, 192, 32, 250, 93, 99, 175, 184, 253, 91, 159, 196, 189, 119, 126, 81, 56, 214, 134, 44, 57, 163, 11, 248, 37, 63, 176, 244, 212, 59, 111, 193, 3, 41, 166, 169, 142, 39, 23, 186, 38, 241, 69, 221, 33, 121, 77, 54, 96, 160, 234, 47, 36, 15, 79, 88, 72, 239, 170, 233, 231, 178, 85, 225, 245, 1)\n",
      "\n",
      "3\n",
      "3\n",
      "3\n",
      "3\n",
      "4\n",
      "(0, 16, 28, 208, 84, 90, 55, 35, 94, 156, 254, 146, 129, 24, 22, 74, 112, 73, 86, 157, 205, 103, 131, 226, 120, 45, 18, 150, 136, 122, 242, 236, 164, 60, 26, 182, 143, 89, 71, 190, 162, 171, 98, 21, 102, 147, 167, 138, 110, 183, 30, 58, 155, 117, 151, 161, 197, 6, 204, 49, 20, 240, 152, 113, 179, 188, 92, 199, 252, 200, 2, 224, 4, 173, 154, 243, 174, 177, 185, 109, 123, 29, 191, 76, 195, 43, 133, 128, 149, 53, 78, 130, 153, 247, 104, 187, 108, 218, 249, 135, 8, 34, 216, 210, 65, 148, 248, 223, 165, 227, 31, 40, 75, 228, 116, 246, 220, 198, 144, 14, 80, 219, 255, 213, 50, 46, 118, 145, 201, 158, 61, 180, 172, 64, 5, 9, 237, 105, 209, 42, 70, 232, 137, 51, 114, 206, 141, 62, 106, 7, 87, 215, 202, 217, 222, 100, 229, 48, 66, 238, 115, 139, 82, 52, 12, 125, 181, 97, 235, 67, 230, 211, 17, 27, 124, 83, 101, 207, 19, 95, 25, 168, 107, 68, 203, 127, 10, 140, 13, 251, 132, 192, 32, 250, 93, 99, 175, 184, 253, 91, 159, 196, 189, 119, 126, 81, 56, 214, 134, 44, 57, 163, 11, 194, 37, 63, 176, 244, 212, 59, 111, 193, 3, 41, 166, 169, 142, 39, 23, 186, 38, 241, 69, 221, 33, 121, 77, 54, 96, 160, 234, 47, 36, 15, 79, 88, 72, 239, 170, 233, 231, 178, 85, 225, 245, 1)\n",
      "\n"
     ]
    }
   ],
   "source": [
    "with open(\"nonl100.txt\", \"r\") as f: \n",
    "    \n",
    "    for line in f.readlines()[4:]:\n",
    "        sbox = SBox([int(x) for x in line.strip('() \\n').split(',')])\n",
    "        min_char= 100000000\n",
    "        for i in range(1, 2^n):\n",
    "            char = sbox.component_function(i).algebraic_immunity()\n",
    "            if char < min_char:\n",
    "                min_char = char\n",
    "        print(min_char)\n",
    "        if min_char == 4:\n",
    "            print(line)"
   ]
  },
  {
   "cell_type": "code",
   "execution_count": null,
   "id": "b7b31d85-3731-4a97-9886-d4b909482dd5",
   "metadata": {},
   "outputs": [],
   "source": []
  },
  {
   "cell_type": "code",
   "execution_count": 13,
   "id": "864e0f7a-3a3f-44cf-a182-0ed1c5c4c610",
   "metadata": {},
   "outputs": [],
   "source": [
    "sbox = SBox(0, 16, 28, 208, 84, 90, 55, 35, 94, 156, 254, 146, 129, 24, 22, 74, 112, 73, 86, 157, 205, 103, 131, 226, 120, 45, 18, 150, 136, 122, 242, 236, 164, 60, 26, 182, 143, 89, 71, 190, 162, 171, 98, 21, 102, 147, 167, 138, 110, 183, 30, 58, 155, 117, 151, 161, 197, 6, 204, 49, 20, 240, 152, 113, 179, 188, 92, 199, 252, 200, 2, 224, 4, 173, 154, 243, 174, 8, 185, 109, 123, 29, 191, 76, 195, 43, 133, 128, 149, 53, 78, 130, 153, 247, 104, 187, 108, 218, 249, 135, 177, 34, 216, 210, 65, 148, 248, 223, 165, 227, 31, 40, 75, 228, 116, 255, 220, 198, 144, 14, 80, 219, 246, 213, 50, 46, 118, 145, 201, 158, 61, 180, 172, 64, 5, 9, 237, 105, 209, 42, 70, 232, 137, 51, 114, 206, 141, 62, 106, 7, 87, 215, 202, 217, 222, 100, 229, 48, 66, 238, 115, 139, 82, 52, 12, 125, 181, 97, 235, 67, 230, 211, 17, 27, 124, 83, 101, 207, 19, 95, 25, 168, 107, 68, 203, 127, 10, 140, 13, 251, 132, 192, 32, 250, 93, 99, 175, 184, 253, 91, 159, 196, 189, 119, 126, 81, 56, 214, 134, 44, 57, 163, 11, 194, 37, 63, 176, 244, 212, 59, 111, 193, 3, 41, 166, 169, 142, 39, 23, 186, 38, 241, 69, 221, 33, 121, 77, 54, 96, 160, 234, 47, 36, 15, 79, 88, 72, 239, 170, 233, 231, 178, 85, 225, 245, 1)"
   ]
  },
  {
   "cell_type": "code",
   "execution_count": 16,
   "id": "a11afb93-d925-4ad1-9490-76948bd15553",
   "metadata": {},
   "outputs": [
    {
     "name": "stdout",
     "output_type": "stream",
     "text": [
      "6\n"
     ]
    }
   ],
   "source": [
    "min_char= 100000000\n",
    "for i in range(1, 2^n):\n",
    "    char = sbox.component_function(i).algebraic_degree()\n",
    "    if char < min_char:\n",
    "        min_char = char\n",
    "print(min_char)"
   ]
  },
  {
   "cell_type": "code",
   "execution_count": null,
   "id": "b84049ab-cd70-4cac-bbb1-6b68a9ffdbb3",
   "metadata": {},
   "outputs": [],
   "source": []
  },
  {
   "cell_type": "code",
   "execution_count": 3,
   "id": "5a0f9973-cf3e-40f3-ae45-7ff8ff04062f",
   "metadata": {},
   "outputs": [],
   "source": []
  },
  {
   "cell_type": "code",
   "execution_count": null,
   "id": "cb1be882-17ea-4e56-80bc-e8ed64f3bc45",
   "metadata": {},
   "outputs": [],
   "source": []
  },
  {
   "cell_type": "code",
   "execution_count": 1,
   "id": "cf5f9b32-be0c-45c3-ba2e-fa0c4f00359c",
   "metadata": {},
   "outputs": [],
   "source": [
    "from sage.crypto.sboxes import SBox\n",
    "n = 8\n",
    "arrs = [(0, 16, 28, 208, 84, 90, 55, 35, 94, 156, 254, 146, 129, 24, 22, 74, 112, 73, 86, 157, 205, 103, 131, 226, 120, 45, 18, 150, 136, 122, 242, 236, 164, 60, 26, 182, 143, 89, 71, 190, 162, 171, 98, 21, 102, 147, 167, 138, 110, 183, 30, 58, 155, 117, 151, 161, 197, 6, 204, 49, 20, 240, 152, 113, 179, 188, 92, 199, 252, 200, 2, 224, 4, 173, 154, 243, 174, 177, 185, 109, 123, 29, 191, 76, 195, 43, 133, 128, 149, 53, 78, 130, 153, 247, 104, 187, 108, 218, 249, 135, 8, 34, 216, 210, 65, 148, 248, 223, 165, 227, 31, 40, 75, 228, 116, 255, 220, 198, 144, 14, 80, 219, 246, 213, 50, 46, 118, 145, 201, 158, 61, 180, 172, 64, 5, 9, 237, 105, 209, 42, 70, 232, 137, 51, 114, 206, 141, 62, 106, 7, 87, 215, 202, 217, 222, 100, 229, 48, 66, 238, 115, 139, 82, 15, 12, 125, 181, 97, 235, 67, 230, 211, 17, 27, 124, 83, 101, 207, 19, 95, 25, 168, 107, 68, 203, 127, 10, 140, 13, 251, 132, 192, 32, 250, 93, 99, 175, 184, 253, 91, 159, 196, 189, 119, 126, 81, 56, 214, 134, 44, 57, 163, 11, 194, 37, 63, 176, 244, 212, 59, 111, 193, 3, 41, 166, 169, 142, 39, 23, 186, 38, 241, 69, 221, 33, 121, 77, 54, 96, 160, 234, 47, 36, 52, 79, 88, 72, 239, 170, 233, 231, 178, 85, 225, 245, 1)\n",
    ",(0, 16, 28, 208, 84, 90, 55, 35, 94, 156, 254, 146, 129, 24, 22, 74, 112, 73, 86, 157, 205, 103, 131, 226, 120, 45, 18, 150, 136, 122, 242, 236, 164, 60, 26, 182, 143, 89, 71, 190, 162, 171, 98, 21, 102, 147, 167, 138, 110, 183, 30, 58, 155, 117, 151, 161, 197, 6, 204, 49, 20, 240, 152, 113, 179, 188, 92, 199, 252, 200, 2, 224, 4, 173, 154, 243, 174, 177, 185, 109, 123, 29, 191, 76, 195, 43, 133, 128, 149, 53, 78, 130, 153, 247, 104, 187, 108, 218, 249, 135, 8, 34, 216, 210, 65, 148, 248, 223, 165, 227, 31, 40, 75, 228, 116, 255, 220, 198, 144, 14, 80, 219, 246, 213, 50, 46, 118, 145, 201, 158, 61, 180, 172, 64, 5, 9, 237, 105, 209, 42, 70, 232, 137, 51, 114, 206, 141, 62, 106, 7, 87, 215, 202, 217, 222, 100, 229, 48, 66, 238, 115, 139, 82, 52, 12, 125, 181, 97, 235, 23, 230, 211, 17, 27, 124, 83, 101, 207, 19, 95, 25, 168, 107, 68, 203, 127, 10, 140, 13, 251, 132, 192, 32, 250, 93, 99, 175, 184, 253, 91, 159, 196, 189, 119, 126, 81, 56, 214, 134, 44, 57, 163, 11, 194, 37, 63, 176, 244, 212, 59, 111, 193, 3, 41, 166, 169, 142, 39, 67, 186, 38, 241, 69, 221, 33, 121, 77, 54, 96, 160, 234, 47, 36, 15, 79, 88, 72, 239, 170, 233, 231, 178, 85, 225, 245, 1)\n",
    ",(0, 16, 28, 208, 84, 90, 55, 35, 94, 156, 254, 146, 129, 24, 22, 74, 112, 73, 86, 157, 205, 103, 131, 226, 120, 45, 18, 150, 136, 122, 242, 236, 164, 60, 26, 182, 143, 89, 71, 190, 162, 171, 98, 21, 102, 147, 167, 138, 110, 183, 30, 58, 155, 117, 151, 161, 197, 6, 204, 49, 20, 240, 152, 113, 179, 188, 92, 199, 252, 200, 2, 224, 4, 173, 154, 243, 174, 32, 185, 109, 123, 29, 191, 76, 195, 43, 133, 128, 149, 53, 78, 130, 153, 247, 104, 187, 108, 218, 249, 135, 8, 34, 216, 210, 65, 148, 248, 223, 165, 227, 31, 40, 75, 228, 116, 255, 220, 198, 144, 14, 80, 219, 246, 213, 50, 46, 118, 145, 201, 158, 61, 180, 172, 64, 5, 9, 237, 105, 209, 42, 70, 232, 137, 51, 114, 206, 141, 62, 106, 7, 87, 215, 202, 217, 222, 100, 229, 48, 66, 238, 115, 139, 82, 52, 12, 125, 181, 97, 235, 67, 230, 211, 17, 27, 124, 83, 101, 207, 19, 95, 25, 168, 107, 68, 203, 127, 10, 140, 13, 251, 132, 192, 177, 250, 93, 99, 175, 184, 253, 91, 159, 196, 189, 119, 126, 81, 56, 214, 134, 44, 57, 163, 11, 194, 37, 63, 176, 244, 212, 59, 111, 193, 3, 41, 166, 169, 142, 39, 23, 186, 38, 241, 69, 221, 33, 121, 77, 54, 96, 160, 234, 47, 36, 15, 79, 88, 72, 239, 170, 233, 231, 178, 85, 225, 245, 1)\n",
    ",(0, 16, 28, 208, 84, 90, 55, 35, 94, 156, 254, 146, 129, 24, 22, 74, 112, 73, 86, 157, 205, 103, 131, 226, 120, 45, 18, 150, 136, 122, 242, 236, 164, 60, 26, 182, 143, 89, 71, 190, 162, 171, 98, 21, 102, 147, 167, 138, 110, 183, 30, 58, 155, 117, 151, 161, 197, 6, 204, 49, 20, 240, 152, 113, 179, 188, 92, 199, 252, 200, 2, 224, 4, 173, 154, 243, 174, 177, 185, 109, 123, 29, 191, 76, 195, 43, 133, 128, 149, 53, 78, 130, 153, 247, 104, 187, 108, 218, 249, 135, 8, 34, 216, 210, 65, 148, 248, 223, 165, 227, 31, 40, 75, 228, 116, 255, 220, 198, 144, 14, 80, 219, 32, 213, 50, 46, 118, 145, 201, 158, 61, 180, 172, 64, 5, 9, 237, 105, 209, 42, 70, 232, 137, 51, 114, 206, 141, 62, 106, 7, 87, 215, 202, 217, 222, 100, 229, 48, 66, 238, 115, 139, 82, 52, 12, 125, 181, 97, 235, 67, 230, 211, 17, 27, 124, 83, 101, 207, 19, 95, 25, 168, 107, 68, 203, 127, 10, 140, 13, 251, 132, 192, 246, 250, 93, 99, 175, 184, 253, 91, 159, 196, 189, 119, 126, 81, 56, 214, 134, 44, 57, 163, 11, 194, 37, 63, 176, 244, 212, 59, 111, 193, 3, 41, 166, 169, 142, 39, 23, 186, 38, 241, 69, 221, 33, 121, 77, 54, 96, 160, 234, 47, 36, 15, 79, 88, 72, 239, 170, 233, 231, 178, 85, 225, 245, 1)\n",
    ",(0, 16, 28, 208, 84, 90, 55, 35, 94, 156, 254, 146, 129, 24, 22, 74, 112, 73, 86, 157, 205, 103, 131, 226, 120, 45, 18, 150, 136, 122, 242, 236, 164, 60, 26, 182, 143, 89, 71, 190, 162, 171, 98, 21, 102, 147, 167, 138, 110, 183, 30, 58, 155, 117, 151, 161, 197, 6, 204, 49, 20, 240, 152, 113, 179, 188, 92, 199, 252, 200, 2, 224, 4, 173, 154, 243, 174, 177, 185, 109, 123, 29, 191, 76, 195, 43, 133, 128, 66, 53, 78, 130, 153, 247, 104, 187, 108, 218, 249, 135, 8, 34, 216, 210, 65, 148, 248, 223, 165, 227, 31, 40, 75, 228, 116, 255, 220, 198, 144, 14, 80, 219, 246, 213, 50, 46, 118, 145, 201, 158, 61, 180, 172, 64, 5, 9, 237, 105, 209, 42, 70, 232, 137, 51, 114, 206, 141, 62, 106, 7, 87, 215, 202, 217, 222, 100, 229, 48, 149, 238, 115, 139, 82, 52, 12, 125, 181, 97, 235, 67, 230, 211, 17, 27, 124, 83, 101, 207, 19, 95, 25, 168, 107, 68, 203, 127, 10, 140, 13, 251, 132, 192, 32, 250, 93, 99, 175, 184, 253, 91, 159, 196, 189, 119, 126, 81, 56, 214, 134, 44, 57, 163, 11, 194, 37, 63, 176, 244, 212, 59, 111, 193, 3, 41, 166, 169, 142, 39, 23, 186, 38, 241, 69, 221, 33, 121, 77, 54, 96, 160, 234, 47, 36, 15, 79, 88, 72, 239, 170, 233, 231, 178, 85, 225, 245, 1)\n",
    ",(0, 16, 28, 208, 84, 90, 55, 35, 94, 156, 254, 146, 129, 24, 22, 74, 112, 73, 86, 157, 205, 103, 131, 226, 120, 45, 18, 150, 136, 122, 242, 236, 164, 60, 26, 182, 143, 89, 71, 190, 162, 171, 98, 21, 102, 147, 67, 138, 110, 183, 30, 58, 155, 117, 151, 161, 197, 6, 204, 49, 20, 240, 152, 113, 179, 188, 92, 199, 252, 200, 2, 224, 4, 173, 154, 243, 174, 177, 185, 109, 123, 29, 191, 76, 195, 43, 133, 128, 149, 53, 78, 130, 153, 247, 104, 187, 108, 218, 249, 135, 8, 34, 216, 210, 65, 148, 248, 223, 165, 227, 31, 40, 75, 228, 116, 255, 220, 198, 144, 14, 80, 219, 246, 213, 50, 46, 118, 145, 201, 158, 61, 180, 172, 64, 5, 9, 237, 105, 209, 42, 70, 232, 137, 51, 114, 206, 141, 62, 106, 7, 87, 215, 202, 217, 222, 100, 229, 48, 66, 238, 115, 139, 82, 52, 12, 125, 181, 97, 235, 167, 230, 211, 17, 27, 124, 83, 101, 207, 19, 95, 25, 168, 107, 68, 203, 127, 10, 140, 13, 251, 132, 192, 32, 250, 93, 99, 175, 184, 253, 91, 159, 196, 189, 119, 126, 81, 56, 214, 134, 44, 57, 163, 11, 194, 37, 63, 176, 244, 212, 59, 111, 193, 3, 41, 166, 169, 142, 39, 23, 186, 38, 241, 69, 221, 33, 121, 77, 54, 96, 160, 234, 47, 36, 15, 79, 88, 72, 239, 170, 233, 231, 178, 85, 225, 245, 1)\n",
    ",(0, 16, 28, 208, 84, 90, 55, 35, 94, 156, 254, 146, 129, 24, 22, 74, 112, 73, 86, 157, 205, 103, 131, 226, 120, 45, 18, 150, 136, 122, 242, 236, 164, 60, 26, 182, 143, 89, 139, 190, 162, 171, 98, 21, 102, 147, 167, 138, 110, 183, 30, 58, 155, 117, 151, 161, 197, 6, 204, 49, 20, 240, 152, 113, 179, 188, 92, 199, 252, 200, 2, 224, 4, 173, 154, 243, 174, 177, 185, 109, 123, 29, 191, 76, 195, 43, 133, 128, 149, 53, 78, 130, 153, 247, 104, 187, 108, 218, 249, 135, 8, 34, 216, 210, 65, 148, 248, 223, 165, 227, 31, 40, 75, 228, 116, 255, 220, 198, 144, 14, 80, 219, 246, 213, 50, 46, 118, 145, 201, 158, 61, 180, 172, 64, 5, 9, 237, 105, 209, 42, 70, 232, 137, 51, 114, 206, 141, 62, 106, 7, 87, 215, 202, 217, 222, 100, 229, 48, 66, 238, 115, 71, 82, 52, 12, 125, 181, 97, 235, 67, 230, 211, 17, 27, 124, 83, 101, 207, 19, 95, 25, 168, 107, 68, 203, 127, 10, 140, 13, 251, 132, 192, 32, 250, 93, 99, 175, 184, 253, 91, 159, 196, 189, 119, 126, 81, 56, 214, 134, 44, 57, 163, 11, 194, 37, 63, 176, 244, 212, 59, 111, 193, 3, 41, 166, 169, 142, 39, 23, 186, 38, 241, 69, 221, 33, 121, 77, 54, 96, 160, 234, 47, 36, 15, 79, 88, 72, 239, 170, 233, 231, 178, 85, 225, 245, 1)\n",
    ",(0, 16, 28, 208, 84, 90, 55, 35, 94, 156, 254, 146, 129, 24, 22, 74, 112, 73, 86, 157, 205, 103, 131, 226, 120, 45, 18, 150, 136, 122, 242, 236, 164, 60, 26, 182, 143, 89, 255, 190, 162, 171, 98, 21, 102, 147, 167, 138, 110, 183, 30, 58, 155, 117, 151, 161, 197, 6, 204, 49, 20, 240, 152, 113, 179, 188, 92, 199, 252, 200, 2, 224, 4, 173, 154, 243, 174, 177, 185, 109, 123, 29, 191, 76, 195, 43, 133, 128, 149, 53, 78, 130, 153, 247, 104, 187, 108, 218, 249, 135, 8, 34, 216, 210, 65, 148, 248, 223, 165, 227, 31, 40, 75, 228, 116, 71, 220, 198, 144, 14, 80, 219, 246, 213, 50, 46, 118, 145, 201, 158, 61, 180, 172, 64, 5, 9, 237, 105, 209, 42, 70, 232, 137, 51, 114, 206, 141, 62, 106, 7, 87, 215, 202, 217, 222, 100, 229, 48, 66, 238, 115, 139, 82, 52, 12, 125, 181, 97, 235, 67, 230, 211, 17, 27, 124, 83, 101, 207, 19, 95, 25, 168, 107, 68, 203, 127, 10, 140, 13, 251, 132, 192, 32, 250, 93, 99, 175, 184, 253, 91, 159, 196, 189, 119, 126, 81, 56, 214, 134, 44, 57, 163, 11, 194, 37, 63, 176, 244, 212, 59, 111, 193, 3, 41, 166, 169, 142, 39, 23, 186, 38, 241, 69, 221, 33, 121, 77, 54, 96, 160, 234, 47, 36, 15, 79, 88, 72, 239, 170, 233, 231, 178, 85, 225, 245, 1)\n",
    ",(0, 16, 28, 208, 84, 90, 55, 35, 94, 156, 254, 146, 129, 24, 22, 74, 112, 73, 86, 157, 205, 103, 131, 226, 120, 45, 18, 150, 136, 122, 242, 236, 164, 60, 26, 182, 143, 89, 71, 190, 162, 171, 98, 21, 102, 147, 88, 138, 110, 183, 30, 58, 155, 117, 151, 161, 197, 6, 204, 49, 20, 240, 152, 113, 179, 188, 92, 199, 252, 200, 2, 224, 4, 173, 154, 243, 174, 177, 185, 109, 123, 29, 191, 76, 195, 43, 133, 128, 149, 53, 78, 130, 153, 247, 104, 187, 108, 218, 249, 135, 8, 34, 216, 210, 65, 148, 248, 223, 165, 227, 31, 40, 75, 228, 116, 255, 220, 198, 144, 14, 80, 219, 246, 213, 50, 46, 118, 145, 201, 158, 61, 180, 172, 64, 5, 9, 237, 105, 209, 42, 70, 232, 137, 51, 114, 206, 141, 62, 106, 7, 87, 215, 202, 217, 222, 100, 229, 48, 66, 238, 115, 139, 82, 52, 12, 125, 181, 97, 235, 67, 230, 211, 17, 27, 124, 83, 101, 207, 19, 95, 25, 168, 107, 68, 203, 127, 10, 140, 13, 251, 132, 192, 32, 250, 93, 99, 175, 184, 253, 91, 159, 196, 189, 119, 126, 81, 56, 214, 134, 44, 57, 163, 11, 194, 37, 63, 176, 244, 212, 59, 111, 193, 3, 41, 166, 169, 142, 39, 23, 186, 38, 241, 69, 221, 33, 121, 77, 54, 96, 160, 234, 47, 36, 15, 79, 167, 72, 239, 170, 233, 231, 178, 85, 225, 245, 1)\n",
    ",(0, 16, 28, 208, 84, 90, 55, 35, 94, 156, 254, 146, 129, 24, 22, 74, 112, 73, 86, 157, 205, 103, 131, 226, 120, 45, 18, 150, 136, 122, 242, 236, 164, 60, 26, 182, 143, 89, 71, 190, 162, 171, 98, 21, 102, 147, 167, 138, 110, 183, 30, 58, 155, 117, 151, 161, 197, 6, 204, 49, 20, 240, 152, 113, 179, 188, 92, 199, 252, 200, 2, 224, 4, 173, 154, 243, 174, 177, 185, 109, 123, 29, 191, 76, 195, 43, 133, 128, 149, 53, 78, 130, 153, 247, 104, 187, 108, 218, 249, 135, 8, 34, 216, 210, 65, 148, 91, 223, 165, 227, 31, 40, 75, 228, 116, 255, 220, 198, 144, 14, 80, 219, 246, 213, 50, 46, 118, 145, 201, 158, 61, 180, 172, 64, 5, 9, 237, 105, 209, 42, 70, 232, 137, 51, 114, 206, 141, 62, 106, 7, 87, 215, 202, 217, 222, 100, 229, 48, 66, 238, 115, 139, 82, 52, 12, 125, 181, 97, 235, 67, 230, 211, 17, 27, 124, 83, 101, 207, 19, 95, 25, 168, 107, 68, 203, 127, 10, 140, 13, 251, 132, 192, 32, 250, 93, 99, 175, 184, 253, 248, 159, 196, 189, 119, 126, 81, 56, 214, 134, 44, 57, 163, 11, 194, 37, 63, 176, 244, 212, 59, 111, 193, 3, 41, 166, 169, 142, 39, 23, 186, 38, 241, 69, 221, 33, 121, 77, 54, 96, 160, 234, 47, 36, 15, 79, 88, 72, 239, 170, 233, 231, 178, 85, 225, 245, 1)\n",
    ",(0, 16, 28, 208, 84, 90, 55, 35, 94, 156, 254, 146, 129, 24, 22, 74, 112, 73, 86, 157, 205, 103, 131, 226, 120, 45, 18, 150, 136, 122, 242, 236, 164, 60, 26, 182, 143, 89, 71, 190, 162, 171, 98, 21, 102, 147, 167, 138, 110, 183, 30, 58, 155, 117, 104, 161, 197, 6, 204, 49, 20, 240, 152, 113, 179, 188, 92, 199, 252, 200, 2, 224, 4, 173, 154, 243, 174, 177, 185, 109, 123, 29, 191, 76, 195, 43, 133, 128, 149, 53, 78, 130, 153, 247, 151, 187, 108, 218, 249, 135, 8, 34, 216, 210, 65, 148, 248, 223, 165, 227, 31, 40, 75, 228, 116, 255, 220, 198, 144, 14, 80, 219, 246, 213, 50, 46, 118, 145, 201, 158, 61, 180, 172, 64, 5, 9, 237, 105, 209, 42, 70, 232, 137, 51, 114, 206, 141, 62, 106, 7, 87, 215, 202, 217, 222, 100, 229, 48, 66, 238, 115, 139, 82, 52, 12, 125, 181, 97, 235, 67, 230, 211, 17, 27, 124, 83, 101, 207, 19, 95, 25, 168, 107, 68, 203, 127, 10, 140, 13, 251, 132, 192, 32, 250, 93, 99, 175, 184, 253, 91, 159, 196, 189, 119, 126, 81, 56, 214, 134, 44, 57, 163, 11, 194, 37, 63, 176, 244, 212, 59, 111, 193, 3, 41, 166, 169, 142, 39, 23, 186, 38, 241, 69, 221, 33, 121, 77, 54, 96, 160, 234, 47, 36, 15, 79, 88, 72, 239, 170, 233, 231, 178, 85, 225, 245, 1)\n",
    ",(0, 16, 28, 208, 84, 90, 55, 35, 94, 156, 254, 146, 129, 24, 22, 74, 112, 73, 86, 157, 205, 103, 131, 226, 120, 45, 18, 150, 136, 122, 242, 236, 164, 60, 26, 182, 143, 89, 71, 190, 162, 171, 98, 21, 102, 147, 167, 138, 110, 183, 30, 58, 155, 117, 151, 161, 197, 6, 204, 49, 20, 240, 152, 113, 179, 188, 92, 199, 252, 200, 2, 224, 4, 173, 154, 243, 174, 177, 185, 109, 123, 29, 191, 76, 195, 43, 133, 128, 149, 53, 78, 130, 153, 247, 104, 187, 108, 218, 249, 135, 8, 34, 216, 210, 65, 148, 248, 223, 165, 227, 31, 40, 75, 228, 116, 255, 220, 198, 144, 14, 80, 219, 246, 213, 50, 46, 118, 145, 201, 158, 61, 180, 172, 64, 5, 9, 237, 105, 209, 42, 70, 232, 137, 51, 114, 206, 141, 62, 106, 7, 87, 215, 132, 217, 222, 100, 229, 48, 66, 238, 115, 139, 82, 52, 12, 125, 181, 97, 235, 67, 230, 211, 17, 27, 124, 83, 101, 207, 19, 95, 25, 168, 107, 68, 203, 127, 10, 140, 13, 251, 202, 192, 32, 250, 93, 99, 175, 184, 253, 91, 159, 196, 189, 119, 126, 81, 56, 214, 134, 44, 57, 163, 11, 194, 37, 63, 176, 244, 212, 59, 111, 193, 3, 41, 166, 169, 142, 39, 23, 186, 38, 241, 69, 221, 33, 121, 77, 54, 96, 160, 234, 47, 36, 15, 79, 88, 72, 239, 170, 233, 231, 178, 85, 225, 245, 1)\n",
    ",(0, 16, 28, 208, 84, 90, 55, 35, 94, 156, 254, 146, 129, 24, 22, 74, 112, 73, 86, 157, 205, 103, 131, 226, 120, 45, 18, 150, 136, 122, 242, 236, 164, 60, 26, 182, 143, 89, 71, 190, 162, 171, 98, 21, 102, 147, 167, 138, 110, 183, 30, 58, 155, 117, 151, 161, 197, 6, 204, 49, 20, 240, 152, 113, 179, 188, 92, 199, 252, 200, 2, 224, 4, 173, 154, 243, 174, 177, 185, 109, 123, 29, 191, 76, 195, 43, 133, 128, 149, 53, 78, 130, 153, 247, 104, 187, 108, 218, 249, 135, 8, 34, 216, 210, 65, 148, 248, 223, 165, 227, 31, 40, 75, 228, 116, 255, 220, 198, 144, 14, 80, 219, 246, 213, 50, 46, 118, 145, 201, 158, 61, 180, 172, 64, 5, 9, 237, 105, 209, 42, 70, 232, 245, 51, 114, 206, 141, 62, 106, 7, 87, 215, 202, 217, 222, 100, 229, 48, 66, 238, 115, 139, 82, 52, 12, 125, 181, 97, 235, 67, 230, 211, 17, 27, 124, 83, 101, 207, 19, 95, 25, 168, 107, 68, 203, 127, 10, 140, 13, 251, 132, 192, 32, 250, 93, 99, 175, 184, 253, 91, 159, 196, 189, 119, 126, 81, 56, 214, 134, 44, 57, 163, 11, 194, 37, 63, 176, 244, 212, 59, 111, 193, 3, 41, 166, 169, 142, 39, 23, 186, 38, 241, 69, 221, 33, 121, 77, 54, 96, 160, 234, 47, 36, 15, 79, 88, 72, 239, 170, 233, 231, 178, 85, 225, 137, 1)\n",
    ",(0, 16, 28, 208, 84, 90, 55, 35, 94, 156, 254, 146, 129, 24, 22, 74, 112, 73, 86, 157, 205, 103, 131, 226, 120, 45, 18, 150, 136, 122, 242, 236, 164, 60, 26, 182, 143, 89, 71, 190, 162, 171, 98, 21, 102, 147, 167, 138, 110, 183, 30, 58, 155, 117, 151, 161, 197, 6, 204, 49, 20, 240, 152, 113, 179, 188, 92, 199, 252, 200, 2, 224, 4, 173, 154, 243, 174, 177, 185, 109, 123, 29, 191, 76, 195, 43, 133, 128, 149, 53, 78, 130, 153, 247, 104, 187, 108, 218, 249, 135, 8, 34, 216, 210, 65, 148, 248, 223, 165, 227, 31, 40, 75, 228, 116, 255, 220, 186, 144, 14, 80, 219, 246, 213, 50, 46, 118, 145, 201, 158, 61, 180, 172, 64, 5, 9, 237, 105, 209, 42, 70, 232, 137, 51, 114, 206, 141, 62, 106, 7, 87, 215, 202, 217, 222, 100, 229, 48, 66, 238, 115, 139, 82, 52, 12, 125, 181, 97, 235, 67, 230, 211, 17, 27, 124, 83, 101, 207, 19, 95, 25, 168, 107, 68, 203, 127, 10, 140, 13, 251, 132, 192, 32, 250, 93, 99, 175, 184, 253, 91, 159, 196, 189, 119, 126, 81, 56, 214, 134, 44, 57, 163, 11, 194, 37, 63, 176, 244, 212, 59, 111, 193, 3, 41, 166, 169, 142, 39, 23, 198, 38, 241, 69, 221, 33, 121, 77, 54, 96, 160, 234, 47, 36, 15, 79, 88, 72, 239, 170, 233, 231, 178, 85, 225, 245, 1)\n",
    ",(0, 16, 28, 208, 84, 90, 55, 35, 94, 156, 254, 146, 129, 24, 22, 74, 112, 73, 86, 157, 205, 103, 131, 226, 120, 45, 18, 150, 136, 122, 242, 236, 164, 60, 26, 182, 143, 89, 71, 190, 162, 171, 98, 21, 102, 147, 167, 138, 110, 183, 30, 58, 155, 117, 151, 161, 197, 6, 204, 49, 20, 240, 152, 113, 179, 188, 92, 199, 252, 200, 2, 224, 4, 173, 154, 243, 174, 177, 185, 109, 123, 29, 191, 76, 195, 43, 133, 128, 149, 53, 78, 130, 153, 247, 104, 187, 108, 218, 249, 135, 8, 34, 216, 210, 65, 148, 194, 223, 165, 227, 31, 40, 75, 228, 116, 255, 220, 198, 144, 14, 80, 219, 246, 213, 50, 46, 118, 145, 201, 158, 61, 180, 172, 64, 5, 9, 237, 105, 209, 42, 70, 232, 137, 51, 114, 206, 141, 62, 106, 7, 87, 215, 202, 217, 222, 100, 229, 48, 66, 238, 115, 139, 82, 52, 12, 125, 181, 97, 235, 67, 230, 211, 17, 27, 124, 83, 101, 207, 19, 95, 25, 168, 107, 68, 203, 127, 10, 140, 13, 251, 132, 192, 32, 250, 93, 99, 175, 184, 253, 91, 159, 196, 189, 119, 126, 81, 56, 214, 134, 44, 57, 163, 11, 248, 37, 63, 176, 244, 212, 59, 111, 193, 3, 41, 166, 169, 142, 39, 23, 186, 38, 241, 69, 221, 33, 121, 77, 54, 96, 160, 234, 47, 36, 15, 79, 88, 72, 239, 170, 233, 231, 178, 85, 225, 245, 1)\n",
    ",(0, 16, 28, 208, 84, 90, 55, 35, 94, 156, 254, 146, 129, 24, 22, 74, 112, 73, 86, 157, 205, 103, 131, 226, 120, 45, 18, 150, 136, 122, 242, 236, 164, 60, 26, 182, 143, 89, 71, 190, 162, 171, 98, 21, 102, 147, 167, 138, 110, 183, 30, 58, 155, 117, 151, 161, 197, 6, 204, 49, 20, 240, 152, 113, 179, 188, 92, 199, 252, 200, 2, 224, 4, 173, 154, 243, 174, 177, 185, 109, 123, 29, 191, 76, 195, 43, 133, 128, 149, 53, 78, 130, 153, 247, 104, 187, 108, 218, 249, 135, 8, 34, 216, 210, 65, 148, 248, 223, 165, 227, 31, 40, 75, 228, 116, 246, 220, 198, 144, 14, 80, 219, 255, 213, 50, 46, 118, 145, 201, 158, 61, 180, 172, 64, 5, 9, 237, 105, 209, 42, 70, 232, 137, 51, 114, 206, 141, 62, 106, 7, 87, 215, 202, 217, 222, 100, 229, 48, 66, 238, 115, 139, 82, 52, 12, 125, 181, 97, 235, 67, 230, 211, 17, 27, 124, 83, 101, 207, 19, 95, 25, 168, 107, 68, 203, 127, 10, 140, 13, 251, 132, 192, 32, 250, 93, 99, 175, 184, 253, 91, 159, 196, 189, 119, 126, 81, 56, 214, 134, 44, 57, 163, 11, 194, 37, 63, 176, 244, 212, 59, 111, 193, 3, 41, 166, 169, 142, 39, 23, 186, 38, 241, 69, 221, 33, 121, 77, 54, 96, 160, 234, 47, 36, 15, 79, 88, 72, 239, 170, 233, 231, 178, 85, 225, 245, 1)]"
   ]
  },
  {
   "cell_type": "code",
   "execution_count": 4,
   "id": "470653cd-d8a6-4e9f-b54c-6dfa83adbc43",
   "metadata": {},
   "outputs": [
    {
     "ename": "IndexError",
     "evalue": "list index out of range",
     "output_type": "error",
     "traceback": [
      "\u001b[0;31m---------------------------------------------------------------------------\u001b[0m",
      "\u001b[0;31mIndexError\u001b[0m                                Traceback (most recent call last)",
      "Cell \u001b[0;32mIn[4], line 1\u001b[0m\n\u001b[0;32m----> 1\u001b[0m sbox \u001b[38;5;241m=\u001b[39m SBox(\u001b[43marrs\u001b[49m\u001b[43m[\u001b[49m\u001b[43mInteger\u001b[49m\u001b[43m(\u001b[49m\u001b[38;5;241;43m16\u001b[39;49m\u001b[43m)\u001b[49m\u001b[43m]\u001b[49m)\n\u001b[1;32m      2\u001b[0m min_char\u001b[38;5;241m=\u001b[39m Integer(\u001b[38;5;241m100000000\u001b[39m)\n\u001b[1;32m      3\u001b[0m \u001b[38;5;28;01mfor\u001b[39;00m i \u001b[38;5;129;01min\u001b[39;00m \u001b[38;5;28mrange\u001b[39m(Integer(\u001b[38;5;241m1\u001b[39m), Integer(\u001b[38;5;241m2\u001b[39m)\u001b[38;5;241m*\u001b[39m\u001b[38;5;241m*\u001b[39mn):\n",
      "\u001b[0;31mIndexError\u001b[0m: list index out of range"
     ]
    }
   ],
   "source": [
    "sbox = SBox(arrs[16])\n",
    "min_char= 100000000\n",
    "for i in range(1, 2^n):\n",
    "    char = sbox.component_function(i).algebraic_degree()\n",
    "    if char < min_char:\n",
    "        min_char = char\n",
    "print(min_char)\n"
   ]
  },
  {
   "cell_type": "code",
   "execution_count": null,
   "id": "39d90bd4-baea-4dab-a19f-6bd2468e4631",
   "metadata": {},
   "outputs": [],
   "source": []
  },
  {
   "cell_type": "code",
   "execution_count": null,
   "id": "f8da949b-85be-4729-9b7b-364850526b0a",
   "metadata": {},
   "outputs": [],
   "source": []
  },
  {
   "cell_type": "code",
   "execution_count": 8,
   "id": "6fab2d43-47e3-46bb-b042-0dbfb357948e",
   "metadata": {},
   "outputs": [],
   "source": [
    "SUPER_GOOD_SBOXES = []"
   ]
  },
  {
   "cell_type": "code",
   "execution_count": 9,
   "id": "27482f17-49af-40d0-8307-b44ef7001c2f",
   "metadata": {},
   "outputs": [],
   "source": [
    "from sage.crypto.sboxes import SBox"
   ]
  },
  {
   "cell_type": "code",
   "execution_count": null,
   "id": "8c87af1d-6afe-4db1-b827-9dcad56716d9",
   "metadata": {},
   "outputs": [],
   "source": []
  },
  {
   "cell_type": "code",
   "execution_count": 10,
   "id": "371be36e-8389-4f6a-a5f6-bd4cac72ea59",
   "metadata": {},
   "outputs": [],
   "source": [
    "for item in GOOD_SBOXES:\n",
    "    new_sbox = [F.from_integer(x)+F.from_integer(1) for x in item]\n",
    "    SUPER_GOOD_SBOXES.append(new_sbox)"
   ]
  },
  {
   "cell_type": "code",
   "execution_count": 11,
   "id": "c69f9c4a-72d1-4057-bedb-ea56b73a97de",
   "metadata": {},
   "outputs": [
    {
     "name": "stdout",
     "output_type": "stream",
     "text": [
      "6 100\n",
      "6 100\n",
      "6 100\n"
     ]
    }
   ],
   "source": [
    "for item in SUPER_GOOD_SBOXES:\n",
    "    sbox = SBox(item)\n",
    "\n",
    "    min_char= 100000000\n",
    "    for i in range(1, 2^n):\n",
    "        char = sbox.component_function(i).algebraic_immunity()\n",
    "        if char < min_char:\n",
    "            min_char = char\n",
    "\n",
    "    \n",
    "    print(sbox.differential_uniformity(), sbox.nonlinearity())"
   ]
  },
  {
   "cell_type": "code",
   "execution_count": null,
   "id": "106a9581-b3ca-49c9-9de3-08fbaa67e5b8",
   "metadata": {},
   "outputs": [],
   "source": []
  },
  {
   "cell_type": "code",
   "execution_count": 10,
   "id": "6ef5d2d1-6187-463a-bb3f-60ab9ce1a186",
   "metadata": {},
   "outputs": [
    {
     "data": {
      "text/plain": [
       "[]"
      ]
     },
     "execution_count": 10,
     "metadata": {},
     "output_type": "execute_result"
    }
   ],
   "source": [
    "sbox.fixed_points()"
   ]
  },
  {
   "cell_type": "code",
   "execution_count": 14,
   "id": "e6fded05-8f47-407d-b26d-a638bcecc08f",
   "metadata": {},
   "outputs": [],
   "source": [
    "with open(\"kuzniechik_DESTROYERS_without_fixed_points.txt\", \"w\") as file:\n",
    "    for item in SUPER_GOOD_SBOXES:\n",
    "        file.write(str(item)+\",\\n\")"
   ]
  },
  {
   "cell_type": "code",
   "execution_count": null,
   "id": "7fa7d319-2936-4fe1-bb66-8b1be7d8fc8d",
   "metadata": {},
   "outputs": [],
   "source": []
  },
  {
   "cell_type": "code",
   "execution_count": null,
   "id": "08f83454-ec3c-49e6-8cd9-7719d783081b",
   "metadata": {},
   "outputs": [],
   "source": []
  },
  {
   "cell_type": "code",
   "execution_count": null,
   "id": "1902f6fd-7538-4a60-af28-e087003e9704",
   "metadata": {},
   "outputs": [],
   "source": []
  },
  {
   "cell_type": "code",
   "execution_count": null,
   "id": "10cb2614-fd4a-48ca-93f0-8c3162dbfe6f",
   "metadata": {},
   "outputs": [],
   "source": []
  },
  {
   "cell_type": "code",
   "execution_count": null,
   "id": "bd7523ef-adb7-466e-9b71-dd2f7361ea42",
   "metadata": {},
   "outputs": [],
   "source": []
  },
  {
   "cell_type": "code",
   "execution_count": 7,
   "id": "8c67772f-106f-4443-a824-86875611144b",
   "metadata": {},
   "outputs": [],
   "source": [
    "GOOD_SBOXES = [(0, 16, 28, 208, 84, 90, 55, 35, 94, 156, 254, 146, 129, 24, 22, 74, 112, 73, 86, 157, 205, 103, 131, 226, 120, 45, 18, 150, 136, 122, 242, 236, 164, 60, 26, 182, 143, 89, 71, 190, 162, 171, 98, 21, 102, 147, 167, 138, 110, 183, 30, 58, 155, 117, 151, 161, 197, 6, 204, 49, 20, 240, 152, 113, 179, 188, 92, 199, 252, 200, 2, 224, 4, 173, 154, 243, 174, 177, 185, 109, 123, 29, 191, 76, 195, 43, 133, 128, 149, 53, 78, 130, 153, 247, 104, 187, 108, 218, 249, 135, 8, 34, 216, 210, 65, 148, 248, 223, 165, 227, 31, 40, 75, 228, 116, 255, 220, 198, 144, 14, 80, 219, 246, 213, 50, 46, 118, 145, 201, 158, 61, 180, 172, 64, 5, 9, 237, 105, 209, 42, 70, 232, 137, 51, 114, 206, 141, 62, 106, 7, 87, 215, 202, 217, 222, 100, 229, 48, 66, 238, 115, 139, 82, 52, 12, 125, 181, 97, 235, 23, 230, 211, 17, 27, 124, 83, 101, 207, 19, 95, 25, 168, 107, 68, 203, 127, 10, 140, 13, 251, 132, 192, 32, 250, 93, 99, 175, 184, 253, 91, 159, 196, 189, 119, 126, 81, 56, 214, 134, 44, 57, 163, 11, 194, 37, 63, 176, 244, 212, 59, 111, 193, 3, 41, 166, 169, 142, 39, 67, 186, 38, 241, 69, 221, 33, 121, 77, 54, 96, 160, 234, 47, 36, 15, 79, 88, 72, 239, 170, 233, 231, 178, 85, 225, 245, 1)\n",
    ",(0, 16, 28, 208, 84, 90, 55, 35, 94, 156, 254, 146, 129, 24, 22, 74, 112, 73, 86, 157, 205, 103, 131, 226, 120, 45, 18, 150, 136, 122, 242, 236, 164, 60, 26, 182, 143, 89, 71, 190, 162, 171, 98, 21, 102, 147, 167, 138, 110, 183, 30, 58, 155, 117, 151, 161, 197, 6, 204, 49, 20, 240, 152, 113, 179, 188, 92, 199, 252, 200, 2, 224, 4, 173, 154, 243, 174, 32, 185, 109, 123, 29, 191, 76, 195, 43, 133, 128, 149, 53, 78, 130, 153, 247, 104, 187, 108, 218, 249, 135, 8, 34, 216, 210, 65, 148, 248, 223, 165, 227, 31, 40, 75, 228, 116, 255, 220, 198, 144, 14, 80, 219, 246, 213, 50, 46, 118, 145, 201, 158, 61, 180, 172, 64, 5, 9, 237, 105, 209, 42, 70, 232, 137, 51, 114, 206, 141, 62, 106, 7, 87, 215, 202, 217, 222, 100, 229, 48, 66, 238, 115, 139, 82, 52, 12, 125, 181, 97, 235, 67, 230, 211, 17, 27, 124, 83, 101, 207, 19, 95, 25, 168, 107, 68, 203, 127, 10, 140, 13, 251, 132, 192, 177, 250, 93, 99, 175, 184, 253, 91, 159, 196, 189, 119, 126, 81, 56, 214, 134, 44, 57, 163, 11, 194, 37, 63, 176, 244, 212, 59, 111, 193, 3, 41, 166, 169, 142, 39, 23, 186, 38, 241, 69, 221, 33, 121, 77, 54, 96, 160, 234, 47, 36, 15, 79, 88, 72, 239, 170, 233, 231, 178, 85, 225, 245, 1)\n",
    ",\n",
    "(0, 16, 28, 208, 84, 90, 55, 35, 94, 156, 254, 146, 129, 24, 22, 74, 112, 73, 86, 157, 205, 103, 131, 226, 120, 45, 18, 150, 136, 122, 242, 236, 164, 60, 26, 182, 143, 89, 71, 190, 162, 171, 98, 21, 102, 147, 167, 138, 110, 183, 30, 58, 155, 117, 151, 161, 197, 6, 204, 49, 20, 240, 152, 113, 179, 188, 92, 199, 252, 200, 2, 224, 4, 173, 154, 243, 174, 177, 185, 109, 123, 29, 191, 76, 195, 43, 133, 128, 149, 53, 78, 130, 153, 247, 104, 187, 108, 218, 249, 135, 8, 34, 216, 210, 65, 148, 91, 223, 165, 227, 31, 40, 75, 228, 116, 255, 220, 198, 144, 14, 80, 219, 246, 213, 50, 46, 118, 145, 201, 158, 61, 180, 172, 64, 5, 9, 237, 105, 209, 42, 70, 232, 137, 51, 114, 206, 141, 62, 106, 7, 87, 215, 202, 217, 222, 100, 229, 48, 66, 238, 115, 139, 82, 52, 12, 125, 181, 97, 235, 67, 230, 211, 17, 27, 124, 83, 101, 207, 19, 95, 25, 168, 107, 68, 203, 127, 10, 140, 13, 251, 132, 192, 32, 250, 93, 99, 175, 184, 253, 248, 159, 196, 189, 119, 126, 81, 56, 214, 134, 44, 57, 163, 11, 194, 37, 63, 176, 244, 212, 59, 111, 193, 3, 41, 166, 169, 142, 39, 23, 186, 38, 241, 69, 221, 33, 121, 77, 54, 96, 160, 234, 47, 36, 15, 79, 88, 72, 239, 170, 233, 231, 178, 85, 225, 245, 1)\n",
    "              ]"
   ]
  },
  {
   "cell_type": "code",
   "execution_count": null,
   "id": "109b6cc9-6fb7-475c-9f2f-39c56bd6845d",
   "metadata": {},
   "outputs": [],
   "source": []
  },
  {
   "cell_type": "code",
   "execution_count": null,
   "id": "d97d61bf-8e97-4204-9b8f-1f4c0581d4d5",
   "metadata": {},
   "outputs": [],
   "source": []
  },
  {
   "cell_type": "code",
   "execution_count": null,
   "id": "3758d7e9-3fd3-4372-894d-8b0c2eb74e00",
   "metadata": {},
   "outputs": [],
   "source": []
  }
 ],
 "metadata": {
  "kernelspec": {
   "display_name": "SageMath 10.4",
   "language": "sage",
   "name": "sagemath"
  },
  "language_info": {
   "codemirror_mode": {
    "name": "ipython",
    "version": 3
   },
   "file_extension": ".py",
   "mimetype": "text/x-python",
   "name": "python",
   "nbconvert_exporter": "python",
   "pygments_lexer": "ipython3",
   "version": "3.10.14"
  }
 },
 "nbformat": 4,
 "nbformat_minor": 5
}
