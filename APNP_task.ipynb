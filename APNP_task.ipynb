{
 "cells": [
  {
   "cell_type": "code",
   "execution_count": 2,
   "id": "d84821a0-7aba-4a7b-81a5-67d11c84d49f",
   "metadata": {},
   "outputs": [],
   "source": [
    "def conjugate(S, G, f):\n",
    "    conjugated_generators = list(map(lambda x: f^-1*x*f,G.minimal_generating_set()))\n",
    "    return S.subgroup(gens= conjugated_generators)\n",
    "\n",
    "def build_translations_group(sorted_shifts,sorted_field_elements,S):\n",
    "    translations = []\n",
    "    translations_dict = {}\n",
    "    for t in sorted_shifts:\n",
    "        translation_by_t = S([t + item for item in sorted_field_elements])\n",
    "        translations.append(translation_by_t)\n",
    "        translations_dict[t] = translation_by_t\n",
    "    return (S.subgroup(translations), translations_dict)\n",
    "\n",
    "\n",
    "def build_inversion(sorted_field_elements,S, F):\n",
    "    return S([x^-1 if x != F(0) else F(0) for x in sorted_field_elements])\n",
    "def build_dilon(sorted_field_elements,S, F):\n",
    "    dilon_map = [0, 54, 48, 13,15,18,53,35,25,63,45,52,3,20,41,33,59,36,2,34,10,8,57,37,60,19,42,14,50,26,58,24,39,27,21,17,16,29,1,62,47,40,51,56,7,43,44,38,31,11,4,28,61,46,5,49,9,6,23,32,30,12,55,22]\n",
    "    return S([F.fetch_int(x) for x in dilon_map])\n",
    "def build_good_sbox():\n",
    "    GOOD_SBOX = (0x6e, 0xe8, 0x5f, 0xa8, 0x32, 0x24, 0xa7, 0x0e, 0x1d, 0x64, 0x87, 0x14, 0xc3, 0x6f, 0x95, 0x92,\n",
    "        0xfb, 0x4c, 0x82, 0x99, 0x3d, 0x19, 0xac, 0x45, 0x9f, 0xfe, 0xde, 0x15, 0xb9, 0xf9, 0xe2, 0x8a,\n",
    "        0xec, 0xf5, 0x0d, 0xea, 0x3a, 0x77, 0x47, 0x12, 0x11, 0x01, 0x97, 0xc5, 0x13, 0x10, 0x81, 0x9d,\n",
    "        0xed, 0x75, 0x88, 0x68, 0xfa, 0xa4, 0xc0, 0xca, 0xba, 0xb2, 0x3b, 0x61, 0xae, 0x0a, 0x6c, 0x65,\n",
    "        0xd5, 0x42, 0x5d, 0xdc, 0xf2, 0x85, 0x9b, 0xa6, 0x67, 0x50, 0x63, 0x91, 0xc7, 0x34, 0x80, 0xd7,\n",
    "        0x96, 0x1b, 0x8e, 0x5e, 0x94, 0x2f, 0xb1, 0xad, 0xa0, 0x93, 0x2c, 0x52, 0xd0, 0x29, 0x07, 0xc8,\n",
    "        0x8d, 0x7f, 0x49, 0x6b, 0x36, 0x2e, 0xd9, 0xe0, 0x37, 0xcd, 0x83, 0xaf, 0x6d, 0x57, 0xce, 0xb3,\n",
    "        0x5c, 0xc6, 0x60, 0xd8, 0x3f, 0xe4, 0x4f, 0xab, 0x56, 0xa1, 0x72, 0xe7, 0x69, 0xf1, 0xdd, 0x9c,\n",
    "        0x84, 0x90, 0x25, 0x4b, 0x76, 0x5a, 0x6a, 0xda, 0xf0, 0xe5, 0x53, 0x5b, 0x7e, 0x2a, 0x2b, 0xd3,\n",
    "        0x35, 0xa3, 0x1c, 0xa2, 0x28, 0x9e, 0x30, 0xa9, 0xb4, 0x06, 0x0b, 0xef, 0xaa, 0x43, 0xe9, 0x7d,\n",
    "        0xe1, 0x3e, 0x31, 0x44, 0x54, 0xdb, 0x79, 0xc9, 0x41, 0xfc, 0xf7, 0x66, 0x7a, 0xb7, 0x51, 0x38,\n",
    "        0xdf, 0x62, 0x40, 0xbb, 0x26, 0x09, 0xf3, 0xcf, 0xd2, 0x1a, 0x20, 0x0c, 0x04, 0x16, 0x33, 0x22,\n",
    "        0x4e, 0xa5, 0x58, 0x9a, 0xd6, 0x02, 0xe6, 0xcb, 0xbe, 0xeb, 0x86, 0x7b, 0xbd, 0xd1, 0x03, 0xf6,\n",
    "        0xee, 0x8f, 0x0f, 0x55, 0x8b, 0x4a, 0x7c, 0x23, 0x2d, 0xb6, 0x1f, 0xc2, 0x17, 0xbf, 0x73, 0x08,\n",
    "        0xcc, 0x70, 0x1e, 0x59, 0x46, 0xe3, 0x27, 0xff, 0x78, 0xb8, 0x18, 0x21, 0xd4, 0xbc, 0x98, 0xf4,\n",
    "        0xc1, 0xc4, 0x74, 0x39, 0x89, 0xf8, 0xfd, 0x48, 0x71, 0x4d, 0xb0, 0x3c, 0x00, 0x8c, 0xb5, 0x05,)\n",
    "    return S([F.from_integer(x) for x in GOOD_SBOX])\n",
    "\n",
    "def build_kuznechik():\n",
    "    SBOX = (252, 238, 221, 17, 207, 110, 49, 22, 251, 196, 250, 218, 35, 197, 4, 77, 233,\n",
    "        119, 240, 219, 147, 46, 153, 186, 23, 54, 241, 187, 20, 205, 95, 193, 249, 24, 101,\n",
    "        90, 226, 92, 239, 33, 129, 28, 60, 66, 139, 1, 142, 79, 5, 132, 2, 174, 227, 106, 143,\n",
    "        160, 6, 11, 237, 152, 127, 212, 211, 31, 235, 52, 44, 81, 234, 200, 72, 171, 242, 42,\n",
    "        104, 162, 253, 58, 206, 204, 181, 112, 14, 86, 8, 12, 118, 18, 191, 114, 19, 71, 156,\n",
    "        183, 93, 135, 21, 161, 150, 41, 16, 123, 154, 199, 243, 145, 120, 111, 157, 158, 178,\n",
    "        177, 50, 117, 25, 61, 255, 53, 138, 126, 109, 84, 198, 128, 195, 189, 13, 87, 223,\n",
    "        245, 36, 169, 62, 168, 67, 201, 215, 121, 214, 246, 124, 34, 185, 3, 224, 15, 236,\n",
    "        222, 122, 148, 176, 188, 220, 232, 40, 80, 78, 51, 10, 74, 167, 151, 96, 115, 30, 0,\n",
    "        98, 68, 26, 184, 56, 130, 100, 159, 38, 65, 173, 69, 70, 146, 39, 94, 85, 47, 140, 163,\n",
    "        165, 125, 105, 213, 149, 59, 7, 88, 179, 64, 134, 172, 29, 247, 48, 55, 107, 228, 136,\n",
    "        217, 231, 137, 225, 27, 131, 73, 76, 63, 248, 254, 141, 83, 170, 144, 202, 216, 133,\n",
    "        97, 32, 113, 103, 164, 45, 43, 9, 91, 203, 155, 37, 208, 190, 229, 108, 82, 89, 166,\n",
    "        116, 210, 230, 244, 180, 192, 209, 102, 175, 194, 57, 75, 99, 182)\n",
    "    return S([F.from_integer(x) for x in SBOX])\n",
    "\n",
    "\n",
    "def is_APN(permutation, sorted_field_elements, field):\n",
    "    return differential_uniformity(permutation, sorted_field_elements, field) == 2\n",
    "\n",
    "def differential_uniformity(permutation, field):\n",
    "    max_d = 0\n",
    "    for a in field:\n",
    "        if a == field.zero():\n",
    "            continue\n",
    "        output_differences = defaultdict(lambda: 0)\n",
    "        current_max = 0\n",
    "        for x in field:\n",
    "            xa = x+a\n",
    "            output_differences[permutation(xa)+permutation(x)]+=1\n",
    "            if current_max < output_differences[permutation(xa)+permutation(x)]:\n",
    "                current_max = output_differences[permutation(xa)+permutation(x)]\n",
    "        if current_max > max_d:\n",
    "            max_d = current_max\n",
    "    return max_d\n",
    "\n",
    "def build_DDT(permutation, sorted_field_elements, field):\n",
    "    ddt = {}\n",
    "    for a in sorted_field_elements:\n",
    "        ddt[a] = {}\n",
    "        for b in sorted_field_elements:\n",
    "            if a == field(0):\n",
    "                ddt[a][b] = 0\n",
    "            else:\n",
    "                ddt[a][b] = 0\n",
    "                for x in sorted_field_elements:\n",
    "                    if permutation(x+a)+permutation(x)+b == F(0):\n",
    "                        ddt[a][b] = ddt[a][b] + 1\n",
    "    return ddt\n",
    "\n",
    "def print_DDT(ddt, sorted_field_elements):\n",
    "    values = ddt.values()\n",
    "    rows = []\n",
    "    for v in values:\n",
    "        rows.append(list(v.values()))\n",
    "    print(table(rows = rows, header_row=[str(x) for x in sorted_field_elements], header_column = ['a/b']+[str(x) for x in sorted_field_elements], frame = True))\n",
    "\n",
    "def permutation_distance(p1, p2):\n",
    "    p1_dict = p1.dict()\n",
    "    p2_dict = p2.dict()\n",
    "    distance = 0\n",
    "    for key in p1_dict:\n",
    "        if p1_dict[key] != p2_dict[key]:\n",
    "            distance = distance + 1\n",
    "    return distance\n",
    "def group_distance(G1, G2):\n",
    "    min_distance = max(len(G1), len(G2))\n",
    "    for x in G2:\n",
    "        if len(x.cycle_tuples()) != 0:\n",
    "            for y in G1:\n",
    "                d = permutation_distance(x, y)\n",
    "                if d < min_distance:\n",
    "                    min_distance = d\n",
    "    return min_distance\n",
    "\n",
    "def differencial_uniformity_by_distance(G1, G2):\n",
    "    return G1.cardinality() - group_distance(G1, G2) \n",
    "\n",
    "def find_conjugated(S,G1,G2, TranslationDict):\n",
    "    isomorphism = dict()\n",
    "    isomorphism_by_gens = dict(zip(G1.minimal_generating_set(), G2.minimal_generating_set()))\n",
    "    for gen_combination in powerset(G1.minimal_generating_set()):\n",
    "        preimage = S.identity()\n",
    "        image = S.identity()\n",
    "        for gen in gen_combination:\n",
    "            preimage = preimage*gen\n",
    "            image = image * isomorphism_by_gens[gen]\n",
    "        isomorphism[preimage] = image\n",
    "    conj = []\n",
    "    for x in S.domain():\n",
    "        conj.append((isomorphism[TranslationsDict[x]](S.domain()[0])))\n",
    "    return S(conj)\n",
    "\n",
    "def build_graph(shifts):\n",
    "    result = Graph()\n",
    "    fields_elements_to_pairs = defaultdict(lambda: [])\n",
    "    for item in shifts:\n",
    "        for transposition in item.cycle_tuples():\n",
    "            result.add_vertex(transposition)\n",
    "            fields_elements_to_pairs[transposition[0]].append(transposition)\n",
    "            fields_elements_to_pairs[transposition[1]].append(transposition)\n",
    "        for pair in itertools.combinations(item.cycle_tuples(), 2):\n",
    "            result.add_edge(pair[0], pair[1])\n",
    "    vertices = result.vertices()\n",
    "    for v in vertices:\n",
    "        for u in fields_elements_to_pairs[v[0]]:\n",
    "            if u == v:\n",
    "                continue\n",
    "            result.add_edge(v,u) \n",
    "        for u in fields_elements_to_pairs[v[1]]:\n",
    "            if u == v:\n",
    "                continue\n",
    "            result.add_edge(v,u) \n",
    "    return result\n",
    "\n",
    "def print_group(G):\n",
    "    for item in G:\n",
    "        if item != G.identity():\n",
    "            print(item)"
   ]
  },
  {
   "cell_type": "code",
   "execution_count": null,
   "id": "a0cce759-c2e9-4cd6-af4e-1db078cc1441",
   "metadata": {},
   "outputs": [],
   "source": []
  },
  {
   "cell_type": "code",
   "execution_count": 3,
   "id": "8c234777-d904-4c53-9e3e-241e04f81dbe",
   "metadata": {},
   "outputs": [],
   "source": [
    "n = 8\n",
    "F = GF(2^n, repr='int')\n",
    "sorted_field = F.list()\n",
    "sorted_field.sort()\n",
    "S = SymmetricGroup(domain=sorted_field)\n",
    "T, TranslationsDict = build_translations_group(sorted_field,sorted_field,S)\n",
    "\n",
    "inv = build_inversion(sorted_field, S, F)\n",
    "G = conjugate(S,T,inv)\n",
    "\n",
    "\n",
    "#all_shifts = T.list()[1:2^n]\n",
    "#complete_graph = build_graph(all_shifts)"
   ]
  },
  {
   "cell_type": "code",
   "execution_count": null,
   "id": "0254fc26-fe29-4c97-93be-4b8b8bb0546c",
   "metadata": {},
   "outputs": [],
   "source": []
  },
  {
   "cell_type": "code",
   "execution_count": 4,
   "id": "35a98307-d59e-4629-85ae-289be1c39bf9",
   "metadata": {},
   "outputs": [],
   "source": [
    "def get_right_order(transposition):\n",
    "    if transposition[0] > transposition[1]:\n",
    "        return transposition[::-1]\n",
    "    return transposition\n",
    "\n",
    "class MaxFinder:\n",
    "    def __init__(self, collection, size):\n",
    "        self.distance_map = {i:set() for i in range(0,size+1,2)}\n",
    "        max_value = 0\n",
    "        for item in collection:\n",
    "            value = item.distance()\n",
    "            self.distance_map[value].add(item)\n",
    "            if value > max_value:\n",
    "                max_value = value\n",
    "        self.max_pointer = max_value\n",
    "\n",
    "    def max(self):\n",
    "        return self.max_pointer\n",
    "    def recalculate_max(self,old_d, new_d, item):\n",
    "        if old_d != new_d:\n",
    "            self.distance_map[old_d].remove(item)\n",
    "            self.distance_map[new_d].add(item)\n",
    "\n",
    "            if new_d > self.max_pointer:\n",
    "                #Расстояние увеличилось. Нужно передвинуть указатель.\n",
    "                self.max_pointer = new_d\n",
    "            elif len(self.distance_map[self.max_pointer]) == 0:\n",
    "                #Расстояние не увеличилось. Максимум уменьшился. Нужно передвинуть указатель.\n",
    "                if self.max_pointer - 2 < 0:\n",
    "                    raise Exception(\"Unintended behavior in MaxFinder\")\n",
    "                if len(self.distance_map[self.max_pointer - 2]):\n",
    "                    self.max_pointer -= 2 \n",
    "                    return\n",
    "\n",
    "                if self.max_pointer - 4 < 0:\n",
    "                    raise Exception(\"Unintended behavior in MaxFinder\")\n",
    "                if len(self.distance_map[self.max_pointer - 4]):\n",
    "                    self.max_pointer -= 4 "
   ]
  },
  {
   "cell_type": "code",
   "execution_count": null,
   "id": "e5af9046-44f7-46bb-825c-bf2f7e0ae213",
   "metadata": {},
   "outputs": [],
   "source": []
  },
  {
   "cell_type": "code",
   "execution_count": 5,
   "id": "e7249c91-2b2e-4a49-803f-234f503f3cbd",
   "metadata": {},
   "outputs": [],
   "source": [
    "class Delta:\n",
    "    def __init__(self, T, G, size):\n",
    "        transposition_map = {}\n",
    "        t_collection = []\n",
    "\n",
    "        for item in T:\n",
    "            if item == T.identity():\n",
    "                continue\n",
    "            t = Element(item)\n",
    "            t_collection.append(t)\n",
    "            for tr in item.cycle_tuples():\n",
    "                transposition_map[tr] = t\n",
    "        \n",
    "        self.Dg_collection = []\n",
    "        for g in G:\n",
    "            if g == G.identity():\n",
    "                continue\n",
    "            self.Dg_collection.append(Dg(Element(g), t_collection, transposition_map, size))\n",
    "\n",
    "        self.max_finder = MaxFinder(self.Dg_collection, size)\n",
    "        \n",
    "    def distance(self):\n",
    "        return self.max_finder.max()\n",
    "    \n",
    "    def __repr__(self):\n",
    "        res = \"\"\n",
    "        for item in self.Dg_collection:\n",
    "            res += f\"{item}\\n\"\n",
    "        return f\"DELTA:\\ntotal_distance={self.distance()}\\n{res}\\n\"   \n",
    "\n",
    "\n",
    "class Dg:\n",
    "    def __init__(self, g, T, transposition_map, size):  \n",
    "        self.Ig_map = {}\n",
    "        for t in T:\n",
    "            self.Ig_map[t] = I_t_g(t, g)\n",
    "        self.g = g\n",
    "        self.transposition_map = transposition_map\n",
    "        \n",
    "                \n",
    "        self.max_finder = MaxFinder(self.Ig_map.values(), size)\n",
    "\n",
    "    def distance(self):\n",
    "        return self.max_finder.max()\n",
    "\n",
    "    def __repr__(self):\n",
    "        res = \"\"\n",
    "        new_line = '\\n'\n",
    "        for i,key in enumerate(self.Ig_map):\n",
    "            if i == len(self.Ig_map)-1:\n",
    "                new_line = ''\n",
    "            res += f\"\\t{self.Ig_map[key]}\" + new_line\n",
    "        return f\"  Dg(distance={self.distance()}):\\n {res}\"\n",
    "\n",
    "class I_t_g:\n",
    "    def __init__(self, t, g):\n",
    "        self.t_g_intersection = g.intersection(t)\n",
    "        self.g = g\n",
    "        self.t = t\n",
    "\n",
    "    def distance(self):\n",
    "        return 2*len(self.t_g_intersection)\n",
    "\n",
    "    def __repr__(self):\n",
    "        return f\"I(t, g):[intersection={self.t_g_intersection}; g={self.g}; t={self.t}]\"\n",
    "\n",
    "class Element:\n",
    "    def __init__(self, g):\n",
    "        self.g_set = set(g.cycle_tuples())\n",
    "        self.element_of_field_to_transposition_map = dict()\n",
    "\n",
    "        for transpose in g.cycle_tuples():\n",
    "            self.element_of_field_to_transposition_map[transpose[0]] = transpose\n",
    "            self.element_of_field_to_transposition_map[transpose[1]] = transpose\n",
    "\n",
    "    def get_all_transpositions(self):\n",
    "        return self.g_set\n",
    "        \n",
    "    def conjugate(self, sigma):\n",
    "        sigma_s = self.get_transposition(sigma[0])\n",
    "        sigma_r = self.get_transposition(sigma[1])\n",
    "        \n",
    "        if sigma_s[0] == sigma[0]:\n",
    "            new_sigma_s = get_right_order((sigma[1], sigma_s[1]))\n",
    "            self.element_of_field_to_transposition_map[sigma_s[1]] = new_sigma_s\n",
    "        else:\n",
    "            new_sigma_s = get_right_order((sigma[1], sigma_s[0]))\n",
    "            self.element_of_field_to_transposition_map[sigma_s[0]] = new_sigma_s\n",
    "\n",
    "        if sigma_r[0] == sigma[1]:\n",
    "            new_sigma_r = get_right_order((sigma[0], sigma_r[1]))\n",
    "            self.element_of_field_to_transposition_map[sigma_r[1]] = new_sigma_r\n",
    "        else:\n",
    "            new_sigma_r = get_right_order((sigma[0], sigma_r[0]))\n",
    "            self.element_of_field_to_transposition_map[sigma_r[0]] = new_sigma_r\n",
    "\n",
    "        self.g_set.remove(sigma_s)\n",
    "        self.g_set.remove(sigma_r)\n",
    "        self.g_set.add(new_sigma_s)\n",
    "        self.g_set.add(new_sigma_r)\n",
    "\n",
    "        self.element_of_field_to_transposition_map[sigma[0]] = new_sigma_r\n",
    "        self.element_of_field_to_transposition_map[sigma[1]] = new_sigma_s\n",
    "    \n",
    "\n",
    "    def contains(self, sigma):\n",
    "        try:\n",
    "            return sigma in self.g_set\n",
    "        except:\n",
    "            print(sigma)\n",
    "            print(self.g_set)\n",
    "        \n",
    "    def intersection(self, other):\n",
    "        return self.g_set.intersection(other.g_set)\n",
    "        \n",
    "    def get_transposition(self, alpha):\n",
    "        return self.element_of_field_to_transposition_map[alpha]\n",
    "\n",
    "    def __repr__(self):\n",
    "        return f\"{self.g_set}\"\n",
    "\n"
   ]
  },
  {
   "cell_type": "code",
   "execution_count": null,
   "id": "b5c243c8-3e67-48ad-b1e3-a2dd9f1f7d9d",
   "metadata": {},
   "outputs": [],
   "source": []
  },
  {
   "cell_type": "code",
   "execution_count": null,
   "id": "39d58a67-8161-4090-a95f-65cc59f89dd0",
   "metadata": {},
   "outputs": [],
   "source": []
  },
  {
   "cell_type": "code",
   "execution_count": 6,
   "id": "b26fe3bd-0656-48a9-9952-b37577cf8ed8",
   "metadata": {},
   "outputs": [],
   "source": [
    "def recalculate_I_t_g(I: I_t_g, sigma_s: tuple, sigma_r: tuple, new_sigma_s: tuple, new_sigma_r: tuple, dist_counter = None):\n",
    "    if dist_counter == None:\n",
    "        if I.g.contains(sigma):\n",
    "            #нужно ли проверять??? вроде уже проверяли\n",
    "            return\n",
    "        else:\n",
    "            if sigma_s in I.t_g_intersection:\n",
    "                I.t_g_intersection.remove(sigma_s)\n",
    "            if sigma_r in I.t_g_intersection:\n",
    "                I.t_g_intersection.remove(sigma_r)\n",
    "    \n",
    "            if I.t.contains(new_sigma_s):\n",
    "                I.t_g_intersection.add(new_sigma_s)\n",
    "            if I.t.contains(new_sigma_r):\n",
    "                I.t_g_intersection.add(new_sigma_r)\n",
    "    else:\n",
    "        if I.g.contains(sigma):\n",
    "            #нужно ли проверять??? вроде уже проверяли\n",
    "            return\n",
    "        else:\n",
    "            dist_counter[I.distance()] -= 1\n",
    "            if sigma_s in I.t_g_intersection:\n",
    "                I.t_g_intersection.remove(sigma_s)\n",
    "            if sigma_r in I.t_g_intersection:\n",
    "                I.t_g_intersection.remove(sigma_r)\n",
    "    \n",
    "            if I.t.contains(new_sigma_s):\n",
    "                I.t_g_intersection.add(new_sigma_s)\n",
    "            if I.t.contains(new_sigma_r):\n",
    "                I.t_g_intersection.add(new_sigma_r)\n",
    "            dist_counter[I.distance()] += 1\n",
    "            \n",
    "def recalculate_Dg(Dg, sigma, dist_counter = None):\n",
    "    if dist_counter == None:\n",
    "        if Dg.g.contains(sigma):\n",
    "            return\n",
    "        else:\n",
    "            sigma_s = Dg.g.get_transposition(sigma[0])\n",
    "            sigma_r = Dg.g.get_transposition(sigma[1])\n",
    "            \n",
    "            if sigma_s[0] == sigma[0]:\n",
    "                new_sigma_s = get_right_order((sigma[1], sigma_s[1]))\n",
    "            else:\n",
    "                new_sigma_s = get_right_order((sigma[1], sigma_s[0]))\n",
    "    \n",
    "            if sigma_r[0] == sigma[1]:\n",
    "                new_sigma_r = get_right_order((sigma[0], sigma_r[1]))\n",
    "            else:\n",
    "                new_sigma_r = get_right_order((sigma[0], sigma_r[0]))\n",
    "    \n",
    "            ts = Dg.transposition_map[sigma_s]\n",
    "            tr = Dg.transposition_map[sigma_r]\n",
    "            new_ts = Dg.transposition_map[new_sigma_s]\n",
    "            new_tr = Dg.transposition_map[new_sigma_r]\n",
    "    \n",
    "            Ig = Dg.Ig_map\n",
    "    \n",
    "            for item in [ts, tr, new_ts, new_tr]:\n",
    "                old_d = Ig[item].distance()\n",
    "                recalculate_I_t_g(Ig[item], sigma_s, sigma_r, new_sigma_s, new_sigma_r)\n",
    "                new_d = Ig[item].distance()\n",
    "                Dg.max_finder.recalculate_max(old_d, new_d, Ig[item])\n",
    "    \n",
    "            #После обработки элемента g, нужно применить сопряжение, чтобы поменять g\n",
    "            Dg.g.conjugate(sigma)\n",
    "    else:\n",
    "        if Dg.g.contains(sigma):\n",
    "            return\n",
    "        else:\n",
    "            sigma_s = Dg.g.get_transposition(sigma[0])\n",
    "            sigma_r = Dg.g.get_transposition(sigma[1])\n",
    "            \n",
    "            if sigma_s[0] == sigma[0]:\n",
    "                new_sigma_s = get_right_order((sigma[1], sigma_s[1]))\n",
    "            else:\n",
    "                new_sigma_s = get_right_order((sigma[1], sigma_s[0]))\n",
    "    \n",
    "            if sigma_r[0] == sigma[1]:\n",
    "                new_sigma_r = get_right_order((sigma[0], sigma_r[1]))\n",
    "            else:\n",
    "                new_sigma_r = get_right_order((sigma[0], sigma_r[0]))\n",
    "    \n",
    "            ts = Dg.transposition_map[sigma_s]\n",
    "            tr = Dg.transposition_map[sigma_r]\n",
    "            new_ts = Dg.transposition_map[new_sigma_s]\n",
    "            new_tr = Dg.transposition_map[new_sigma_r]\n",
    "    \n",
    "            Ig = Dg.Ig_map\n",
    "    \n",
    "            for item in [ts, tr, new_ts, new_tr]:\n",
    "                old_d = Ig[item].distance()\n",
    "                recalculate_I_t_g(Ig[item], sigma_s, sigma_r, new_sigma_s, new_sigma_r, dist_counter)\n",
    "                new_d = Ig[item].distance()\n",
    "                Dg.max_finder.recalculate_max(old_d, new_d, Ig[item])\n",
    "    \n",
    "            #После обработки элемента g, нужно применить сопряжение, чтобы поменять g\n",
    "            Dg.g.conjugate(sigma)\n",
    "\n",
    "def recalc_group_distance(Delta, sigma, dist_counter = None):\n",
    "    if dist_counter == None:\n",
    "        for Dg in Delta.Dg_collection:\n",
    "            old_distance = Dg.max_finder.max()\n",
    "            recalculate_Dg(Dg, sigma)\n",
    "            new_distance = Dg.max_finder.max()\n",
    "            Delta.max_finder.recalculate_max(old_distance, new_distance, Dg)\n",
    "    else:\n",
    "        for Dg in Delta.Dg_collection:\n",
    "            old_distance = Dg.max_finder.max()\n",
    "            recalculate_Dg(Dg, sigma, dist_counter)\n",
    "            new_distance = Dg.max_finder.max()\n",
    "            Delta.max_finder.recalculate_max(old_distance, new_distance, Dg)\n"
   ]
  },
  {
   "cell_type": "code",
   "execution_count": 7,
   "id": "f211b349-77f4-4372-bd99-b9a3f00b6e65",
   "metadata": {},
   "outputs": [],
   "source": [
    "def transposition(i,j):\n",
    "    return (F.from_integer(i), F.from_integer(j))"
   ]
  },
  {
   "cell_type": "code",
   "execution_count": null,
   "id": "cef787f8-e9c9-474a-8998-898a08ed67e0",
   "metadata": {},
   "outputs": [],
   "source": []
  },
  {
   "cell_type": "code",
   "execution_count": 320,
   "id": "2038cf6b-ed9c-45bc-abea-45853e626b18",
   "metadata": {},
   "outputs": [
    {
     "name": "stdout",
     "output_type": "stream",
     "text": [
      "diff. uniformity:  8\n",
      "after transposition:\n",
      "diff. uniformity:  4\n",
      "after another transposition:\n",
      "diff. uniformity:  2\n"
     ]
    }
   ],
   "source": [
    "f = S.random_element()\n",
    "G = conjugate(S,T,f)\n",
    "# print(\"distance: \", group_distance(T,G))\n",
    "print(\"diff. uniformity: \", differencial_uniformity_by_distance(T,G))\n",
    "print(\"after transposition:\")\n",
    "G_ = conjugate(S,G,S(transposition(0,1)))\n",
    "# print(\"distance: \", group_distance(T,G_))\n",
    "print(\"diff. uniformity: \", differencial_uniformity_by_distance(T,G_))\n",
    "print(\"after another transposition:\")\n",
    "G__ = conjugate(S,G_,S(transposition(1,3)))\n",
    "# print(\"distance: \", group_distance(T,G__))\n",
    "print(\"diff. uniformity: \", differencial_uniformity_by_distance(T,G__))"
   ]
  },
  {
   "cell_type": "code",
   "execution_count": null,
   "id": "69a76908-745d-4933-b175-d6c47c6f9345",
   "metadata": {},
   "outputs": [],
   "source": []
  },
  {
   "cell_type": "code",
   "execution_count": 317,
   "id": "bdc17c2d-6f15-447e-9598-1de82d07edd0",
   "metadata": {},
   "outputs": [
    {
     "name": "stdout",
     "output_type": "stream",
     "text": [
      "diff. uniformity:  4\n",
      "diff. uniformity:  2\n",
      "diff. uniformity:  4\n"
     ]
    }
   ],
   "source": [
    "DELTA = Delta(T,G, 2^n)\n",
    "print(\"diff. uniformity: \", DELTA.distance())\n",
    "recalc_group_distance(DELTA, transposition(0,1))\n",
    "print(\"diff. uniformity: \", DELTA.distance())\n",
    "recalc_group_distance(DELTA, transposition(1,3))\n",
    "print(\"diff. uniformity: \", DELTA.distance())"
   ]
  },
  {
   "cell_type": "code",
   "execution_count": null,
   "id": "05f0ee9b-8a08-4d51-9266-27c67dfb2c1f",
   "metadata": {},
   "outputs": [],
   "source": [
    "DELTA"
   ]
  },
  {
   "cell_type": "code",
   "execution_count": 79,
   "id": "6658359c-5b1f-47f7-8336-ac981e23df63",
   "metadata": {},
   "outputs": [],
   "source": [
    "G_kuz = conjugate(S, T, build_kuznechik())"
   ]
  },
  {
   "cell_type": "code",
   "execution_count": 306,
   "id": "5e61fa9d-03c7-47e7-99fe-efd1a0dcb365",
   "metadata": {},
   "outputs": [
    {
     "name": "stdout",
     "output_type": "stream",
     "text": [
      "diff. uniformity:  4\n"
     ]
    }
   ],
   "source": [
    "DELTA = Delta(T, G, 2^n)\n",
    "print(\"diff. uniformity: \", DELTA.distance())"
   ]
  },
  {
   "cell_type": "code",
   "execution_count": 6,
   "id": "abd7ec96-15e1-46a8-90a5-a7c3044dbfd6",
   "metadata": {},
   "outputs": [
    {
     "ename": "NameError",
     "evalue": "name 'DELTA' is not defined",
     "output_type": "error",
     "traceback": [
      "\u001b[0;31m---------------------------------------------------------------------------\u001b[0m",
      "\u001b[0;31mNameError\u001b[0m                                 Traceback (most recent call last)",
      "Cell \u001b[0;32mIn[6], line 4\u001b[0m\n\u001b[1;32m      1\u001b[0m \u001b[38;5;66;03m# item = DELTA.Dg_collection[0]\u001b[39;00m\n\u001b[1;32m      2\u001b[0m \u001b[38;5;66;03m# dist_counter = {_:0 for _ in range(0, 2^n + 1, 2)}\u001b[39;00m\n\u001b[1;32m      3\u001b[0m tr_counter \u001b[38;5;241m=\u001b[39m \u001b[38;5;28mdict\u001b[39m()\n\u001b[0;32m----> 4\u001b[0m \u001b[38;5;28;01mfor\u001b[39;00m item \u001b[38;5;129;01min\u001b[39;00m \u001b[43mDELTA\u001b[49m\u001b[38;5;241m.\u001b[39mDg_collection:\n\u001b[1;32m      5\u001b[0m     \u001b[38;5;28;01mfor\u001b[39;00m i, I_t_g_item \u001b[38;5;129;01min\u001b[39;00m \u001b[38;5;28menumerate\u001b[39m(item\u001b[38;5;241m.\u001b[39mIg_map\u001b[38;5;241m.\u001b[39mvalues()):\n\u001b[1;32m      6\u001b[0m         \u001b[38;5;66;03m# dist_counter[I_t_g_item.distance()] += 1\u001b[39;00m\n\u001b[1;32m      7\u001b[0m         \u001b[38;5;28;01mif\u001b[39;00m I_t_g_item\u001b[38;5;241m.\u001b[39mdistance() \u001b[38;5;241m>\u001b[39m\u001b[38;5;241m=\u001b[39m DELTA\u001b[38;5;241m.\u001b[39mdistance():\n",
      "\u001b[0;31mNameError\u001b[0m: name 'DELTA' is not defined"
     ]
    }
   ],
   "source": [
    "# item = DELTA.Dg_collection[0]\n",
    "# dist_counter = {_:0 for _ in range(0, 2^n + 1, 2)}\n",
    "tr_counter = dict()\n",
    "for item in DELTA.Dg_collection:\n",
    "    for i, I_t_g_item in enumerate(item.Ig_map.values()):\n",
    "        # dist_counter[I_t_g_item.distance()] += 1\n",
    "        if I_t_g_item.distance() >= DELTA.distance():\n",
    "            for tr in I_t_g_item.t_g_intersection:\n",
    "                if tr not in tr_counter:\n",
    "                    tr_counter[(tr, i)] = 1\n",
    "                else:\n",
    "                    tr_counter[(tr, i)] += 1\n",
    "elem_counter = {_:0 for _ in range(40)}\n",
    "for item in tr_counter:\n",
    "    elem_counter[item[0][0].to_integer()] += 1\n",
    "    elem_counter[item[0][1].to_integer()] += 1\n",
    "\n",
    "elem_counter = sorted(elem_counter.items(), key=lambda item: -item[1])\n",
    "elem_counter[:10], tr_counter"
   ]
  },
  {
   "cell_type": "code",
   "execution_count": 308,
   "id": "fc6f769c-52c8-461b-81af-bff0cdcee63a",
   "metadata": {},
   "outputs": [
    {
     "name": "stdout",
     "output_type": "stream",
     "text": [
      "diff. uniformity:  4\n"
     ]
    }
   ],
   "source": [
    "recalc_group_distance(DELTA, transposition(6, 7))\n",
    "print(\"diff. uniformity: \", DELTA.distance())"
   ]
  },
  {
   "cell_type": "code",
   "execution_count": 394,
   "id": "f67ef225-9411-4ba0-b7b4-0cc4853d66e3",
   "metadata": {},
   "outputs": [
    {
     "name": "stdout",
     "output_type": "stream",
     "text": [
      "diff. uniformity:  10\n"
     ]
    }
   ],
   "source": [
    "n = 8\n",
    "F = GF(2^n, repr='int')\n",
    "sorted_field = F.list()\n",
    "sorted_field.sort()\n",
    "S = SymmetricGroup(domain=sorted_field)\n",
    "T, TranslationsDict = build_translations_group(sorted_field,sorted_field,S)\n",
    "\n",
    "inv = build_inversion(sorted_field, S, F)\n",
    "G = conjugate(S,T,inv)\n",
    "\n",
    "f = S.random_element()\n",
    "G = conjugate(S, T, f)\n",
    "DELTA = Delta(T, G, 2^n)\n",
    "print(\"diff. uniformity: \", DELTA.distance())"
   ]
  },
  {
   "cell_type": "code",
   "execution_count": 7,
   "id": "1a598c52-44b0-4d60-98b7-e064504d946e",
   "metadata": {},
   "outputs": [
    {
     "name": "stdout",
     "output_type": "stream",
     "text": [
      "8\n",
      "min =  6\n"
     ]
    }
   ],
   "source": [
    "# блуждание с последовательным перебором 1\n",
    "import random\n",
    "\n",
    "print(DELTA.distance())\n",
    "for count in range(10):\n",
    "    if DELTA.distance() == 2:\n",
    "        print('already 2')\n",
    "        break\n",
    "    mn = 100\n",
    "    tr = (-1, -1)\n",
    "    for i in range(2^n):\n",
    "        for j in range(i + 1, 2^n):\n",
    "            recalc_group_distance(DELTA, transposition(i, j))\n",
    "            dist = DELTA.distance()\n",
    "            if mn > dist:\n",
    "                mn = dist\n",
    "                tr = (i, j)\n",
    "            elif mn == dist and random.uniform(0, 1) >= 0.5:\n",
    "                tr = (i, j)\n",
    "            recalc_group_distance(DELTA, transposition(i, j))\n",
    "    # print(mn, tr)\n",
    "    recalc_group_distance(DELTA, transposition(tr[0], tr[1]))\n",
    "    if mn == 2:\n",
    "        break\n",
    "\n",
    "print(\"min = \", mn)\n",
    "# print(DELTA)"
   ]
  },
  {
   "cell_type": "code",
   "execution_count": 468,
   "id": "2acea9a1-e70f-475e-8f28-33998942b539",
   "metadata": {},
   "outputs": [
    {
     "name": "stdout",
     "output_type": "stream",
     "text": [
      "10\n",
      "min =  10\n"
     ]
    }
   ],
   "source": [
    "# случайное блуждание\n",
    "import copy\n",
    "\n",
    "print(DELTA.distance())\n",
    "mn = DELTA.distance()\n",
    "ans = copy.deepcopy(DELTA)\n",
    "for count in range(10000):\n",
    "    if DELTA.distance() == 2:\n",
    "        break\n",
    "    i = randint(0, 2^n - 1)\n",
    "    j = randint(0, 2^n - 1)\n",
    "    while i == j:\n",
    "        j = randint(0, 2^n - 1)\n",
    "    if i > j:\n",
    "        i -= j\n",
    "        j += i\n",
    "        i = j - i\n",
    "    recalc_group_distance(DELTA, transposition(i, j))\n",
    "    # print(DELTA.distance(), (i, j))\n",
    "    if DELTA.distance() < mn:\n",
    "        mn = DELTA.distance()\n",
    "        ans = copy.deepcopy(DELTA)\n",
    "print(\"min = \", mn)\n",
    "# print(ans)"
   ]
  },
  {
   "cell_type": "code",
   "execution_count": 395,
   "id": "93bc6fd8-e3e9-49c0-a4e1-50966eb80829",
   "metadata": {},
   "outputs": [
    {
     "data": {
      "text/plain": [
       "Finite Field in z8 of size 2^8"
      ]
     },
     "execution_count": 395,
     "metadata": {},
     "output_type": "execute_result"
    }
   ],
   "source": [
    "F"
   ]
  },
  {
   "cell_type": "code",
   "execution_count": 63,
   "id": "93e9334a-a076-4e9e-be1a-6d8854cd5967",
   "metadata": {},
   "outputs": [
    {
     "name": "stdout",
     "output_type": "stream",
     "text": [
      "4\n"
     ]
    },
    {
     "ename": "KeyError",
     "evalue": "I(t, g):[intersection={(4, 6), (5, 7)}; g={(0, 2), (4, 6), (1, 3), (5, 7)}; t={(0, 2), (4, 6), (1, 3), (5, 7)}]",
     "output_type": "error",
     "traceback": [
      "\u001b[0;31m---------------------------------------------------------------------------\u001b[0m",
      "\u001b[0;31mKeyError\u001b[0m                                  Traceback (most recent call last)",
      "Cell \u001b[0;32mIn[63], line 29\u001b[0m\n\u001b[1;32m     27\u001b[0m             cnt \u001b[38;5;241m=\u001b[39m dist_counter[dist]\n\u001b[1;32m     28\u001b[0m             tr \u001b[38;5;241m=\u001b[39m (i, j)\n\u001b[0;32m---> 29\u001b[0m         \u001b[43mrecalc_group_distance\u001b[49m\u001b[43m(\u001b[49m\u001b[43mDELTA\u001b[49m\u001b[43m,\u001b[49m\u001b[43m \u001b[49m\u001b[43mtransposition\u001b[49m\u001b[43m(\u001b[49m\u001b[43mi\u001b[49m\u001b[43m,\u001b[49m\u001b[43m \u001b[49m\u001b[43mj\u001b[49m\u001b[43m)\u001b[49m\u001b[43m,\u001b[49m\u001b[43m \u001b[49m\u001b[43mdist_counter\u001b[49m\u001b[43m)\u001b[49m\n\u001b[1;32m     30\u001b[0m \u001b[38;5;28mprint\u001b[39m(mn, tr)\n\u001b[1;32m     31\u001b[0m recalc_group_distance(DELTA, transposition(tr[Integer(\u001b[38;5;241m0\u001b[39m)], tr[Integer(\u001b[38;5;241m1\u001b[39m)]), dist_counter)\n",
      "Cell \u001b[0;32mIn[43], line 109\u001b[0m, in \u001b[0;36mrecalc_group_distance\u001b[0;34m(Delta, sigma, dist_counter)\u001b[0m\n\u001b[1;32m    107\u001b[0m \u001b[38;5;28;01mfor\u001b[39;00m Dg \u001b[38;5;129;01min\u001b[39;00m Delta\u001b[38;5;241m.\u001b[39mDg_collection:\n\u001b[1;32m    108\u001b[0m     old_distance \u001b[38;5;241m=\u001b[39m Dg\u001b[38;5;241m.\u001b[39mmax_finder\u001b[38;5;241m.\u001b[39mmax()\n\u001b[0;32m--> 109\u001b[0m     \u001b[43mrecalculate_Dg\u001b[49m\u001b[43m(\u001b[49m\u001b[43mDg\u001b[49m\u001b[43m,\u001b[49m\u001b[43m \u001b[49m\u001b[43msigma\u001b[49m\u001b[43m,\u001b[49m\u001b[43m \u001b[49m\u001b[43mdist_counter\u001b[49m\u001b[43m)\u001b[49m\n\u001b[1;32m    110\u001b[0m     new_distance \u001b[38;5;241m=\u001b[39m Dg\u001b[38;5;241m.\u001b[39mmax_finder\u001b[38;5;241m.\u001b[39mmax()\n\u001b[1;32m    111\u001b[0m     Delta\u001b[38;5;241m.\u001b[39mmax_finder\u001b[38;5;241m.\u001b[39mrecalculate_max(old_distance, new_distance, Dg)\n",
      "Cell \u001b[0;32mIn[43], line 94\u001b[0m, in \u001b[0;36mrecalculate_Dg\u001b[0;34m(Dg, sigma, dist_counter)\u001b[0m\n\u001b[1;32m     92\u001b[0m     recalculate_I_t_g(Ig[item], sigma_s, sigma_r, new_sigma_s, new_sigma_r, dist_counter)\n\u001b[1;32m     93\u001b[0m     new_d \u001b[38;5;241m=\u001b[39m Ig[item]\u001b[38;5;241m.\u001b[39mdistance()\n\u001b[0;32m---> 94\u001b[0m     \u001b[43mDg\u001b[49m\u001b[38;5;241;43m.\u001b[39;49m\u001b[43mmax_finder\u001b[49m\u001b[38;5;241;43m.\u001b[39;49m\u001b[43mrecalculate_max\u001b[49m\u001b[43m(\u001b[49m\u001b[43mold_d\u001b[49m\u001b[43m,\u001b[49m\u001b[43m \u001b[49m\u001b[43mnew_d\u001b[49m\u001b[43m,\u001b[49m\u001b[43m \u001b[49m\u001b[43mIg\u001b[49m\u001b[43m[\u001b[49m\u001b[43mitem\u001b[49m\u001b[43m]\u001b[49m\u001b[43m)\u001b[49m\n\u001b[1;32m     96\u001b[0m \u001b[38;5;66;03m#После обработки элемента g, нужно применить сопряжение, чтобы поменять g\u001b[39;00m\n\u001b[1;32m     97\u001b[0m Dg\u001b[38;5;241m.\u001b[39mg\u001b[38;5;241m.\u001b[39mconjugate(sigma)\n",
      "Cell \u001b[0;32mIn[41], line 21\u001b[0m, in \u001b[0;36mMaxFinder.recalculate_max\u001b[0;34m(self, old_d, new_d, item)\u001b[0m\n\u001b[1;32m     19\u001b[0m \u001b[38;5;28;01mdef\u001b[39;00m \u001b[38;5;21mrecalculate_max\u001b[39m(\u001b[38;5;28mself\u001b[39m,old_d, new_d, item):\n\u001b[1;32m     20\u001b[0m     \u001b[38;5;28;01mif\u001b[39;00m old_d \u001b[38;5;241m!=\u001b[39m new_d:\n\u001b[0;32m---> 21\u001b[0m         \u001b[38;5;28;43mself\u001b[39;49m\u001b[38;5;241;43m.\u001b[39;49m\u001b[43mdistance_map\u001b[49m\u001b[43m[\u001b[49m\u001b[43mold_d\u001b[49m\u001b[43m]\u001b[49m\u001b[38;5;241;43m.\u001b[39;49m\u001b[43mremove\u001b[49m\u001b[43m(\u001b[49m\u001b[43mitem\u001b[49m\u001b[43m)\u001b[49m\n\u001b[1;32m     22\u001b[0m         \u001b[38;5;28mself\u001b[39m\u001b[38;5;241m.\u001b[39mdistance_map[new_d]\u001b[38;5;241m.\u001b[39madd(item)\n\u001b[1;32m     24\u001b[0m         \u001b[38;5;28;01mif\u001b[39;00m new_d \u001b[38;5;241m>\u001b[39m \u001b[38;5;28mself\u001b[39m\u001b[38;5;241m.\u001b[39mmax_pointer:\n\u001b[1;32m     25\u001b[0m             \u001b[38;5;66;03m#Расстояние увеличилось. Нужно передвинуть указатель.\u001b[39;00m\n",
      "\u001b[0;31mKeyError\u001b[0m: I(t, g):[intersection={(4, 6), (5, 7)}; g={(0, 2), (4, 6), (1, 3), (5, 7)}; t={(0, 2), (4, 6), (1, 3), (5, 7)}]"
     ]
    }
   ],
   "source": [
    "# блуждание с последовательным перебором, но слегка оптимизированное (dist_counter без весов)\n",
    "import random\n",
    "\n",
    "print(DELTA.distance())\n",
    "\n",
    "dist_counter = {_:0 for _ in range(0, 2^n + 1, 2)}\n",
    "for item in DELTA.Dg_collection:\n",
    "    for i, I_t_g_item in enumerate(item.Ig_map.values()):\n",
    "        dist_counter[I_t_g_item.distance()] += 1\n",
    "\n",
    "for count in range(12):\n",
    "    if DELTA.distance() == 2:\n",
    "        print('already 2')\n",
    "        break\n",
    "    mn = 100\n",
    "    tr = (-1, -1)\n",
    "    cnt = dist_counter[DELTA.distance()]\n",
    "    for i in range(2^n):\n",
    "        for j in range(i + 1, 2^n):\n",
    "            recalc_group_distance(DELTA, transposition(i, j), dist_counter)\n",
    "            dist = DELTA.distance()\n",
    "            if mn > dist:\n",
    "                mn = dist\n",
    "                cnt = dist_counter[dist]\n",
    "                tr = (i, j)\n",
    "            elif mn == dist and dist_counter[dist] < cnt:\n",
    "                cnt = dist_counter[dist]\n",
    "                tr = (i, j)\n",
    "            recalc_group_distance(DELTA, transposition(i, j), dist_counter)\n",
    "    print(mn, tr)\n",
    "    recalc_group_distance(DELTA, transposition(tr[0], tr[1]), dist_counter)\n",
    "    if mn == 2:\n",
    "        break\n",
    "\n",
    "print(\"min = \", mn)\n",
    "# print(DELTA)"
   ]
  },
  {
   "cell_type": "code",
   "execution_count": 426,
   "id": "4df396d1-736b-49b8-8170-453e1df91951",
   "metadata": {},
   "outputs": [
    {
     "name": "stdout",
     "output_type": "stream",
     "text": [
      "6\n"
     ]
    },
    {
     "ename": "KeyboardInterrupt",
     "evalue": "",
     "output_type": "error",
     "traceback": [
      "\u001b[0;31m---------------------------------------------------------------------------\u001b[0m",
      "\u001b[0;31mKeyboardInterrupt\u001b[0m                         Traceback (most recent call last)",
      "Cell \u001b[0;32mIn[426], line 22\u001b[0m\n\u001b[1;32m     20\u001b[0m \u001b[38;5;28;01mfor\u001b[39;00m i \u001b[38;5;129;01min\u001b[39;00m \u001b[38;5;28mrange\u001b[39m(Integer(\u001b[38;5;241m2\u001b[39m)\u001b[38;5;241m*\u001b[39m\u001b[38;5;241m*\u001b[39mn):\n\u001b[1;32m     21\u001b[0m     \u001b[38;5;28;01mfor\u001b[39;00m j \u001b[38;5;129;01min\u001b[39;00m \u001b[38;5;28mrange\u001b[39m(i \u001b[38;5;241m+\u001b[39m Integer(\u001b[38;5;241m1\u001b[39m), Integer(\u001b[38;5;241m2\u001b[39m)\u001b[38;5;241m*\u001b[39m\u001b[38;5;241m*\u001b[39mn):\n\u001b[0;32m---> 22\u001b[0m         \u001b[43mrecalc_group_distance\u001b[49m\u001b[43m(\u001b[49m\u001b[43mDELTA\u001b[49m\u001b[43m,\u001b[49m\u001b[43m \u001b[49m\u001b[43mtransposition\u001b[49m\u001b[43m(\u001b[49m\u001b[43mi\u001b[49m\u001b[43m,\u001b[49m\u001b[43m \u001b[49m\u001b[43mj\u001b[49m\u001b[43m)\u001b[49m\u001b[43m,\u001b[49m\u001b[43m \u001b[49m\u001b[43mdist_counter\u001b[49m\u001b[43m)\u001b[49m\n\u001b[1;32m     23\u001b[0m         dist \u001b[38;5;241m=\u001b[39m DELTA\u001b[38;5;241m.\u001b[39mdistance()\n\u001b[1;32m     24\u001b[0m         \u001b[38;5;28;01mif\u001b[39;00m mn \u001b[38;5;241m>\u001b[39m dist:\n",
      "Cell \u001b[0;32mIn[392], line 109\u001b[0m, in \u001b[0;36mrecalc_group_distance\u001b[0;34m(Delta, sigma, dist_counter)\u001b[0m\n\u001b[1;32m    107\u001b[0m \u001b[38;5;28;01mfor\u001b[39;00m Dg \u001b[38;5;129;01min\u001b[39;00m Delta\u001b[38;5;241m.\u001b[39mDg_collection:\n\u001b[1;32m    108\u001b[0m     old_distance \u001b[38;5;241m=\u001b[39m Dg\u001b[38;5;241m.\u001b[39mmax_finder\u001b[38;5;241m.\u001b[39mmax()\n\u001b[0;32m--> 109\u001b[0m     \u001b[43mrecalculate_Dg\u001b[49m\u001b[43m(\u001b[49m\u001b[43mDg\u001b[49m\u001b[43m,\u001b[49m\u001b[43m \u001b[49m\u001b[43msigma\u001b[49m\u001b[43m,\u001b[49m\u001b[43m \u001b[49m\u001b[43mdist_counter\u001b[49m\u001b[43m)\u001b[49m\n\u001b[1;32m    110\u001b[0m     new_distance \u001b[38;5;241m=\u001b[39m Dg\u001b[38;5;241m.\u001b[39mmax_finder\u001b[38;5;241m.\u001b[39mmax()\n\u001b[1;32m    111\u001b[0m     Delta\u001b[38;5;241m.\u001b[39mmax_finder\u001b[38;5;241m.\u001b[39mrecalculate_max(old_distance, new_distance, Dg)\n",
      "Cell \u001b[0;32mIn[392], line 92\u001b[0m, in \u001b[0;36mrecalculate_Dg\u001b[0;34m(Dg, sigma, dist_counter)\u001b[0m\n\u001b[1;32m     90\u001b[0m \u001b[38;5;28;01mfor\u001b[39;00m item \u001b[38;5;129;01min\u001b[39;00m [ts, tr, new_ts, new_tr]:\n\u001b[1;32m     91\u001b[0m     old_d \u001b[38;5;241m=\u001b[39m Ig[item]\u001b[38;5;241m.\u001b[39mdistance()\n\u001b[0;32m---> 92\u001b[0m     \u001b[43mrecalculate_I_t_g\u001b[49m\u001b[43m(\u001b[49m\u001b[43mIg\u001b[49m\u001b[43m[\u001b[49m\u001b[43mitem\u001b[49m\u001b[43m]\u001b[49m\u001b[43m,\u001b[49m\u001b[43m \u001b[49m\u001b[43msigma_s\u001b[49m\u001b[43m,\u001b[49m\u001b[43m \u001b[49m\u001b[43msigma_r\u001b[49m\u001b[43m,\u001b[49m\u001b[43m \u001b[49m\u001b[43mnew_sigma_s\u001b[49m\u001b[43m,\u001b[49m\u001b[43m \u001b[49m\u001b[43mnew_sigma_r\u001b[49m\u001b[43m,\u001b[49m\u001b[43m \u001b[49m\u001b[43mdist_counter\u001b[49m\u001b[43m)\u001b[49m\n\u001b[1;32m     93\u001b[0m     new_d \u001b[38;5;241m=\u001b[39m Ig[item]\u001b[38;5;241m.\u001b[39mdistance()\n\u001b[1;32m     94\u001b[0m     Dg\u001b[38;5;241m.\u001b[39mmax_finder\u001b[38;5;241m.\u001b[39mrecalculate_max(old_d, new_d, Ig[item])\n",
      "Cell \u001b[0;32mIn[392], line 1\u001b[0m, in \u001b[0;36mrecalculate_I_t_g\u001b[0;34m(I, sigma_s, sigma_r, new_sigma_s, new_sigma_r, dist_counter)\u001b[0m\n\u001b[0;32m----> 1\u001b[0m \u001b[38;5;28;01mdef\u001b[39;00m \u001b[38;5;21mrecalculate_I_t_g\u001b[39m(I: I_t_g, sigma_s: \u001b[38;5;28mtuple\u001b[39m, sigma_r: \u001b[38;5;28mtuple\u001b[39m, new_sigma_s: \u001b[38;5;28mtuple\u001b[39m, new_sigma_r: \u001b[38;5;28mtuple\u001b[39m, dist_counter \u001b[38;5;241m=\u001b[39m \u001b[38;5;28;01mNone\u001b[39;00m):\n\u001b[1;32m      2\u001b[0m     \u001b[38;5;28;01mif\u001b[39;00m dist_counter \u001b[38;5;241m==\u001b[39m \u001b[38;5;28;01mNone\u001b[39;00m:\n\u001b[1;32m      3\u001b[0m         \u001b[38;5;28;01mif\u001b[39;00m I\u001b[38;5;241m.\u001b[39mg\u001b[38;5;241m.\u001b[39mcontains(sigma):\n\u001b[1;32m      4\u001b[0m             \u001b[38;5;66;03m#нужно ли проверять??? вроде уже проверяли\u001b[39;00m\n",
      "File \u001b[0;32msrc/cysignals/signals.pyx:310\u001b[0m, in \u001b[0;36mcysignals.signals.python_check_interrupt\u001b[0;34m()\u001b[0m\n",
      "\u001b[0;31mKeyboardInterrupt\u001b[0m: "
     ]
    }
   ],
   "source": [
    "# блуждание с последовательным перебором, но слегка оптимизированное (dist_counter без весов)\n",
    "import random\n",
    "\n",
    "print(DELTA.distance())\n",
    "\n",
    "dist_counter = {_:0 for _ in range(0, 2^n + 1, 2)}\n",
    "for item in DELTA.Dg_collection:\n",
    "    for i, I_t_g_item in enumerate(item.Ig_map.values()):\n",
    "        dist_counter[I_t_g_item.distance()] += 1\n",
    "\n",
    "pred = (-1, -1)\n",
    "\n",
    "for count in range(12):\n",
    "    if DELTA.distance() == 2:\n",
    "        print('already 2')\n",
    "        break\n",
    "    mn = 100\n",
    "    tr = (-1, -1)\n",
    "    cnt = dist_counter[DELTA.distance()]\n",
    "    for i in range(2^n):\n",
    "        for j in range(i + 1, 2^n):\n",
    "            recalc_group_distance(DELTA, transposition(i, j), dist_counter)\n",
    "            dist = DELTA.distance()\n",
    "            if mn > dist:\n",
    "                mn = dist\n",
    "                cnt = dist_counter[dist]\n",
    "                tr = (i, j)\n",
    "            elif mn == dist and dist_counter[dist] < cnt:\n",
    "                cnt = dist_counter[dist]\n",
    "                tr = (i, j)\n",
    "            recalc_group_distance(DELTA, transposition(i, j), dist_counter)\n",
    "    if mn == 2 or tr == pred:\n",
    "        break\n",
    "    recalc_group_distance(DELTA, transposition(tr[0], tr[1]), dist_counter)\n",
    "    print(mn, tr)\n",
    "    pred = tr\n",
    "\n",
    "print(\"min = \", mn)\n",
    "# print(DELTA)"
   ]
  },
  {
   "cell_type": "code",
   "execution_count": null,
   "id": "aed6dd0c-287b-474d-a79f-9e925ee245af",
   "metadata": {},
   "outputs": [],
   "source": []
  },
  {
   "cell_type": "code",
   "execution_count": 128,
   "id": "edf04e6a-3f1a-4a71-84b4-70f0e851db2d",
   "metadata": {},
   "outputs": [
    {
     "data": {
      "text/plain": [
       "{0: 510,\n",
       " 2: 406,\n",
       " 4: 45,\n",
       " 6: 0,\n",
       " 8: 0,\n",
       " 10: 0,\n",
       " 12: 0,\n",
       " 14: 0,\n",
       " 16: 0,\n",
       " 18: 0,\n",
       " 20: 0,\n",
       " 22: 0,\n",
       " 24: 0,\n",
       " 26: 0,\n",
       " 28: 0,\n",
       " 30: 0,\n",
       " 32: 0}"
      ]
     },
     "execution_count": 128,
     "metadata": {},
     "output_type": "execute_result"
    }
   ],
   "source": [
    "dist_counter"
   ]
  },
  {
   "cell_type": "code",
   "execution_count": null,
   "id": "d4aacd42-0551-45ae-b37d-1a9e66718bb2",
   "metadata": {},
   "outputs": [],
   "source": []
  },
  {
   "cell_type": "code",
   "execution_count": 148,
   "id": "e524b945-8627-488e-908d-07510170d744",
   "metadata": {},
   "outputs": [],
   "source": [
    "def calculate_neutral_trs(DELTA, dist_counter):\n",
    "    curr_dist = DELTA.distance()\n",
    "    bad_transpositions = set()\n",
    "    neutral_transpositions = set()\n",
    "    cnt = dist_counter[DELTA.distance()]\n",
    "    for i in range(2^n):\n",
    "        for j in range(i + 1, 2^n):\n",
    "            tr = transposition(i, j)\n",
    "            recalc_group_distance(DELTA, tr, dist_counter)\n",
    "            new_dist = DELTA.distance()\n",
    "            if new_dist > curr_dist or dist_counter[new_dist] < cnt:\n",
    "                bad_transpositions.add(tr)\n",
    "            else:\n",
    "                neutral_transpositions.add(tr)\n",
    "            recalc_group_distance(DELTA, tr, dist_counter)\n",
    "    return neutral_transpositions"
   ]
  },
  {
   "cell_type": "code",
   "execution_count": null,
   "id": "d335a430-0a38-4b47-b319-310f2b82aaae",
   "metadata": {},
   "outputs": [],
   "source": []
  },
  {
   "cell_type": "code",
   "execution_count": null,
   "id": "4421922d-d6bf-424f-a746-8a08411d69aa",
   "metadata": {},
   "outputs": [],
   "source": []
  },
  {
   "cell_type": "code",
   "execution_count": null,
   "id": "ac88d9cc-33ca-45c4-b183-ce25f3fbdc3d",
   "metadata": {},
   "outputs": [],
   "source": [
    "# item = DELTA.Dg_collection[0]\n",
    "# dist_counter = {_:0 for _ in range(0, 2^n + 1, 2)}\n",
    "tr_counter = dict()\n",
    "for item in DELTA.Dg_collection:\n",
    "    for i, I_t_g_item in enumerate(item.Ig_map.values()):\n",
    "        # dist_counter[I_t_g_item.distance()] += 1\n",
    "        if I_t_g_item.distance() >= DELTA.distance():\n",
    "            for tr in I_t_g_item.t_g_intersection:\n",
    "                if tr not in tr_counter:\n",
    "                    tr_counter[(tr, i)] = 1\n",
    "                else:\n",
    "                    tr_counter[(tr, i)] += 1\n",
    "elem_counter = {_:0 for _ in range(40)}\n",
    "for item in tr_counter:\n",
    "    elem_counter[item[0][0].to_integer()] += 1\n",
    "    elem_counter[item[0][1].to_integer()] += 1\n",
    "\n",
    "elem_counter = sorted(elem_counter.items(), key=lambda item: -item[1])\n",
    "elem_counter[:10], tr_counter"
   ]
  },
  {
   "cell_type": "code",
   "execution_count": 173,
   "id": "dc74324c-cc2c-4be6-a4fd-9713ebc83e3b",
   "metadata": {},
   "outputs": [
    {
     "name": "stdout",
     "output_type": "stream",
     "text": [
      "8\n",
      "6 (19, 27)\n",
      "4 (17, 29)\n",
      "4 (6, 13)\n",
      "4 (5, 10)\n",
      "4 (2, 20)\n",
      "4 (0, 3)\n",
      "4 (8, 13)\n",
      "4 (7, 29)\n",
      "4 (2, 15)\n",
      "Magic step begins! 25\n",
      "4 (2, 15)\n",
      "4 (3, 31)\n",
      "4 (3, 10)\n",
      "4 (0, 9)\n",
      "Magic step begins! 30\n",
      "4 (0, 9)\n",
      "4 (5, 20)\n",
      "4 (0, 9)\n",
      "Magic step begins! 39\n",
      "4 (0, 9)\n",
      "4 (1, 22)\n",
      "4 (0, 9)\n",
      "Magic step begins! 30\n",
      "4 (0, 9)\n",
      "4 (14, 19)\n",
      "4 (0, 9)\n",
      "Magic step begins! 39\n",
      "4 (0, 9)\n",
      "4 (26, 28)\n",
      "4 (0, 9)\n",
      "Magic step begins! 30\n",
      "4 (0, 9)\n",
      "Magic step begins! 23\n",
      "4 (0, 9)\n",
      "4 (13, 28)\n",
      "4 (0, 9)\n",
      "4 (5, 17)\n",
      "4 (0, 9)\n",
      "Magic step begins! 30\n",
      "4 (0, 9)\n",
      "4 (12, 14)\n",
      "4 (0, 9)\n",
      "Magic step begins! 39\n",
      "4 (0, 9)\n",
      "4 (13, 31)\n",
      "4 (0, 9)\n",
      "Magic step begins! 30\n",
      "4 (0, 9)\n",
      "4 (0, 29)\n",
      "4 (0, 9)\n"
     ]
    },
    {
     "ename": "KeyboardInterrupt",
     "evalue": "",
     "output_type": "error",
     "traceback": [
      "\u001b[0;31m---------------------------------------------------------------------------\u001b[0m",
      "\u001b[0;31mKeyboardInterrupt\u001b[0m                         Traceback (most recent call last)",
      "Cell \u001b[0;32mIn[173], line 38\u001b[0m\n\u001b[1;32m     36\u001b[0m     \u001b[38;5;28;01mbreak\u001b[39;00m\n\u001b[1;32m     37\u001b[0m \u001b[38;5;28;01mif\u001b[39;00m tr \u001b[38;5;241m==\u001b[39m pred:\n\u001b[0;32m---> 38\u001b[0m     neutral_transpositions \u001b[38;5;241m=\u001b[39m \u001b[43mcalculate_neutral_trs\u001b[49m\u001b[43m(\u001b[49m\u001b[43mDELTA\u001b[49m\u001b[43m,\u001b[49m\u001b[43m \u001b[49m\u001b[43mdist_counter\u001b[49m\u001b[43m)\u001b[49m\n\u001b[1;32m     39\u001b[0m     \u001b[38;5;28mprint\u001b[39m(\u001b[38;5;124mf\u001b[39m\u001b[38;5;124m\"\u001b[39m\u001b[38;5;124mMagic step begins! \u001b[39m\u001b[38;5;132;01m{\u001b[39;00m\u001b[38;5;28mlen\u001b[39m(neutral_transpositions)\u001b[38;5;132;01m}\u001b[39;00m\u001b[38;5;124m\"\u001b[39m)\n\u001b[1;32m     40\u001b[0m     recalc_group_distance(DELTA, \u001b[38;5;28mlist\u001b[39m(neutral_transpositions)[randint(Integer(\u001b[38;5;241m0\u001b[39m), \u001b[38;5;28mlen\u001b[39m(neutral_transpositions) \u001b[38;5;241m-\u001b[39m Integer(\u001b[38;5;241m1\u001b[39m))], dist_counter)\n",
      "Cell \u001b[0;32mIn[148], line 9\u001b[0m, in \u001b[0;36mcalculate_neutral_trs\u001b[0;34m(DELTA, dist_counter)\u001b[0m\n\u001b[1;32m      7\u001b[0m \u001b[38;5;28;01mfor\u001b[39;00m j \u001b[38;5;129;01min\u001b[39;00m \u001b[38;5;28mrange\u001b[39m(i \u001b[38;5;241m+\u001b[39m Integer(\u001b[38;5;241m1\u001b[39m), Integer(\u001b[38;5;241m2\u001b[39m)\u001b[38;5;241m*\u001b[39m\u001b[38;5;241m*\u001b[39mn):\n\u001b[1;32m      8\u001b[0m     tr \u001b[38;5;241m=\u001b[39m transposition(i, j)\n\u001b[0;32m----> 9\u001b[0m     \u001b[43mrecalc_group_distance\u001b[49m\u001b[43m(\u001b[49m\u001b[43mDELTA\u001b[49m\u001b[43m,\u001b[49m\u001b[43m \u001b[49m\u001b[43mtr\u001b[49m\u001b[43m,\u001b[49m\u001b[43m \u001b[49m\u001b[43mdist_counter\u001b[49m\u001b[43m)\u001b[49m\n\u001b[1;32m     10\u001b[0m     new_dist \u001b[38;5;241m=\u001b[39m DELTA\u001b[38;5;241m.\u001b[39mdistance()\n\u001b[1;32m     11\u001b[0m     \u001b[38;5;28;01mif\u001b[39;00m new_dist \u001b[38;5;241m>\u001b[39m curr_dist \u001b[38;5;129;01mor\u001b[39;00m dist_counter[new_dist] \u001b[38;5;241m<\u001b[39m cnt:\n",
      "Cell \u001b[0;32mIn[43], line 109\u001b[0m, in \u001b[0;36mrecalc_group_distance\u001b[0;34m(Delta, sigma, dist_counter)\u001b[0m\n\u001b[1;32m    107\u001b[0m \u001b[38;5;28;01mfor\u001b[39;00m Dg \u001b[38;5;129;01min\u001b[39;00m Delta\u001b[38;5;241m.\u001b[39mDg_collection:\n\u001b[1;32m    108\u001b[0m     old_distance \u001b[38;5;241m=\u001b[39m Dg\u001b[38;5;241m.\u001b[39mmax_finder\u001b[38;5;241m.\u001b[39mmax()\n\u001b[0;32m--> 109\u001b[0m     \u001b[43mrecalculate_Dg\u001b[49m\u001b[43m(\u001b[49m\u001b[43mDg\u001b[49m\u001b[43m,\u001b[49m\u001b[43m \u001b[49m\u001b[43msigma\u001b[49m\u001b[43m,\u001b[49m\u001b[43m \u001b[49m\u001b[43mdist_counter\u001b[49m\u001b[43m)\u001b[49m\n\u001b[1;32m    110\u001b[0m     new_distance \u001b[38;5;241m=\u001b[39m Dg\u001b[38;5;241m.\u001b[39mmax_finder\u001b[38;5;241m.\u001b[39mmax()\n\u001b[1;32m    111\u001b[0m     Delta\u001b[38;5;241m.\u001b[39mmax_finder\u001b[38;5;241m.\u001b[39mrecalculate_max(old_distance, new_distance, Dg)\n",
      "Cell \u001b[0;32mIn[43], line 84\u001b[0m, in \u001b[0;36mrecalculate_Dg\u001b[0;34m(Dg, sigma, dist_counter)\u001b[0m\n\u001b[1;32m     81\u001b[0m     new_sigma_r \u001b[38;5;241m=\u001b[39m get_right_order((sigma[Integer(\u001b[38;5;241m0\u001b[39m)], sigma_r[Integer(\u001b[38;5;241m0\u001b[39m)]))\n\u001b[1;32m     83\u001b[0m ts \u001b[38;5;241m=\u001b[39m Dg\u001b[38;5;241m.\u001b[39mtransposition_map[sigma_s]\n\u001b[0;32m---> 84\u001b[0m tr \u001b[38;5;241m=\u001b[39m \u001b[43mDg\u001b[49m\u001b[38;5;241;43m.\u001b[39;49m\u001b[43mtransposition_map\u001b[49m\u001b[43m[\u001b[49m\u001b[43msigma_r\u001b[49m\u001b[43m]\u001b[49m\n\u001b[1;32m     85\u001b[0m new_ts \u001b[38;5;241m=\u001b[39m Dg\u001b[38;5;241m.\u001b[39mtransposition_map[new_sigma_s]\n\u001b[1;32m     86\u001b[0m new_tr \u001b[38;5;241m=\u001b[39m Dg\u001b[38;5;241m.\u001b[39mtransposition_map[new_sigma_r]\n",
      "File \u001b[0;32m~/sage/src/sage/rings/finite_rings/element_givaro.pyx:1675\u001b[0m, in \u001b[0;36msage.rings.finite_rings.element_givaro.FiniteField_givaroElement.__hash__\u001b[0;34m()\u001b[0m\n\u001b[1;32m   1673\u001b[0m         5\n\u001b[1;32m   1674\u001b[0m     \"\"\"\n\u001b[0;32m-> 1675\u001b[0m     return hash(self._integer_representation())\n\u001b[1;32m   1676\u001b[0m \n\u001b[1;32m   1677\u001b[0m def _vector_(FiniteField_givaroElement self, reverse=False):\n",
      "File \u001b[0;32m~/sage/src/sage/rings/finite_rings/element_givaro.pyx:1358\u001b[0m, in \u001b[0;36msage.rings.finite_rings.element_givaro.FiniteField_givaroElement._integer_representation\u001b[0;34m()\u001b[0m\n\u001b[1;32m   1356\u001b[0m         <... 'int'>\n\u001b[1;32m   1357\u001b[0m     \"\"\"\n\u001b[0;32m-> 1358\u001b[0m     return self._cache.log_to_int(self.element)\n\u001b[1;32m   1359\u001b[0m \n\u001b[1;32m   1360\u001b[0m def _integer_(FiniteField_givaroElement self, ZZ=None):\n",
      "File \u001b[0;32m~/sage/src/sage/rings/finite_rings/element_givaro.pyx:514\u001b[0m, in \u001b[0;36msage.rings.finite_rings.element_givaro.Cache_givaro.log_to_int\u001b[0;34m()\u001b[0m\n\u001b[1;32m    512\u001b[0m \n\u001b[1;32m    513\u001b[0m         cdef int r = 0\n\u001b[0;32m--> 514\u001b[0m         sig_on()\n\u001b[1;32m    515\u001b[0m         self.objectptr.convert(r, n)\n\u001b[1;32m    516\u001b[0m         sig_off()\n",
      "\u001b[0;31mKeyboardInterrupt\u001b[0m: "
     ]
    }
   ],
   "source": [
    "# блуждание с последовательным перебором, но слегка оптимизированное (dist_counter без весов)\n",
    "import random\n",
    "\n",
    "print(DELTA.distance())\n",
    "\n",
    "dist_counter = {_:0 for _ in range(0, 2^n + 1, 2)}\n",
    "for item in DELTA.Dg_collection:\n",
    "    for i, I_t_g_item in enumerate(item.Ig_map.values()):\n",
    "        dist_counter[I_t_g_item.distance()] += 1\n",
    "\n",
    "pred = (-1, -1)\n",
    "\n",
    "\n",
    "\n",
    "for count in range(100):\n",
    "    if DELTA.distance() == 2:\n",
    "        print('already 2')\n",
    "        break\n",
    "    mn = 100\n",
    "    tr = (-1, -1)\n",
    "    cnt = dist_counter[DELTA.distance()]\n",
    "    for i in range(2^n):\n",
    "        for j in range(i + 1, 2^n):\n",
    "            recalc_group_distance(DELTA, transposition(i, j), dist_counter)\n",
    "            dist = DELTA.distance()\n",
    "            if mn > dist:\n",
    "                mn = dist\n",
    "                cnt = dist_counter[dist]\n",
    "                tr = (i, j)\n",
    "            elif mn == dist and dist_counter[dist] < cnt:\n",
    "                cnt = dist_counter[dist]\n",
    "                tr = (i, j)\n",
    "            recalc_group_distance(DELTA, transposition(i, j), dist_counter)\n",
    "    if mn == 2:\n",
    "        print(\"Big victory of USSR sports\")\n",
    "        break\n",
    "    if tr == pred:\n",
    "        neutral_transpositions = calculate_neutral_trs(DELTA, dist_counter)\n",
    "        print(f\"Magic step begins! {len(neutral_transpositions)}\")\n",
    "        recalc_group_distance(DELTA, list(neutral_transpositions)[randint(0, len(neutral_transpositions) - 1)], dist_counter)\n",
    "        \n",
    "        # MN = 1000000\n",
    "        # TR = (-1, -1)\n",
    "        # CNT = dist_counter[DELTA.distance()]\n",
    "        # for item in tuple(neutral_transpositions)[:30]:\n",
    "        #     recalc_group_distance(DELTA, item, dist_counter)\n",
    "        #     cnt = dist_counter[DELTA.distance()]\n",
    "        #     for i in range(2^n):\n",
    "        #         for j in range(i + 1, 2^n):\n",
    "        #             recalc_group_distance(DELTA, transposition(i, j), dist_counter)\n",
    "        #             dist = DELTA.distance()\n",
    "        #             if mn > dist:\n",
    "        #                 mn = dist\n",
    "        #                 cnt = dist_counter[dist]\n",
    "        #                 tr = (i, j)\n",
    "        #             elif mn == dist and dist_counter[dist] < cnt:\n",
    "        #                 cnt = dist_counter[dist]\n",
    "        #                 tr = (i, j)\n",
    "        #             recalc_group_distance(DELTA, transposition(i, j), dist_counter)\n",
    "        \n",
    "           \n",
    "        #     if (MN > mn) or (MN == mn and CNT < cnt):\n",
    "        #         MN = mn\n",
    "        #         CNT = cnt\n",
    "        #         TR = tr\n",
    "\n",
    "        #     recalc_group_distance(DELTA, item, dist_counter)\n",
    "        # tr = TR\n",
    "        # mn = MN\n",
    "        # cnt = CNT\n",
    "\n",
    "    else:\n",
    "        recalc_group_distance(DELTA, transposition(tr[0], tr[1]), dist_counter)\n",
    "    print(mn, tr)\n",
    "    pred = tr\n",
    "\n",
    "print(\"min = \", mn)\n",
    "# print(DELTA)"
   ]
  },
  {
   "cell_type": "code",
   "execution_count": 162,
   "id": "10a9da56-7b32-429d-bc68-5b2474ab31de",
   "metadata": {},
   "outputs": [
    {
     "name": "stdout",
     "output_type": "stream",
     "text": [
      "6\n",
      "произошёл брейк\n",
      "min = 6\n"
     ]
    }
   ],
   "source": [
    "# блуждание образующими\n",
    "import random\n",
    "\n",
    "print(DELTA.distance())\n",
    "\n",
    "dist_counter = {_:0 for _ in range(0, 2^n + 1, 2)}\n",
    "for item in DELTA.Dg_collection:\n",
    "    for i, I_t_g_item in enumerate(item.Ig_map.values()):\n",
    "        dist_counter[I_t_g_item.distance()] += 1\n",
    "\n",
    "pred = (-1, -1)\n",
    "\n",
    "for count in range(100):\n",
    "    if DELTA.distance() == 2:\n",
    "        print('already 2')\n",
    "        break\n",
    "    mn = DELTA.distance()\n",
    "    tr = (-1, -1)\n",
    "    cnt = dist_counter[DELTA.distance()]\n",
    "    i = 0\n",
    "    for j in range(1, 2^n):\n",
    "        recalc_group_distance(DELTA, transposition(i, j), dist_counter)\n",
    "        dist = DELTA.distance()\n",
    "        if mn > dist:\n",
    "            mn = dist\n",
    "            cnt = dist_counter[dist]\n",
    "            tr = (i, j)\n",
    "        elif mn == dist and dist_counter[dist] < cnt:\n",
    "            cnt = dist_counter[dist]\n",
    "            tr = (i, j)\n",
    "        elif mn == dist and dist_counter[dist] == cnt:\n",
    "            print(\"Not bad\", i,j)\n",
    "        recalc_group_distance(DELTA, transposition(i, j), dist_counter)\n",
    "    if mn == 2 or tr == pred or mn > DELTA.distance():\n",
    "        print(\"произошёл брейк\")\n",
    "        break\n",
    "    recalc_group_distance(DELTA, transposition(tr[0], tr[1]), dist_counter)\n",
    "    print(DELTA.distance(), tr)\n",
    "    pred = tr\n",
    "\n",
    "print(\"min =\", DELTA.distance())\n",
    "# print(DELTA)"
   ]
  },
  {
   "cell_type": "code",
   "execution_count": 163,
   "id": "e778d301-86e7-4e29-8b99-25234bb367f6",
   "metadata": {},
   "outputs": [
    {
     "name": "stdout",
     "output_type": "stream",
     "text": [
      "6\n",
      "произошёл брейк\n",
      "min = 6\n"
     ]
    }
   ],
   "source": [
    "# блуждание образующими\n",
    "import random\n",
    "\n",
    "print(DELTA.distance())\n",
    "\n",
    "dist_counter = {_:0 for _ in range(0, 2^n + 1, 2)}\n",
    "for item in DELTA.Dg_collection:\n",
    "    for i, I_t_g_item in enumerate(item.Ig_map.values()):\n",
    "        dist_counter[I_t_g_item.distance()] += 1\n",
    "\n",
    "pred = (-1, -1)\n",
    "\n",
    "for count in range(100):\n",
    "    if DELTA.distance() == 2:\n",
    "        print('already 2')\n",
    "        break\n",
    "    mn = DELTA.distance()\n",
    "    tr = (-1, -1)\n",
    "    cnt = dist_counter[DELTA.distance()]\n",
    "    for i in range(0, 2^n - 1, 2):\n",
    "        recalc_group_distance(DELTA, transposition(i, i + 1), dist_counter)\n",
    "        dist = DELTA.distance()\n",
    "        if mn > dist:\n",
    "            mn = dist\n",
    "            cnt = dist_counter[dist]\n",
    "            tr = (i, i + 1)\n",
    "        elif mn == dist and dist_counter[dist] < cnt:\n",
    "            cnt = dist_counter[dist]\n",
    "            tr = (i, i + 1)\n",
    "        elif mn == dist and dist_counter[dist] == cnt:\n",
    "            print(\"Not bad\", i,i+1)\n",
    "        recalc_group_distance(DELTA, transposition(i, i + 1), dist_counter)\n",
    "    if mn == 2 or tr == pred or mn > DELTA.distance():\n",
    "        print(\"произошёл брейк\")\n",
    "        break\n",
    "    recalc_group_distance(DELTA, transposition(tr[0], tr[1]), dist_counter)\n",
    "    print(DELTA.distance(), tr)\n",
    "    pred = tr\n",
    "\n",
    "print(\"min =\", DELTA.distance())\n",
    "# print(DELTA)"
   ]
  },
  {
   "cell_type": "code",
   "execution_count": 164,
   "id": "8fee86c9-bae0-4781-887e-d84a13e981e7",
   "metadata": {},
   "outputs": [
    {
     "name": "stdout",
     "output_type": "stream",
     "text": [
      "6\n",
      "произошёл брейк\n",
      "min = 6\n"
     ]
    }
   ],
   "source": [
    "# блуждание возмущающими образующими\n",
    "import random\n",
    "\n",
    "print(DELTA.distance())\n",
    "\n",
    "dist_counter = {_:0 for _ in range(0, 2^n + 1, 2)}\n",
    "for item in DELTA.Dg_collection:\n",
    "    for i, I_t_g_item in enumerate(item.Ig_map.values()):\n",
    "        dist_counter[I_t_g_item.distance()] += 1\n",
    "\n",
    "pred = (-1, -1)\n",
    "\n",
    "for count in range(100):\n",
    "    if DELTA.distance() == 2:\n",
    "        print('already 2')\n",
    "        break\n",
    "    mn = DELTA.distance()\n",
    "    tr = (-1, -1)\n",
    "    cnt = dist_counter[DELTA.distance()]\n",
    "    i = 0\n",
    "    for j in range(1, 2^(n - 1)):\n",
    "        recalc_group_distance(DELTA, transposition(i, 2 * j - 1), dist_counter)\n",
    "        recalc_group_distance(DELTA, transposition(i, 2 * j), dist_counter)\n",
    "        dist = DELTA.distance()\n",
    "        if mn > dist:\n",
    "            mn = dist\n",
    "            cnt = dist_counter[dist]\n",
    "            tr = (i, j)\n",
    "        elif mn == dist and dist_counter[dist] < cnt:\n",
    "            cnt = dist_counter[dist]\n",
    "            tr = (i, j)\n",
    "        elif mn == dist and dist_counter[dist] == cnt:\n",
    "            print(\"Not bad\", i,j)\n",
    "        recalc_group_distance(DELTA, transposition(i, 2 * j), dist_counter)\n",
    "        recalc_group_distance(DELTA, transposition(i, 2 * j - 1), dist_counter)\n",
    "    if mn == 2 or tr == pred or mn > DELTA.distance():\n",
    "        print(\"произошёл брейк\")\n",
    "        break\n",
    "    recalc_group_distance(DELTA, transposition(tr[0], tr[1]), dist_counter)\n",
    "    print(DELTA.distance(), tr)\n",
    "    pred = tr\n",
    "\n",
    "print(\"min =\", DELTA.distance())\n",
    "# print(DELTA)"
   ]
  },
  {
   "cell_type": "code",
   "execution_count": 280,
   "id": "f92d59ea-fdf1-4dc4-b7bb-226b9624ec18",
   "metadata": {},
   "outputs": [],
   "source": [
    "from sage.misc.persist import SagePickler\n",
    "\n",
    "with open(\"big win\", 'wb') as file:\n",
    "    gherkin = SagePickler.dumps(DELTA)\n",
    "    file.write(gherkin)"
   ]
  },
  {
   "cell_type": "code",
   "execution_count": 134,
   "id": "fe42a6c8-2423-40e8-af96-8cc06234d54a",
   "metadata": {},
   "outputs": [],
   "source": [
    "G_set = [] \n",
    "for item in DELTA.Dg_collection:\n",
    "    res = S.identity()\n",
    "    for tr in item.g.g_set:\n",
    "        res*=S(tr)\n",
    "    G_set.append(res)    "
   ]
  },
  {
   "cell_type": "code",
   "execution_count": 135,
   "id": "4afe1a23-6019-4fea-a94d-342e0f5a65bb",
   "metadata": {},
   "outputs": [],
   "source": [
    "G_gooood = S.subgroup(G_set) "
   ]
  },
  {
   "cell_type": "code",
   "execution_count": 136,
   "id": "daa4690e-2946-4e17-a2de-9026a5489160",
   "metadata": {},
   "outputs": [],
   "source": [
    "pi = find_conjugated(S,T,G_gooood,TranslationsDict)"
   ]
  },
  {
   "cell_type": "code",
   "execution_count": 137,
   "id": "9129bfd6-e347-4578-9281-4e60f30eea92",
   "metadata": {},
   "outputs": [
    {
     "data": {
      "text/plain": [
       "98"
      ]
     },
     "execution_count": 137,
     "metadata": {},
     "output_type": "execute_result"
    }
   ],
   "source": [
    "SBox(pi.domain()).nonlinearity()"
   ]
  },
  {
   "cell_type": "code",
   "execution_count": 143,
   "id": "6fecfef9-585d-408f-8d17-3f031ae656bd",
   "metadata": {},
   "outputs": [
    {
     "data": {
      "text/plain": [
       "6"
      ]
     },
     "execution_count": 143,
     "metadata": {},
     "output_type": "execute_result"
    }
   ],
   "source": [
    "DELTA.distance()"
   ]
  },
  {
   "cell_type": "code",
   "execution_count": 142,
   "id": "4ee10a80-5122-470e-aac4-11340b4d13f9",
   "metadata": {},
   "outputs": [],
   "source": [
    "recalc_group_distance(DELTA, transposition(0,43), dist_counter)"
   ]
  },
  {
   "cell_type": "code",
   "execution_count": null,
   "id": "e1228b0a-a343-43bb-bff4-4c2e22ec007d",
   "metadata": {},
   "outputs": [],
   "source": [
    "dist_counter"
   ]
  },
  {
   "cell_type": "code",
   "execution_count": 138,
   "id": "10993a66-5a64-4550-87e0-0368246be312",
   "metadata": {},
   "outputs": [
    {
     "data": {
      "text/plain": [
       "'[0, 16, 28, 208, 84, 90, 55, 35, 94, 156, 254, 146, 129, 24, 22, 74, 112, 73, 86, 157, 205, 103, 131, 226, 120, 45, 18, 150, 136, 122, 242, 236, 164, 60, 26, 182, 143, 89, 71, 190, 162, 171, 98, 21, 102, 147, 167, 138, 110, 183, 30, 58, 155, 117, 151, 161, 197, 6, 204, 49, 20, 240, 152, 113, 179, 188, 92, 199, 252, 200, 2, 224, 4, 173, 154, 243, 174, 177, 185, 109, 123, 29, 191, 76, 195, 43, 133, 128, 149, 53, 78, 130, 153, 247, 104, 187, 108, 218, 249, 135, 8, 34, 216, 210, 65, 148, 248, 223, 165, 227, 31, 40, 75, 228, 116, 255, 220, 198, 144, 14, 80, 219, 246, 213, 50, 46, 118, 145, 201, 158, 61, 180, 172, 64, 5, 9, 237, 105, 209, 42, 70, 232, 137, 51, 114, 206, 141, 62, 106, 7, 87, 215, 202, 217, 222, 100, 229, 48, 66, 238, 115, 139, 82, 52, 12, 125, 181, 97, 235, 67, 230, 211, 17, 27, 124, 83, 101, 207, 19, 95, 25, 168, 107, 68, 203, 127, 10, 140, 13, 251, 132, 192, 32, 250, 93, 99, 175, 184, 253, 91, 159, 196, 189, 119, 126, 81, 56, 214, 134, 44, 57, 163, 11, 194, 37, 63, 176, 244, 212, 59, 111, 193, 3, 41, 166, 169, 142, 39, 23, 186, 38, 241, 69, 221, 33, 121, 77, 54, 96, 160, 234, 47, 36, 15, 79, 88, 72, 239, 170, 233, 231, 178, 85, 225, 245, 1]'"
      ]
     },
     "execution_count": 138,
     "metadata": {},
     "output_type": "execute_result"
    }
   ],
   "source": [
    "str(pi.domain())"
   ]
  },
  {
   "cell_type": "code",
   "execution_count": null,
   "id": "62f9c792-cd58-4d16-8306-929ea9322443",
   "metadata": {},
   "outputs": [],
   "source": []
  },
  {
   "cell_type": "code",
   "execution_count": null,
   "id": "5a49b647-3b9e-41a3-9465-181a2a523fb9",
   "metadata": {},
   "outputs": [],
   "source": []
  },
  {
   "cell_type": "code",
   "execution_count": null,
   "id": "6713f426-7553-402e-8b07-3659586a0694",
   "metadata": {},
   "outputs": [],
   "source": []
  },
  {
   "cell_type": "code",
   "execution_count": 333,
   "id": "bee1cfda-33f0-4872-b3f7-bb6e8969076b",
   "metadata": {},
   "outputs": [],
   "source": [
    "from sage.crypto.sboxes import SBox\n",
    "pi_sbox = SBox(pi.domain())"
   ]
  },
  {
   "cell_type": "code",
   "execution_count": 334,
   "id": "46404a15-a0c2-4ea9-84cf-d9d1880a79e1",
   "metadata": {},
   "outputs": [],
   "source": [
    "with open(\"our SBox.txt\", 'w') as file:\n",
    "    file.write(str(pi_sbox))"
   ]
  },
  {
   "cell_type": "code",
   "execution_count": 335,
   "id": "c1ce0582-fd75-4ed0-af5d-1794a9eedce0",
   "metadata": {},
   "outputs": [
    {
     "data": {
      "text/plain": [
       "90"
      ]
     },
     "execution_count": 335,
     "metadata": {},
     "output_type": "execute_result"
    }
   ],
   "source": [
    "pi_sbox.nonlinearity()"
   ]
  },
  {
   "cell_type": "code",
   "execution_count": 311,
   "id": "d32175af-9928-447c-ac5e-905550b7adf7",
   "metadata": {},
   "outputs": [
    {
     "data": {
      "text/plain": [
       "104"
      ]
     },
     "execution_count": 311,
     "metadata": {},
     "output_type": "execute_result"
    }
   ],
   "source": [
    "SBox(build_good_sbox().domain()).algeb()"
   ]
  },
  {
   "cell_type": "code",
   "execution_count": 312,
   "id": "b511dd64-2a4d-408d-89e6-0d8605ffbf1f",
   "metadata": {},
   "outputs": [
    {
     "data": {
      "text/plain": [
       "100"
      ]
     },
     "execution_count": 312,
     "metadata": {},
     "output_type": "execute_result"
    }
   ],
   "source": [
    "SBox(build_kuznechik().domain()).nonlinearity()"
   ]
  },
  {
   "cell_type": "code",
   "execution_count": 316,
   "id": "9194fc59-4a29-4c2e-a114-f443364f823d",
   "metadata": {},
   "outputs": [
    {
     "data": {
      "text/plain": [
       "112"
      ]
     },
     "execution_count": 316,
     "metadata": {},
     "output_type": "execute_result"
    }
   ],
   "source": [
    "SBox(inv.domain()).nonlinearity()"
   ]
  },
  {
   "cell_type": "code",
   "execution_count": null,
   "id": "8af67598-7194-40a1-bad5-439acc38b132",
   "metadata": {},
   "outputs": [],
   "source": []
  },
  {
   "cell_type": "code",
   "execution_count": null,
   "id": "5f24cd5a-d170-45a3-b5e7-f6c98f55ccae",
   "metadata": {},
   "outputs": [],
   "source": []
  },
  {
   "cell_type": "code",
   "execution_count": null,
   "id": "e70ad78c-54ed-4727-a217-00cb44ed829d",
   "metadata": {},
   "outputs": [],
   "source": []
  },
  {
   "cell_type": "code",
   "execution_count": null,
   "id": "e32c6588-acb3-45c1-bcab-2a01d83813bf",
   "metadata": {},
   "outputs": [],
   "source": []
  },
  {
   "cell_type": "code",
   "execution_count": null,
   "id": "3fd46c39-e531-44d2-9928-bdb3bebeae84",
   "metadata": {},
   "outputs": [],
   "source": []
  },
  {
   "cell_type": "code",
   "execution_count": null,
   "id": "5466d105-4217-4a78-9d7a-dbbc12194415",
   "metadata": {},
   "outputs": [],
   "source": []
  },
  {
   "cell_type": "code",
   "execution_count": null,
   "id": "cf938522-5bca-4334-b849-1e1dcf6d2408",
   "metadata": {},
   "outputs": [],
   "source": []
  },
  {
   "cell_type": "code",
   "execution_count": null,
   "id": "08c8e547-1bd7-4b3d-b7b6-914c7475c47e",
   "metadata": {},
   "outputs": [],
   "source": []
  },
  {
   "cell_type": "code",
   "execution_count": null,
   "id": "90efbe05-4eab-43fd-9ea9-fab7aa021066",
   "metadata": {},
   "outputs": [],
   "source": []
  },
  {
   "cell_type": "code",
   "execution_count": null,
   "id": "070b6d45-e061-4cc6-9f59-02950eb21ed3",
   "metadata": {},
   "outputs": [],
   "source": []
  },
  {
   "cell_type": "code",
   "execution_count": 293,
   "id": "3515ab57-ebab-404c-ad06-2a2163a3105a",
   "metadata": {},
   "outputs": [
    {
     "ename": "ValueError",
     "evalue": "invalid data to initialize a permutation",
     "output_type": "error",
     "traceback": [
      "\u001b[0;31m---------------------------------------------------------------------------\u001b[0m",
      "\u001b[0;31mValueError\u001b[0m                                Traceback (most recent call last)",
      "Cell \u001b[0;32mIn[293], line 1\u001b[0m\n\u001b[0;32m----> 1\u001b[0m \u001b[43mS\u001b[49m\u001b[43m(\u001b[49m\u001b[43m[\u001b[49m\u001b[43mtransposition\u001b[49m\u001b[43m(\u001b[49m\u001b[43mInteger\u001b[49m\u001b[43m(\u001b[49m\u001b[38;5;241;43m1\u001b[39;49m\u001b[43m)\u001b[49m\u001b[43m,\u001b[49m\u001b[43m \u001b[49m\u001b[43mInteger\u001b[49m\u001b[43m(\u001b[49m\u001b[38;5;241;43m2\u001b[39;49m\u001b[43m)\u001b[49m\u001b[43m)\u001b[49m\u001b[43m,\u001b[49m\u001b[43m \u001b[49m\u001b[43mtransposition\u001b[49m\u001b[43m(\u001b[49m\u001b[43mInteger\u001b[49m\u001b[43m(\u001b[49m\u001b[38;5;241;43m1\u001b[39;49m\u001b[43m)\u001b[49m\u001b[43m,\u001b[49m\u001b[43m \u001b[49m\u001b[43mInteger\u001b[49m\u001b[43m(\u001b[49m\u001b[38;5;241;43m3\u001b[39;49m\u001b[43m)\u001b[49m\u001b[43m)\u001b[49m\u001b[43m]\u001b[49m\u001b[43m)\u001b[49m\n",
      "File \u001b[0;32m~/sage/src/sage/structure/parent.pyx:900\u001b[0m, in \u001b[0;36msage.structure.parent.Parent.__call__\u001b[0;34m()\u001b[0m\n\u001b[1;32m    898\u001b[0m if mor is not None:\n\u001b[1;32m    899\u001b[0m     if no_extra_args:\n\u001b[0;32m--> 900\u001b[0m         return mor._call_(x)\n\u001b[1;32m    901\u001b[0m     else:\n\u001b[1;32m    902\u001b[0m         return mor._call_with_args(x, args, kwds)\n",
      "File \u001b[0;32m~/sage/src/sage/structure/coerce_maps.pyx:164\u001b[0m, in \u001b[0;36msage.structure.coerce_maps.DefaultConvertMap_unique._call_\u001b[0;34m()\u001b[0m\n\u001b[1;32m    162\u001b[0m             print(type(C), C)\n\u001b[1;32m    163\u001b[0m             print(type(C._element_constructor), C._element_constructor)\n\u001b[0;32m--> 164\u001b[0m         raise\n\u001b[1;32m    165\u001b[0m \n\u001b[1;32m    166\u001b[0m cpdef Element _call_with_args(self, x, args=(), kwds={}):\n",
      "File \u001b[0;32m~/sage/src/sage/structure/coerce_maps.pyx:159\u001b[0m, in \u001b[0;36msage.structure.coerce_maps.DefaultConvertMap_unique._call_\u001b[0;34m()\u001b[0m\n\u001b[1;32m    157\u001b[0m cdef Parent C = self._codomain\n\u001b[1;32m    158\u001b[0m try:\n\u001b[0;32m--> 159\u001b[0m     return C._element_constructor(x)\n\u001b[1;32m    160\u001b[0m except Exception:\n\u001b[1;32m    161\u001b[0m     if print_warnings:\n",
      "File \u001b[0;32m~/sage/src/sage/groups/perm_gps/permgroup.py:900\u001b[0m, in \u001b[0;36mPermutationGroup_generic._element_constructor_\u001b[0;34m(self, x, check)\u001b[0m\n\u001b[1;32m    896\u001b[0m     \u001b[38;5;28;01mif\u001b[39;00m compatible_domains \u001b[38;5;129;01mand\u001b[39;00m (\u001b[38;5;28misinstance\u001b[39m(\u001b[38;5;28mself\u001b[39m, SymmetricGroup)\n\u001b[1;32m    897\u001b[0m                                \u001b[38;5;129;01mor\u001b[39;00m x\u001b[38;5;241m.\u001b[39mgap() \u001b[38;5;129;01min\u001b[39;00m \u001b[38;5;28mself\u001b[39m\u001b[38;5;241m.\u001b[39mgap()):\n\u001b[1;32m    898\u001b[0m         \u001b[38;5;28;01mreturn\u001b[39;00m \u001b[38;5;28mself\u001b[39m\u001b[38;5;241m.\u001b[39melement_class(x, \u001b[38;5;28mself\u001b[39m, check\u001b[38;5;241m=\u001b[39m\u001b[38;5;28;01mFalse\u001b[39;00m)\n\u001b[0;32m--> 900\u001b[0m \u001b[38;5;28;01mreturn\u001b[39;00m \u001b[38;5;28;43mself\u001b[39;49m\u001b[38;5;241;43m.\u001b[39;49m\u001b[43melement_class\u001b[49m\u001b[43m(\u001b[49m\u001b[43mx\u001b[49m\u001b[43m,\u001b[49m\u001b[43m \u001b[49m\u001b[38;5;28;43mself\u001b[39;49m\u001b[43m,\u001b[49m\u001b[43m \u001b[49m\u001b[43mcheck\u001b[49m\u001b[38;5;241;43m=\u001b[39;49m\u001b[43mcheck\u001b[49m\u001b[43m)\u001b[49m\n",
      "File \u001b[0;32m~/sage/src/sage/groups/perm_gps/permgroup_element.pyx:518\u001b[0m, in \u001b[0;36msage.groups.perm_gps.permgroup_element.PermutationGroupElement.__init__\u001b[0;34m()\u001b[0m\n\u001b[1;32m    516\u001b[0m # a valid permutation (else segfaults, infinite loops may occur).\n\u001b[1;32m    517\u001b[0m if not is_valid_permutation(self.perm, self.n):\n\u001b[0;32m--> 518\u001b[0m     raise ValueError(\"invalid data to initialize a permutation\")\n\u001b[1;32m    519\u001b[0m \n\u001b[1;32m    520\u001b[0m # This is more expensive\n",
      "\u001b[0;31mValueError\u001b[0m: invalid data to initialize a permutation"
     ]
    }
   ],
   "source": []
  },
  {
   "cell_type": "code",
   "execution_count": 24,
   "id": "50375435-b489-4c11-adfb-f6886a48b608",
   "metadata": {},
   "outputs": [],
   "source": [
    "import pickle\n",
    "bbobob = 98\n",
    "with open(f\"big win {bbobob}\", 'wb') as file:\n",
    "    pickle.dump(DELTA, file)"
   ]
  },
  {
   "cell_type": "code",
   "execution_count": 463,
   "id": "5f8560e7-d4ce-4c4e-9971-b774557492a5",
   "metadata": {},
   "outputs": [],
   "source": [
    "with open(\"big win 2\", 'rb') as file:\n",
    "    DELTA = pickle.load(file)"
   ]
  },
  {
   "cell_type": "code",
   "execution_count": null,
   "id": "bad73224-9301-4078-bd62-942386f36e82",
   "metadata": {},
   "outputs": [],
   "source": [
    "mn = 10000\n",
    "\n",
    "for i in range(500):\n",
    "    pi = S.random_element()\n",
    "    dn = SBox(pi.domain()).differential_uniformity()\n",
    "    mn = min(mn, dn)\n",
    "\n",
    "mn"
   ]
  },
  {
   "cell_type": "code",
   "execution_count": null,
   "id": "c8da7833-375f-40db-be7d-b79f636b3e87",
   "metadata": {},
   "outputs": [],
   "source": []
  },
  {
   "cell_type": "code",
   "execution_count": 427,
   "id": "b8541d81-254c-4334-84c6-16d7e83bc588",
   "metadata": {},
   "outputs": [
    {
     "name": "stdout",
     "output_type": "stream",
     "text": [
      "8\n",
      "8\n",
      "8\n"
     ]
    },
    {
     "ename": "KeyboardInterrupt",
     "evalue": "",
     "output_type": "error",
     "traceback": [
      "\u001b[0;31m---------------------------------------------------------------------------\u001b[0m",
      "\u001b[0;31mKeyboardInterrupt\u001b[0m                         Traceback (most recent call last)",
      "Cell \u001b[0;32mIn[427], line 111\u001b[0m\n\u001b[1;32m    109\u001b[0m \u001b[38;5;28;01mif\u001b[39;00m rand \u001b[38;5;241m<\u001b[39m\u001b[38;5;241m=\u001b[39m RealNumber(\u001b[38;5;124m'\u001b[39m\u001b[38;5;124m0.925\u001b[39m\u001b[38;5;124m'\u001b[39m):\n\u001b[1;32m    110\u001b[0m     bluzhdanie_1(DELTA, dist_counter)\n\u001b[0;32m--> 111\u001b[0m     \u001b[43mbluzhdanie_2\u001b[49m\u001b[43m(\u001b[49m\u001b[43mDELTA\u001b[49m\u001b[43m,\u001b[49m\u001b[43m \u001b[49m\u001b[43mdist_counter\u001b[49m\u001b[43m)\u001b[49m\n\u001b[1;32m    112\u001b[0m \u001b[38;5;28;01melse\u001b[39;00m:\n\u001b[1;32m    113\u001b[0m     bluzhdanie_3(DELTA, dist_counter)\n",
      "Cell \u001b[0;32mIn[427], line 49\u001b[0m, in \u001b[0;36mbluzhdanie_2\u001b[0;34m(DELTA, dist_counter)\u001b[0m\n\u001b[1;32m     47\u001b[0m         cnt \u001b[38;5;241m=\u001b[39m dist_counter[dist]\n\u001b[1;32m     48\u001b[0m         tr \u001b[38;5;241m=\u001b[39m (i, i \u001b[38;5;241m+\u001b[39m Integer(\u001b[38;5;241m1\u001b[39m))\n\u001b[0;32m---> 49\u001b[0m     \u001b[43mrecalc_group_distance\u001b[49m\u001b[43m(\u001b[49m\u001b[43mDELTA\u001b[49m\u001b[43m,\u001b[49m\u001b[43m \u001b[49m\u001b[43mtransposition\u001b[49m\u001b[43m(\u001b[49m\u001b[43mi\u001b[49m\u001b[43m,\u001b[49m\u001b[43m \u001b[49m\u001b[43mi\u001b[49m\u001b[43m \u001b[49m\u001b[38;5;241;43m+\u001b[39;49m\u001b[43m \u001b[49m\u001b[43mInteger\u001b[49m\u001b[43m(\u001b[49m\u001b[38;5;241;43m1\u001b[39;49m\u001b[43m)\u001b[49m\u001b[43m)\u001b[49m\u001b[43m,\u001b[49m\u001b[43m \u001b[49m\u001b[43mdist_counter\u001b[49m\u001b[43m)\u001b[49m\n\u001b[1;32m     50\u001b[0m \u001b[38;5;28;01mif\u001b[39;00m mn \u001b[38;5;241m<\u001b[39m\u001b[38;5;241m=\u001b[39m Integer(\u001b[38;5;241m6\u001b[39m) \u001b[38;5;129;01mor\u001b[39;00m tr \u001b[38;5;241m==\u001b[39m pred \u001b[38;5;129;01mor\u001b[39;00m mn \u001b[38;5;241m>\u001b[39m DELTA\u001b[38;5;241m.\u001b[39mdistance():\n\u001b[1;32m     51\u001b[0m     \u001b[38;5;28;01mreturn\u001b[39;00m\n",
      "Cell \u001b[0;32mIn[392], line 109\u001b[0m, in \u001b[0;36mrecalc_group_distance\u001b[0;34m(Delta, sigma, dist_counter)\u001b[0m\n\u001b[1;32m    107\u001b[0m \u001b[38;5;28;01mfor\u001b[39;00m Dg \u001b[38;5;129;01min\u001b[39;00m Delta\u001b[38;5;241m.\u001b[39mDg_collection:\n\u001b[1;32m    108\u001b[0m     old_distance \u001b[38;5;241m=\u001b[39m Dg\u001b[38;5;241m.\u001b[39mmax_finder\u001b[38;5;241m.\u001b[39mmax()\n\u001b[0;32m--> 109\u001b[0m     \u001b[43mrecalculate_Dg\u001b[49m\u001b[43m(\u001b[49m\u001b[43mDg\u001b[49m\u001b[43m,\u001b[49m\u001b[43m \u001b[49m\u001b[43msigma\u001b[49m\u001b[43m,\u001b[49m\u001b[43m \u001b[49m\u001b[43mdist_counter\u001b[49m\u001b[43m)\u001b[49m\n\u001b[1;32m    110\u001b[0m     new_distance \u001b[38;5;241m=\u001b[39m Dg\u001b[38;5;241m.\u001b[39mmax_finder\u001b[38;5;241m.\u001b[39mmax()\n\u001b[1;32m    111\u001b[0m     Delta\u001b[38;5;241m.\u001b[39mmax_finder\u001b[38;5;241m.\u001b[39mrecalculate_max(old_distance, new_distance, Dg)\n",
      "Cell \u001b[0;32mIn[392], line 74\u001b[0m, in \u001b[0;36mrecalculate_Dg\u001b[0;34m(Dg, sigma, dist_counter)\u001b[0m\n\u001b[1;32m     71\u001b[0m sigma_r \u001b[38;5;241m=\u001b[39m Dg\u001b[38;5;241m.\u001b[39mg\u001b[38;5;241m.\u001b[39mget_transposition(sigma[Integer(\u001b[38;5;241m1\u001b[39m)])\n\u001b[1;32m     73\u001b[0m \u001b[38;5;28;01mif\u001b[39;00m sigma_s[Integer(\u001b[38;5;241m0\u001b[39m)] \u001b[38;5;241m==\u001b[39m sigma[Integer(\u001b[38;5;241m0\u001b[39m)]:\n\u001b[0;32m---> 74\u001b[0m     new_sigma_s \u001b[38;5;241m=\u001b[39m \u001b[43mget_right_order\u001b[49m\u001b[43m(\u001b[49m\u001b[43m(\u001b[49m\u001b[43msigma\u001b[49m\u001b[43m[\u001b[49m\u001b[43mInteger\u001b[49m\u001b[43m(\u001b[49m\u001b[38;5;241;43m1\u001b[39;49m\u001b[43m)\u001b[49m\u001b[43m]\u001b[49m\u001b[43m,\u001b[49m\u001b[43m \u001b[49m\u001b[43msigma_s\u001b[49m\u001b[43m[\u001b[49m\u001b[43mInteger\u001b[49m\u001b[43m(\u001b[49m\u001b[38;5;241;43m1\u001b[39;49m\u001b[43m)\u001b[49m\u001b[43m]\u001b[49m\u001b[43m)\u001b[49m\u001b[43m)\u001b[49m\n\u001b[1;32m     75\u001b[0m \u001b[38;5;28;01melse\u001b[39;00m:\n\u001b[1;32m     76\u001b[0m     new_sigma_s \u001b[38;5;241m=\u001b[39m get_right_order((sigma[Integer(\u001b[38;5;241m1\u001b[39m)], sigma_s[Integer(\u001b[38;5;241m0\u001b[39m)]))\n",
      "Cell \u001b[0;32mIn[390], line 1\u001b[0m, in \u001b[0;36mget_right_order\u001b[0;34m(transposition)\u001b[0m\n\u001b[0;32m----> 1\u001b[0m \u001b[38;5;28;01mdef\u001b[39;00m \u001b[38;5;21mget_right_order\u001b[39m(transposition):\n\u001b[1;32m      2\u001b[0m     \u001b[38;5;28;01mif\u001b[39;00m transposition[Integer(\u001b[38;5;241m0\u001b[39m)] \u001b[38;5;241m>\u001b[39m transposition[Integer(\u001b[38;5;241m1\u001b[39m)]:\n\u001b[1;32m      3\u001b[0m         \u001b[38;5;28;01mreturn\u001b[39;00m transposition[::\u001b[38;5;241m-\u001b[39mInteger(\u001b[38;5;241m1\u001b[39m)]\n",
      "File \u001b[0;32msrc/cysignals/signals.pyx:310\u001b[0m, in \u001b[0;36mcysignals.signals.python_check_interrupt\u001b[0;34m()\u001b[0m\n",
      "\u001b[0;31mKeyboardInterrupt\u001b[0m: "
     ]
    }
   ],
   "source": [
    "import random\n",
    "import pickle\n",
    "\n",
    "def bluzhdanie_1(DELTA, dist_counter):\n",
    "    pred = (-1, -1)\n",
    "    for count in range(100):\n",
    "        if DELTA.distance() == 2:\n",
    "            print('already 2')\n",
    "            break\n",
    "        mn = 100\n",
    "        tr = (-1, -1)\n",
    "        cnt = dist_counter[DELTA.distance()]\n",
    "        i = 0\n",
    "        for j in range(1, 2^n):\n",
    "            recalc_group_distance(DELTA, transposition(i, j), dist_counter)\n",
    "            dist = DELTA.distance()\n",
    "            if mn > dist:\n",
    "                mn = dist\n",
    "                cnt = dist_counter[dist]\n",
    "                tr = (i, j)\n",
    "            elif mn == dist and dist_counter[dist] < cnt:\n",
    "                cnt = dist_counter[dist]\n",
    "                tr = (i, j)\n",
    "            recalc_group_distance(DELTA, transposition(i, j), dist_counter)\n",
    "        if mn <= 6 or tr == pred or mn > DELTA.distance():\n",
    "            return\n",
    "        recalc_group_distance(DELTA, transposition(tr[0], tr[1]), dist_counter)\n",
    "        pred = tr\n",
    "\n",
    "def bluzhdanie_2(DELTA, dist_counter):\n",
    "    pred = (-1, -1)\n",
    "    for count in range(100):\n",
    "        if DELTA.distance() == 2:\n",
    "            print('already 2')\n",
    "            break\n",
    "        mn = 100\n",
    "        tr = (-1, -1)\n",
    "        cnt = dist_counter[DELTA.distance()]\n",
    "        for i in range(0, 2^n - 1, 2):\n",
    "            recalc_group_distance(DELTA, transposition(i, i + 1), dist_counter)\n",
    "            dist = DELTA.distance()\n",
    "            if mn > dist:\n",
    "                mn = dist\n",
    "                cnt = dist_counter[dist]\n",
    "                tr = (i, i + 1)\n",
    "            elif mn == dist and dist_counter[dist] < cnt:\n",
    "                cnt = dist_counter[dist]\n",
    "                tr = (i, i + 1)\n",
    "            recalc_group_distance(DELTA, transposition(i, i + 1), dist_counter)\n",
    "        if mn <= 6 or tr == pred or mn > DELTA.distance():\n",
    "            return\n",
    "        recalc_group_distance(DELTA, transposition(tr[0], tr[1]), dist_counter)\n",
    "        pred = tr\n",
    "\n",
    "def bluzhdanie_3(DELTA, dist_counter):\n",
    "    pred = (-1, -1)\n",
    "    for count in range(100):\n",
    "        if DELTA.distance() == 2:\n",
    "            print('already 2')\n",
    "            break\n",
    "        mn = 100\n",
    "        tr = (-1, -1)\n",
    "        cnt = dist_counter[DELTA.distance()]\n",
    "        i = 0\n",
    "        for j in range(1, 2^(n - 1)):\n",
    "            recalc_group_distance(DELTA, transposition(i, 2 * j - 1), dist_counter)\n",
    "            recalc_group_distance(DELTA, transposition(i, 2 * j), dist_counter)\n",
    "            dist = DELTA.distance()\n",
    "            if mn > dist:\n",
    "                mn = dist\n",
    "                cnt = dist_counter[dist]\n",
    "                tr = (i, j)\n",
    "            elif mn == dist and dist_counter[dist] < cnt:\n",
    "                cnt = dist_counter[dist]\n",
    "                tr = (i, j)\n",
    "            recalc_group_distance(DELTA, transposition(i, 2 * j), dist_counter)\n",
    "            recalc_group_distance(DELTA, transposition(i, 2 * j - 1), dist_counter)\n",
    "        if mn <= 6 or tr == pred or mn > DELTA.distance():\n",
    "            return\n",
    "        recalc_group_distance(DELTA, transposition(tr[0], tr[1]), dist_counter)\n",
    "        pred = tr\n",
    "\n",
    "def init(DELTA):\n",
    "    n = 8\n",
    "    F = GF(2^n, repr='int')\n",
    "    sorted_field = F.list()\n",
    "    sorted_field.sort()\n",
    "    S = SymmetricGroup(domain=sorted_field)\n",
    "    T, TranslationsDict = build_translations_group(sorted_field,sorted_field,S)\n",
    "    \n",
    "    inv = build_inversion(sorted_field, S, F)\n",
    "    G = conjugate(S,T,inv)\n",
    "    \n",
    "    f = S.random_element()\n",
    "    G = conjugate(S, T, f)\n",
    "    DELTA = Delta(T, G, 2^n)\n",
    "    print(\"diff. uniformity: \", DELTA.distance())\n",
    "\n",
    "dist_counter = {_:0 for _ in range(0, 2^n + 1, 2)}\n",
    "for item in DELTA.Dg_collection:\n",
    "    for i, I_t_g_item in enumerate(item.Ig_map.values()):\n",
    "        dist_counter[I_t_g_item.distance()] += 1\n",
    "\n",
    "counter = 0\n",
    "cnt_of_big_wins = 0\n",
    "\n",
    "while True:\n",
    "    rand = random.uniform(0, 1)\n",
    "    if rand <= 0.925:\n",
    "        bluzhdanie_1(DELTA, dist_counter)\n",
    "        bluzhdanie_2(DELTA, dist_counter)\n",
    "    else:\n",
    "        bluzhdanie_3(DELTA, dist_counter)\n",
    "    if DELTA.distance() <= 6:\n",
    "        cnt_of_big_wins += 1\n",
    "        with open(f\"big win number {cnt_of_big_wins}\", 'wb') as file:\n",
    "            pickle.dump(DELTA, file)\n",
    "        print(\"URAAAAAAAAAAA!!!!!!!!!!!!!!\")\n",
    "    counter += 1\n",
    "    if counter == 50:\n",
    "        init(DELTA)\n",
    "        counter = 0\n",
    "    print(DELTA.distance())"
   ]
  },
  {
   "cell_type": "code",
   "execution_count": 6,
   "id": "591f71ff-8371-4634-97a6-c5f3a0c2801a",
   "metadata": {},
   "outputs": [
    {
     "name": "stdout",
     "output_type": "stream",
     "text": [
      "diff. uniformity:  12\n"
     ]
    }
   ],
   "source": [
    "n = 8\n",
    "F = GF(2^n, repr='int')\n",
    "sorted_field = F.list()\n",
    "sorted_field.sort()\n",
    "S = SymmetricGroup(domain=sorted_field)\n",
    "T, TranslationsDict = build_translations_group(sorted_field,sorted_field,S)\n",
    "[0, 2, 23, 168, 59, 14, 239, 54, 117, 122, 192, 85, 51, 31, 201, 179, 123, 13, 150, 181, 234, 190, 184, 246, 24, 65, 92, 218, 98, 97, 28, 68, 132, 84, 99, 213, 233, 72, 37, 176, 151, 182, 116, 231, 129, 198, 139, 222, 6, 191, 52, 40, 86, 106, 82, 186, 109, 7, 48, 58, 253, 241, 127, 77, 230, 17, 219, 237, 113, 53, 244, 33, 208, 83, 46, 145, 206, 21, 172, 149, 161, 50, 178, 140, 22, 135, 229, 100, 199, 56, 87, 243, 9, 61, 175, 67, 153, 130, 63, 44, 71, 112, 167, 247, 148, 245, 18, 79, 29, 64, 200, 157, 74, 34, 209, 69, 197, 238, 39, 42, 152, 90, 170, 154, 207, 164, 158, 195, 255, 215, 96, 4, 32, 36, 35, 254, 203, 136, 16, 131, 194, 166, 11, 88, 185, 205, 217, 224, 220, 108, 115, 160, 43, 27, 236, 110, 240, 104, 45, 101, 114, 103, 12, 3, 221, 126, 55, 138, 159, 232, 251, 156, 41, 111, 134, 76, 62, 47, 214, 193, 235, 118, 216, 30, 163, 171, 142, 15, 137, 174, 225, 121, 19, 173, 133, 162, 249, 223, 10, 120, 5, 210, 124, 177, 49, 250, 252, 147, 95, 78, 155, 144, 226, 20, 8, 73, 89, 141, 38, 202, 102, 211, 146, 80, 204, 94, 81, 183, 25, 93, 227, 1, 188, 242, 75, 212, 180, 189, 60, 91, 57, 125, 169, 66, 26, 105, 107, 187, 119, 196, 248, 128, 228, 70, 143, 165]\n",
    "inv = build_inversion(sorted_field, S, F)\n",
    "G = conjugate(S,T,inv)\n",
    "\n",
    "f = S.random_element()\n",
    "G = conjugate(S, T, f)\n",
    "DELTA = Delta(T, G, 2^n)\n",
    "print(\"diff. uniformity: \", DELTA.distance())"
   ]
  },
  {
   "cell_type": "code",
   "execution_count": 3,
   "id": "a0e3a3b1-defd-4fce-9cbf-9900a08720d0",
   "metadata": {},
   "outputs": [],
   "source": [
    "with open(\"better_sbox_1.txt\", 'rb') as file:\n",
    "    sbox = file.read()"
   ]
  },
  {
   "cell_type": "code",
   "execution_count": 155,
   "id": "4d2f72de-9cf2-474c-9fe2-17f11418fcd7",
   "metadata": {},
   "outputs": [],
   "source": [
    "from sage.crypto.sboxes import SBox\n",
    "\n",
    "arr = [0, 16, 28, 208, 84, 90, 55, 35, 94, 156, 254, 146, 129, 24, 22, 74, 112, 73, 86, 157, 205, 103, 131, 226, 120, 45, 18, 150, 136, 122, 242, 236, 164, 60, 26, 182, 143, 89, 71, 190, 162, 171, 98, 21, 102, 147, 167, 138, 110, 183, 30, 58, 155, 117, 151, 161, 197, 6, 204, 49, 20, 240, 152, 113, 179, 188, 92, 199, 252, 200, 2, 224, 4, 173, 154, 243, 174, 177, 185, 109, 123, 29, 191, 76, 195, 43, 133, 128, 149, 53, 78, 130, 153, 247, 104, 187, 108, 218, 249, 135, 8, 34, 216, 210, 65, 148, 248, 223, 165, 227, 31, 40, 75, 228, 116, 255, 220, 198, 144, 14, 80, 219, 246, 213, 50, 46, 118, 145, 201, 158, 61, 180, 172, 64, 5, 9, 237, 105, 209, 42, 70, 232, 137, 51, 114, 206, 141, 62, 106, 7, 87, 215, 202, 217, 222, 100, 229, 48, 66, 238, 115, 139, 82, 52, 12, 125, 181, 97, 235, 67, 230, 211, 17, 27, 124, 83, 101, 207, 19, 95, 25, 168, 107, 68, 203, 127, 10, 140, 13, 251, 132, 192, 32, 250, 93, 99, 175, 184, 253, 91, 159, 196, 189, 119, 126, 81, 56, 214, 134, 44, 57, 163, 11, 194, 37, 63, 176, 244, 212, 59, 111, 193, 3, 41, 166, 169, 142, 39, 23, 186, 38, 241, 69, 221, 33, 121, 77, 54, 96, 160, 234, 47, 36, 15, 79, 88, 72, 239, 170, 233, 231, 178, 85, 225, 245, 1]\n",
    "\n",
    "sbox = []\n",
    "\n",
    "for x in arr:\n",
    "    sbox.append(F.from_integer(x))\n",
    "\n",
    "Group = conjugate(S, T, S(sbox))\n",
    "DELTA = Delta(T, Group, 2^n)\n",
    "print(SBox(arr).differential_uniformity(), SBox(arr).nonlinearity())"
   ]
  },
  {
   "cell_type": "code",
   "execution_count": null,
   "id": "4f0ddba5-143f-4eb2-9ae2-c663a6951198",
   "metadata": {},
   "outputs": [],
   "source": []
  },
  {
   "cell_type": "code",
   "execution_count": 156,
   "id": "7df51f77-266f-42c1-a836-29bbbf321e63",
   "metadata": {},
   "outputs": [
    {
     "name": "stdout",
     "output_type": "stream",
     "text": [
      "6 98\n"
     ]
    }
   ],
   "source": [
    "print(SBox(arr).differential_uniformity(), SBox(arr).nonlinearity())"
   ]
  },
  {
   "cell_type": "code",
   "execution_count": null,
   "id": "6a937b11-b27a-4ab0-a32f-57ad46a96e8d",
   "metadata": {},
   "outputs": [],
   "source": []
  },
  {
   "cell_type": "code",
   "execution_count": 165,
   "id": "9187b5b8-17a2-4173-b224-fff61bb19288",
   "metadata": {},
   "outputs": [],
   "source": [
    "dist_counter = {_:0 for _ in range(0, 2^n+1, 2)}\n",
    "for item in DELTA.Dg_collection:\n",
    "    for i, I_t_g_item in enumerate(item.Ig_map.values()):\n",
    "        dist_counter[I_t_g_item.distance()] += 1\n",
    "\n"
   ]
  },
  {
   "cell_type": "code",
   "execution_count": 166,
   "id": "34d12118-68fa-42f4-844b-e3c99a8cf9e1",
   "metadata": {},
   "outputs": [
    {
     "data": {
      "text/plain": [
       "{0: 37996,\n",
       " 2: 21711,\n",
       " 4: 5025,\n",
       " 6: 293,\n",
       " 8: 0,\n",
       " 10: 0,\n",
       " 12: 0,\n",
       " 14: 0,\n",
       " 16: 0,\n",
       " 18: 0,\n",
       " 20: 0,\n",
       " 22: 0,\n",
       " 24: 0,\n",
       " 26: 0,\n",
       " 28: 0,\n",
       " 30: 0,\n",
       " 32: 0,\n",
       " 34: 0,\n",
       " 36: 0,\n",
       " 38: 0,\n",
       " 40: 0,\n",
       " 42: 0,\n",
       " 44: 0,\n",
       " 46: 0,\n",
       " 48: 0,\n",
       " 50: 0,\n",
       " 52: 0,\n",
       " 54: 0,\n",
       " 56: 0,\n",
       " 58: 0,\n",
       " 60: 0,\n",
       " 62: 0,\n",
       " 64: 0,\n",
       " 66: 0,\n",
       " 68: 0,\n",
       " 70: 0,\n",
       " 72: 0,\n",
       " 74: 0,\n",
       " 76: 0,\n",
       " 78: 0,\n",
       " 80: 0,\n",
       " 82: 0,\n",
       " 84: 0,\n",
       " 86: 0,\n",
       " 88: 0,\n",
       " 90: 0,\n",
       " 92: 0,\n",
       " 94: 0,\n",
       " 96: 0,\n",
       " 98: 0,\n",
       " 100: 0,\n",
       " 102: 0,\n",
       " 104: 0,\n",
       " 106: 0,\n",
       " 108: 0,\n",
       " 110: 0,\n",
       " 112: 0,\n",
       " 114: 0,\n",
       " 116: 0,\n",
       " 118: 0,\n",
       " 120: 0,\n",
       " 122: 0,\n",
       " 124: 0,\n",
       " 126: 0,\n",
       " 128: 0,\n",
       " 130: 0,\n",
       " 132: 0,\n",
       " 134: 0,\n",
       " 136: 0,\n",
       " 138: 0,\n",
       " 140: 0,\n",
       " 142: 0,\n",
       " 144: 0,\n",
       " 146: 0,\n",
       " 148: 0,\n",
       " 150: 0,\n",
       " 152: 0,\n",
       " 154: 0,\n",
       " 156: 0,\n",
       " 158: 0,\n",
       " 160: 0,\n",
       " 162: 0,\n",
       " 164: 0,\n",
       " 166: 0,\n",
       " 168: 0,\n",
       " 170: 0,\n",
       " 172: 0,\n",
       " 174: 0,\n",
       " 176: 0,\n",
       " 178: 0,\n",
       " 180: 0,\n",
       " 182: 0,\n",
       " 184: 0,\n",
       " 186: 0,\n",
       " 188: 0,\n",
       " 190: 0,\n",
       " 192: 0,\n",
       " 194: 0,\n",
       " 196: 0,\n",
       " 198: 0,\n",
       " 200: 0,\n",
       " 202: 0,\n",
       " 204: 0,\n",
       " 206: 0,\n",
       " 208: 0,\n",
       " 210: 0,\n",
       " 212: 0,\n",
       " 214: 0,\n",
       " 216: 0,\n",
       " 218: 0,\n",
       " 220: 0,\n",
       " 222: 0,\n",
       " 224: 0,\n",
       " 226: 0,\n",
       " 228: 0,\n",
       " 230: 0,\n",
       " 232: 0,\n",
       " 234: 0,\n",
       " 236: 0,\n",
       " 238: 0,\n",
       " 240: 0,\n",
       " 242: 0,\n",
       " 244: 0,\n",
       " 246: 0,\n",
       " 248: 0,\n",
       " 250: 0,\n",
       " 252: 0,\n",
       " 254: 0,\n",
       " 256: 0}"
      ]
     },
     "execution_count": 166,
     "metadata": {},
     "output_type": "execute_result"
    }
   ],
   "source": [
    "dist_counter"
   ]
  },
  {
   "cell_type": "code",
   "execution_count": null,
   "id": "288f914d-23a8-4d4c-9e04-f20b3c641431",
   "metadata": {},
   "outputs": [],
   "source": []
  },
  {
   "cell_type": "code",
   "execution_count": 67,
   "id": "ac4ab238-8b73-466c-9a75-54a7a95ef764",
   "metadata": {},
   "outputs": [
    {
     "name": "stdout",
     "output_type": "stream",
     "text": [
      "6 {0: 38043, 2: 21618, 4: 5070, 6: 294, 8: 0, 10: 0, 12: 0, 14: 0, 16: 0, 18: 0, 20: 0, 22: 0, 24: 0, 26: 0, 28: 0, 30: 0, 32: 0, 34: 0, 36: 0, 38: 0, 40: 0, 42: 0, 44: 0, 46: 0, 48: 0, 50: 0, 52: 0, 54: 0, 56: 0, 58: 0, 60: 0, 62: 0, 64: 0, 66: 0, 68: 0, 70: 0, 72: 0, 74: 0, 76: 0, 78: 0, 80: 0, 82: 0, 84: 0, 86: 0, 88: 0, 90: 0, 92: 0, 94: 0, 96: 0, 98: 0, 100: 0, 102: 0, 104: 0, 106: 0, 108: 0, 110: 0, 112: 0, 114: 0, 116: 0, 118: 0, 120: 0, 122: 0, 124: 0, 126: 0, 128: 0, 130: 0, 132: 0, 134: 0, 136: 0, 138: 0, 140: 0, 142: 0, 144: 0, 146: 0, 148: 0, 150: 0, 152: 0, 154: 0, 156: 0, 158: 0, 160: 0, 162: 0, 164: 0, 166: 0, 168: 0, 170: 0, 172: 0, 174: 0, 176: 0, 178: 0, 180: 0, 182: 0, 184: 0, 186: 0, 188: 0, 190: 0, 192: 0, 194: 0, 196: 0, 198: 0, 200: 0, 202: 0, 204: 0, 206: 0, 208: 0, 210: 0, 212: 0, 214: 0, 216: 0, 218: 0, 220: 0, 222: 0, 224: 0, 226: 0, 228: 0, 230: 0, 232: 0, 234: 0, 236: 0, 238: 0, 240: 0, 242: 0, 244: 0, 246: 0, 248: 0, 250: 0, 252: 0, 254: 0, 256: 0}\n"
     ]
    }
   ],
   "source": [
    "print(DELTA.distance(), dist_counter)"
   ]
  },
  {
   "cell_type": "code",
   "execution_count": 441,
   "id": "90bf5ce0-ae3a-4622-9db7-fa4dd9686bbd",
   "metadata": {},
   "outputs": [],
   "source": [
    "bluzhdanie_1(DELTA, dist_counter)"
   ]
  },
  {
   "cell_type": "code",
   "execution_count": 437,
   "id": "61ac19e2-6ec5-43e7-82f9-16369a23c6a8",
   "metadata": {},
   "outputs": [],
   "source": [
    "bluzhdanie_2(DELTA, dist_counter)"
   ]
  },
  {
   "cell_type": "code",
   "execution_count": 439,
   "id": "14d35339-1113-4e78-9407-0b29e564bbb9",
   "metadata": {},
   "outputs": [],
   "source": [
    "bluzhdanie_3(DELTA, dist_counter)"
   ]
  },
  {
   "cell_type": "code",
   "execution_count": null,
   "id": "0a26bbcb-7ad8-4dff-9f03-66f5a81a9a67",
   "metadata": {},
   "outputs": [],
   "source": []
  },
  {
   "cell_type": "code",
   "execution_count": 18,
   "id": "1c9526c4-a39d-4e43-b077-5b2374fc4d1c",
   "metadata": {},
   "outputs": [],
   "source": [
    "good_transpositions = []\n",
    "for item in DELTA.max_finder.distance_map[6]:\n",
    "    for dg in item.Ig_map.values():\n",
    "        if len(dg.t_g_intersection) == 3:\n",
    "            good_transpositions += generate_all_combinations(dg.t_g_intersection)\n",
    "            good_transpositions += dg.t_g_intersection\n",
    "good_transpositions = [get_right_order(x) for x in good_transpositions]"
   ]
  },
  {
   "cell_type": "code",
   "execution_count": 19,
   "id": "59758bfc-cead-41b3-ac1b-633b583fb241",
   "metadata": {},
   "outputs": [
    {
     "data": {
      "text/plain": [
       "12045"
      ]
     },
     "execution_count": 19,
     "metadata": {},
     "output_type": "execute_result"
    }
   ],
   "source": [
    "len(good_transpositions)"
   ]
  },
  {
   "cell_type": "code",
   "execution_count": 43,
   "id": "e0cfcbde-82da-476e-b89b-e3aca09e398c",
   "metadata": {},
   "outputs": [
    {
     "data": {
      "text/plain": [
       "<class 'sage.rings.finite_rings.element_givaro.FiniteField_givaroElement'>"
      ]
     },
     "execution_count": 43,
     "metadata": {},
     "output_type": "execute_result"
    }
   ],
   "source": [
    "type(good_transpositions[0][0])"
   ]
  },
  {
   "cell_type": "code",
   "execution_count": 116,
   "id": "27a6a691-263a-400c-82ab-032257c6235a",
   "metadata": {},
   "outputs": [
    {
     "name": "stdout",
     "output_type": "stream",
     "text": [
      "произошёл брейк       0       / 32385 0        / 32385 0       32385 0        / 32385 0       32385 0        / 32385 0       \n",
      "min = 6\n"
     ]
    }
   ],
   "source": [
    "good_transpositions = []\n",
    "for item in DELTA.max_finder.distance_map[6]:\n",
    "    for dg in item.Ig_map.values():\n",
    "        if len(dg.t_g_intersection) == 3:\n",
    "            good_transpositions += dg.t_g_intersection\n",
    "super_good_transpositions = generate_all_combinations(good_transpositions)\n",
    "super_good_transpositions = set([get_right_order(x) for x in super_good_transpositions])\n",
    "\n",
    "dist_counter = {_:0 for _ in range(0, 2^n + 1, 2)}\n",
    "for item in DELTA.Dg_collection:\n",
    "    for i, I_t_g_item in enumerate(item.Ig_map.values()):\n",
    "        dist_counter[I_t_g_item.distance()] += 1\n",
    "\n",
    "not_bad_trans = []\n",
    "\n",
    "pred = (-1, -1)\n",
    "for count in range(10):\n",
    "    if DELTA.distance() == 2:\n",
    "        print('already 2')\n",
    "        break\n",
    "    mn = DELTA.distance()\n",
    "    tr = (-1, -1)\n",
    "    cnt = dist_counter[DELTA.distance()]\n",
    "    for iteration,trans in enumerate(super_good_transpositions):\n",
    "        print(iteration,'/',len(super_good_transpositions), len(not_bad_trans),\"      \", end='\\r')\n",
    "        recalc_group_distance(DELTA, trans, dist_counter)\n",
    "        dist = DELTA.distance()\n",
    "        #if dist_counter[dist] <= 2 and dist <= 8:\n",
    "            #print(\"!\",dist, dist_counter[dist], trans)\n",
    "        if mn > dist:\n",
    "            mn = dist\n",
    "            cnt = dist_counter[dist]\n",
    "            tr = trans\n",
    "        elif mn == dist and dist_counter[dist] <= cnt:\n",
    "            if dist_counter[dist] < cnt:\n",
    "                cnt = dist_counter[dist]\n",
    "                tr = trans\n",
    "                print(f'\\n!{trans}\\n',iteration,'/',len(super_good_transpositions),end='\\n')\n",
    "            else:\n",
    "                not_bad_trans.append(trans)\n",
    "        recalc_group_distance(DELTA, trans, dist_counter)\n",
    "    if mn <= 4 or tr == pred or tr == (-1, -1):\n",
    "        if tr != pred and tr != (-1, -1):\n",
    "            recalc_group_distance(DELTA, tr, dist_counter)\n",
    "        print(\"произошёл брейк\")\n",
    "        break\n",
    "    recalc_group_distance(DELTA, tr, dist_counter)\n",
    "    print(DELTA.distance(), dist_counter[DELTA.distance()], tr, end='\\n\\n')\n",
    "    pred = tr\n",
    "\n",
    "print(\"min =\", DELTA.distance())\n",
    "# print(DELTA)"
   ]
  },
  {
   "cell_type": "code",
   "execution_count": 20,
   "id": "e7c859b1-9f3b-491f-8051-8075e4e566a2",
   "metadata": {},
   "outputs": [
    {
     "ename": "NameError",
     "evalue": "name 'super_good_transpositions' is not defined",
     "output_type": "error",
     "traceback": [
      "\u001b[0;31m---------------------------------------------------------------------------\u001b[0m",
      "\u001b[0;31mNameError\u001b[0m                                 Traceback (most recent call last)",
      "Cell \u001b[0;32mIn[20], line 1\u001b[0m\n\u001b[0;32m----> 1\u001b[0m \u001b[38;5;28mlen\u001b[39m(\u001b[38;5;28mset\u001b[39m(\u001b[43msuper_good_transpositions\u001b[49m))\n",
      "\u001b[0;31mNameError\u001b[0m: name 'super_good_transpositions' is not defined"
     ]
    }
   ],
   "source": [
    "len(set(super_good_transpositions))"
   ]
  },
  {
   "cell_type": "code",
   "execution_count": 117,
   "id": "eed9027c-3835-431c-bd25-c11aea93ae57",
   "metadata": {},
   "outputs": [
    {
     "data": {
      "text/plain": [
       "1"
      ]
     },
     "execution_count": 117,
     "metadata": {},
     "output_type": "execute_result"
    }
   ],
   "source": [
    "len(not_bad_trans)"
   ]
  },
  {
   "cell_type": "code",
   "execution_count": 119,
   "id": "126dfb4a-6a1d-43fc-9661-f067951cc873",
   "metadata": {},
   "outputs": [
    {
     "data": {
      "text/plain": [
       "[(189, 228)]"
      ]
     },
     "execution_count": 119,
     "metadata": {},
     "output_type": "execute_result"
    }
   ],
   "source": [
    "not_bad_trans"
   ]
  },
  {
   "cell_type": "code",
   "execution_count": null,
   "id": "4b024d7e-793d-4a95-8085-d7010f4168c3",
   "metadata": {},
   "outputs": [],
   "source": []
  },
  {
   "cell_type": "code",
   "execution_count": 132,
   "id": "6a9e0e00-515f-43ee-a615-4783ac3c9229",
   "metadata": {},
   "outputs": [],
   "source": [
    "recalc_group_distance(DELTA, transposition(189,228), dist_counter)"
   ]
  },
  {
   "cell_type": "code",
   "execution_count": 130,
   "id": "bf5442d4-07d1-446c-aa6b-ba328c8b793d",
   "metadata": {},
   "outputs": [
    {
     "data": {
      "text/plain": [
       "6"
      ]
     },
     "execution_count": 130,
     "metadata": {},
     "output_type": "execute_result"
    }
   ],
   "source": [
    "DELTA.distance()"
   ]
  },
  {
   "cell_type": "code",
   "execution_count": null,
   "id": "4c661697-f657-4498-9be6-d8c850733f5e",
   "metadata": {},
   "outputs": [],
   "source": [
    "0: 38014,\n",
    " 2: 21675,\n",
    " 4: 5043,\n",
    " 6: 293,"
   ]
  },
  {
   "cell_type": "code",
   "execution_count": 133,
   "id": "e2eb81d5-c16f-466e-9a23-77713af3d4a5",
   "metadata": {},
   "outputs": [
    {
     "data": {
      "text/plain": [
       "{0: 37996,\n",
       " 2: 21711,\n",
       " 4: 5025,\n",
       " 6: 293,\n",
       " 8: 0,\n",
       " 10: 0,\n",
       " 12: 0,\n",
       " 14: 0,\n",
       " 16: 0,\n",
       " 18: 0,\n",
       " 20: 0,\n",
       " 22: 0,\n",
       " 24: 0,\n",
       " 26: 0,\n",
       " 28: 0,\n",
       " 30: 0,\n",
       " 32: 0,\n",
       " 34: 0,\n",
       " 36: 0,\n",
       " 38: 0,\n",
       " 40: 0,\n",
       " 42: 0,\n",
       " 44: 0,\n",
       " 46: 0,\n",
       " 48: 0,\n",
       " 50: 0,\n",
       " 52: 0,\n",
       " 54: 0,\n",
       " 56: 0,\n",
       " 58: 0,\n",
       " 60: 0,\n",
       " 62: 0,\n",
       " 64: 0,\n",
       " 66: 0,\n",
       " 68: 0,\n",
       " 70: 0,\n",
       " 72: 0,\n",
       " 74: 0,\n",
       " 76: 0,\n",
       " 78: 0,\n",
       " 80: 0,\n",
       " 82: 0,\n",
       " 84: 0,\n",
       " 86: 0,\n",
       " 88: 0,\n",
       " 90: 0,\n",
       " 92: 0,\n",
       " 94: 0,\n",
       " 96: 0,\n",
       " 98: 0,\n",
       " 100: 0,\n",
       " 102: 0,\n",
       " 104: 0,\n",
       " 106: 0,\n",
       " 108: 0,\n",
       " 110: 0,\n",
       " 112: 0,\n",
       " 114: 0,\n",
       " 116: 0,\n",
       " 118: 0,\n",
       " 120: 0,\n",
       " 122: 0,\n",
       " 124: 0,\n",
       " 126: 0,\n",
       " 128: 0,\n",
       " 130: 0,\n",
       " 132: 0,\n",
       " 134: 0,\n",
       " 136: 0,\n",
       " 138: 0,\n",
       " 140: 0,\n",
       " 142: 0,\n",
       " 144: 0,\n",
       " 146: 0,\n",
       " 148: 0,\n",
       " 150: 0,\n",
       " 152: 0,\n",
       " 154: 0,\n",
       " 156: 0,\n",
       " 158: 0,\n",
       " 160: 0,\n",
       " 162: 0,\n",
       " 164: 0,\n",
       " 166: 0,\n",
       " 168: 0,\n",
       " 170: 0,\n",
       " 172: 0,\n",
       " 174: 0,\n",
       " 176: 0,\n",
       " 178: 0,\n",
       " 180: 0,\n",
       " 182: 0,\n",
       " 184: 0,\n",
       " 186: 0,\n",
       " 188: 0,\n",
       " 190: 0,\n",
       " 192: 0,\n",
       " 194: 0,\n",
       " 196: 0,\n",
       " 198: 0,\n",
       " 200: 0,\n",
       " 202: 0,\n",
       " 204: 0,\n",
       " 206: 0,\n",
       " 208: 0,\n",
       " 210: 0,\n",
       " 212: 0,\n",
       " 214: 0,\n",
       " 216: 0,\n",
       " 218: 0,\n",
       " 220: 0,\n",
       " 222: 0,\n",
       " 224: 0,\n",
       " 226: 0,\n",
       " 228: 0,\n",
       " 230: 0,\n",
       " 232: 0,\n",
       " 234: 0,\n",
       " 236: 0,\n",
       " 238: 0,\n",
       " 240: 0,\n",
       " 242: 0,\n",
       " 244: 0,\n",
       " 246: 0,\n",
       " 248: 0,\n",
       " 250: 0,\n",
       " 252: 0,\n",
       " 254: 0,\n",
       " 256: 0}"
      ]
     },
     "execution_count": 133,
     "metadata": {},
     "output_type": "execute_result"
    }
   ],
   "source": [
    "dist_counter"
   ]
  },
  {
   "cell_type": "code",
   "execution_count": null,
   "id": "69ae9307-71d0-4823-bbca-7a172e7cb133",
   "metadata": {},
   "outputs": [],
   "source": []
  },
  {
   "cell_type": "code",
   "execution_count": null,
   "id": "6b24e64c-b7c9-4752-87d2-cb918a7275a8",
   "metadata": {},
   "outputs": [],
   "source": []
  },
  {
   "cell_type": "code",
   "execution_count": null,
   "id": "63c6e3a9-c629-415a-b338-42e13fe74b85",
   "metadata": {},
   "outputs": [],
   "source": []
  },
  {
   "cell_type": "code",
   "execution_count": 86,
   "id": "92045ea8-ebc6-4ac6-8be3-b2205ad73544",
   "metadata": {},
   "outputs": [],
   "source": [
    "tr_history = [(215,219),\n",
    "(204,251),\n",
    "(89,254),\n",
    "(0,80),\n",
    "(73,252),\n",
    "(99,171),\n",
    "(77,157),\n",
    "(87,157),\n",
    "(10,139),\n",
    "(33,114),\n",
    "(59,83),\n",
    "(44,202),\n",
    "(29,135),\n",
    "(10,144),\n",
    "(102,247),\n",
    "(226,233),\n",
    "(34,225),\n",
    "(195,228),\n",
    "(4,240),\n",
    "(102,202),\n",
    "(56,240),\n",
    "(47,240),\n",
    "(22,202),\n",
    "(23,193),\n",
    "(127,216),\n",
    "(49,188),\n",
    "(51,58),\n",
    "(151,160),\n",
    "(53,219),\n",
    "(98,148),\n",
    "(34,156),\n",
    "(14,180),\n",
    "(163,182),\n",
    "(170,182),\n",
    "(77,122),\n",
    "(19,75)]"
   ]
  },
  {
   "cell_type": "code",
   "execution_count": null,
   "id": "4008f423-ec60-423b-90bc-dd7096b46b9f",
   "metadata": {},
   "outputs": [],
   "source": []
  },
  {
   "cell_type": "code",
   "execution_count": 87,
   "id": "5346a018-4825-468f-986d-af69340fc494",
   "metadata": {},
   "outputs": [],
   "source": [
    "pi = [0, 40, 50, 220, 53, 189, 46, 198, 65, 108, 165, 8, 98, 218, 227, 156, 149, 123, 153, 228, 215, 135, 102, 43, 240, 179, 174, 73, 173, 49, 177, 200, 163, 234, 85, 79, 226, 56, 34, 88, 69, 166, 122, 193, 221, 169, 54, 186, 176, 134, 111, 11, 244, 202, 23, 194, 159, 32, 126, 175, 196, 250, 81, 184, 197, 110, 20, 155, 6, 183, 47, 117, 162, 164, 44, 143, 99, 60, 147, 254, 120, 112, 136, 205, 45, 252, 157, 103, 94, 80, 129, 84, 225, 16, 24, 90, 203, 101, 13, 25, 216, 207, 204, 168, 235, 115, 17, 12, 67, 10, 27, 125, 22, 33, 229, 106, 217, 206, 48, 7, 237, 95, 70, 172, 105, 158, 232, 64, 246, 116, 118, 139, 213, 255, 145, 180, 248, 249, 31, 127, 223, 29, 19, 210, 78, 191, 104, 133, 130, 76, 187, 128, 154, 92, 185, 2, 243, 199, 109, 224, 231, 36, 245, 72, 178, 15, 1, 239, 114, 142, 96, 38, 121, 39, 151, 241, 212, 57, 3, 37, 83, 182, 41, 63, 195, 93, 4, 253, 119, 171, 214, 91, 251, 30, 152, 160, 188, 51, 113, 161, 148, 26, 167, 71, 21, 170, 138, 190, 18, 86, 242, 131, 150, 87, 236, 233, 89, 28, 247, 55, 146, 208, 74, 35, 144, 75, 132, 107, 140, 201, 192, 68, 230, 82, 124, 181, 211, 52, 59, 97, 222, 141, 66, 77, 100, 62, 238, 219, 209, 61, 137, 5, 42, 14, 58, 9]"
   ]
  },
  {
   "cell_type": "code",
   "execution_count": null,
   "id": "74adb959-f065-4228-8d2d-4b35c2edf936",
   "metadata": {},
   "outputs": [],
   "source": []
  },
  {
   "cell_type": "code",
   "execution_count": 88,
   "id": "2b11b7e2-0644-4506-8977-2e8b4b915c64",
   "metadata": {},
   "outputs": [],
   "source": [
    "G = conjugate(S,T,S([F.from_integer(x) for x in pi]))"
   ]
  },
  {
   "cell_type": "code",
   "execution_count": 89,
   "id": "8a937581-a76c-4606-8f56-4f7fa0cdeb4a",
   "metadata": {},
   "outputs": [],
   "source": [
    "DELTA = Delta(T,G, 2^n)"
   ]
  },
  {
   "cell_type": "code",
   "execution_count": 90,
   "id": "cb0b5184-dbdf-4331-88fb-422cf108646a",
   "metadata": {},
   "outputs": [],
   "source": [
    "tr_history = [transposition(*x) for x in tr_history]"
   ]
  },
  {
   "cell_type": "code",
   "execution_count": 91,
   "id": "d60fb5c0-2e96-4acd-b269-f8ca28007346",
   "metadata": {},
   "outputs": [],
   "source": [
    "for item in tr_history:\n",
    "    recalc_group_distance(DELTA,item)"
   ]
  },
  {
   "cell_type": "code",
   "execution_count": 84,
   "id": "11b9e6c7-e66a-42cf-a271-0cd8a654a94d",
   "metadata": {},
   "outputs": [
    {
     "data": {
      "text/plain": [
       "6"
      ]
     },
     "execution_count": 84,
     "metadata": {},
     "output_type": "execute_result"
    }
   ],
   "source": [
    "DELTA.distance()"
   ]
  },
  {
   "cell_type": "code",
   "execution_count": null,
   "id": "0efc0833-d1ca-4266-96a4-d944a3d6ffb9",
   "metadata": {},
   "outputs": [],
   "source": []
  },
  {
   "cell_type": "code",
   "execution_count": null,
   "id": "35ad28e9-4079-4b7d-aa1f-103c575d75bb",
   "metadata": {},
   "outputs": [],
   "source": []
  },
  {
   "cell_type": "code",
   "execution_count": 185,
   "id": "2d8119f9-fdfe-4530-be42-f7d48eca0500",
   "metadata": {},
   "outputs": [],
   "source": [
    "import copy\n",
    "\n",
    "ans_ = copy.deepcopy(DELTA)"
   ]
  },
  {
   "cell_type": "code",
   "execution_count": 203,
   "id": "b74d74e1-2e11-4af6-9025-1862bfaa91d2",
   "metadata": {},
   "outputs": [
    {
     "name": "stdout",
     "output_type": "stream",
     "text": [
      "{(66, 237), (108, 195), (62, 145), (60, 147)}\n",
      "{(139, 187), (207, 255), (144, 160), (88, 104)}\n"
     ]
    }
   ],
   "source": [
    "for item in DELTA.max_finder.distance_map[8]:\n",
    "    for dg in item.Ig_map.values():\n",
    "        if len(dg.t_g_intersection) == 4:\n",
    "            print(dg.t_g_intersection)"
   ]
  },
  {
   "cell_type": "code",
   "execution_count": 210,
   "id": "1fa9eba7-72ba-409e-97aa-4770bf437294",
   "metadata": {},
   "outputs": [],
   "source": [
    "recalc_group_distance(DELTA, transposition(62,160), dist_counter)"
   ]
  },
  {
   "cell_type": "code",
   "execution_count": 211,
   "id": "8a367a24-cfdc-4bd8-97b1-2d091c621290",
   "metadata": {},
   "outputs": [
    {
     "data": {
      "text/plain": [
       "8"
      ]
     },
     "execution_count": 211,
     "metadata": {},
     "output_type": "execute_result"
    }
   ],
   "source": [
    "DELTA.distance()"
   ]
  },
  {
   "cell_type": "code",
   "execution_count": 56,
   "id": "7fb59604-1799-44f1-9c75-554be2aa2178",
   "metadata": {},
   "outputs": [
    {
     "name": "stdout",
     "output_type": "stream",
     "text": [
      "[]\n"
     ]
    }
   ],
   "source": [
    "good_transpositions = []\n",
    "for item in DELTA.max_finder.distance_map[6]:\n",
    "    for dg in item.Ig_map.values():\n",
    "        if len(dg.t_g_intersection) == 3:\n",
    "            good_transpositions += dg.t_g_intersection\n",
    "super_good_transpositions = generate_all_combinations(good_transpositions)\n",
    "super_good_transpositions = [get_right_order(x) for x in super_good_transpositions]\n",
    "print([x for x in super_good_transpositions if x[0] ==x[1]])"
   ]
  },
  {
   "cell_type": "code",
   "execution_count": 57,
   "id": "7ccf8bae-3d67-4b51-8bc3-52dcc0dfd09c",
   "metadata": {},
   "outputs": [
    {
     "data": {
      "text/plain": [
       "32640"
      ]
     },
     "execution_count": 57,
     "metadata": {},
     "output_type": "execute_result"
    }
   ],
   "source": [
    "len(set(super_good_transpositions))"
   ]
  },
  {
   "cell_type": "code",
   "execution_count": 22,
   "id": "ace6bf5b-77b1-452b-99df-2b94315d2342",
   "metadata": {},
   "outputs": [
    {
     "data": {
      "text/plain": [
       "{0: 39016,\n",
       " 2: 20181,\n",
       " 4: 5025,\n",
       " 6: 803,\n",
       " 8: 0,\n",
       " 10: 0,\n",
       " 12: 0,\n",
       " 14: 0,\n",
       " 16: 0,\n",
       " 18: 0,\n",
       " 20: 0,\n",
       " 22: 0,\n",
       " 24: 0,\n",
       " 26: 0,\n",
       " 28: 0,\n",
       " 30: 0,\n",
       " 32: 0,\n",
       " 34: 0,\n",
       " 36: 0,\n",
       " 38: 0,\n",
       " 40: 0,\n",
       " 42: 0,\n",
       " 44: 0,\n",
       " 46: 0,\n",
       " 48: 0,\n",
       " 50: 0,\n",
       " 52: 0,\n",
       " 54: 0,\n",
       " 56: 0,\n",
       " 58: 0,\n",
       " 60: 0,\n",
       " 62: 0,\n",
       " 64: 0,\n",
       " 66: 0,\n",
       " 68: 0,\n",
       " 70: 0,\n",
       " 72: 0,\n",
       " 74: 0,\n",
       " 76: 0,\n",
       " 78: 0,\n",
       " 80: 0,\n",
       " 82: 0,\n",
       " 84: 0,\n",
       " 86: 0,\n",
       " 88: 0,\n",
       " 90: 0,\n",
       " 92: 0,\n",
       " 94: 0,\n",
       " 96: 0,\n",
       " 98: 0,\n",
       " 100: 0,\n",
       " 102: 0,\n",
       " 104: 0,\n",
       " 106: 0,\n",
       " 108: 0,\n",
       " 110: 0,\n",
       " 112: 0,\n",
       " 114: 0,\n",
       " 116: 0,\n",
       " 118: 0,\n",
       " 120: 0,\n",
       " 122: 0,\n",
       " 124: 0,\n",
       " 126: 0,\n",
       " 128: 0,\n",
       " 130: 0,\n",
       " 132: 0,\n",
       " 134: 0,\n",
       " 136: 0,\n",
       " 138: 0,\n",
       " 140: 0,\n",
       " 142: 0,\n",
       " 144: 0,\n",
       " 146: 0,\n",
       " 148: 0,\n",
       " 150: 0,\n",
       " 152: 0,\n",
       " 154: 0,\n",
       " 156: 0,\n",
       " 158: 0,\n",
       " 160: 0,\n",
       " 162: 0,\n",
       " 164: 0,\n",
       " 166: 0,\n",
       " 168: 0,\n",
       " 170: 0,\n",
       " 172: 0,\n",
       " 174: 0,\n",
       " 176: 0,\n",
       " 178: 0,\n",
       " 180: 0,\n",
       " 182: 0,\n",
       " 184: 0,\n",
       " 186: 0,\n",
       " 188: 0,\n",
       " 190: 0,\n",
       " 192: 0,\n",
       " 194: 0,\n",
       " 196: 0,\n",
       " 198: 0,\n",
       " 200: 0,\n",
       " 202: 0,\n",
       " 204: 0,\n",
       " 206: 0,\n",
       " 208: 0,\n",
       " 210: 0,\n",
       " 212: 0,\n",
       " 214: 0,\n",
       " 216: 0,\n",
       " 218: 0,\n",
       " 220: 0,\n",
       " 222: 0,\n",
       " 224: 0,\n",
       " 226: 0,\n",
       " 228: 0,\n",
       " 230: 0,\n",
       " 232: 0,\n",
       " 234: 0,\n",
       " 236: 0,\n",
       " 238: 0,\n",
       " 240: 0,\n",
       " 242: 0,\n",
       " 244: 0,\n",
       " 246: 0,\n",
       " 248: 0,\n",
       " 250: 0,\n",
       " 252: 0,\n",
       " 254: 0,\n",
       " 256: 0}"
      ]
     },
     "execution_count": 22,
     "metadata": {},
     "output_type": "execute_result"
    }
   ],
   "source": [
    "dist_counter"
   ]
  },
  {
   "cell_type": "code",
   "execution_count": 23,
   "id": "da2e78c5-f505-4292-9c4f-60999ffffa56",
   "metadata": {},
   "outputs": [],
   "source": [
    "curr_dist = 803"
   ]
  },
  {
   "cell_type": "code",
   "execution_count": 25,
   "id": "8ab0badc-f899-48da-8ece-3a3480362299",
   "metadata": {},
   "outputs": [
    {
     "name": "stdout",
     "output_type": "stream",
     "text": [
      "787\n"
     ]
    }
   ],
   "source": [
    "for item in good_transpositions:\n",
    "        recalc_group_distance(DELTA, item, dist_counter)\n",
    "        if DELTA.distance() > 6:\n",
    "            recalc_group_distance(DELTA, item, dist_counter)\n",
    "        else:\n",
    "            if DELTA.distance() == 6:\n",
    "                if dist_counter[6] < curr_dist:\n",
    "                    curr_dist = dist_counter[6]\n",
    "                    print(dist_counter[6])\n",
    "                    break\n",
    "                else:\n",
    "                    recalc_group_distance(DELTA, item, dist_counter)\n",
    "            else:\n",
    "                print(\"!!!\")\n",
    "                curr_dist = -1\n",
    "                break"
   ]
  },
  {
   "cell_type": "code",
   "execution_count": 454,
   "id": "be7596be-cdb6-4a94-8eb8-32c9d33616da",
   "metadata": {},
   "outputs": [],
   "source": [
    "curr_dist = 800"
   ]
  },
  {
   "cell_type": "code",
   "execution_count": 26,
   "id": "cda79e71-69c3-4ce7-95cf-314a78012692",
   "metadata": {},
   "outputs": [
    {
     "name": "stdout",
     "output_type": "stream",
     "text": [
      "783\n",
      "763\n",
      "758\n",
      "749\n",
      "738\n",
      "731\n",
      "713\n",
      "700\n",
      "698\n",
      "691\n",
      "683\n",
      "680\n",
      "678\n",
      "675\n",
      "673\n",
      "670\n",
      "665\n",
      "664\n",
      "656\n",
      "654\n",
      "652\n",
      "633\n",
      "632\n",
      "631\n",
      "625\n",
      "619\n",
      "616\n",
      "613\n",
      "601\n",
      "595\n",
      "589\n",
      "581\n",
      "580\n",
      "579\n",
      "577\n",
      "563\n",
      "560\n",
      "555\n",
      "553\n",
      "542\n",
      "541\n",
      "538\n",
      "526\n",
      "525\n",
      "519\n",
      "515\n",
      "510\n",
      "508\n",
      "507\n",
      "502\n",
      "501\n",
      "498\n"
     ]
    }
   ],
   "source": [
    "while curr_dist > 500:\n",
    "    good_transpositions = []\n",
    "    for item in DELTA.max_finder.distance_map[6]:\n",
    "        for dg in item.Ig_map.values():\n",
    "            if len(dg.t_g_intersection) == 3:\n",
    "                good_transpositions += generate_all_combinations(dg.t_g_intersection)\n",
    "                good_transpositions += dg.t_g_intersection\n",
    "    good_transpositions = [get_right_order(x) for x in good_transpositions]\n",
    "    for item in good_transpositions:\n",
    "        recalc_group_distance(DELTA, item, dist_counter)\n",
    "        if DELTA.distance() > 6:\n",
    "            recalc_group_distance(DELTA, item, dist_counter)\n",
    "        else:\n",
    "            if DELTA.distance() == 6:\n",
    "                if dist_counter[6] < curr_dist:\n",
    "                    curr_dist = dist_counter[6]\n",
    "                    print(dist_counter[6])\n",
    "                    break\n",
    "                else:\n",
    "                    recalc_group_distance(DELTA, item, dist_counter)\n",
    "            else:\n",
    "                print(\"!!!\")\n",
    "                curr_dist = -1\n",
    "                break"
   ]
  },
  {
   "cell_type": "code",
   "execution_count": 474,
   "id": "aa4068db-79a7-4972-aef7-8c7fe4fbeaa6",
   "metadata": {},
   "outputs": [
    {
     "data": {
      "text/plain": [
       "6"
      ]
     },
     "execution_count": 474,
     "metadata": {},
     "output_type": "execute_result"
    }
   ],
   "source": [
    "DELTA.distance()"
   ]
  },
  {
   "cell_type": "code",
   "execution_count": 13,
   "id": "b28b3d05-e12d-412c-8a11-51853e172aa3",
   "metadata": {},
   "outputs": [
    {
     "ename": "TypeError",
     "evalue": "'Dg' object is not subscriptable",
     "output_type": "error",
     "traceback": [
      "\u001b[0;31m---------------------------------------------------------------------------\u001b[0m",
      "\u001b[0;31mTypeError\u001b[0m                                 Traceback (most recent call last)",
      "Cell \u001b[0;32mIn[13], line 1\u001b[0m\n\u001b[0;32m----> 1\u001b[0m \u001b[43mrecalc_group_distance\u001b[49m\u001b[43m(\u001b[49m\u001b[43mDELTA\u001b[49m\u001b[43m,\u001b[49m\u001b[43m \u001b[49m\u001b[43mitem\u001b[49m\u001b[43m,\u001b[49m\u001b[43m \u001b[49m\u001b[43mdist_counter\u001b[49m\u001b[43m)\u001b[49m\n",
      "Cell \u001b[0;32mIn[6], line 109\u001b[0m, in \u001b[0;36mrecalc_group_distance\u001b[0;34m(Delta, sigma, dist_counter)\u001b[0m\n\u001b[1;32m    107\u001b[0m \u001b[38;5;28;01mfor\u001b[39;00m Dg \u001b[38;5;129;01min\u001b[39;00m Delta\u001b[38;5;241m.\u001b[39mDg_collection:\n\u001b[1;32m    108\u001b[0m     old_distance \u001b[38;5;241m=\u001b[39m Dg\u001b[38;5;241m.\u001b[39mmax_finder\u001b[38;5;241m.\u001b[39mmax()\n\u001b[0;32m--> 109\u001b[0m     \u001b[43mrecalculate_Dg\u001b[49m\u001b[43m(\u001b[49m\u001b[43mDg\u001b[49m\u001b[43m,\u001b[49m\u001b[43m \u001b[49m\u001b[43msigma\u001b[49m\u001b[43m,\u001b[49m\u001b[43m \u001b[49m\u001b[43mdist_counter\u001b[49m\u001b[43m)\u001b[49m\n\u001b[1;32m    110\u001b[0m     new_distance \u001b[38;5;241m=\u001b[39m Dg\u001b[38;5;241m.\u001b[39mmax_finder\u001b[38;5;241m.\u001b[39mmax()\n\u001b[1;32m    111\u001b[0m     Delta\u001b[38;5;241m.\u001b[39mmax_finder\u001b[38;5;241m.\u001b[39mrecalculate_max(old_distance, new_distance, Dg)\n",
      "Cell \u001b[0;32mIn[6], line 70\u001b[0m, in \u001b[0;36mrecalculate_Dg\u001b[0;34m(Dg, sigma, dist_counter)\u001b[0m\n\u001b[1;32m     68\u001b[0m     \u001b[38;5;28;01mreturn\u001b[39;00m\n\u001b[1;32m     69\u001b[0m \u001b[38;5;28;01melse\u001b[39;00m:\n\u001b[0;32m---> 70\u001b[0m     sigma_s \u001b[38;5;241m=\u001b[39m Dg\u001b[38;5;241m.\u001b[39mg\u001b[38;5;241m.\u001b[39mget_transposition(\u001b[43msigma\u001b[49m\u001b[43m[\u001b[49m\u001b[43mInteger\u001b[49m\u001b[43m(\u001b[49m\u001b[38;5;241;43m0\u001b[39;49m\u001b[43m)\u001b[49m\u001b[43m]\u001b[49m)\n\u001b[1;32m     71\u001b[0m     sigma_r \u001b[38;5;241m=\u001b[39m Dg\u001b[38;5;241m.\u001b[39mg\u001b[38;5;241m.\u001b[39mget_transposition(sigma[Integer(\u001b[38;5;241m1\u001b[39m)])\n\u001b[1;32m     73\u001b[0m     \u001b[38;5;28;01mif\u001b[39;00m sigma_s[Integer(\u001b[38;5;241m0\u001b[39m)] \u001b[38;5;241m==\u001b[39m sigma[Integer(\u001b[38;5;241m0\u001b[39m)]:\n",
      "\u001b[0;31mTypeError\u001b[0m: 'Dg' object is not subscriptable"
     ]
    }
   ],
   "source": [
    "recalc_group_distance(DELTA, item, dist_counter)"
   ]
  },
  {
   "cell_type": "code",
   "execution_count": null,
   "id": "44facabd-7424-4844-86bc-8d37c83afcff",
   "metadata": {},
   "outputs": [],
   "source": []
  },
  {
   "cell_type": "code",
   "execution_count": 471,
   "id": "54c4146e-0393-4657-af2c-8e581dc9e46d",
   "metadata": {},
   "outputs": [],
   "source": [
    "recalc_group_distance(DELTA, transposition(13,20), dist_counter)"
   ]
  },
  {
   "cell_type": "code",
   "execution_count": null,
   "id": "9494f47d-6962-4d51-9694-87c33ec0d647",
   "metadata": {},
   "outputs": [],
   "source": []
  },
  {
   "cell_type": "code",
   "execution_count": null,
   "id": "ea067449-87b6-4cdf-bc69-2f1688a1124f",
   "metadata": {},
   "outputs": [],
   "source": []
  },
  {
   "cell_type": "code",
   "execution_count": null,
   "id": "1afe23be-bb58-4d39-82f8-46686951dc77",
   "metadata": {},
   "outputs": [],
   "source": []
  },
  {
   "cell_type": "code",
   "execution_count": 144,
   "id": "2f75c760-f1dc-4b34-a4c7-1c26d67bf6d4",
   "metadata": {},
   "outputs": [
    {
     "data": {
      "text/plain": [
       "True"
      ]
     },
     "execution_count": 144,
     "metadata": {},
     "output_type": "execute_result"
    }
   ],
   "source": [
    "transposition(14,60) in super_good_transpositions"
   ]
  },
  {
   "cell_type": "code",
   "execution_count": 156,
   "id": "d49672db-4097-4d52-ad47-37c491ce547f",
   "metadata": {},
   "outputs": [
    {
     "data": {
      "text/plain": [
       "143"
      ]
     },
     "execution_count": 156,
     "metadata": {},
     "output_type": "execute_result"
    }
   ],
   "source": [
    "len(super_good_transpositions)"
   ]
  },
  {
   "cell_type": "code",
   "execution_count": null,
   "id": "98a04d08-a6e4-4d75-b56f-d69f178958aa",
   "metadata": {},
   "outputs": [],
   "source": []
  },
  {
   "cell_type": "code",
   "execution_count": null,
   "id": "16291ddb-59c8-4ec6-bce4-199a44a045e8",
   "metadata": {},
   "outputs": [],
   "source": []
  },
  {
   "cell_type": "code",
   "execution_count": null,
   "id": "1632f33b-5514-4cf5-af68-d3f338bf70e3",
   "metadata": {},
   "outputs": [],
   "source": []
  },
  {
   "cell_type": "code",
   "execution_count": null,
   "id": "1df12d9e-3a77-4f75-97bb-ab938fd58262",
   "metadata": {},
   "outputs": [],
   "source": []
  },
  {
   "cell_type": "code",
   "execution_count": null,
   "id": "a67c12e2-febb-4ea8-9a2b-cb6c3596c84f",
   "metadata": {},
   "outputs": [],
   "source": []
  },
  {
   "cell_type": "code",
   "execution_count": null,
   "id": "ddd337b3-83b6-4dd3-81d1-8816b59bbf44",
   "metadata": {},
   "outputs": [],
   "source": []
  },
  {
   "cell_type": "code",
   "execution_count": null,
   "id": "8e9066ac-aa7b-47ce-88f0-808c314c9a14",
   "metadata": {},
   "outputs": [],
   "source": []
  },
  {
   "cell_type": "code",
   "execution_count": null,
   "id": "030dca19-0c7f-4e79-87c1-8bbadbbf55f1",
   "metadata": {},
   "outputs": [],
   "source": [
    "{(20, 60), (13, 37), (29, 53)}\n",
    "{(4, 23), (43, 56), (12, 31)}\n",
    "{(14, 53), (12, 55), (25, 34)}\n",
    "{(6, 41), (14, 33), (20, 59)}"
   ]
  },
  {
   "cell_type": "code",
   "execution_count": null,
   "id": "1308e38f-ef22-4020-aa29-c9c2196883c9",
   "metadata": {},
   "outputs": [],
   "source": []
  },
  {
   "cell_type": "code",
   "execution_count": 17,
   "id": "d7032f65-c27f-47f0-a08d-92182084a682",
   "metadata": {},
   "outputs": [],
   "source": [
    "def generate_all_combinations(transpositions):\n",
    "    result = []\n",
    "    for combination in combinations(transpositions,2):\n",
    "        result.append((combination[0][0],combination[1][0]))\n",
    "        result.append((combination[0][0],combination[1][1]))\n",
    "\n",
    "        result.append((combination[0][1],combination[1][0]))\n",
    "        result.append((combination[0][1],combination[1][1]))\n",
    "    return [x for x in result if x[0] != x[1]]"
   ]
  },
  {
   "cell_type": "code",
   "execution_count": null,
   "id": "4b96828a-acf6-4d9b-bcae-40fbb59737b2",
   "metadata": {},
   "outputs": [],
   "source": []
  },
  {
   "cell_type": "code",
   "execution_count": 16,
   "id": "6b50448d-ba25-4be4-8def-6e6877d72f9c",
   "metadata": {},
   "outputs": [],
   "source": [
    "from itertools import combinations"
   ]
  },
  {
   "cell_type": "code",
   "execution_count": 17,
   "id": "ba6e01eb-701e-4c0b-ad23-c0176f8607e5",
   "metadata": {},
   "outputs": [
    {
     "data": {
      "text/plain": [
       "[((1, 2), (4, 3)), ((1, 2), (1, 9)), ((4, 3), (1, 9))]"
      ]
     },
     "execution_count": 17,
     "metadata": {},
     "output_type": "execute_result"
    }
   ],
   "source": [
    "list(combinations([(1,2),(4,3), (1,9)],2))"
   ]
  },
  {
   "cell_type": "code",
   "execution_count": null,
   "id": "09603906-7324-49d2-bfaa-10b8c8b93248",
   "metadata": {},
   "outputs": [],
   "source": []
  },
  {
   "cell_type": "code",
   "execution_count": 204,
   "id": "5a85e631-68f5-4cda-9632-6375cc6b17ef",
   "metadata": {},
   "outputs": [
    {
     "data": {
      "text/plain": [
       "6"
      ]
     },
     "execution_count": 204,
     "metadata": {},
     "output_type": "execute_result"
    }
   ],
   "source": [
    "DELTA.distance()"
   ]
  },
  {
   "cell_type": "code",
   "execution_count": 205,
   "id": "f5735a75-c89d-453d-a965-b0bcd601eba0",
   "metadata": {},
   "outputs": [
    {
     "data": {
      "text/plain": [
       "{0: 37921,\n",
       " 2: 21822,\n",
       " 4: 5028,\n",
       " 6: 254,\n",
       " 8: 0,\n",
       " 10: 0,\n",
       " 12: 0,\n",
       " 14: 0,\n",
       " 16: 0,\n",
       " 18: 0,\n",
       " 20: 0,\n",
       " 22: 0,\n",
       " 24: 0,\n",
       " 26: 0,\n",
       " 28: 0,\n",
       " 30: 0,\n",
       " 32: 0,\n",
       " 34: 0,\n",
       " 36: 0,\n",
       " 38: 0,\n",
       " 40: 0,\n",
       " 42: 0,\n",
       " 44: 0,\n",
       " 46: 0,\n",
       " 48: 0,\n",
       " 50: 0,\n",
       " 52: 0,\n",
       " 54: 0,\n",
       " 56: 0,\n",
       " 58: 0,\n",
       " 60: 0,\n",
       " 62: 0,\n",
       " 64: 0,\n",
       " 66: 0,\n",
       " 68: 0,\n",
       " 70: 0,\n",
       " 72: 0,\n",
       " 74: 0,\n",
       " 76: 0,\n",
       " 78: 0,\n",
       " 80: 0,\n",
       " 82: 0,\n",
       " 84: 0,\n",
       " 86: 0,\n",
       " 88: 0,\n",
       " 90: 0,\n",
       " 92: 0,\n",
       " 94: 0,\n",
       " 96: 0,\n",
       " 98: 0,\n",
       " 100: 0,\n",
       " 102: 0,\n",
       " 104: 0,\n",
       " 106: 0,\n",
       " 108: 0,\n",
       " 110: 0,\n",
       " 112: 0,\n",
       " 114: 0,\n",
       " 116: 0,\n",
       " 118: 0,\n",
       " 120: 0,\n",
       " 122: 0,\n",
       " 124: 0,\n",
       " 126: 0,\n",
       " 128: 0,\n",
       " 130: 0,\n",
       " 132: 0,\n",
       " 134: 0,\n",
       " 136: 0,\n",
       " 138: 0,\n",
       " 140: 0,\n",
       " 142: 0,\n",
       " 144: 0,\n",
       " 146: 0,\n",
       " 148: 0,\n",
       " 150: 0,\n",
       " 152: 0,\n",
       " 154: 0,\n",
       " 156: 0,\n",
       " 158: 0,\n",
       " 160: 0,\n",
       " 162: 0,\n",
       " 164: 0,\n",
       " 166: 0,\n",
       " 168: 0,\n",
       " 170: 0,\n",
       " 172: 0,\n",
       " 174: 0,\n",
       " 176: 0,\n",
       " 178: 0,\n",
       " 180: 0,\n",
       " 182: 0,\n",
       " 184: 0,\n",
       " 186: 0,\n",
       " 188: 0,\n",
       " 190: 0,\n",
       " 192: 0,\n",
       " 194: 0,\n",
       " 196: 0,\n",
       " 198: 0,\n",
       " 200: 0,\n",
       " 202: 0,\n",
       " 204: 0,\n",
       " 206: 0,\n",
       " 208: 0,\n",
       " 210: 0,\n",
       " 212: 0,\n",
       " 214: 0,\n",
       " 216: 0,\n",
       " 218: 0,\n",
       " 220: 0,\n",
       " 222: 0,\n",
       " 224: 0,\n",
       " 226: 0,\n",
       " 228: 0,\n",
       " 230: 0,\n",
       " 232: 0,\n",
       " 234: 0,\n",
       " 236: 0,\n",
       " 238: 0,\n",
       " 240: 0,\n",
       " 242: 0,\n",
       " 244: 0,\n",
       " 246: 0,\n",
       " 248: 0,\n",
       " 250: 0,\n",
       " 252: 0,\n",
       " 254: 0,\n",
       " 256: 0}"
      ]
     },
     "execution_count": 205,
     "metadata": {},
     "output_type": "execute_result"
    }
   ],
   "source": [
    "dist_counter"
   ]
  },
  {
   "cell_type": "code",
   "execution_count": null,
   "id": "f477e6f4-7aaf-4e67-add2-7b8c4f0b43a3",
   "metadata": {},
   "outputs": [],
   "source": []
  },
  {
   "cell_type": "code",
   "execution_count": 59,
   "id": "5210fdbe-84f7-4842-9dab-4e5771176ef9",
   "metadata": {},
   "outputs": [
    {
     "data": {
      "text/plain": [
       "9870"
      ]
     },
     "execution_count": 59,
     "metadata": {},
     "output_type": "execute_result"
    }
   ],
   "source": [
    "141*(140)/2"
   ]
  },
  {
   "cell_type": "code",
   "execution_count": 60,
   "id": "caa7f69d-da86-49fc-8da9-b39c7afab24b",
   "metadata": {},
   "outputs": [
    {
     "data": {
      "text/plain": [
       "[(8, 19),\n",
       " (34, 57),\n",
       " (40, 51),\n",
       " (3, 30),\n",
       " (41, 52),\n",
       " (44, 49),\n",
       " (50, 63),\n",
       " (5, 8),\n",
       " (34, 47),\n",
       " (6, 29)]"
      ]
     },
     "execution_count": 60,
     "metadata": {},
     "output_type": "execute_result"
    }
   ],
   "source": [
    "good_transpositions[:10]"
   ]
  },
  {
   "cell_type": "code",
   "execution_count": null,
   "id": "fa4c7bcb-f560-4706-858a-6ce826c5305c",
   "metadata": {},
   "outputs": [],
   "source": []
  },
  {
   "cell_type": "code",
   "execution_count": null,
   "id": "dbd5b26f-45a1-42b6-8634-4ac7364f6435",
   "metadata": {},
   "outputs": [],
   "source": []
  },
  {
   "cell_type": "code",
   "execution_count": 182,
   "id": "386a27c4-3504-4470-898a-46bfe45998c3",
   "metadata": {},
   "outputs": [
    {
     "data": {
      "text/plain": [
       "Symmetric group of order 256! as a permutation group"
      ]
     },
     "execution_count": 182,
     "metadata": {},
     "output_type": "execute_result"
    }
   ],
   "source": [
    "S"
   ]
  },
  {
   "cell_type": "code",
   "execution_count": null,
   "id": "e9c4dcec-b774-4e98-976d-3e5e65878ce5",
   "metadata": {},
   "outputs": [],
   "source": []
  },
  {
   "cell_type": "code",
   "execution_count": null,
   "id": "ca6da3b6-f831-47eb-82e5-671073b23d07",
   "metadata": {},
   "outputs": [],
   "source": []
  },
  {
   "cell_type": "code",
   "execution_count": null,
   "id": "1a19fdc0-e8e7-4747-941b-3600dd838ee5",
   "metadata": {},
   "outputs": [],
   "source": []
  },
  {
   "cell_type": "code",
   "execution_count": 20,
   "id": "51bbab66-ed35-4272-ab15-156dd6fbf8d0",
   "metadata": {},
   "outputs": [
    {
     "name": "stdout",
     "output_type": "stream",
     "text": [
      "6 100\n"
     ]
    }
   ],
   "source": [
    "from sage.crypto.sboxes import SBox\n",
    "\n",
    "arr = (0, 16, 28, 208, 84, 90, 55, 35, 94, 156, 254, 146, 129, 24, 22, 74, 112, 73, 86, 157, 205, 103, 131, 226, 120, 45, 18, 150, 136, 122, 242, 236, 164, 60, 26, 182, 143, 89, 71, 190, 162, 171, 98, 21, 102, 147, 167, 138, 110, 183, 30, 58, 155, 117, 151, 161, 197, 6, 204, 49, 20, 240, 152, 113, 179, 188, 92, 199, 252, 200, 2, 224, 4, 173, 154, 243, 174, 177, 185, 109, 123, 29, 191, 76, 195, 43, 133, 128, 149, 53, 78, 130, 153, 247, 104, 187, 108, 218, 249, 135, 3, 34, 216, 210, 65, 148, 248, 223, 165, 227, 31, 40, 75, 228, 116, 255, 220, 198, 144, 14, 80, 219, 246, 213, 50, 46, 118, 145, 201, 158, 61, 180, 172, 64, 5, 9, 237, 105, 209, 42, 70, 232, 137, 51, 114, 206, 141, 62, 106, 7, 87, 215, 202, 217, 222, 100, 229, 48, 66, 238, 115, 139, 82, 52, 12, 125, 181, 97, 235, 67, 230, 211, 17, 27, 124, 83, 101, 207, 19, 95, 25, 168, 107, 68, 203, 127, 10, 140, 13, 251, 132, 192, 32, 250, 93, 99, 175, 184, 253, 91, 159, 196, 189, 119, 126, 81, 56, 214, 134, 44, 57, 163, 11, 194, 37, 63, 176, 244, 212, 59, 111, 193, 8, 41, 166, 169, 142, 39, 23, 186, 38, 241, 69, 221, 33, 121, 77, 54, 96, 160, 234, 47, 36, 15, 79, 88, 72, 239, 170, 233, 231, 178, 85, 225, 245, 1)\n",
    "sbox = []\n",
    "\n",
    "for x in arr:\n",
    "    sbox.append(F.from_integer(x))\n",
    "\n",
    "Group = conjugate(S, T, S(sbox))\n",
    "DELTA = Delta(T, Group, 2^n)\n",
    "print(SBox(arr).differential_uniformity(), SBox(arr).nonlinearity())"
   ]
  },
  {
   "cell_type": "code",
   "execution_count": 21,
   "id": "adda6521-afbf-4047-887e-b419ac41f4c6",
   "metadata": {},
   "outputs": [],
   "source": [
    "dist_counter = {_:0 for _ in range(0, 2^n + 1, 2)}\n",
    "for item in DELTA.Dg_collection:\n",
    "    for i, I_t_g_item in enumerate(item.Ig_map.values()):\n",
    "        dist_counter[I_t_g_item.distance()] += 1"
   ]
  },
  {
   "cell_type": "code",
   "execution_count": 23,
   "id": "fc462f7f-1f71-478a-b443-1ab24086882d",
   "metadata": {},
   "outputs": [],
   "source": [
    "recalc_group_distance(DELTA, transposition(3,8), dist_counter)"
   ]
  },
  {
   "cell_type": "code",
   "execution_count": null,
   "id": "c8675f31-99db-4bde-8ddf-af820e7b3459",
   "metadata": {},
   "outputs": [],
   "source": []
  },
  {
   "cell_type": "code",
   "execution_count": null,
   "id": "b63bc493-017d-414c-9b27-2f94c0f51c20",
   "metadata": {},
   "outputs": [],
   "source": []
  },
  {
   "cell_type": "code",
   "execution_count": 202,
   "id": "f687404c-9883-46aa-a964-4f6eb094299a",
   "metadata": {},
   "outputs": [
    {
     "name": "stdout",
     "output_type": "stream",
     "text": [
      "(6, (3, 8)) 254\n",
      "(6, (3, 229)) 303\n",
      "(6, (5, 248)) 303\n",
      "(6, (8, 177)) 294\n",
      "(6, (14, 88)) 307\n",
      "(6, (14, 105)) 313\n",
      "(6, (15, 52)) 319\n",
      "(6, (20, 29)) 314\n",
      "(6, (20, 54)) 317\n",
      "(6, (20, 159)) 327\n",
      "(6, (20, 174)) 320\n",
      "(6, (21, 67)) 311\n",
      "(6, (21, 106)) 316\n",
      "(6, (21, 174)) 321\n",
      "(6, (21, 241)) 322\n",
      "(6, (22, 106)) 325\n",
      "(6, (22, 241)) 325\n",
      "(6, (23, 67)) 309\n",
      "(6, (23, 106)) 315\n",
      "(6, (23, 113)) 307\n",
      "(6, (23, 180)) 316\n",
      "(6, (23, 241)) 308\n",
      "(6, (27, 76)) 307\n",
      "(6, (27, 124)) 308\n",
      "(6, (27, 138)) 301\n",
      "(6, (27, 161)) 307\n",
      "(6, (28, 37)) 309\n",
      "(6, (28, 80)) 316\n",
      "(6, (28, 149)) 315\n",
      "(6, (29, 37)) 310\n",
      "(6, (29, 72)) 308\n",
      "(6, (29, 80)) 305\n",
      "(6, (29, 191)) 298\n",
      "(6, (29, 203)) 304\n",
      "(6, (32, 177)) 306\n",
      "(6, (32, 246)) 307\n",
      "(6, (33, 152)) 312\n",
      "(6, (33, 178)) 314\n",
      "(6, (33, 198)) 306\n",
      "(6, (33, 221)) 321\n",
      "(6, (33, 238)) 300\n",
      "(6, (37, 134)) 311\n",
      "(6, (37, 194)) 317\n",
      "(6, (43, 87)) 303\n",
      "(6, (43, 252)) 329\n",
      "(6, (49, 87)) 295\n",
      "(6, (49, 161)) 317\n",
      "(6, (52, 141)) 322\n",
      "(6, (54, 72)) 303\n",
      "(6, (54, 143)) 310\n",
      "(6, (54, 203)) 310\n",
      "(6, (57, 237)) 307\n",
      "(6, (60, 88)) 311\n",
      "(6, (60, 104)) 312\n",
      "(6, (60, 112)) 306\n",
      "(6, (66, 149)) 303\n",
      "(6, (66, 203)) 315\n",
      "(6, (67, 167)) 325\n",
      "(6, (71, 127)) 334\n",
      "(6, (71, 137)) 333\n",
      "(6, (71, 139)) 315\n",
      "(6, (71, 252)) 323\n",
      "(6, (71, 255)) 317\n",
      "(6, (72, 132)) 312\n",
      "(6, (72, 159)) 309\n",
      "(6, (72, 234)) 318\n",
      "(6, (76, 177)) 332\n",
      "(6, (76, 222)) 315\n",
      "(6, (80, 104)) 315\n",
      "(6, (80, 134)) 315\n",
      "(6, (80, 173)) 319\n",
      "(6, (86, 152)) 301\n",
      "(6, (86, 237)) 314\n",
      "(6, (87, 178)) 318\n",
      "(6, (88, 151)) 298\n",
      "(6, (88, 167)) 312\n",
      "(6, (88, 209)) 325\n",
      "(6, (91, 248)) 301\n",
      "(6, (92, 160)) 307\n",
      "(6, (96, 106)) 313\n",
      "(6, (96, 174)) 330\n",
      "(6, (104, 151)) 318\n",
      "(6, (112, 149)) 315\n",
      "(6, (112, 201)) 330\n",
      "(6, (113, 200)) 315\n",
      "(6, (121, 180)) 312\n",
      "(6, (121, 195)) 316\n",
      "(6, (124, 168)) 305\n",
      "(6, (129, 139)) 305\n",
      "(6, (132, 202)) 330\n",
      "(6, (135, 200)) 325\n",
      "(6, (135, 202)) 319\n",
      "(6, (137, 177)) 317\n",
      "(6, (137, 245)) 307\n",
      "(6, (139, 171)) 299\n",
      "(6, (139, 178)) 318\n",
      "(6, (139, 196)) 311\n",
      "(6, (141, 174)) 321\n",
      "(6, (141, 216)) 312\n",
      "(6, (144, 196)) 322\n",
      "(6, (152, 185)) 312\n",
      "(6, (152, 252)) 322\n",
      "(6, (155, 214)) 323\n",
      "(6, (159, 200)) 322\n",
      "(6, (161, 222)) 320\n",
      "(6, (167, 241)) 310\n",
      "(6, (168, 252)) 325\n",
      "(6, (171, 214)) 329\n",
      "(6, (173, 191)) 323\n",
      "(6, (174, 200)) 314\n",
      "(6, (174, 203)) 311\n",
      "(6, (184, 196)) 323\n",
      "(6, (184, 198)) 311\n",
      "(6, (184, 238)) 307\n",
      "(6, (186, 198)) 309\n",
      "(6, (194, 248)) 310\n",
      "(6, (198, 255)) 316\n",
      "(6, (238, 255)) 317\n",
      "(6, (245, 252)) 312\n",
      "(6, (245, 254)) 319\n",
      "(6, (246, 255)) 301\n"
     ]
    }
   ],
   "source": [
    "test_sbox = S(sbox)\n",
    "for item in good_for_nonlinearity:\n",
    "    recalc_group_distance(test_delta, transposition(*item[1]), dist_counter)\n",
    "    \n",
    "    print(item, dist_counter[6])\n",
    "    recalc_group_distance(test_delta, transposition(*item[1]),dist_counter)"
   ]
  },
  {
   "cell_type": "code",
   "execution_count": null,
   "id": "7c67a17a-3e06-4978-945e-7ee933a71cf4",
   "metadata": {},
   "outputs": [],
   "source": []
  },
  {
   "cell_type": "code",
   "execution_count": null,
   "id": "a6024140-b859-486b-a39a-536d4e70a978",
   "metadata": {},
   "outputs": [],
   "source": []
  },
  {
   "cell_type": "code",
   "execution_count": null,
   "id": "55792b3e-6556-4221-b137-049c1449344b",
   "metadata": {},
   "outputs": [],
   "source": []
  },
  {
   "cell_type": "code",
   "execution_count": 14,
   "id": "31dcfe46-1678-4ebd-bbba-6e0ad38e2f5d",
   "metadata": {},
   "outputs": [],
   "source": [
    "test_delta = DELTA"
   ]
  },
  {
   "cell_type": "code",
   "execution_count": 206,
   "id": "60a25161-8f64-4a18-8fc9-8fd202f86019",
   "metadata": {},
   "outputs": [
    {
     "name": "stdout",
     "output_type": "stream",
     "text": [
      "254 3556\r"
     ]
    }
   ],
   "source": [
    "result = []\n",
    "for i in range(2^n-1):\n",
    "    print(i, len(result), end=\"\\r\")\n",
    "    for j in range(i+1, 2^n):\n",
    "        recalc_group_distance(test_delta, transposition(i,j))\n",
    "        dist = test_delta.distance()\n",
    "        if dist < 6:\n",
    "            print('!!',i,j)\n",
    "        elif dist == 6:\n",
    "            #print('!',i,j)\n",
    "            result.append((dist, (i,j)))\n",
    "        recalc_group_distance(test_delta, transposition(i,j))"
   ]
  },
  {
   "cell_type": "code",
   "execution_count": 207,
   "id": "b69f41aa-063c-4fd0-87db-00c273e33420",
   "metadata": {},
   "outputs": [],
   "source": [
    "test_sbox = S(sbox)\n",
    "good_for_nonlinearity = []\n",
    "for item in result:\n",
    "    f_new = test_sbox*S(transposition(*item[1]))\n",
    "    new_sbox = SBox(f_new.domain())\n",
    "    if new_sbox.nonlinearity() > 100:\n",
    "        good_for_nonlinearity.append(item)\n",
    "        print(new_sbox.differential_uniformity(), new_sbox.nonlinearity())"
   ]
  },
  {
   "cell_type": "code",
   "execution_count": 176,
   "id": "3b7cd3aa-43c6-4005-82e7-05601bc06a58",
   "metadata": {},
   "outputs": [
    {
     "data": {
      "text/plain": [
       "121"
      ]
     },
     "execution_count": 176,
     "metadata": {},
     "output_type": "execute_result"
    }
   ],
   "source": [
    "len(good_for_nonlinearity)"
   ]
  },
  {
   "cell_type": "code",
   "execution_count": 189,
   "id": "a0f9ba90-916b-4163-9525-cecccddafd74",
   "metadata": {},
   "outputs": [],
   "source": [
    "with open(\"nonl100.txt\", \"w\") as file:\n",
    "    for item in good_for_nonlinearity:\n",
    "        f_new = test_sbox*S(transposition(*item[1]))\n",
    "        new_sbox = SBox(f_new.domain())\n",
    "        file.write(str(new_sbox)+\"\\n\")"
   ]
  },
  {
   "cell_type": "code",
   "execution_count": null,
   "id": "65d1fd2f-7f9a-404a-bc12-60ad0c034e7f",
   "metadata": {},
   "outputs": [],
   "source": []
  },
  {
   "cell_type": "code",
   "execution_count": null,
   "id": "8af6be8d-569c-44e4-b7ac-491075c2390b",
   "metadata": {},
   "outputs": [],
   "source": []
  },
  {
   "cell_type": "code",
   "execution_count": null,
   "id": "9e967d83-b91e-4d8d-9a90-82b6fef0c1d7",
   "metadata": {},
   "outputs": [],
   "source": []
  },
  {
   "cell_type": "code",
   "execution_count": 192,
   "id": "511615a1-c63f-4f41-9997-d0e34d88b71c",
   "metadata": {},
   "outputs": [
    {
     "data": {
      "text/plain": [
       "(6, (3, 8))"
      ]
     },
     "execution_count": 192,
     "metadata": {},
     "output_type": "execute_result"
    }
   ],
   "source": [
    "item"
   ]
  },
  {
   "cell_type": "code",
   "execution_count": null,
   "id": "4eced228-1242-49d2-bbd2-1ac4d2861b01",
   "metadata": {},
   "outputs": [],
   "source": []
  },
  {
   "cell_type": "code",
   "execution_count": 193,
   "id": "fbbecacc-6c19-46d9-a038-9b77377d7a97",
   "metadata": {},
   "outputs": [
    {
     "name": "stdout",
     "output_type": "stream",
     "text": [
      "(6, (3, 8)) "
     ]
    },
    {
     "ename": "KeyboardInterrupt",
     "evalue": "",
     "output_type": "error",
     "traceback": [
      "\u001b[0;31m---------------------------------------------------------------------------\u001b[0m",
      "\u001b[0;31mKeyboardInterrupt\u001b[0m                         Traceback (most recent call last)",
      "Cell \u001b[0;32mIn[193], line 5\u001b[0m\n\u001b[1;32m      2\u001b[0m \u001b[38;5;28;01mfor\u001b[39;00m item \u001b[38;5;129;01min\u001b[39;00m good_for_nonlinearity:\n\u001b[1;32m      3\u001b[0m     recalc_group_distance(test_delta, transposition(\u001b[38;5;241m*\u001b[39mitem[Integer(\u001b[38;5;241m1\u001b[39m)]))\n\u001b[0;32m----> 5\u001b[0m     \u001b[38;5;28;43mprint\u001b[39;49m\u001b[43m(\u001b[49m\u001b[43mitem\u001b[49m\u001b[43m,\u001b[49m\u001b[43m \u001b[49m\u001b[43mtest_delta\u001b[49m\u001b[38;5;241;43m.\u001b[39;49m\u001b[43mmax_finder\u001b[49m\u001b[38;5;241;43m.\u001b[39;49m\u001b[43mdistance_map\u001b[49m\u001b[43m[\u001b[49m\u001b[43mInteger\u001b[49m\u001b[43m(\u001b[49m\u001b[38;5;241;43m6\u001b[39;49m\u001b[43m)\u001b[49m\u001b[43m]\u001b[49m\u001b[43m)\u001b[49m\n\u001b[1;32m      6\u001b[0m     recalc_group_distance(test_delta, transposition(\u001b[38;5;241m*\u001b[39mitem))\n",
      "Cell \u001b[0;32mIn[3], line 52\u001b[0m, in \u001b[0;36mDg.__repr__\u001b[0;34m(self)\u001b[0m\n\u001b[1;32m     50\u001b[0m     \u001b[38;5;28;01mif\u001b[39;00m i \u001b[38;5;241m==\u001b[39m \u001b[38;5;28mlen\u001b[39m(\u001b[38;5;28mself\u001b[39m\u001b[38;5;241m.\u001b[39mIg_map)\u001b[38;5;241m-\u001b[39mInteger(\u001b[38;5;241m1\u001b[39m):\n\u001b[1;32m     51\u001b[0m         new_line \u001b[38;5;241m=\u001b[39m \u001b[38;5;124m'\u001b[39m\u001b[38;5;124m'\u001b[39m\n\u001b[0;32m---> 52\u001b[0m     res \u001b[38;5;241m+\u001b[39m\u001b[38;5;241m=\u001b[39m \u001b[38;5;124mf\u001b[39m\u001b[38;5;124m\"\u001b[39m\u001b[38;5;130;01m\\t\u001b[39;00m\u001b[38;5;132;01m{\u001b[39;00m\u001b[38;5;28mself\u001b[39m\u001b[38;5;241m.\u001b[39mIg_map[key]\u001b[38;5;132;01m}\u001b[39;00m\u001b[38;5;124m\"\u001b[39m \u001b[38;5;241m+\u001b[39m new_line\n\u001b[1;32m     53\u001b[0m \u001b[38;5;28;01mreturn\u001b[39;00m \u001b[38;5;124mf\u001b[39m\u001b[38;5;124m\"\u001b[39m\u001b[38;5;124m  Dg(distance=\u001b[39m\u001b[38;5;132;01m{\u001b[39;00m\u001b[38;5;28mself\u001b[39m\u001b[38;5;241m.\u001b[39mdistance()\u001b[38;5;132;01m}\u001b[39;00m\u001b[38;5;124m):\u001b[39m\u001b[38;5;130;01m\\n\u001b[39;00m\u001b[38;5;124m \u001b[39m\u001b[38;5;132;01m{\u001b[39;00mres\u001b[38;5;132;01m}\u001b[39;00m\u001b[38;5;124m\"\u001b[39m\n",
      "Cell \u001b[0;32mIn[3], line 65\u001b[0m, in \u001b[0;36mI_t_g.__repr__\u001b[0;34m(self)\u001b[0m\n\u001b[1;32m     64\u001b[0m \u001b[38;5;28;01mdef\u001b[39;00m \u001b[38;5;21m__repr__\u001b[39m(\u001b[38;5;28mself\u001b[39m):\n\u001b[0;32m---> 65\u001b[0m     \u001b[38;5;28;01mreturn\u001b[39;00m \u001b[38;5;124mf\u001b[39m\u001b[38;5;124m\"\u001b[39m\u001b[38;5;124mI(t, g):[intersection=\u001b[39m\u001b[38;5;132;01m{\u001b[39;00m\u001b[38;5;28mself\u001b[39m\u001b[38;5;241m.\u001b[39mt_g_intersection\u001b[38;5;132;01m}\u001b[39;00m\u001b[38;5;124m; g=\u001b[39m\u001b[38;5;132;01m{\u001b[39;00m\u001b[38;5;28mself\u001b[39m\u001b[38;5;241m.\u001b[39mg\u001b[38;5;132;01m}\u001b[39;00m\u001b[38;5;124m; t=\u001b[39m\u001b[38;5;132;01m{\u001b[39;00m\u001b[38;5;28mself\u001b[39m\u001b[38;5;241m.\u001b[39mt\u001b[38;5;132;01m}\u001b[39;00m\u001b[38;5;124m]\u001b[39m\u001b[38;5;124m\"\u001b[39m\n",
      "Cell \u001b[0;32mIn[3], line 120\u001b[0m, in \u001b[0;36mElement.__repr__\u001b[0;34m(self)\u001b[0m\n\u001b[1;32m    119\u001b[0m \u001b[38;5;28;01mdef\u001b[39;00m \u001b[38;5;21m__repr__\u001b[39m(\u001b[38;5;28mself\u001b[39m):\n\u001b[0;32m--> 120\u001b[0m     \u001b[38;5;28;01mreturn\u001b[39;00m \u001b[38;5;124mf\u001b[39m\u001b[38;5;124m\"\u001b[39m\u001b[38;5;132;01m{\u001b[39;00m\u001b[38;5;28mself\u001b[39m\u001b[38;5;241m.\u001b[39mg_set\u001b[38;5;132;01m}\u001b[39;00m\u001b[38;5;124m\"\u001b[39m\n",
      "File \u001b[0;32m~/miniforge3/envs/sage/lib/python3.10/site-packages/sage/structure/sage_object.pyx:221\u001b[0m, in \u001b[0;36msage.structure.sage_object.SageObject.__repr__ (build/cythonized/sage/structure/sage_object.c:4332)\u001b[0;34m()\u001b[0m\n\u001b[1;32m    219\u001b[0m     except AttributeError:\n\u001b[1;32m    220\u001b[0m         return super().__repr__()\n\u001b[0;32m--> 221\u001b[0m     return reprfunc()\n\u001b[1;32m    222\u001b[0m \n\u001b[1;32m    223\u001b[0m def _ascii_art_(self):\n",
      "File \u001b[0;32m~/miniforge3/envs/sage/lib/python3.10/site-packages/sage/rings/finite_rings/element_givaro.pyx:901\u001b[0m, in \u001b[0;36msage.rings.finite_rings.element_givaro.FiniteField_givaroElement._repr_ (build/cythonized/sage/rings/finite_rings/element_givaro.cpp:16400)\u001b[0;34m()\u001b[0m\n\u001b[1;32m    899\u001b[0m         3\n\u001b[1;32m    900\u001b[0m     \"\"\"\n\u001b[0;32m--> 901\u001b[0m     return self._cache._element_repr(self)\n\u001b[1;32m    902\u001b[0m \n\u001b[1;32m    903\u001b[0m def _element(self):\n",
      "File \u001b[0;32m~/miniforge3/envs/sage/lib/python3.10/site-packages/sage/rings/finite_rings/element_givaro.pyx:602\u001b[0m, in \u001b[0;36msage.rings.finite_rings.element_givaro.Cache_givaro._element_repr (build/cythonized/sage/rings/finite_rings/element_givaro.cpp:13253)\u001b[0;34m()\u001b[0m\n\u001b[1;32m    600\u001b[0m         return self._element_log_repr(e)\n\u001b[1;32m    601\u001b[0m     else:\n\u001b[0;32m--> 602\u001b[0m         return self._element_int_repr(e)\n\u001b[1;32m    603\u001b[0m \n\u001b[1;32m    604\u001b[0m def _element_log_repr(self, FiniteField_givaroElement e):\n",
      "File \u001b[0;32m~/miniforge3/envs/sage/lib/python3.10/site-packages/sage/rings/finite_rings/element_givaro.pyx:636\u001b[0m, in \u001b[0;36msage.rings.finite_rings.element_givaro.Cache_givaro._element_int_repr (build/cythonized/sage/rings/finite_rings/element_givaro.cpp:13592)\u001b[0;34m()\u001b[0m\n\u001b[1;32m    634\u001b[0m         '74'\n\u001b[1;32m    635\u001b[0m     \"\"\"\n\u001b[0;32m--> 636\u001b[0m     return str(e._integer_representation())\n\u001b[1;32m    637\u001b[0m \n\u001b[1;32m    638\u001b[0m def _element_poly_repr(self, FiniteField_givaroElement e, varname=None):\n",
      "File \u001b[0;32m~/miniforge3/envs/sage/lib/python3.10/site-packages/sage/rings/finite_rings/element_givaro.pyx:1370\u001b[0m, in \u001b[0;36msage.rings.finite_rings.element_givaro.FiniteField_givaroElement._integer_representation (build/cythonized/sage/rings/finite_rings/element_givaro.cpp:19681)\u001b[0;34m()\u001b[0m\n\u001b[1;32m   1368\u001b[0m         <... 'int'>\n\u001b[1;32m   1369\u001b[0m     \"\"\"\n\u001b[0;32m-> 1370\u001b[0m     return self._cache.log_to_int(self.element)\n\u001b[1;32m   1371\u001b[0m \n\u001b[1;32m   1372\u001b[0m def _integer_(FiniteField_givaroElement self, ZZ=None):\n",
      "File \u001b[0;32m~/miniforge3/envs/sage/lib/python3.10/site-packages/sage/rings/finite_rings/element_givaro.pyx:518\u001b[0m, in \u001b[0;36msage.rings.finite_rings.element_givaro.Cache_givaro.log_to_int (build/cythonized/sage/rings/finite_rings/element_givaro.cpp:12240)\u001b[0;34m()\u001b[0m\n\u001b[1;32m    516\u001b[0m \n\u001b[1;32m    517\u001b[0m         cdef int r = 0\n\u001b[0;32m--> 518\u001b[0m         sig_on()\n\u001b[1;32m    519\u001b[0m         self.objectptr.convert(r, n)\n\u001b[1;32m    520\u001b[0m         sig_off()\n",
      "\u001b[0;31mKeyboardInterrupt\u001b[0m: "
     ]
    }
   ],
   "source": [
    "test_sbox = S(sbox)\n",
    "for item in good_for_nonlinearity:\n",
    "    recalc_group_distance(test_delta, transposition(*item[1]))\n",
    "    \n",
    "    print(item, test_delta.max_finder.distance_map[6])\n",
    "    recalc_group_distance(test_delta, transposition(*item))"
   ]
  },
  {
   "cell_type": "code",
   "execution_count": null,
   "id": "a28c4265-029a-475a-92cb-ddd1455b38e4",
   "metadata": {},
   "outputs": [],
   "source": []
  },
  {
   "cell_type": "code",
   "execution_count": null,
   "id": "288d7d83-c873-4be5-9274-eae70dbf4897",
   "metadata": {},
   "outputs": [],
   "source": []
  },
  {
   "cell_type": "code",
   "execution_count": null,
   "id": "5f8adb47-de57-4df9-8804-e35b89a940ac",
   "metadata": {},
   "outputs": [],
   "source": []
  }
 ],
 "metadata": {
  "kernelspec": {
   "display_name": "SageMath 10.4",
   "language": "sage",
   "name": "sagemath"
  },
  "language_info": {
   "codemirror_mode": {
    "name": "ipython",
    "version": 3
   },
   "file_extension": ".py",
   "mimetype": "text/x-python",
   "name": "python",
   "nbconvert_exporter": "python",
   "pygments_lexer": "ipython3",
   "version": "3.10.14"
  }
 },
 "nbformat": 4,
 "nbformat_minor": 5
}
